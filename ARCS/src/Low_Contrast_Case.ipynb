{
 "cells": [
  {
   "cell_type": "code",
   "execution_count": 1,
   "metadata": {},
   "outputs": [],
   "source": [
    "from matplotlib import pyplot as plt\n",
    "import circle_fit as cf\n",
    "import numpy as np\n",
    "import time\n",
    "import math\n",
    "import random\n",
    "import cv2\n",
    "import os\n",
    "%run functions.ipynb"
   ]
  },
  {
   "cell_type": "code",
   "execution_count": null,
   "metadata": {},
   "outputs": [],
   "source": []
  },
  {
   "cell_type": "code",
   "execution_count": null,
   "metadata": {},
   "outputs": [],
   "source": [
    "os.chdir(\"/home/mj/HardDisk/ARCS/img/X-Ray/Case_1/Cut\")\n",
    "## Read image\n",
    "img, gray = read_img(\"10_mean_90.bmp\")\n",
    "height, width = get_imgInfo(img)\n",
    "\n",
    "## Image processing\n",
    "blur = cv2.GaussianBlur(gray,(5,5),0)\n",
    "dst = cv2.fastNlMeansDenoising(blur,None,5,3,9)\n",
    "\n",
    "_, threshed = cv2.threshold(dst,0,255,cv2.THRESH_BINARY_INV+cv2.THRESH_OTSU)\n",
    "\n",
    "\n",
    "## Options\n",
    "median = median_filter(threshed, 25)\n",
    "# closed = closing(median, 3)\n",
    "# opened = opening(closed, 3)\n",
    "# edge = edge_detect(median, 0, 20)\n",
    "            \n",
    "\n",
    "## Show processed images    \n",
    "# cv2.imshow(\"Original\", img)\n",
    "cv2.imshow(\"Gray\", gray)\n",
    "cv2.imshow(\"Blur\", blur)\n",
    "# cv2.imshow(\"Non Local Means\", dst)\n",
    "cv2.imshow(\"Thresh\", threshed)\n",
    "cv2.imshow(\"Median\", median)\n",
    "# cv2.imshow(\"Opening\", opened)\n",
    "# cv2.imshow(\"Closing\", closed)\n",
    "# cv2.imshow(\"Edge\", edge)\n",
    "cv2.waitKey(0)\n",
    "cv2.destroyAllWindows()"
   ]
  }
 ],
 "metadata": {
  "kernelspec": {
   "display_name": "Python 3",
   "language": "python",
   "name": "python3"
  },
  "language_info": {
   "codemirror_mode": {
    "name": "ipython",
    "version": 3
   },
   "file_extension": ".py",
   "mimetype": "text/x-python",
   "name": "python",
   "nbconvert_exporter": "python",
   "pygments_lexer": "ipython3",
   "version": "3.6.9"
  }
 },
 "nbformat": 4,
 "nbformat_minor": 2
}
