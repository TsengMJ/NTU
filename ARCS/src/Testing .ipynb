{
 "cells": [
  {
   "cell_type": "code",
   "execution_count": 1,
   "metadata": {},
   "outputs": [],
   "source": [
    "from matplotlib import pyplot as plt\n",
    "import circle_fit as cf\n",
    "import numpy as np\n",
    "import time\n",
    "import math\n",
    "import random\n",
    "import cv2\n",
    "import os\n",
    "%run functions.ipynb"
   ]
  },
  {
   "cell_type": "code",
   "execution_count": null,
   "metadata": {},
   "outputs": [],
   "source": []
  },
  {
   "cell_type": "code",
   "execution_count": 3,
   "metadata": {},
   "outputs": [],
   "source": [
    "os.chdir(\"/home/mj/HardDisk/Github/NTU/ARCS/img/X-Ray/Case_3/Cut_2\")\n",
    "# Read image\n",
    "file_1 = \"10_mean_0.bmp\"\n",
    "file_2 = \"10_mean_1.bmp\"\n",
    "\n",
    "img_1 = cv2.imread(file_1,0)\n",
    "img_2 = cv2.imread(file_2,0)\n",
    "\n",
    "# Image processing\n",
    "blur_1 = cv2.GaussianBlur(img_1,(5,5),0)\n",
    "blur_2 = cv2.GaussianBlur(img_2,(5,5),0)\n",
    "\n",
    "dst_1 = cv2.fastNlMeansDenoising(blur_1,None,10,7,21)\n",
    "dst_2 = cv2.fastNlMeansDenoising(blur_2,None,10,7,21)\n",
    "\n",
    "\n",
    "_, threshed_1 = cv2.threshold(dst_1,0,255,cv2.THRESH_BINARY_INV+cv2.THRESH_OTSU)\n",
    "_, threshed_2 = cv2.threshold(dst_2,0,255,cv2.THRESH_BINARY_INV+cv2.THRESH_OTSU)\n",
    "\n",
    "edge_1 = cv2.Canny(threshed_1, 0, 20)\n",
    "edge_2 = cv2.Canny(threshed_2, 0, 20)\n",
    "\n",
    "h, w = img_1.shape[:2]\n",
    "tmp = np.zeros((h,w,3))\n",
    "\n",
    "for i in range(h):\n",
    "    for j in range(w):\n",
    "        if (edge_1[i,j]):\n",
    "            tmp[i,j,1] = 255;\n",
    "        if (edge_2[i,j]):\n",
    "            tmp[i,j,2] = 255;\n",
    "\n",
    "# directory = \"/home/mj/HardDisk/ARCS/Demo/2019.11.29\"\n",
    "# cv2.imwrite(\"{}/{}_edge.bmp\".format(directory, file_1.split('.')[0].split('_')[-1]), edge_1)\n",
    "# cv2.imwrite(\"{}/{}_edge.bmp\".format(directory, file_2.split('.')[0].split('_')[-1]), edge_2)\n",
    "# cv2.imwrite(\"{}/{}_{}_dege.bmp\".format(directory, file_1.split('.')[0].split('_')[-1], file_2.split('.')[0].split('_')[-1]), tmp)\n",
    "\n",
    "cv2.imshow(\"Image 1\", edge_1)\n",
    "cv2.imshow(\"Image 2\", edge_2)\n",
    "cv2.imshow(\"Tmp\", tmp)\n",
    "cv2.waitKey()\n",
    "cv2.destroyAllWindows()"
   ]
  },
  {
   "cell_type": "code",
   "execution_count": 5,
   "metadata": {},
   "outputs": [
    {
     "data": {
      "text/plain": [
       "'0'"
      ]
     },
     "execution_count": 5,
     "metadata": {},
     "output_type": "execute_result"
    }
   ],
   "source": [
    "file_1 = \"10_mean_0.bmp\"\n",
    "file_1.split('.')[0].split('_')[-1]"
   ]
  },
  {
   "cell_type": "code",
   "execution_count": null,
   "metadata": {},
   "outputs": [],
   "source": []
  }
 ],
 "metadata": {
  "kernelspec": {
   "display_name": "Python 3",
   "language": "python",
   "name": "python3"
  },
  "language_info": {
   "codemirror_mode": {
    "name": "ipython",
    "version": 3
   },
   "file_extension": ".py",
   "mimetype": "text/x-python",
   "name": "python",
   "nbconvert_exporter": "python",
   "pygments_lexer": "ipython3",
   "version": "3.6.9"
  }
 },
 "nbformat": 4,
 "nbformat_minor": 2
}
