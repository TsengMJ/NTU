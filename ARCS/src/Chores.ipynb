{
 "cells": [
  {
   "cell_type": "code",
   "execution_count": 2,
   "metadata": {},
   "outputs": [],
   "source": [
    "import cv2\n",
    "import os"
   ]
  },
  {
   "cell_type": "code",
   "execution_count": null,
   "metadata": {},
   "outputs": [],
   "source": []
  },
  {
   "cell_type": "markdown",
   "metadata": {},
   "source": [
    "## Cut Ori images"
   ]
  },
  {
   "cell_type": "code",
   "execution_count": 16,
   "metadata": {},
   "outputs": [],
   "source": [
    "def cut(path_src, path_dst, f_name, coord=None):\n",
    "    os.chdir(path_src)\n",
    "    images = os.listdir()\n",
    "    images.sort()\n",
    "    \n",
    "    num = 0\n",
    "    for image in images:\n",
    "        img = cv2.imread(image)\n",
    "        \n",
    "        if (coord != None):\n",
    "            cut = img[coord[0][1]:coord[1][1], coord[0][0]:coord[1][0],:]\n",
    "            cv2.imwrite(\"{}/{}_{}.bmp\".format(path_dst, f_name, num), cut)\n",
    "            num = num + 1\n",
    "        else:\n",
    "            print(\"Give me your interested area!\")\n",
    "        \n",
    "        print(\"Finished {}\".format(image))\n"
   ]
  },
  {
   "cell_type": "code",
   "execution_count": null,
   "metadata": {},
   "outputs": [],
   "source": []
  },
  {
   "cell_type": "code",
   "execution_count": 17,
   "metadata": {},
   "outputs": [
    {
     "name": "stdout",
     "output_type": "stream",
     "text": [
      "Finished P90098705.bmp\n",
      "Finished P90100140.bmp\n",
      "Finished P90101497.bmp\n",
      "Finished P90102901.bmp\n",
      "Finished P90104289.bmp\n",
      "Finished P90105709.bmp\n",
      "Finished P90107144.bmp\n",
      "Finished P90108548.bmp\n",
      "Finished P90109983.bmp\n",
      "Finished P90111356.bmp\n",
      "Finished P90112791.bmp\n",
      "Finished P90114195.bmp\n",
      "Finished P90115599.bmp\n",
      "Finished P90116988.bmp\n",
      "Finished P90118407.bmp\n",
      "Finished P90119811.bmp\n",
      "Finished P90121200.bmp\n",
      "Finished P90122635.bmp\n",
      "Finished P90124039.bmp\n",
      "Finished P90125474.bmp\n",
      "Finished P90126878.bmp\n",
      "Finished P90128329.bmp\n",
      "Finished P90129811.bmp\n",
      "Finished P90131215.bmp\n",
      "Finished P90132682.bmp\n",
      "Finished P90134132.bmp\n",
      "Finished P90135599.bmp\n",
      "Finished P90137081.bmp\n",
      "Finished P90138532.bmp\n",
      "Finished P90139967.bmp\n",
      "Finished P90141371.bmp\n",
      "Finished P90142806.bmp\n",
      "Finished P90144226.bmp\n",
      "Finished P90145661.bmp\n",
      "Finished P90147080.bmp\n",
      "Finished P90148562.bmp\n",
      "Finished P90149982.bmp\n",
      "Finished P90151386.bmp\n",
      "Finished P90152806.bmp\n",
      "Finished P90154210.bmp\n",
      "Finished P90155629.bmp\n",
      "Finished P90157065.bmp\n",
      "Finished P90158500.bmp\n",
      "Finished P90159919.bmp\n",
      "Finished P90161355.bmp\n",
      "Finished P90162774.bmp\n",
      "Finished P90164194.bmp\n",
      "Finished P90165613.bmp\n",
      "Finished P90167064.bmp\n",
      "Finished P90168515.bmp\n",
      "Finished P90169966.bmp\n",
      "Finished P90171370.bmp\n",
      "Finished P90172789.bmp\n",
      "Finished P90174256.bmp\n",
      "Finished P90175707.bmp\n",
      "Finished P90177142.bmp\n",
      "Finished P90178577.bmp\n",
      "Finished P90180012.bmp\n",
      "Finished P90181463.bmp\n",
      "Finished P90182898.bmp\n",
      "Finished P90184380.bmp\n",
      "Finished P90185800.bmp\n",
      "Finished P90187220.bmp\n",
      "Finished P90188639.bmp\n",
      "Finished P90190636.bmp\n",
      "Finished P90192056.bmp\n",
      "Finished P90193506.bmp\n",
      "Finished P90194957.bmp\n",
      "Finished P90196392.bmp\n",
      "Finished P90197812.bmp\n",
      "Finished P90199200.bmp\n",
      "Finished P90200698.bmp\n",
      "Finished P90202164.bmp\n",
      "Finished P90203584.bmp\n",
      "Finished P90205050.bmp\n",
      "Finished P90206501.bmp\n",
      "Finished P90207952.bmp\n",
      "Finished P90209372.bmp\n",
      "Finished P90210807.bmp\n",
      "Finished P90212242.bmp\n",
      "Finished P90213724.bmp\n",
      "Finished P90215144.bmp\n",
      "Finished P90216579.bmp\n",
      "Finished P90218030.bmp\n",
      "Finished P90219481.bmp\n",
      "Finished P90220900.bmp\n",
      "Finished P90222351.bmp\n",
      "Finished P90223786.bmp\n",
      "Finished P90225221.bmp\n",
      "Finished P90226703.bmp\n",
      "Finished P90228123.bmp\n",
      "Finished P90229543.bmp\n",
      "Finished P90230993.bmp\n",
      "Finished P90232460.bmp\n",
      "Finished P90233895.bmp\n",
      "Finished P90235299.bmp\n",
      "Finished P90236765.bmp\n",
      "Finished P90238216.bmp\n",
      "Finished P90239698.bmp\n",
      "Finished P90241040.bmp\n"
     ]
    }
   ],
   "source": [
    "path_src = \"/home/mj/HardDisk/Github/NTU/ARCS/img/X-Ray/Case_1/Ori\"\n",
    "path_dst = \"/home/mj/HardDisk/Github/NTU/ARCS/img/X-Ray/Case_1/Ori_Cut\"\n",
    "f_name = \"Ori\"\n",
    "coord = [[181,157], [441,357]]\n",
    "cut(path_src, path_dst, f_name, coord)"
   ]
  },
  {
   "cell_type": "code",
   "execution_count": null,
   "metadata": {},
   "outputs": [],
   "source": []
  },
  {
   "cell_type": "code",
   "execution_count": 6,
   "metadata": {},
   "outputs": [],
   "source": [
    "img = cv2.imread(\"/home/mj/HardDisk/Github/NTU/ARCS/img/X-Ray/Case_1/Ori/P90098705.bmp\")\n",
    "cv2.imshow(\"Img\", img)\n",
    "cv2.waitKey(0)\n",
    "cv2.destroyAllWindows()"
   ]
  },
  {
   "cell_type": "code",
   "execution_count": null,
   "metadata": {},
   "outputs": [],
   "source": []
  }
 ],
 "metadata": {
  "kernelspec": {
   "display_name": "Python 3",
   "language": "python",
   "name": "python3"
  },
  "language_info": {
   "codemirror_mode": {
    "name": "ipython",
    "version": 3
   },
   "file_extension": ".py",
   "mimetype": "text/x-python",
   "name": "python",
   "nbconvert_exporter": "python",
   "pygments_lexer": "ipython3",
   "version": "3.6.9"
  }
 },
 "nbformat": 4,
 "nbformat_minor": 2
}
