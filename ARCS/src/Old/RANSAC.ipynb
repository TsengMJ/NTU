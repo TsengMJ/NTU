{
 "cells": [
  {
   "cell_type": "code",
   "execution_count": 2,
   "metadata": {
    "scrolled": true
   },
   "outputs": [],
   "source": [
    "from matplotlib import pyplot as plt\n",
    "from scipy.optimize import minimize\n",
    "import circle_fit as cf\n",
    "import numpy as np\n",
    "import time\n",
    "import math\n",
    "import random\n",
    "import cv2\n",
    "import os\n",
    "%run ../functions.ipynb"
   ]
  },
  {
   "cell_type": "code",
   "execution_count": null,
   "metadata": {},
   "outputs": [],
   "source": []
  },
  {
   "cell_type": "code",
   "execution_count": null,
   "metadata": {},
   "outputs": [],
   "source": []
  },
  {
   "cell_type": "markdown",
   "metadata": {},
   "source": [
    "## Error functions"
   ]
  },
  {
   "cell_type": "code",
   "execution_count": 3,
   "metadata": {},
   "outputs": [],
   "source": [
    "def linear_ls_errors(x, y, a, b, weights):\n",
    "    return (a*x - y + b)**2 * weights\n",
    "\n",
    "def circle_ls_errors(x, y, a, b, r, weights):\n",
    "    return abs(((x - a)**2 + (y - b)**2 - r**2) * weights)\n",
    "\n",
    "def evaluate_func(x, y, a, b, r, weights ,threshold):\n",
    "    errors = abs(((x - a)**2 + (y - b)**2 - r**2) * weights)\n",
    "    inliers = errors < threshold\n",
    "    num_inliers = np.count_nonzero(inliers == True)\n",
    "    return num_inliers"
   ]
  },
  {
   "cell_type": "code",
   "execution_count": null,
   "metadata": {},
   "outputs": [],
   "source": []
  },
  {
   "cell_type": "markdown",
   "metadata": {},
   "source": [
    "## Fitting models"
   ]
  },
  {
   "cell_type": "code",
   "execution_count": 4,
   "metadata": {},
   "outputs": [],
   "source": [
    "def linear_fit_model(error_func, init_cond, x, y, weights):\n",
    "    J = lambda param: np.sum(error_func(x, y, param[0], param[1], weights))\n",
    "    sol = minimize(J, init_cond)\n",
    "    return sol\n",
    "\n",
    "def circle_fit_model(init_cond, data, weights):\n",
    "    cy,cx,r,_ = cf.least_squares_circle(data)\n",
    "    return [cx, cy, r]\n"
   ]
  },
  {
   "cell_type": "code",
   "execution_count": null,
   "metadata": {},
   "outputs": [],
   "source": []
  },
  {
   "cell_type": "markdown",
   "metadata": {},
   "source": [
    "## RANSAC"
   ]
  },
  {
   "cell_type": "markdown",
   "metadata": {},
   "source": [
    "### Classic"
   ]
  },
  {
   "cell_type": "code",
   "execution_count": 5,
   "metadata": {},
   "outputs": [],
   "source": [
    "def ransac_classic(evaluate_fn, fit_model, X, iterations=100, fit_samples=3, inlier_threshold=0.1, min_inliers=10):\n",
    "    best_params = None\n",
    "    best_performance = 0\n",
    "    indices = np.array(range(len(X)))\n",
    "    \n",
    "    for iter in range(iterations):\n",
    "        sampled_indices = np.random.choice(range(len(indices)), size=fit_samples, replace=False)        \n",
    "        X_subset = X[sampled_indices]\n",
    "        \n",
    "        current_params = fit_model(X_subset)\n",
    "        current_performance = evaluate_fn(X, current_params, inlier_threshold)\n",
    "        \n",
    "        if current_performance < min_inliers:\n",
    "            continue\n",
    "        \n",
    "        if current_performance > best_performance:\n",
    "            best_params = current_params\n",
    "            best_performance = current_performance\n",
    "        \n",
    "    return best_params"
   ]
  },
  {
   "cell_type": "markdown",
   "metadata": {},
   "source": [
    "### Bayesian based"
   ]
  },
  {
   "cell_type": "code",
   "execution_count": 6,
   "metadata": {},
   "outputs": [],
   "source": [
    "def ransac_bayesian(error_func, fit_model, X, iterations=1000,\n",
    "                      fit_samples=3, fit_with_best_n=None, priors=None, norm_func=np.arctan):\n",
    "    \n",
    "    # Step1. 事先機率設定\n",
    "    \n",
    "    # 1-1 如過參數 priors 為 None 時，將其設為全都一樣\n",
    "    if priors == None:\n",
    "        prob = np.ones(len(X))\n",
    "    else:\n",
    "        prob = priors\n",
    "    \n",
    "    # 1-2 將機率單位化\n",
    "    prob = np.divide(prob, np.sum(prob)) # p /= sum(p)\n",
    "    indices = np.array(range(len(X)))\n",
    "    current_prob = prob.copy()\n",
    "    \n",
    "    \n",
    "    # Step2. 計算穩定可靠的權重\n",
    "    for iter in range(iterations):       \n",
    "        # 2-1 隨機挑選 n 個資料子集合的索引\n",
    "        sampled_indices = np.random.choice(range(len(indices)), \n",
    "                                          p=prob, size=fit_samples, replace=False)\n",
    "        \n",
    "        # 2-2 從完整資料及中取出相對應元素\n",
    "        X_subset = X[sampled_indices]\n",
    "        \n",
    "        # 2-3 用計算取出的子集合求一組權重，再以此權重套到完整資料集求錯誤值\n",
    "        params = fit_model(X_subset)\n",
    "        errors = error_func(X, params)\n",
    "        \n",
    "        # 2-4 每次更新幅度與當次各點的誤差值成反比（不完全反比），含意為提高 inlier 往後被選取的機率\n",
    "        current_prob[:] = 1 / norm_func(1 + errors[:]) \n",
    "        prob = np.multiply(prob, current_prob)            # p *= p'\n",
    "        prob = np.divide(prob, np.sum(prob))     # p /= sum(p)\n",
    "    \n",
    "    \n",
    "    # Step3. 如果參數 fit_with_best_n 沒給就只回傳每個點被選取的機率，若有則回傳前 n 個機率高的資料擬合結果\n",
    "    if fit_with_best_n == None:       \n",
    "        return prob\n",
    "    else:\n",
    "        robust_X = X[np.argsort(prob)[-fit_with_best_n:]]\n",
    "        robust_params = fit_model(robust_X)\n",
    "        latest_errors = error_func(robust_X, robust_params) \n",
    "        return prob, robust_params, latest_errors\n",
    "        "
   ]
  },
  {
   "cell_type": "code",
   "execution_count": null,
   "metadata": {},
   "outputs": [],
   "source": []
  },
  {
   "cell_type": "markdown",
   "metadata": {},
   "source": [
    "## Test RANSAC"
   ]
  },
  {
   "cell_type": "markdown",
   "metadata": {},
   "source": [
    "### linear"
   ]
  },
  {
   "cell_type": "code",
   "execution_count": 14,
   "metadata": {},
   "outputs": [
    {
     "data": {
      "image/png": "[encoded data removed]",
      "text/plain": [
       "<Figure size 432x288 with 1 Axes>"
      ]
     },
     "metadata": {
      "needs_background": "light"
     },
     "output_type": "display_data"
    }
   ],
   "source": [
    "# Step1. 產生測試資料\n",
    "x_actual = np.random.rand(100)\n",
    "y_actual = x_actual * (-1) + 3\n",
    "y_measured = y_actual + np.random.rand(len(x_actual)) * 0.1 - 0.05\n",
    "x_measured = x_actual + np.random.rand(len(x_actual)) * 0.1 - 0.05\n",
    "x_measured = np.append(x_measured, np.array(range(50)) / 100.0)\n",
    "y_measured = np.append(y_measured, np.zeros(50) + np.random.rand(50) * 10)\n",
    "\n",
    "# Step2. \n",
    "X = np.transpose([x_measured, y_measured])\n",
    "weights = np.ones(len(X))\n",
    "\n",
    "\n",
    "fit_func = lambda X: linear_fit_model(linear_ls_errors, [1,1], X[:,0], X[:,1], np.ones(len(X))).x\n",
    "error_func = lambda X, params: linear_ls_errors(X[:,0],X[:,1],params[0],params[1],np.ones(len(X)))\n",
    "\n",
    "# Step3. 分別用 LS 與 RANSAC 擬合\n",
    "sol_lsq = linear_fit_model(linear_ls_errors, [1, 1], x_measured, y_measured,weights)\n",
    "probs, params, errors = ransac_bayesian(error_func, fit_func,X,\n",
    "                                 iterations = 100,fit_samples = 10,fit_with_best_n = 100)\n",
    "\n",
    "plt.plot(x_actual, y_actual, '.b')\n",
    "plt.plot(x_measured, y_measured, '.g')\n",
    "plt.plot(x_measured, x_measured * sol_lsq.x[0] + sol_lsq.x[1], 'r')\n",
    "plt.plot(x_measured, x_measured * params[0] + params[1], 'y')\n",
    "plt.show()"
   ]
  },
  {
   "cell_type": "code",
   "execution_count": null,
   "metadata": {},
   "outputs": [],
   "source": []
  },
  {
   "cell_type": "markdown",
   "metadata": {},
   "source": [
    "### Circle"
   ]
  },
  {
   "cell_type": "code",
   "execution_count": 30,
   "metadata": {},
   "outputs": [
    {
     "name": "stdout",
     "output_type": "stream",
     "text": [
      "[-0.011607982403371006, 0.025051031134598216, 10.017881381861473]\n"
     ]
    },
    {
     "data": {
      "image/png": "[encoded data removed]",
      "text/plain": [
       "<Figure size 432x288 with 1 Axes>"
      ]
     },
     "metadata": {
      "needs_background": "light"
     },
     "output_type": "display_data"
    }
   ],
   "source": [
    "# Step1. 產生測試資料\n",
    "\n",
    "# 1-1 生成圓形資料點\n",
    "num_samples = 100\n",
    "theta = np.linspace(0, 2*np.pi, num_samples)\n",
    "r = np.random.rand((num_samples))\n",
    "\n",
    "x_actual = 10 * np.cos(theta)\n",
    "y_actual = 10 * np.sin(theta)\n",
    "x_measured = x_actual + np.random.rand(len(x_actual)) * 0.1 - 0.05\n",
    "y_measured = y_actual + np.random.rand(len(x_actual)) * 0.1 - 0.05\n",
    "x_measured = np.append(x_measured, np.array(range(50)) / 100.0)\n",
    "y_measured = np.append(y_measured, np.zeros(50) + np.random.rand(50) * 10)\n",
    "\n",
    "# Step2. 客製化錯誤函式 及 客製化擬合模型\n",
    "X = np.transpose([x_measured, y_measured])\n",
    "weights = np.ones(len(X))\n",
    "\n",
    "## Baysian\n",
    "# fit_func = lambda X: circle_fit_model([1,1,1], X, np.ones(len(X)))\n",
    "# error_func = lambda X, params: circle_ls_errors(X[:,0], X[:,1], params[0], params[1], params[2], np.ones(len(X)))\n",
    "# probs,params,errors = ransac_bayesian(error_func, fit_func,X,\n",
    "#                                  iterations = 100,fit_samples = 3,fit_with_best_n = 50)\n",
    "\n",
    "## Classic\n",
    "fit_func = lambda X: circle_fit_model([1,1,1], X, np.ones(len(X)))\n",
    "error_func = lambda X, params, threshold: evaluate_func(X[:,0], X[:,1], params[0], params[1], params[2], np.ones(len(X)), threshold)\n",
    "params = ransac_classic(error_func, fit_func, X, iterations=100, fit_samples=3, inlier_threshold=0.05, min_inliers=10)\n",
    "\n",
    "fig, ax = plt.subplots()\n",
    "plt.axis('equal')\n",
    "plt.plot(x_actual, y_actual, '.b')\n",
    "plt.plot(x_measured, y_measured, '.g')\n",
    "\n",
    "print(params)\n",
    "Circle_1 = plt.Circle((params[0], params[1]), params[2])\n",
    "ax.add_artist(Circle_1)\n",
    "\n",
    "plt.show()"
   ]
  },
  {
   "cell_type": "code",
   "execution_count": null,
   "metadata": {},
   "outputs": [],
   "source": []
  },
  {
   "cell_type": "markdown",
   "metadata": {},
   "source": [
    "## Case 1"
   ]
  },
  {
   "cell_type": "code",
   "execution_count": 8,
   "metadata": {
    "scrolled": true
   },
   "outputs": [],
   "source": [
    "os.chdir(\"/home/mj/HardDisk/ARCS/img/X-Ray/Case_1/Cut\")\n",
    "## Read image\n",
    "img, gray = read_img(\"10_mean_0.bmp\")\n",
    "height, width = get_imgInfo(img)\n",
    "\n",
    "## Image processing\n",
    "blur = cv2.GaussianBlur(gray,(5,5),0)\n",
    "dst = cv2.fastNlMeansDenoising(blur,None,10,7,21)\n",
    "\n",
    "_, threshed = cv2.threshold(dst,0,255,cv2.THRESH_BINARY_INV+cv2.THRESH_OTSU)\n",
    "\n",
    "\n",
    "## Options\n",
    "# median = median_filter(threshed, 25)\n",
    "# closed = closing(median, 3)\n",
    "# opened = opening(closed, 3)\n",
    "edge = edge_detect(threshed, 0, 20)\n",
    "ret, labels = cv2.connectedComponents(edge)\n",
    "\n",
    "\n",
    "#get edge points\n",
    "edge_points = []\n",
    "for i in range(height):\n",
    "    for j in range(width):\n",
    "        if edge[i,j] == 255:\n",
    "            edge_points.append([j,i])\n",
    "            \n",
    "fit_func = lambda X: circle_fit_model([1,1,1], X, np.ones(len(X)))\n",
    "error_func = lambda X, params: circle_ls_errors(X[:,0], X[:,1], params[0], params[1], params[2], np.ones(len(X)))\n",
    "probs,params,errors = ransac_bayesian(error_func, fit_func,np.asarray(edge_points),\n",
    "                                 iterations = 200,fit_samples = 3,fit_with_best_n = int(0.8*len(edge_points)))\n",
    "\n",
    "# print(edge_points)\n",
    "# print(ls_params)\n",
    "# print(params)\n",
    "\n",
    "## Show processed images    \n",
    "# cv2.imshow(\"Original\", img)\n",
    "cv2.imshow(\"Gray\", gray)\n",
    "cv2.imshow(\"Blur\", blur)\n",
    "# cv2.imshow(\"Non Local Means\", dst)\n",
    "cv2.imshow(\"Thresh\", threshed)\n",
    "# cv2.imshow(\"Median\", median)\n",
    "# cv2.imshow(\"Opening\", opened)\n",
    "# cv2.imshow(\"Closing\", closed)\n",
    "cv2.imshow(\"Edge\", edge)\n",
    "cv2.waitKey(0)\n",
    "cv2.destroyAllWindows()"
   ]
  },
  {
   "cell_type": "code",
   "execution_count": null,
   "metadata": {},
   "outputs": [],
   "source": []
  },
  {
   "cell_type": "code",
   "execution_count": 11,
   "metadata": {
    "scrolled": true
   },
   "outputs": [
    {
     "name": "stdout",
     "output_type": "stream",
     "text": [
      "10_mean_0.bmp: 203.7004419670094, 99.33583859199092, 66.22691687591531\n",
      "10_mean_1.bmp: 203.68706758481366, 99.21511666213033, 66.34375452949037\n",
      "10_mean_10.bmp: 203.71163214745067, 98.99189999721078, 66.90900775229727\n",
      "10_mean_11.bmp: 203.60687400243165, 99.19779941953284, 66.19597923689929\n",
      "10_mean_12.bmp: 203.56343806993806, 99.17563021397173, 66.76909409171219\n",
      "10_mean_13.bmp: 203.56288700843297, 99.16322681719528, 66.3517650983494\n",
      "10_mean_14.bmp: 203.5207474661094, 99.2949204068522, 66.86080739917278\n",
      "10_mean_15.bmp: 203.476446217289, 99.19312093589858, 66.25150291118784\n",
      "10_mean_16.bmp: 203.56247352608892, 99.20732742166638, 67.0649604597017\n",
      "10_mean_17.bmp: 203.71383116635698, 99.32798490481072, 66.4491060295645\n",
      "10_mean_18.bmp: 203.43640357503742, 99.02920627261011, 66.96888321720787\n",
      "10_mean_19.bmp: 203.6176105249813, 99.08845860757096, 66.81678020451604\n",
      "10_mean_2.bmp: 203.41772451236133, 98.94743441718101, 66.3800548764613\n",
      "10_mean_20.bmp: 203.40479772048715, 99.10463297140367, 66.25480177778985\n",
      "10_mean_21.bmp: 203.53317648997776, 99.2613009580511, 66.83532461197485\n",
      "10_mean_22.bmp: 203.47136950274995, 99.1501232107837, 66.25618639407143\n",
      "10_mean_23.bmp: 203.60642484337896, 99.08935344018776, 66.7780774140032\n",
      "10_mean_24.bmp: 203.799430046932, 99.11415889872603, 66.30465881453573\n",
      "10_mean_25.bmp: 203.73714203645488, 99.22418393491608, 66.88834203491491\n",
      "10_mean_26.bmp: 203.81911251295006, 99.16505753039287, 66.5611119677624\n",
      "10_mean_27.bmp: 203.7209910811128, 98.99989853857599, 66.30557132354609\n",
      "10_mean_28.bmp: 203.62550555516665, 99.20428690407105, 66.64505242492211\n",
      "10_mean_29.bmp: 203.58411766664454, 99.14537148077983, 66.40345413722122\n",
      "10_mean_3.bmp: 203.66192404016337, 99.08449035952397, 66.86056330213513\n",
      "10_mean_30.bmp: 203.6194492678208, 99.01209841427536, 66.6077311311713\n",
      "10_mean_31.bmp: 203.64213559046598, 99.01252114730012, 66.2100315056787\n",
      "10_mean_32.bmp: 203.47054259985478, 98.9125744545507, 66.84086142634135\n",
      "10_mean_33.bmp: 203.511202957157, 99.1437739777866, 66.24093242824414\n",
      "10_mean_34.bmp: 203.4419497696543, 99.28771035688845, 67.02248235757394\n",
      "10_mean_35.bmp: 203.7056737914787, 99.21532689230784, 66.29865998810041\n",
      "10_mean_36.bmp: 203.5084886320291, 99.17889356115874, 66.8940966389066\n",
      "10_mean_37.bmp: 203.7132781080326, 99.17704266116765, 66.4097038929814\n",
      "10_mean_38.bmp: 203.70421193895, 99.22939256836882, 66.28332562648812\n",
      "10_mean_39.bmp: 203.62292026337906, 99.1820396662431, 66.15912232685363\n",
      "10_mean_4.bmp: 203.62697514157193, 98.99338356741514, 66.30945251514596\n",
      "10_mean_40.bmp: 203.49026448161783, 99.28121374247738, 66.33466328425227\n",
      "10_mean_41.bmp: 203.57280104275318, 98.93540951765384, 66.92319799480497\n",
      "10_mean_42.bmp: 203.5179043123621, 98.94551650979031, 66.40723870950619\n",
      "10_mean_43.bmp: 203.51501406165096, 99.08597711171691, 66.65065821793686\n",
      "10_mean_44.bmp: 203.64059870828686, 99.32213907235756, 66.43264179018367\n",
      "10_mean_45.bmp: 203.62128846150148, 99.20781361441456, 66.6848739924083\n",
      "10_mean_46.bmp: 203.73770650855698, 98.95294553034348, 66.39852951321042\n",
      "10_mean_47.bmp: 203.55048847339714, 99.10850506430911, 66.16182028877589\n",
      "10_mean_48.bmp: 203.80877049551864, 98.74846085935741, 66.30346952191701\n",
      "10_mean_49.bmp: 203.6073858208294, 99.06714421487446, 67.06906378862901\n",
      "10_mean_5.bmp: 203.58140214285606, 99.1692517521763, 66.90540956043684\n",
      "10_mean_50.bmp: 203.58615239130867, 99.0606646694815, 66.88279242928682\n",
      "10_mean_51.bmp: 203.53701410754948, 99.20380323935103, 66.97293549873761\n",
      "10_mean_52.bmp: 203.46375925491404, 99.14554110766768, 66.63849553497086\n",
      "10_mean_53.bmp: 203.30151281841378, 99.20750741924374, 66.92642401889432\n",
      "10_mean_54.bmp: 203.62432981962667, 99.30988778066552, 66.80412779403666\n",
      "10_mean_55.bmp: 203.6310868960707, 99.30944423335961, 67.08082230663214\n",
      "10_mean_56.bmp: 203.61193721702878, 99.34766435542194, 66.90880671132808\n",
      "10_mean_57.bmp: 203.82687436513197, 99.09345818608286, 66.35023436670716\n",
      "10_mean_58.bmp: 203.76205804117055, 98.83758689099864, 66.24505441445959\n",
      "10_mean_59.bmp: 203.59469455020175, 99.02658721943342, 66.8740711782801\n",
      "10_mean_6.bmp: 203.55327934107996, 99.32863292521911, 66.33337659611304\n",
      "10_mean_60.bmp: 203.43694474549048, 99.20498100842701, 67.00414568693346\n",
      "10_mean_61.bmp: 203.59406073408587, 99.15407483468155, 66.64632331243273\n",
      "10_mean_62.bmp: 203.5893844469176, 99.25453551148877, 67.0381361073644\n",
      "10_mean_63.bmp: 203.87133859624794, 99.40371706689412, 66.67941859145299\n",
      "10_mean_64.bmp: 203.47252108771144, 99.19205518761231, 66.15556938469904\n",
      "10_mean_65.bmp: 203.58673637399792, 99.2334530443744, 66.94667263573504\n",
      "10_mean_66.bmp: 203.50059202491158, 99.08815712495974, 66.36019707738768\n",
      "10_mean_67.bmp: 203.63929077574434, 99.2693803382511, 66.92254745112793\n",
      "10_mean_68.bmp: 203.68238349803917, 99.24907802791101, 67.07951233735687\n",
      "10_mean_69.bmp: 203.63534950498092, 99.16940322094051, 66.35601246654716\n",
      "10_mean_7.bmp: 203.69932558581542, 99.33372372747566, 67.03673024297747\n",
      "10_mean_70.bmp: 203.5557083252862, 99.20671303411825, 66.78282377769033\n",
      "10_mean_71.bmp: 203.57625541689376, 99.22159686331888, 66.34836903564735\n",
      "10_mean_72.bmp: 203.70307399051015, 99.34500284072428, 66.7076645409664\n",
      "10_mean_73.bmp: 203.50191348358013, 98.9922731360088, 67.09078804667092\n",
      "10_mean_74.bmp: 203.56273780158904, 99.2294473268847, 66.57611992403463\n",
      "10_mean_75.bmp: 203.6253745832248, 99.17960350145177, 66.91642342468599\n",
      "10_mean_76.bmp: 203.49384230369384, 99.35531470105433, 66.79194178326169\n",
      "10_mean_77.bmp: 203.6170544534626, 99.13494021350948, 66.20040721114667\n",
      "10_mean_78.bmp: 203.64813489798073, 99.22847983635556, 66.67696434159421\n",
      "10_mean_79.bmp: 203.70918222315433, 99.14648261743903, 66.75566798908365\n",
      "10_mean_8.bmp: 203.65105352415307, 99.16395631569718, 66.30734684792886\n",
      "10_mean_80.bmp: 203.43340624689515, 99.48214409869645, 66.83944701414835\n",
      "10_mean_81.bmp: 203.57227461170865, 99.0669540153854, 66.61277238452223\n",
      "10_mean_82.bmp: 203.41814350120313, 99.22724690935623, 66.91683964809694\n",
      "10_mean_83.bmp: 203.71189523195355, 99.37702969328348, 66.78944231208531\n",
      "10_mean_84.bmp: 203.44782148896863, 99.45082016319343, 66.99634534748411\n",
      "10_mean_85.bmp: 203.70173995270898, 99.32204417293318, 66.71980716764634\n",
      "10_mean_86.bmp: 203.63942413789624, 98.90122133502061, 66.92650119673102\n",
      "10_mean_87.bmp: 203.90983194455583, 98.98540702757566, 66.9069562597498\n",
      "10_mean_88.bmp: 203.748620390754, 99.26579034643792, 66.89690304813395\n",
      "10_mean_89.bmp: 203.88928101620596, 99.40603837849415, 66.77572752858752\n",
      "10_mean_9.bmp: 203.66485982914452, 99.0234875272354, 67.01087675771105\n",
      "10_mean_90.bmp: 203.5830241094127, 99.2150763505462, 66.78445188965951\n",
      "10_mean_91.bmp: 203.79300151469235, 99.38562847725076, 66.93644176182659\n",
      "10_mean_92.bmp: 203.78837168058718, 99.25216465942903, 66.77509186909361\n",
      "10_mean_93.bmp: 203.65623345385683, 99.14010543656008, 66.35356581171922\n",
      "10_mean_94.bmp: 203.66108146726236, 99.20010478811447, 66.6321374599615\n",
      "10_mean_95.bmp: 203.64537950316975, 99.2830971599426, 67.14473173372906\n",
      "10_mean_96.bmp: 203.56822027248919, 99.23361080679527, 66.84748113514853\n",
      "10_mean_97.bmp: 203.76748327167883, 99.00358279510941, 66.39085618234611\n",
      "10_mean_98.bmp: 203.58600002212643, 99.2758708159065, 66.27981197074331\n",
      "10_mean_99.bmp: 203.5979191697149, 99.24317026785964, 66.95113533139603\n"
     ]
    }
   ],
   "source": [
    "os.chdir(\"/home/mj/HardDisk/ARCS/img/X-Ray/Case_1/Cut\")\n",
    "try:\n",
    "    \n",
    "    images = os.listdir()\n",
    "    images.sort()\n",
    "    \n",
    "    predictions = []\n",
    "    for image in images:\n",
    "        img, gray = read_img(image)\n",
    "        height, width = get_imgInfo(img)\n",
    "        \n",
    "        blur = cv2.GaussianBlur(gray,(5,5),0)\n",
    "        dst = cv2.fastNlMeansDenoising(blur,None,10,7,21)\n",
    "        _, threshed = cv2.threshold(dst,0,255,cv2.THRESH_BINARY_INV+cv2.THRESH_OTSU)\n",
    "#         median = median_filter(threshed, 7)\n",
    "        edge = edge_detect(threshed, 0, 20)\n",
    "                    \n",
    "        # get edge points\n",
    "        edge_points = []\n",
    "        for i in range(height):\n",
    "            for j in range(width):\n",
    "                if edge[i,j] == 255:\n",
    "                    edge_points.append([i,j])\n",
    "        \n",
    "        fit_sample_numbers = int(0.5*len(edge_points))\n",
    "        \n",
    "        fit_func = lambda X: circle_fit_model([1,1,1], X, np.ones(len(X)))\n",
    "        error_func = lambda X, params: circle_ls_errors(X[:,1], X[:,0], params[0], params[1], params[2], np.ones(len(X)))\n",
    "        probs,params,errors = ransac_bayesian(error_func, fit_func,np.asarray(edge_points),\n",
    "                                         iterations = 20,fit_samples = fit_sample_numbers ,fit_with_best_n = int(1*len(edge_points)))\n",
    "\n",
    "#         fit_func = lambda X: circle_fit_model([1,1,1], X, np.ones(len(X)))\n",
    "#         error_func = lambda X, params, threshold: evaluate_func(X[:,1], X[:,0], params[0], params[1], params[2], np.ones(len(X)), threshold)\n",
    "#         params = ransac_classic(error_func, fit_func, np.asarray(edge_points), iterations=1000, fit_samples=fit_sample_numbers, inlier_threshold=5, min_inliers=10)\n",
    "\n",
    "    \n",
    "\n",
    "        # Count center\n",
    "#         cy,cx,r,_ = cf.least_squares_circle((edge_points))\n",
    "#         predictions.append([cx, cy])\n",
    "#         print(\"{}: {}, {}\".format(image, cx, cy))\n",
    "        predictions.append([params[0], params[1]])\n",
    "        print(\"{}: {}, {}, {}\".format(image ,params[0], params[1], params[2]))\n",
    "\n",
    "    \n",
    "except Exception as e:\n",
    "    print(e)"
   ]
  },
  {
   "cell_type": "code",
   "execution_count": 12,
   "metadata": {},
   "outputs": [
    {
     "name": "stdout",
     "output_type": "stream",
     "text": [
      "-----------------------------------------------------\n",
      "Statistics: \n",
      "Mean Centroid: (203.61381, 99.17248)\n",
      "Variance     : (0.01305, 0.01841)\n",
      "Max Length   : 0.51760, 0.58738 (pixels)\n"
     ]
    }
   ],
   "source": [
    "show_resoult(predictions)"
   ]
  },
  {
   "cell_type": "code",
   "execution_count": null,
   "metadata": {},
   "outputs": [],
   "source": []
  },
  {
   "cell_type": "code",
   "execution_count": null,
   "metadata": {},
   "outputs": [],
   "source": []
  },
  {
   "cell_type": "markdown",
   "metadata": {},
   "source": [
    "## M-Eestimator"
   ]
  },
  {
   "cell_type": "code",
   "execution_count": 45,
   "metadata": {},
   "outputs": [],
   "source": [
    "def robust_lsq_m_estimates(error_func, fit_model, X,\n",
    "                           iterations=1000, priors=None, norm_func=lambda x: 1/(1 + x**0.1)):\n",
    "\n",
    "    # Step1. 事先機率設定\n",
    "\n",
    "    # 1-1 如過參數 priors 為 None 時，將其設為全都一樣\n",
    "    if priors == None:\n",
    "        prob = np.ones(len(X))\n",
    "    else:\n",
    "        prob = priors\n",
    "\n",
    "    # 1-2 將機率單位化\n",
    "    prob /= np.sum(prob)\n",
    "    best_errors = 1e100\n",
    "    best_param = None\n",
    "    current_prob = prob.copy()\n",
    "\n",
    "\n",
    "    # Step2. 計算穩定可靠的權重\n",
    "    for iter in range(iterations):\n",
    "        # 2-1 \n",
    "        params = fit_model(X, prob)\n",
    "        errors = error_func(X, params, prob)\n",
    "\n",
    "        #\n",
    "        if np.sum(errors) < best_errors:\n",
    "            best_param = params\n",
    "            best_errors = np.sum(errors)\n",
    "\n",
    "        #\n",
    "        current_prob[:] = norm_func(errors[:])\n",
    "        prob *= current_prob\n",
    "        prob /= np.sum(prob)\n",
    "\n",
    "\n",
    "    # Step3.\n",
    "    params = fit_model(X, prob)\n",
    "    errors = error_func(X, params, prob)\n",
    "    if np.sum(errors) < best_errors:\n",
    "        best_param = params\n",
    "        \n",
    "    return prob, best_param, errors"
   ]
  }
 ],
 "metadata": {
  "kernelspec": {
   "display_name": "Python 3",
   "language": "python",
   "name": "python3"
  },
  "language_info": {
   "codemirror_mode": {
    "name": "ipython",
    "version": 3
   },
   "file_extension": ".py",
   "mimetype": "text/x-python",
   "name": "python",
   "nbconvert_exporter": "python",
   "pygments_lexer": "ipython3",
   "version": "3.6.9"
  }
 },
 "nbformat": 4,
 "nbformat_minor": 2
}
