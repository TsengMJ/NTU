{
 "cells": [
  {
   "cell_type": "code",
   "execution_count": 1,
   "metadata": {},
   "outputs": [],
   "source": [
    "from matplotlib import pyplot as plt\n",
    "from skimage import exposure\n",
    "import circle_fit as cf\n",
    "import numpy as np\n",
    "import math\n",
    "import random\n",
    "import cv2\n",
    "import os\n",
    "%run functions.ipynb"
   ]
  },
  {
   "cell_type": "markdown",
   "metadata": {},
   "source": [
    "## Functions"
   ]
  },
  {
   "cell_type": "code",
   "execution_count": 2,
   "metadata": {},
   "outputs": [],
   "source": [
    "def getTarget(img):\n",
    "    contours, hierarchy = cv2.findContours(img,cv2.RETR_TREE,cv2.CHAIN_APPROX_SIMPLE)  \n",
    "    \n",
    "    list_len = [len(i) for i in contours]\n",
    "    max_len = 0\n",
    "    index = 0\n",
    "    for i,l in enumerate(list_len):\n",
    "        if l > max_len:\n",
    "            max_len = l\n",
    "            index = i\n",
    "            \n",
    "    target = contours[index]\n",
    "    target = np.asarray(target).reshape(max_len, 2)\n",
    "        \n",
    "\n",
    "    return target"
   ]
  },
  {
   "cell_type": "code",
   "execution_count": 3,
   "metadata": {},
   "outputs": [],
   "source": [
    "kernel = np.array([[0,255,255,255,0],\n",
    "                   [255,255,255,255,255],\n",
    "                   [255,255,255,255,255],\n",
    "                   [255,255,255,255,255],\n",
    "                   [0,255,255,255,0]], dtype='uint8')\n",
    "\n",
    "def dilation(img, kernel, padding=0):\n",
    "    img_h, img_w = img.shape[0:2]\n",
    "    imap = np.zeros((img_h+2*padding, img_w+2*padding), dtype='uint8')\n",
    "    imap_h, imap_w = imap.shape[0:2]\n",
    "    \n",
    "    for i in range(padding, imap_h-padding):\n",
    "        for j in range(padding, imap_w-padding):\n",
    "            if img[i-padding,j-padding] == 255:\n",
    "                imap[i-padding:i+padding+1, j-padding:j+padding+1] |= kernel\n",
    "                \n",
    "    dilated = imap[padding:imap_h-padding, padding:imap_w-padding]\n",
    "    return dilated\n",
    "\n",
    "\n",
    "def erosion(img, kernel, padding=0):\n",
    "    img_comp = cv2.bitwise_not(img)\n",
    "    img_h, img_w = img.shape[0:2]\n",
    "    imap = np.zeros((img_h+2*padding, img_w+2*padding), dtype='uint8')\n",
    "    imap_h, imap_w = imap.shape[0:2]\n",
    "    \n",
    "    ## Flip kernel \n",
    "    _kernel = np.flip(np.flip(kernel, axis=1), axis=0)\n",
    "    \n",
    "    for i in range(padding, imap_h-padding):\n",
    "        for j in range(padding, imap_w-padding):\n",
    "            if img_comp[i-padding,j-padding] == 255:\n",
    "                imap[i-padding:i+padding+1, j-padding:j+padding+1] |= _kernel\n",
    "                \n",
    "    erosioned = imap[padding:imap_h-padding, padding:imap_w-padding]\n",
    "    erosioned = cv2.bitwise_not(erosioned)\n",
    "    \n",
    "    return erosioned\n",
    "\n",
    "def opening(img, kernel, padding=0):\n",
    "    erosioned = erosion(img, kernel, padding=padding)\n",
    "    opened = dilation(erosioned, kernel, padding=padding)\n",
    "    \n",
    "    return opened\n",
    "\n",
    "def closing(img, kernel, padding=0):\n",
    "    dilated = dilation(img, kernel, padding)\n",
    "    closed = erosion(dilated, kernel, padding)\n",
    "    \n",
    "    return closed"
   ]
  },
  {
   "cell_type": "code",
   "execution_count": null,
   "metadata": {},
   "outputs": [],
   "source": []
  },
  {
   "cell_type": "code",
   "execution_count": null,
   "metadata": {},
   "outputs": [],
   "source": []
  },
  {
   "cell_type": "code",
   "execution_count": null,
   "metadata": {},
   "outputs": [],
   "source": []
  },
  {
   "cell_type": "code",
   "execution_count": 5,
   "metadata": {},
   "outputs": [
    {
     "name": "stderr",
     "output_type": "stream",
     "text": [
      "/home/mj/anaconda3/envs/py36/lib/python3.6/site-packages/ipykernel_launcher.py:19: RuntimeWarning: invalid value encountered in double_scalars\n",
      "/home/mj/anaconda3/envs/py36/lib/python3.6/site-packages/ipykernel_launcher.py:20: RuntimeWarning: invalid value encountered in double_scalars\n"
     ]
    }
   ],
   "source": [
    "os.chdir(\"/home/mj/HardDisk/ARCS/img/X-Ray/Ten_mean\")\n",
    "img, gray = read_img(\"10_mean_0.bmp\")\n",
    "height, width = get_imgInfo(img)\n",
    "threshed = removeBorder(gray, height, width)\n",
    "\n",
    "cv2.imshow(\"Thresh\", threshed)\n",
    "cv2.waitKey(0)\n",
    "cv2.destroyAllWindows()"
   ]
  },
  {
   "cell_type": "markdown",
   "metadata": {},
   "source": [
    "## Test"
   ]
  },
  {
   "cell_type": "code",
   "execution_count": 11,
   "metadata": {},
   "outputs": [
    {
     "data": {
      "image/png": "[encoded data removed]",
      "text/plain": [
       "<Figure size 432x288 with 1 Axes>"
      ]
     },
     "metadata": {
      "needs_background": "light"
     },
     "output_type": "display_data"
    },
    {
     "data": {
      "image/png": "[encoded data removed]",
      "text/plain": [
       "<Figure size 432x288 with 1 Axes>"
      ]
     },
     "metadata": {
      "needs_background": "light"
     },
     "output_type": "display_data"
    },
    {
     "data": {
      "image/png": "[encoded data removed]",
      "text/plain": [
       "<Figure size 432x288 with 1 Axes>"
      ]
     },
     "metadata": {
      "needs_background": "light"
     },
     "output_type": "display_data"
    },
    {
     "name": "stderr",
     "output_type": "stream",
     "text": [
      "/home/mj/anaconda3/envs/py36/lib/python3.6/site-packages/ipykernel_launcher.py:20: RuntimeWarning: invalid value encountered in double_scalars\n"
     ]
    },
    {
     "name": "stdout",
     "output_type": "stream",
     "text": [
      "59\n",
      "name 'image' is not defined\n"
     ]
    }
   ],
   "source": [
    "os.chdir(\"/home/mj/HardDisk/ARCS/img/X-Ray/Ten_mean\")\n",
    "try:\n",
    "    # Read image\n",
    "    img, gray = read_img(\"10_mean_0.bmp\")  \n",
    "    height, width = get_imgInfo(img)\n",
    "    plt.hist(gray.ravel(), bins=256, range=[0, 255])\n",
    "    plt.show()\n",
    "    \n",
    "    blur = cv2.GaussianBlur(gray,(5,5),0)\n",
    "    plt.hist(blur.ravel(), bins=256, range=[0, 255])\n",
    "    plt.show()\n",
    "     \n",
    "    dst = cv2.fastNlMeansDenoising(blur,None,5,3,9)\n",
    "    plt.hist(dst.ravel(), bins=256, range=[0, 255])\n",
    "    plt.show()\n",
    "#     _, threshed = cv2.threshold(dst,0,255,cv2.THRESH_BINARY_INV+cv2.THRESH_OTSU)\n",
    "    \n",
    "    threshed = removeBorder(gray2, height, width)\n",
    "    opened = opening(threshed, kernel, padding=2)\n",
    "    closed = closing(opened, kernel, padding=2)\n",
    "    \n",
    "    median = median_filter(closed, 5)\n",
    "#     closed = closing(median, 2)\n",
    "#     opened = opening(median, 3)\n",
    "#     edge = edge_detect(opened, 0, 20)\n",
    "    target = getTarget(median)\n",
    "    \n",
    "    data = []\n",
    "    for p in target:\n",
    "        data.append((p[0],p[1]))\n",
    "    \n",
    "    cy,cx,r,_ = cf.least_squares_circle((data))\n",
    "#     predictions.append([cx, cy])\n",
    "    print(\"{}: {}, {}\".format(image ,cx, cy))\n",
    "\n",
    "except Exception as e:\n",
    "    print(e)\n",
    "\n",
    "\n",
    "\n",
    "\n",
    "# Show processed images    \n",
    "# cv2.imshow(\"Original\", img)\n",
    "cv2.imshow(\"Gray\", gray)\n",
    "cv2.imshow(\"Blur\", blur)\n",
    "cv2.imshow(\"Non Local Means\", dst)\n",
    "cv2.imshow(\"Thresh\", threshed)\n",
    "cv2.imshow(\"Opening\", opened)\n",
    "cv2.imshow(\"Closing\", closed)\n",
    "cv2.imshow(\"Median\", median)\n",
    "# cv2.imshow(\"Edge\", edge)\n",
    "cv2.waitKey(0)\n",
    "cv2.destroyAllWindows()"
   ]
  },
  {
   "cell_type": "code",
   "execution_count": null,
   "metadata": {},
   "outputs": [],
   "source": []
  },
  {
   "cell_type": "code",
   "execution_count": 15,
   "metadata": {},
   "outputs": [
    {
     "name": "stdout",
     "output_type": "stream",
     "text": [
      "10_mean_0.bmp: 321.7408492813105, 239.9257102077607\n",
      "10_mean_1.bmp: 321.73787472223285, 239.9342863483539\n",
      "10_mean_10.bmp: 321.75191593664925, 239.92875723456223\n",
      "10_mean_11.bmp: 321.7346741532966, 239.94598522388154\n",
      "10_mean_12.bmp: 321.6953173248248, 239.9477491268935\n",
      "10_mean_13.bmp: 321.68312457547233, 239.92812022227335\n",
      "10_mean_14.bmp: 321.67632605981896, 239.92291563765133\n",
      "10_mean_15.bmp: 321.7263064103315, 239.8930306839138\n",
      "10_mean_16.bmp: 321.70288019345367, 239.88936434937847\n",
      "10_mean_17.bmp: 321.7407276317887, 239.90194404678002\n",
      "10_mean_18.bmp: 321.7101089217507, 239.90412750105907\n",
      "10_mean_19.bmp: 321.7227083156542, 239.8847948400199\n",
      "10_mean_2.bmp: 321.7609424695983, 239.9313112700708\n",
      "10_mean_20.bmp: 321.7364280538569, 239.85459546705172\n",
      "10_mean_21.bmp: 321.7290015245098, 239.8716854345279\n",
      "10_mean_22.bmp: 321.71560345114693, 239.8573147450493\n",
      "10_mean_23.bmp: 321.72341327208176, 239.84900207475312\n",
      "10_mean_24.bmp: 321.74438758486525, 239.86366492449338\n",
      "10_mean_25.bmp: 321.7321142638557, 239.87574068039223\n",
      "10_mean_3.bmp: 321.76739462187055, 239.92771825253834\n",
      "10_mean_4.bmp: 321.7716011493037, 239.92685094824657\n",
      "10_mean_5.bmp: 321.7342999864731, 239.92454052574755\n",
      "10_mean_6.bmp: 321.7335344863985, 239.9547929523583\n",
      "10_mean_7.bmp: 321.74685983578837, 239.90113270744402\n",
      "10_mean_8.bmp: 321.76138972909666, 239.90643709652758\n",
      "10_mean_9.bmp: 321.7560265338022, 239.91521077287547\n"
     ]
    }
   ],
   "source": [
    "images = os.listdir()\n",
    "images.sort()\n",
    "\n",
    "predictions = []\n",
    "for image in images:\n",
    "    img, gray = read_img(image)\n",
    "    height, width = get_imgInfo(img)\n",
    "    \n",
    "    blur = cv2.GaussianBlur(img,(5,5),0)\n",
    "    dst = cv2.fastNlMeansDenoisingColored(blur,None,5,5,7,21)\n",
    "    gray2 = cv2.cvtColor(dst, cv2.COLOR_BGR2GRAY)\n",
    "    threshed = threshold(gray2, height, width , 0.9)\n",
    "    median = median_filter(threshed, 5)\n",
    "    closed = closing(median, 2)\n",
    "    opened = opening(closed, 3)\n",
    "    edge = edge_detect(opened, 0, 20)\n",
    "    \n",
    "    data = []\n",
    "    for i in range(height):\n",
    "        for j in range(width):\n",
    "            if median[i,j] == 255:\n",
    "                data.append((i,j))\n",
    "\n",
    "    cy,cx,r,_ = cf.least_squares_circle((data))\n",
    "    predictions.append([cx, cy])\n",
    "    print(\"{}: {}, {}\".format(image ,cx, cy))\n"
   ]
  },
  {
   "cell_type": "code",
   "execution_count": 16,
   "metadata": {},
   "outputs": [
    {
     "name": "stdout",
     "output_type": "stream",
     "text": [
      "-----------------------------------------------------\n",
      "Statistics: \n",
      "Mean Centroid: (321.73215, 239.90641)\n",
      "Variance     : (0.00057, 0.00089)\n",
      "Max Length   : 0.07559, 0.09875 (pixels)\n"
     ]
    }
   ],
   "source": [
    "show_resoult(predictions)"
   ]
  },
  {
   "cell_type": "code",
   "execution_count": null,
   "metadata": {},
   "outputs": [],
   "source": []
  },
  {
   "cell_type": "code",
   "execution_count": null,
   "metadata": {},
   "outputs": [],
   "source": []
  },
  {
   "cell_type": "markdown",
   "metadata": {},
   "source": [
    "## Show processed steps on original images"
   ]
  },
  {
   "cell_type": "code",
   "execution_count": 8,
   "metadata": {},
   "outputs": [
    {
     "name": "stdout",
     "output_type": "stream",
     "text": [
      "axis=1 is invalid for the 0-dimensional input array\n"
     ]
    },
    {
     "data": {
      "image/png": "[encoded data removed]",
      "text/plain": [
       "<Figure size 432x288 with 1 Axes>"
      ]
     },
     "metadata": {
      "needs_background": "light"
     },
     "output_type": "display_data"
    },
    {
     "ename": "NameError",
     "evalue": "name 'edge' is not defined",
     "output_type": "error",
     "traceback": [
      "\u001b[0;31m---------------------------------------------------------------------------\u001b[0m",
      "\u001b[0;31mNameError\u001b[0m                                 Traceback (most recent call last)",
      "\u001b[0;32m<ipython-input-8-92697a67bd10>\u001b[0m in \u001b[0;36m<module>\u001b[0;34m\u001b[0m\n\u001b[1;32m     33\u001b[0m \u001b[0mcv2\u001b[0m\u001b[0;34m.\u001b[0m\u001b[0mimshow\u001b[0m\u001b[0;34m(\u001b[0m\u001b[0;34m\"Closing\"\u001b[0m\u001b[0;34m,\u001b[0m \u001b[0mclosed\u001b[0m\u001b[0;34m)\u001b[0m\u001b[0;34m\u001b[0m\u001b[0;34m\u001b[0m\u001b[0m\n\u001b[1;32m     34\u001b[0m \u001b[0mcv2\u001b[0m\u001b[0;34m.\u001b[0m\u001b[0mimshow\u001b[0m\u001b[0;34m(\u001b[0m\u001b[0;34m\"Median\"\u001b[0m\u001b[0;34m,\u001b[0m \u001b[0mmedian\u001b[0m\u001b[0;34m)\u001b[0m\u001b[0;34m\u001b[0m\u001b[0;34m\u001b[0m\u001b[0m\n\u001b[0;32m---> 35\u001b[0;31m \u001b[0mcv2\u001b[0m\u001b[0;34m.\u001b[0m\u001b[0mimshow\u001b[0m\u001b[0;34m(\u001b[0m\u001b[0;34m\"Edge\"\u001b[0m\u001b[0;34m,\u001b[0m \u001b[0medge\u001b[0m\u001b[0;34m)\u001b[0m\u001b[0;34m\u001b[0m\u001b[0;34m\u001b[0m\u001b[0m\n\u001b[0m\u001b[1;32m     36\u001b[0m \u001b[0mcv2\u001b[0m\u001b[0;34m.\u001b[0m\u001b[0mimshow\u001b[0m\u001b[0;34m(\u001b[0m\u001b[0;34m\"Non Local Means\"\u001b[0m\u001b[0;34m,\u001b[0m \u001b[0mdst\u001b[0m\u001b[0;34m)\u001b[0m\u001b[0;34m\u001b[0m\u001b[0;34m\u001b[0m\u001b[0m\n\u001b[1;32m     37\u001b[0m \u001b[0mcv2\u001b[0m\u001b[0;34m.\u001b[0m\u001b[0mwaitKey\u001b[0m\u001b[0;34m(\u001b[0m\u001b[0;36m0\u001b[0m\u001b[0;34m)\u001b[0m\u001b[0;34m\u001b[0m\u001b[0;34m\u001b[0m\u001b[0m\n",
      "\u001b[0;31mNameError\u001b[0m: name 'edge' is not defined"
     ]
    }
   ],
   "source": [
    "os.chdir(\"/home/mj/HardDisk/ARCS/img/X-Ray/Original\")\n",
    "try:\n",
    "    # Read image\n",
    "    img, gray = read_img(\"A_164810_0.bmp\")    \n",
    "    height, width = get_imgInfo(img)\n",
    "    \n",
    "    dst = cv2.fastNlMeansDenoisingColored(img,None,10,10,7,21)\n",
    "    gray = cv2.cvtColor(dst, cv2.COLOR_BGR2GRAY)\n",
    "    threshed = threshold(gray, height, width , 0.9)\n",
    "    median = median_filter(threshed, 3)\n",
    "    closed = closing(median, 2)\n",
    "    opened = opening(closed, 3)\n",
    "    edge = edge_detect(opened, 0, 20)\n",
    "    \n",
    "    circles = detect_circles(median)\n",
    "    draw_circles(img, circles)\n",
    "\n",
    "    cx, cy = get_centroid(closed)\n",
    "    print(\"Centrid: ({}, {})\".format(cx, cy))\n",
    "    \n",
    "except Exception as e:\n",
    "    print(e)\n",
    "\n",
    "\n",
    "plt.hist(gray.ravel(), bins=256, range=[0, 255])\n",
    "plt.show()\n",
    "\n",
    "# Show processed images    \n",
    "cv2.imshow(\"Original\", img)\n",
    "cv2.imshow(\"Gray\", gray)\n",
    "cv2.imshow(\"Thresh\", threshed)\n",
    "cv2.imshow(\"Opening\", opened)\n",
    "cv2.imshow(\"Closing\", closed)\n",
    "cv2.imshow(\"Median\", median)\n",
    "cv2.imshow(\"Edge\", edge)\n",
    "cv2.imshow(\"Non Local Means\", dst)\n",
    "cv2.waitKey(0)\n",
    "cv2.destroyAllWindows()"
   ]
  },
  {
   "cell_type": "code",
   "execution_count": 25,
   "metadata": {
    "scrolled": true
   },
   "outputs": [
    {
     "name": "stdout",
     "output_type": "stream",
     "text": [
      "A_164810_0.bmp: 322.9838815144184, 241.0833387824495\n",
      "A_164810_1.bmp: 322.7046892575928, 241.81397637795277\n",
      "A_164810_2.bmp: 322.433167831711, 241.46599594956555\n",
      "A_164810_3.bmp: 322.1785103188183, 241.61637042986345\n",
      "A_164810_4.bmp: 322.6870588235294, 241.1200980392157\n",
      "A_164810_5.bmp: 322.6870588235294, 241.1200980392157\n",
      "A_164810_6.bmp: 322.6940088854044, 241.48196785574285\n",
      "A_164810_7.bmp: 322.90420757363256, 241.68986676016831\n",
      "A_164848_0.bmp: 322.96714922049, 241.86685690423164\n",
      "A_164848_1.bmp: 322.96714922049, 241.86685690423164\n",
      "A_164848_2.bmp: 323.0373001776199, 240.5658412565737\n",
      "A_164848_3.bmp: 322.9978686233403, 241.19496855345912\n",
      "A_164848_4.bmp: 322.7971130713713, 241.50747881873016\n",
      "A_164848_5.bmp: 322.4623490822807, 241.1506385651476\n",
      "A_164848_6.bmp: 323.25512480825546, 241.5081578580393\n",
      "A_164848_7.bmp: 323.25512480825546, 241.5081578580393\n",
      "A_164900_0.bmp: 322.78965877437327, 240.71720055710307\n",
      "A_164900_1.bmp: 322.9212650707671, 241.416005591473\n",
      "A_164900_2.bmp: 323.01721014492756, 241.47366220735785\n",
      "A_164900_3.bmp: 322.4145412619663, 241.607923974565\n",
      "A_164900_4.bmp: 322.49699057161746, 241.1118881118881\n",
      "A_164900_5.bmp: 322.3456440319166, 241.42390490148185\n",
      "A_164900_6.bmp: 322.31678679756044, 241.71129447832752\n",
      "A_164900_7.bmp: 321.89693884666343, 241.15919391953142\n",
      "A_164902_0.bmp: 323.38018118856905, 241.5709188848858\n",
      "A_164902_1.bmp: 323.1348553502963, 241.28114325548972\n",
      "A_164902_2.bmp: 322.62653468117105, 241.75112805624542\n",
      "A_164902_3.bmp: 322.6530997587328, 241.74222874925698\n",
      "A_164902_4.bmp: 323.56159621802004, 241.73988459399334\n",
      "A_164902_5.bmp: 322.9391440501044, 241.0856993736952\n",
      "A_164902_6.bmp: 322.9391440501044, 241.0856993736952\n",
      "A_164902_7.bmp: 322.83546808289077, 241.47342844250062\n",
      "B1.bmp: 322.6978575719148, 241.38146566108256\n",
      "B2.bmp: 322.85819192219907, 241.33826204889021\n",
      "B3.bmp: 322.51229942978387, 241.15969367457896\n",
      "B4.bmp: 322.91158869234584, 241.32726070424863\n"
     ]
    }
   ],
   "source": [
    "images = os.listdir()\n",
    "images.sort()\n",
    "\n",
    "predictions = []\n",
    "for image in images:\n",
    "    img, gray = read_img(image)\n",
    "    height, width = get_imgInfo(img)\n",
    "    \n",
    "    dst = cv2.fastNlMeansDenoisingColored(img,None,10,10,7,21)\n",
    "    gray = cv2.cvtColor(dst, cv2.COLOR_BGR2GRAY)\n",
    "\n",
    "    threshed = threshold(gray, height, width , 0.9)\n",
    "    median = median_filter(threshed, 5)\n",
    "    closed = closing(median, 2)\n",
    "    opened = opening(closed, 3)\n",
    "    cx, cy = get_centroid(opened)\n",
    "    predictions.append([cx, cy])\n",
    "    print(\"{}: {}, {}\".format(image ,cx, cy))\n",
    "    "
   ]
  },
  {
   "cell_type": "code",
   "execution_count": 26,
   "metadata": {
    "scrolled": false
   },
   "outputs": [
    {
     "name": "stdout",
     "output_type": "stream",
     "text": [
      "-----------------------------------------------------\n",
      "Statistics: \n",
      "Mean Centroid: (322.78502, 241.39218)\n",
      "Variance     : (0.11306, 0.09061)\n",
      "Max Length   : 1.35819, 1.30102 (pixels)\n"
     ]
    }
   ],
   "source": [
    "show_resoult(predictions)"
   ]
  },
  {
   "cell_type": "code",
   "execution_count": null,
   "metadata": {},
   "outputs": [],
   "source": []
  },
  {
   "cell_type": "markdown",
   "metadata": {},
   "source": [
    "## Show processed steps on Ten_mean images"
   ]
  },
  {
   "cell_type": "code",
   "execution_count": 9,
   "metadata": {},
   "outputs": [
    {
     "name": "stdout",
     "output_type": "stream",
     "text": [
      "axis=1 is invalid for the 0-dimensional input array\n"
     ]
    },
    {
     "data": {
      "image/png": "[encoded data removed]",
      "text/plain": [
       "<Figure size 432x288 with 1 Axes>"
      ]
     },
     "metadata": {
      "needs_background": "light"
     },
     "output_type": "display_data"
    },
    {
     "ename": "NameError",
     "evalue": "name 'edge' is not defined",
     "output_type": "error",
     "traceback": [
      "\u001b[0;31m---------------------------------------------------------------------------\u001b[0m",
      "\u001b[0;31mNameError\u001b[0m                                 Traceback (most recent call last)",
      "\u001b[0;32m<ipython-input-9-dca56abf1921>\u001b[0m in \u001b[0;36m<module>\u001b[0;34m\u001b[0m\n\u001b[1;32m     35\u001b[0m \u001b[0mcv2\u001b[0m\u001b[0;34m.\u001b[0m\u001b[0mimshow\u001b[0m\u001b[0;34m(\u001b[0m\u001b[0;34m\"Closing\"\u001b[0m\u001b[0;34m,\u001b[0m \u001b[0mclosed\u001b[0m\u001b[0;34m)\u001b[0m\u001b[0;34m\u001b[0m\u001b[0;34m\u001b[0m\u001b[0m\n\u001b[1;32m     36\u001b[0m \u001b[0mcv2\u001b[0m\u001b[0;34m.\u001b[0m\u001b[0mimshow\u001b[0m\u001b[0;34m(\u001b[0m\u001b[0;34m\"Median\"\u001b[0m\u001b[0;34m,\u001b[0m \u001b[0mmedian\u001b[0m\u001b[0;34m)\u001b[0m\u001b[0;34m\u001b[0m\u001b[0;34m\u001b[0m\u001b[0m\n\u001b[0;32m---> 37\u001b[0;31m \u001b[0mcv2\u001b[0m\u001b[0;34m.\u001b[0m\u001b[0mimshow\u001b[0m\u001b[0;34m(\u001b[0m\u001b[0;34m\"Edge\"\u001b[0m\u001b[0;34m,\u001b[0m \u001b[0medge\u001b[0m\u001b[0;34m)\u001b[0m\u001b[0;34m\u001b[0m\u001b[0;34m\u001b[0m\u001b[0m\n\u001b[0m\u001b[1;32m     38\u001b[0m \u001b[0mcv2\u001b[0m\u001b[0;34m.\u001b[0m\u001b[0mimshow\u001b[0m\u001b[0;34m(\u001b[0m\u001b[0;34m\"Non Local Means\"\u001b[0m\u001b[0;34m,\u001b[0m \u001b[0mdst\u001b[0m\u001b[0;34m)\u001b[0m\u001b[0;34m\u001b[0m\u001b[0;34m\u001b[0m\u001b[0m\n\u001b[1;32m     39\u001b[0m \u001b[0mcv2\u001b[0m\u001b[0;34m.\u001b[0m\u001b[0mwaitKey\u001b[0m\u001b[0;34m(\u001b[0m\u001b[0;36m0\u001b[0m\u001b[0;34m)\u001b[0m\u001b[0;34m\u001b[0m\u001b[0;34m\u001b[0m\u001b[0m\n",
      "\u001b[0;31mNameError\u001b[0m: name 'edge' is not defined"
     ]
    }
   ],
   "source": [
    "os.chdir(\"/home/mj/HardDisk/ARCS/img/X-Ray/Ten_mean\")\n",
    "try:\n",
    "    # Read image\n",
    "    img, gray = read_img(\"10_mean_0.bmp\")\n",
    "    height, width = get_imgInfo(img)\n",
    "\n",
    "    dst = cv2.fastNlMeansDenoisingColored(img,None,10,10,7,21)\n",
    "    gray = cv2.cvtColor(dst, cv2.COLOR_BGR2GRAY)\n",
    "\n",
    "    threshed = threshold(gray, height, width , 0.9)\n",
    "    median = median_filter(threshed, 25)\n",
    "    closed = closing(median, 2)\n",
    "    opened = opening(closed, 3)\n",
    "    edge = edge_detect(opened, 0, 20)\n",
    "    \n",
    "    circles = detect_circles(median)\n",
    "    draw_circles(img, circles)\n",
    "\n",
    "    cx, cy = get_centroid(closed)\n",
    "    print(\"Centrid: ({}, {})\".format(cx, cy))\n",
    "    \n",
    "except Exception as e:\n",
    "    print(e)\n",
    "\n",
    "\n",
    "plt.hist(gray.ravel(), bins=256, range=[0, 255])\n",
    "plt.show()\n",
    "\n",
    "\n",
    "# Show processed images    \n",
    "cv2.imshow(\"Original\", img)\n",
    "cv2.imshow(\"Gray\", gray)\n",
    "cv2.imshow(\"Thresh\", threshed)\n",
    "cv2.imshow(\"Opening\", opened)\n",
    "cv2.imshow(\"Closing\", closed)\n",
    "cv2.imshow(\"Median\", median)\n",
    "cv2.imshow(\"Edge\", edge)\n",
    "cv2.imshow(\"Non Local Means\", dst)\n",
    "cv2.waitKey(0)\n",
    "cv2.destroyAllWindows()"
   ]
  },
  {
   "cell_type": "code",
   "execution_count": 35,
   "metadata": {},
   "outputs": [
    {
     "name": "stdout",
     "output_type": "stream",
     "text": [
      "10_mean_0.bmp: 322.7445762830864, 241.73235975566945\n",
      "10_mean_1.bmp: 322.7305590584279, 241.60326467703516\n",
      "10_mean_10.bmp: 322.9886928991407, 241.29739414814043\n"
     ]
    },
    {
     "ename": "KeyboardInterrupt",
     "evalue": "",
     "output_type": "error",
     "traceback": [
      "\u001b[0;31m---------------------------------------------------------------------------\u001b[0m",
      "\u001b[0;31mKeyboardInterrupt\u001b[0m                         Traceback (most recent call last)",
      "\u001b[0;32m<ipython-input-35-ba2f29eeb967>\u001b[0m in \u001b[0;36m<module>\u001b[0;34m\u001b[0m\n\u001b[1;32m      7\u001b[0m     \u001b[0mheight\u001b[0m\u001b[0;34m,\u001b[0m \u001b[0mwidth\u001b[0m \u001b[0;34m=\u001b[0m \u001b[0mget_imgInfo\u001b[0m\u001b[0;34m(\u001b[0m\u001b[0mimg\u001b[0m\u001b[0;34m)\u001b[0m\u001b[0;34m\u001b[0m\u001b[0;34m\u001b[0m\u001b[0m\n\u001b[1;32m      8\u001b[0m \u001b[0;34m\u001b[0m\u001b[0m\n\u001b[0;32m----> 9\u001b[0;31m     \u001b[0mdst\u001b[0m \u001b[0;34m=\u001b[0m \u001b[0mcv2\u001b[0m\u001b[0;34m.\u001b[0m\u001b[0mfastNlMeansDenoisingColored\u001b[0m\u001b[0;34m(\u001b[0m\u001b[0mimg\u001b[0m\u001b[0;34m,\u001b[0m\u001b[0;32mNone\u001b[0m\u001b[0;34m,\u001b[0m\u001b[0;36m10\u001b[0m\u001b[0;34m,\u001b[0m\u001b[0;36m10\u001b[0m\u001b[0;34m,\u001b[0m\u001b[0;36m7\u001b[0m\u001b[0;34m,\u001b[0m\u001b[0;36m21\u001b[0m\u001b[0;34m)\u001b[0m\u001b[0;34m\u001b[0m\u001b[0;34m\u001b[0m\u001b[0m\n\u001b[0m\u001b[1;32m     10\u001b[0m     \u001b[0mgray\u001b[0m \u001b[0;34m=\u001b[0m \u001b[0mcv2\u001b[0m\u001b[0;34m.\u001b[0m\u001b[0mcvtColor\u001b[0m\u001b[0;34m(\u001b[0m\u001b[0mdst\u001b[0m\u001b[0;34m,\u001b[0m \u001b[0mcv2\u001b[0m\u001b[0;34m.\u001b[0m\u001b[0mCOLOR_BGR2GRAY\u001b[0m\u001b[0;34m)\u001b[0m\u001b[0;34m\u001b[0m\u001b[0;34m\u001b[0m\u001b[0m\n\u001b[1;32m     11\u001b[0m \u001b[0;34m\u001b[0m\u001b[0m\n",
      "\u001b[0;31mKeyboardInterrupt\u001b[0m: "
     ]
    }
   ],
   "source": [
    "images = os.listdir()\n",
    "images.sort()\n",
    "\n",
    "predictions = []\n",
    "for image in images:\n",
    "    img, gray = read_img(image)\n",
    "    height, width = get_imgInfo(img)\n",
    "    \n",
    "    dst = cv2.fastNlMeansDenoisingColored(img,None,10,10,7,21)\n",
    "    gray = cv2.cvtColor(dst, cv2.COLOR_BGR2GRAY)\n",
    "\n",
    "    threshed = threshold(gray, height, width , 0.9)\n",
    "    median = median_filter(threshed, 3)\n",
    "    closed = closing(median, 2)\n",
    "    opened = opening(closed, 3)\n",
    "    cx, cy = get_centroid(opened)\n",
    "    predictions.append([cx, cy])\n",
    "    print(\"{}: {}, {}\".format(image ,cx, cy))"
   ]
  },
  {
   "cell_type": "code",
   "execution_count": 29,
   "metadata": {},
   "outputs": [
    {
     "name": "stdout",
     "output_type": "stream",
     "text": [
      "-----------------------------------------------------\n",
      "Statistics: \n",
      "Mean Centroid: (322.83033, 241.45899)\n",
      "Variance     : (0.00885, 0.00961)\n",
      "Max Length   : 0.29338, 0.46684 (pixels)\n"
     ]
    }
   ],
   "source": [
    "show_resoult(predictions)"
   ]
  },
  {
   "cell_type": "code",
   "execution_count": null,
   "metadata": {},
   "outputs": [],
   "source": []
  },
  {
   "cell_type": "markdown",
   "metadata": {},
   "source": [
    "## Least square error for detecting circle"
   ]
  },
  {
   "cell_type": "code",
   "execution_count": 18,
   "metadata": {},
   "outputs": [
    {
     "name": "stdout",
     "output_type": "stream",
     "text": [
      "axis=1 is invalid for the 0-dimensional input array\n"
     ]
    }
   ],
   "source": [
    "os.chdir(\"/home/mj/HardDisk/ARCS/img/X-Ray/Ten_mean\")\n",
    "try:\n",
    "    \n",
    "    images = os.listdir()\n",
    "    images.sort()\n",
    "    \n",
    "    predictions = []\n",
    "    for image in images:\n",
    "        img, gray = read_img(image)\n",
    "        height, width = get_imgInfo(img)\n",
    "    \n",
    "        dst = cv2.fastNlMeansDenoisingColored(img,None,10,10,7,21)\n",
    "        blur = cv2.GaussianBlur(gray,(5,5),0)\n",
    "        threshed = threshold(blur, height, width , 0.9)\n",
    "        median = median_filter(threshed, 3)\n",
    "        closed = closing(median, 2)\n",
    "        opened = opening(closed, 3)\n",
    "        edge = edge_detect(median, 0, 20)\n",
    "\n",
    "        data = []\n",
    "        for i in range(height):\n",
    "            for j in range(width):\n",
    "                if median[i,j] == 255:\n",
    "                    data.append((i,j))\n",
    "\n",
    "        cy,cx,r,_ = cf.least_squares_circle((data))\n",
    "        predictions.append([cx, cy])\n",
    "        print(\"{}: {}, {}\".format(image ,cx, cy))\n",
    "\n",
    "        \n",
    "except Exception as e:\n",
    "    print(e)\n"
   ]
  },
  {
   "cell_type": "code",
   "execution_count": 31,
   "metadata": {},
   "outputs": [
    {
     "name": "stdout",
     "output_type": "stream",
     "text": [
      "-----------------------------------------------------\n",
      "Statistics: \n",
      "Mean Centroid: (321.77480, 239.82799)\n",
      "Variance     : (0.00049, 0.00025)\n",
      "Max Length   : 0.09487, 0.06942 (pixels)\n"
     ]
    }
   ],
   "source": [
    "show_resoult(predictions)"
   ]
  },
  {
   "cell_type": "markdown",
   "metadata": {},
   "source": [
    "### Hyper-fit for detecting circle"
   ]
  },
  {
   "cell_type": "code",
   "execution_count": 32,
   "metadata": {},
   "outputs": [
    {
     "name": "stdout",
     "output_type": "stream",
     "text": [
      "10_mean_0.bmp: 321.7831030090136, 239.99497680345428\n",
      "10_mean_1.bmp: 321.7510498672794, 239.972097060286\n",
      "10_mean_10.bmp: 321.7921220675662, 239.95120437269887\n",
      "10_mean_11.bmp: 321.7652193760484, 239.98187359396115\n",
      "10_mean_12.bmp: 321.7346288364726, 239.97494968908444\n",
      "10_mean_13.bmp: 321.71054190081105, 239.9302380382004\n",
      "10_mean_14.bmp: 321.6943676500908, 239.9280594576866\n",
      "10_mean_15.bmp: 321.7217183532155, 239.89842555147237\n",
      "10_mean_16.bmp: 321.7136813423978, 239.88330930665543\n",
      "10_mean_17.bmp: 321.7110477278418, 239.90325851523002\n",
      "10_mean_18.bmp: 321.6938123139896, 239.911706752913\n",
      "10_mean_19.bmp: 321.71998179039423, 239.88448574471454\n",
      "10_mean_2.bmp: 321.7739748044518, 239.9848667494758\n",
      "10_mean_20.bmp: 321.73630377495425, 239.87695075682643\n",
      "10_mean_21.bmp: 321.70839259364794, 239.87863100288354\n",
      "10_mean_22.bmp: 321.72858633533855, 239.86990519736227\n",
      "10_mean_23.bmp: 321.73650042309646, 239.87454426825872\n",
      "10_mean_24.bmp: 321.7895718094367, 239.90647035586707\n",
      "10_mean_25.bmp: 321.7617926900468, 239.90729859894103\n",
      "10_mean_3.bmp: 321.7832050423423, 239.9691735100122\n",
      "10_mean_4.bmp: 321.7818188142496, 239.97257901388704\n",
      "10_mean_5.bmp: 321.77428475262326, 239.97337131121733\n",
      "10_mean_6.bmp: 321.77399590244005, 239.98955503252247\n",
      "10_mean_7.bmp: 321.7760259874152, 239.95313525007674\n",
      "10_mean_8.bmp: 321.78056371628156, 239.98525737203283\n",
      "10_mean_9.bmp: 321.79918294493564, 239.95347746821633\n"
     ]
    }
   ],
   "source": [
    "os.chdir(\"/home/mj/HardDisk/ARCS/img/X-Ray/Ten_mean\")\n",
    "try:\n",
    "    \n",
    "    images = os.listdir()\n",
    "    images.sort()\n",
    "    \n",
    "    predictions = []\n",
    "    for image in images:\n",
    "        img, gray = read_img(image)\n",
    "        height, width = get_imgInfo(img)\n",
    "    \n",
    "        dst = cv2.fastNlMeansDenoisingColored(img,None,10,10,7,21)\n",
    "        gray = cv2.cvtColor(dst, cv2.COLOR_BGR2GRAY)\n",
    "        blur = cv2.GaussianBlur(gray,(5,5),0)\n",
    "        threshed = threshold(blur, height, width , 0.9)\n",
    "        median = median_filter(threshed, 3)\n",
    "#         closed = closing(median, 2)\n",
    "#         opened = opening(closed, 3)\n",
    "#         edge = edge_detect(median, 0, 20)\n",
    "\n",
    "        data = []\n",
    "        for i in range(height):\n",
    "            for j in range(width):\n",
    "                if median[i,j] == 255:\n",
    "                    data.append((i,j))\n",
    "\n",
    "        cy,cx,r,_ = cf.hyper_fit((data))\n",
    "        predictions.append([cx, cy])\n",
    "        print(\"{}: {}, {}\".format(image ,cx, cy))\n",
    "\n",
    "    \n",
    "except Exception as e:\n",
    "    print(e)\n"
   ]
  },
  {
   "cell_type": "code",
   "execution_count": 33,
   "metadata": {},
   "outputs": [
    {
     "name": "stdout",
     "output_type": "stream",
     "text": [
      "-----------------------------------------------------\n",
      "Statistics: \n",
      "Mean Centroid: (321.74983, 239.93499)\n",
      "Variance     : (0.00107, 0.00177)\n",
      "Max Length   : 0.09831, 0.12507 (pixels)\n"
     ]
    }
   ],
   "source": [
    "show_resoult(predictions)"
   ]
  },
  {
   "cell_type": "code",
   "execution_count": null,
   "metadata": {},
   "outputs": [],
   "source": []
  },
  {
   "cell_type": "code",
   "execution_count": null,
   "metadata": {},
   "outputs": [],
   "source": []
  },
  {
   "cell_type": "markdown",
   "metadata": {},
   "source": [
    "## Test"
   ]
  },
  {
   "cell_type": "code",
   "execution_count": null,
   "metadata": {},
   "outputs": [],
   "source": [
    "os.chdir(\"/home/mj/HardDisk/ARCS/img/X-Ray/Ten_mean\")\n",
    "img, gray = read_img(\"10_mean_0.bmp\")\n",
    "blur = cv2.GaussianBlur(gray,(5,5),0)\n",
    "equ = cv2.equalizeHist(gray)\n",
    "\n",
    "_, otsu = cv2.threshold(equ,0,255,cv2.THRESH_BINARY+cv2.THRESH_OTSU)\n",
    "# th3 = cv2.adaptiveThreshold(gray,255,cv2.ADAPTIVE_THRESH_MEAN_C, cv2.THRESH_BINARY,11,2)\n",
    "\n",
    "plt.hist(equ.ravel(), bins=256)\n",
    "plt.show()\n",
    "\n",
    "\n",
    "# Show processed images \n",
    "# cv2.imshow(\"Blur\", blur)\n",
    "cv2.imshow(\"thresh\", th3)\n",
    "cv2.imshow(\"Gray\", gray)\n",
    "# cv2.imshow(\"Otsu\", otsu)\n",
    "cv2.waitKey(0)\n",
    "cv2.destroyAllWindows()"
   ]
  },
  {
   "cell_type": "code",
   "execution_count": null,
   "metadata": {},
   "outputs": [],
   "source": [
    "os.chdir(\"/home/mj/HardDisk/ARCS/img/X-Ray_Pic_20190920/112425\")\n",
    "img, gray = read_img(\"P90754970.bmp\")\n",
    "# blur = cv2.GaussianBlur(gray,(5,5),0)\n",
    "\n",
    "# _, otsu = cv2.threshold(gray,0,255,cv2.THRESH_BINARY+cv2.THRESH_OTSU)\n",
    "\n",
    "plt.hist(gray.ravel(), bins=256)\n",
    "plt.show()\n",
    "\n",
    "\n",
    "# Show processed images \n",
    "cv2.imshow(\"Gray\", gray)\n",
    "cv2.waitKey(0)\n",
    "cv2.destroyAllWindows()"
   ]
  },
  {
   "cell_type": "code",
   "execution_count": null,
   "metadata": {},
   "outputs": [],
   "source": []
  },
  {
   "cell_type": "code",
   "execution_count": null,
   "metadata": {},
   "outputs": [],
   "source": []
  }
 ],
 "metadata": {
  "kernelspec": {
   "display_name": "Python 3",
   "language": "python",
   "name": "python3"
  },
  "language_info": {
   "codemirror_mode": {
    "name": "ipython",
    "version": 3
   },
   "file_extension": ".py",
   "mimetype": "text/x-python",
   "name": "python",
   "nbconvert_exporter": "python",
   "pygments_lexer": "ipython3",
   "version": "3.6.9"
  }
 },
 "nbformat": 4,
 "nbformat_minor": 2
}
