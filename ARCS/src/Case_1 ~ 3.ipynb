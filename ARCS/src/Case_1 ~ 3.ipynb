{
 "cells": [
  {
   "cell_type": "code",
   "execution_count": 1,
   "metadata": {},
   "outputs": [],
   "source": [
    "from matplotlib import pyplot as plt\n",
    "import circle_fit as cf\n",
    "import numpy as np\n",
    "import time\n",
    "import math\n",
    "import random\n",
    "import cv2\n",
    "import os\n",
    "%run functions.ipynb"
   ]
  },
  {
   "cell_type": "code",
   "execution_count": null,
   "metadata": {},
   "outputs": [],
   "source": []
  },
  {
   "cell_type": "markdown",
   "metadata": {},
   "source": [
    "## Functions"
   ]
  },
  {
   "cell_type": "markdown",
   "metadata": {},
   "source": [
    "### Circle-fixer  有問題"
   ]
  },
  {
   "cell_type": "code",
   "execution_count": 3,
   "metadata": {},
   "outputs": [],
   "source": [
    "## Assume the target circle is the largest object\n",
    "\n",
    "def getTarget(img):\n",
    "    contours, hierarchy = cv2.findContours(img,cv2.RETR_TREE,cv2.CHAIN_APPROX_SIMPLE)  \n",
    "    list_len = [len(i) for i in contours]\n",
    "        \n",
    "    max_len = 0\n",
    "    index = 0\n",
    "    for i,l in enumerate(list_len):\n",
    "        if l > max_len:\n",
    "            max_len = l\n",
    "            index = i\n",
    "            \n",
    "    target = contours[index]\n",
    "    target = np.asarray(target).reshape(max_len, 2)\n",
    "\n",
    "    return target\n",
    "\n",
    "# os.chdir(\"/home/mj/HardDisk/ARCS/img/X-Ray/Case_1/Cut\")\n",
    "# img, gray = read_img(\"10_mean_0.bmp\")\n",
    "# height, width = get_imgInfo(img)\n",
    "# threshed = removeBorder(gray, height, width)\n",
    "\n",
    "# target = getTarget(threshed)\n",
    "\n",
    "# print(target)"
   ]
  },
  {
   "cell_type": "code",
   "execution_count": null,
   "metadata": {},
   "outputs": [],
   "source": []
  },
  {
   "cell_type": "code",
   "execution_count": null,
   "metadata": {},
   "outputs": [],
   "source": [
    "img, gray = read_img(\"10_mean_0.bmp\")\n",
    "height, width = get_imgInfo(img)\n",
    "thr = removeBorder(gray, height, width)\n",
    "\n",
    "_, threshed = cv2.threshold(gray, thr,255,cv2.THRESH_BINARY_INV)\n",
    "\n",
    "target = getTarget(threshed)\n",
    "print(target)\n",
    "\n",
    "cv2.imshow(\"Thresh\", threshed)\n",
    "cv2.waitKey(0)\n",
    "cv2.destroyAllWindows()"
   ]
  },
  {
   "cell_type": "code",
   "execution_count": null,
   "metadata": {},
   "outputs": [],
   "source": []
  },
  {
   "cell_type": "code",
   "execution_count": null,
   "metadata": {},
   "outputs": [],
   "source": []
  },
  {
   "cell_type": "markdown",
   "metadata": {},
   "source": [
    "## Test"
   ]
  },
  {
   "cell_type": "code",
   "execution_count": 8,
   "metadata": {
    "scrolled": true
   },
   "outputs": [],
   "source": [
    "os.chdir(\"/home/mj/HardDisk/ARCS/img/X-Ray/Case_1/Cut\")\n",
    "# Read image\n",
    "img, gray = read_img(\"10_mean_30.bmp\")\n",
    "height, width = get_imgInfo(img)\n",
    "\n",
    "\n",
    "# Image processing\n",
    "blur = cv2.GaussianBlur(img,(5,5),0)\n",
    "dst = cv2.fastNlMeansDenoisingColored(blur,None,10,10,7,21)\n",
    "\n",
    "gray2 = cv2.cvtColor(dst, cv2.COLOR_BGR2GRAY)\n",
    "_, threshed = cv2.threshold(gray2,0 ,255,cv2.THRESH_BINARY_INV+cv2.THRESH_OTSU)\n",
    "# threshed = threshold_moment_preserving(img, gray)\n",
    "# threshed = removeBorder(gray2, height, width)\n",
    "\n",
    "\n",
    "\n",
    "# Options\n",
    "\n",
    "# opened = opening(threshed, 5)\n",
    "median = median_filter(threshed, 25)\n",
    "closed = closing(median, 3)\n",
    "opened = opening(closed, 3)\n",
    "# edge = edge_detect(median, 0, 20)\n",
    "\n",
    "# get all target points\n",
    "target_points = []\n",
    "# for i in range(height):\n",
    "#     for j in range(width):\n",
    "#         if median[i,j] == 255:\n",
    "#             target_points.append((i,j))\n",
    "            \n",
    "\n",
    "    \n",
    "# Show processed images    \n",
    "# cv2.imshow(\"Original\", img)\n",
    "cv2.imshow(\"Gray\", gray)\n",
    "cv2.imshow(\"Blur\", blur)\n",
    "cv2.imshow(\"Non Local Means\", dst)\n",
    "cv2.imshow(\"Thresh\", threshed)\n",
    "# cv2.imshow(\"Median\", median)\n",
    "# cv2.imshow(\"Opening\", opened)\n",
    "# cv2.imshow(\"Closing\", closed)\n",
    "# cv2.imshow(\"Edge\", edge)\n",
    "cv2.waitKey(0)\n",
    "cv2.destroyAllWindows()"
   ]
  },
  {
   "cell_type": "code",
   "execution_count": null,
   "metadata": {},
   "outputs": [],
   "source": []
  },
  {
   "cell_type": "code",
   "execution_count": 2,
   "metadata": {
    "scrolled": true
   },
   "outputs": [
    {
     "name": "stdout",
     "output_type": "stream",
     "text": [
      "10_mean_0.bmp: 203.6999621846368, 101.38666416138169\n",
      "10_mean_1.bmp: 203.76015052166616, 101.34632607519836\n",
      "10_mean_10.bmp: 203.78301893904992, 101.18916311367839\n",
      "10_mean_11.bmp: 203.71279305935172, 101.24548376680295\n",
      "10_mean_12.bmp: 203.68562505311286, 101.29497782334985\n",
      "10_mean_13.bmp: 203.66317614398915, 101.19906853225349\n",
      "10_mean_14.bmp: 203.62425401982836, 101.32625433628326\n",
      "10_mean_15.bmp: 203.6518516425649, 101.31625804587318\n",
      "10_mean_16.bmp: 203.66637172013907, 101.25730018830745\n",
      "10_mean_17.bmp: 203.74631661851342, 101.34594967173925\n",
      "10_mean_18.bmp: 203.57385226801028, 101.14901733107364\n",
      "10_mean_19.bmp: 203.6723224759974, 101.25752120309097\n",
      "10_mean_2.bmp: 203.54651251264215, 101.09578412747457\n",
      "10_mean_20.bmp: 203.58112719074475, 101.21319936173288\n",
      "10_mean_21.bmp: 203.66593608512184, 101.3213778150171\n",
      "10_mean_22.bmp: 203.60352494426678, 101.25999562418346\n",
      "10_mean_23.bmp: 203.74800085351117, 101.24787918939664\n",
      "10_mean_24.bmp: 203.87588397395604, 101.18871986545622\n",
      "10_mean_25.bmp: 203.8861241600808, 101.3266254160781\n",
      "10_mean_26.bmp: 203.88530102934348, 101.26065012290812\n",
      "10_mean_27.bmp: 203.72291711443864, 101.1632251469534\n",
      "10_mean_28.bmp: 203.78161412786525, 101.3686812951152\n",
      "10_mean_29.bmp: 203.7010290263853, 101.29382071039025\n",
      "10_mean_3.bmp: 203.80918172426578, 101.17058596175153\n",
      "10_mean_30.bmp: 203.7241689767291, 101.13730329747459\n",
      "10_mean_31.bmp: 203.73914362198153, 101.18122560969884\n",
      "10_mean_32.bmp: 203.65543328139262, 101.07315654349559\n",
      "10_mean_33.bmp: 203.6659838733442, 101.27126060143443\n",
      "10_mean_34.bmp: 203.55997856341878, 101.37137104900104\n",
      "10_mean_35.bmp: 203.78559571439308, 101.33980856580453\n",
      "10_mean_36.bmp: 203.68147556111828, 101.2882109358751\n",
      "10_mean_37.bmp: 203.78816940206755, 101.2135536735811\n",
      "10_mean_38.bmp: 203.77576289527306, 101.39010563464309\n",
      "10_mean_39.bmp: 203.65108123092597, 101.31556086379624\n",
      "10_mean_4.bmp: 203.72661287118618, 101.12736174253168\n",
      "10_mean_40.bmp: 203.66498718610342, 101.39396498392344\n",
      "10_mean_41.bmp: 203.66083910188783, 101.12568605422913\n",
      "10_mean_42.bmp: 203.63714055864142, 101.06784599960709\n",
      "10_mean_43.bmp: 203.67944490755644, 101.13045475493239\n",
      "10_mean_44.bmp: 203.8198091051035, 101.41919017937758\n",
      "10_mean_45.bmp: 203.69610601889036, 101.31214872678942\n",
      "10_mean_46.bmp: 203.81287513341212, 101.12598442782956\n",
      "10_mean_47.bmp: 203.68530155637126, 101.16173370331931\n",
      "10_mean_48.bmp: 203.78745955969143, 100.96508362604389\n",
      "10_mean_49.bmp: 203.69253268780267, 101.11702030714281\n",
      "10_mean_5.bmp: 203.7096819505854, 101.17997595474044\n",
      "10_mean_50.bmp: 203.67039518639245, 101.08923318927134\n",
      "10_mean_51.bmp: 203.70937910171483, 101.30234392103287\n",
      "10_mean_52.bmp: 203.6285477042923, 101.27314568000304\n",
      "10_mean_53.bmp: 203.47333483000745, 101.31188343810214\n",
      "10_mean_54.bmp: 203.72656820397657, 101.41635180080698\n",
      "10_mean_55.bmp: 203.73004293432044, 101.40927669490455\n",
      "10_mean_56.bmp: 203.7360188586446, 101.41651226667668\n",
      "10_mean_57.bmp: 203.8265931120216, 101.18257524744233\n",
      "10_mean_58.bmp: 203.81102274249398, 101.00854284126909\n",
      "10_mean_59.bmp: 203.7566259589587, 101.14062540356342\n",
      "10_mean_6.bmp: 203.63998874870265, 101.42345786736709\n",
      "10_mean_60.bmp: 203.64932324076975, 101.35473946668358\n",
      "10_mean_61.bmp: 203.7240966434905, 101.26213366368879\n",
      "10_mean_62.bmp: 203.73079340382967, 101.33963543884451\n",
      "10_mean_63.bmp: 203.9314986313028, 101.48888441035838\n",
      "10_mean_64.bmp: 203.5973101445157, 101.29711354861752\n",
      "10_mean_65.bmp: 203.68249331067446, 101.25301736681106\n",
      "10_mean_66.bmp: 203.6530161502496, 101.25733485208247\n",
      "10_mean_67.bmp: 203.80923034760224, 101.40521221995648\n",
      "10_mean_68.bmp: 203.76445627010312, 101.31758713602737\n",
      "10_mean_69.bmp: 203.7384166519957, 101.34343687869521\n",
      "10_mean_7.bmp: 203.7559818939195, 101.40199174747825\n",
      "10_mean_70.bmp: 203.72119008949994, 101.28432235224102\n",
      "10_mean_71.bmp: 203.6630063507169, 101.28608423582946\n",
      "10_mean_72.bmp: 203.82450735128478, 101.41990845733082\n",
      "10_mean_73.bmp: 203.64722650315468, 101.09755638067838\n",
      "10_mean_74.bmp: 203.6399202060075, 101.4027906228211\n",
      "10_mean_75.bmp: 203.66971927678958, 101.18766201886598\n",
      "10_mean_76.bmp: 203.6557599892899, 101.39536483856143\n",
      "10_mean_77.bmp: 203.6474439706396, 101.17507663079118\n",
      "10_mean_78.bmp: 203.74927245530105, 101.34929515968884\n",
      "10_mean_79.bmp: 203.84037667141473, 101.23861148313154\n",
      "10_mean_8.bmp: 203.69303404174283, 101.25817916260822\n",
      "10_mean_80.bmp: 203.64419605536136, 101.50134310427823\n",
      "10_mean_81.bmp: 203.722678092861, 101.19593689601551\n",
      "10_mean_82.bmp: 203.59410534123865, 101.23983949966694\n",
      "10_mean_83.bmp: 203.80134730123413, 101.37791810799958\n",
      "10_mean_84.bmp: 203.61998479863533, 101.41377465850016\n",
      "10_mean_85.bmp: 203.87523564646267, 101.41956579037898\n",
      "10_mean_86.bmp: 203.73104223942406, 101.05139772219252\n",
      "10_mean_87.bmp: 203.9148534702371, 101.12782276336212\n",
      "10_mean_88.bmp: 203.90039896509836, 101.34508345230486\n",
      "10_mean_89.bmp: 203.9072094340408, 101.41828870769734\n",
      "10_mean_9.bmp: 203.76314323980714, 101.1719950839374\n",
      "10_mean_90.bmp: 203.65939380302729, 101.35332865445335\n",
      "10_mean_91.bmp: 203.96599826626664, 101.42838542886612\n",
      "10_mean_92.bmp: 203.91098930981013, 101.314976620783\n",
      "10_mean_93.bmp: 203.7485430905615, 101.27805708233238\n",
      "10_mean_94.bmp: 203.7492165678441, 101.32883244717743\n",
      "10_mean_95.bmp: 203.7472668770295, 101.4026577378033\n",
      "10_mean_96.bmp: 203.62883755329244, 101.29118811067436\n",
      "10_mean_97.bmp: 203.87370357806495, 101.06557750962195\n",
      "10_mean_98.bmp: 203.65838977111184, 101.3046528651546\n",
      "10_mean_99.bmp: 203.74708400233004, 101.27096844648752\n"
     ]
    }
   ],
   "source": [
    "os.chdir(\"/home/mj/HardDisk/ARCS/img/X-Ray/Case_1/Cut\")\n",
    "try:\n",
    "    \n",
    "    images = os.listdir()\n",
    "    images.sort()\n",
    "    \n",
    "    predictions = []\n",
    "    for image in images:\n",
    "        img, gray = read_img(image)\n",
    "        height, width = get_imgInfo(img)\n",
    "        \n",
    "        kernel = np.array([[-1,-1,-1], [-1,9,-1], [-1,-1,-1]])\n",
    "        sharpened = cv2.filter2D(img, -1, 1)\n",
    "        \n",
    "        blur = cv2.GaussianBlur(sharpened,(5,5),0)\n",
    "        dst = cv2.fastNlMeansDenoisingColored(blur,None,5,5,5,15)\n",
    "        gray2 = cv2.cvtColor(dst, cv2.COLOR_BGR2GRAY)\n",
    "        _, threshed = cv2.threshold(gray2,0,255,cv2.THRESH_BINARY_INV+cv2.THRESH_OTSU)\n",
    "#         threshed = removeBorder(gray2, height, width)\n",
    "        median = median_filter(threshed, 25)\n",
    "#         closed = closing(median, 2)\n",
    "#         opened = opening(closed, 3)\n",
    "        edge = edge_detect(median, 0, 20)\n",
    "\n",
    "        # get all target points\n",
    "        target_points = []\n",
    "        for i in range(height):\n",
    "            for j in range(width):\n",
    "                if median[i,j] == 255:\n",
    "                    target_points.append((i,j))\n",
    "                    \n",
    "#         # get edge points\n",
    "#         edge_points = []\n",
    "#         for i in range(height):\n",
    "#             for j in range(width):\n",
    "#                 if edge[i,j] == 255:\n",
    "#                     edge_points.append((i,j))\n",
    "        \n",
    "#         target = getTarget(median)\n",
    "#         target_points = []\n",
    "#         for p in target:\n",
    "#             target_points.append((p[1],p[0]))\n",
    "\n",
    "\n",
    "        \n",
    "        \n",
    "        # Count center\n",
    "        cy,cx,r,_ = cf.least_squares_circle((target_points))\n",
    "        predictions.append([cx, cy])\n",
    "        print(\"{}: {}, {}\".format(image ,cx, cy))\n",
    "\n",
    "    \n",
    "except Exception as e:\n",
    "    print(e)"
   ]
  },
  {
   "cell_type": "code",
   "execution_count": 3,
   "metadata": {
    "scrolled": true
   },
   "outputs": [
    {
     "name": "stdout",
     "output_type": "stream",
     "text": [
      "-----------------------------------------------------\n",
      "Statistics: \n",
      "Mean Centroid: (203.72307, 101.27024)\n",
      "Variance     : (0.00846, 0.01280)\n",
      "Max Length   : 0.41279, 0.45411 (pixels)\n"
     ]
    }
   ],
   "source": [
    "show_resoult(predictions)"
   ]
  },
  {
   "cell_type": "code",
   "execution_count": null,
   "metadata": {},
   "outputs": [],
   "source": []
  },
  {
   "cell_type": "code",
   "execution_count": null,
   "metadata": {},
   "outputs": [],
   "source": []
  },
  {
   "cell_type": "code",
   "execution_count": null,
   "metadata": {},
   "outputs": [],
   "source": []
  },
  {
   "cell_type": "code",
   "execution_count": 7,
   "metadata": {},
   "outputs": [],
   "source": [
    "def swift_algo(gray, Lambda=3, Gamma=2):\n",
    "    ## Step 1: Image normalization\n",
    "    norm = gray/255\n",
    "    \n",
    "    ## Step 2: Comupte u series from normalized image\n",
    "    u = np.log(1+norm)\n",
    "    u_avg = np.mean(u)\n",
    "    u_std = np.std(u)\n",
    "    \n",
    "    ## Step 3: Compute ...\n",
    "    v = np.power(u, Lambda)/Lambda\n",
    "    f = np.power( np.exp( (np.tan(u)-u_std) / (np.exp(u)-v)), Gamma)\n",
    "    \n",
    "    ## Step 4: Redefine distrubution\n",
    "    t = (f-np.min(f)) / (np.max(f)-np.min(f))\n",
    "    final = (t*255).astype('uint8')\n",
    "    \n",
    "    return final"
   ]
  },
  {
   "cell_type": "markdown",
   "metadata": {},
   "source": [
    "## Case1_1"
   ]
  },
  {
   "cell_type": "code",
   "execution_count": 4,
   "metadata": {},
   "outputs": [
    {
     "data": {
      "image/png": "[encoded data removed]",
      "text/plain": [
       "<Figure size 432x288 with 1 Axes>"
      ]
     },
     "metadata": {
      "needs_background": "light"
     },
     "output_type": "display_data"
    },
    {
     "data": {
      "image/png": "[encoded data removed]",
      "text/plain": [
       "<Figure size 432x288 with 1 Axes>"
      ]
     },
     "metadata": {
      "needs_background": "light"
     },
     "output_type": "display_data"
    },
    {
     "data": {
      "image/png": "[encoded data removed]",
      "text/plain": [
       "<Figure size 432x288 with 1 Axes>"
      ]
     },
     "metadata": {
      "needs_background": "light"
     },
     "output_type": "display_data"
    }
   ],
   "source": [
    "os.chdir(\"/home/mj/HardDisk/ARCS/img/X-Ray/Case_1/Cut\")\n",
    "## Read image\n",
    "img, gray = read_img(\"10_mean_90.bmp\")\n",
    "height, width = get_imgInfo(img)\n",
    "plt.hist(gray.ravel(), bins=256, range=[0, 255])\n",
    "plt.show()\n",
    "\n",
    "## Image processing\n",
    "blur = cv2.GaussianBlur(gray,(5,5),0)\n",
    "plt.hist(blur.ravel(), bins=256, range=[0, 255])\n",
    "plt.show()\n",
    "\n",
    "dst = cv2.fastNlMeansDenoising(blur,None,5,3,9)\n",
    "plt.hist(dst.ravel(), bins=256, range=[0, 255])\n",
    "plt.show()\n",
    "\n",
    "_, threshed = cv2.threshold(dst,0,255,cv2.THRESH_BINARY_INV+cv2.THRESH_OTSU)\n",
    "\n",
    "\n",
    "\n",
    "## Options\n",
    "# opened = opening(threshed, 5)\n",
    "median = median_filter(threshed, 25)\n",
    "# closed = closing(median, 3)\n",
    "# opened = opening(closed, 3)\n",
    "# edge = edge_detect(median, 0, 20)\n",
    "            \n",
    "\n",
    "## Show processed images    \n",
    "# cv2.imshow(\"Original\", img)\n",
    "cv2.imshow(\"Gray\", gray)\n",
    "cv2.imshow(\"Blur\", blur)\n",
    "# cv2.imshow(\"Non Local Means\", dst)\n",
    "cv2.imshow(\"Thresh\", threshed)\n",
    "cv2.imshow(\"Median\", median)\n",
    "# cv2.imshow(\"Opening\", opened)\n",
    "# cv2.imshow(\"Closing\", closed)\n",
    "# cv2.imshow(\"Edge\", edge)\n",
    "cv2.waitKey(0)\n",
    "cv2.destroyAllWindows()"
   ]
  },
  {
   "cell_type": "code",
   "execution_count": null,
   "metadata": {},
   "outputs": [],
   "source": []
  },
  {
   "cell_type": "code",
   "execution_count": 13,
   "metadata": {
    "scrolled": true
   },
   "outputs": [
    {
     "name": "stdout",
     "output_type": "stream",
     "text": [
      "10_mean_0.bmp: 203.544970639306, 99.17125426648212\n",
      "10_mean_1.bmp: 203.59793552834677, 99.17914707160605\n",
      "10_mean_10.bmp: 203.6299796944454, 98.99459254483605\n",
      "10_mean_11.bmp: 203.6007614669837, 99.10678428180002\n",
      "10_mean_12.bmp: 203.46309113368977, 99.12768020779643\n",
      "10_mean_13.bmp: 203.5457162783877, 99.0994985025225\n",
      "10_mean_14.bmp: 203.49572633239922, 99.1756977033241\n",
      "10_mean_15.bmp: 203.4753184236301, 99.07287627707551\n",
      "10_mean_16.bmp: 203.48611021891216, 99.18230523120774\n",
      "10_mean_17.bmp: 203.53978020915386, 99.14528485980075\n",
      "10_mean_18.bmp: 203.4819394017604, 99.02168840307075\n",
      "10_mean_19.bmp: 203.52589680073473, 99.07902262073414\n",
      "10_mean_2.bmp: 203.38783320414365, 98.96349405176504\n",
      "10_mean_20.bmp: 203.36435952946854, 99.0011484891006\n",
      "10_mean_21.bmp: 203.5151154534553, 99.09920350447157\n",
      "10_mean_22.bmp: 203.46558579502667, 99.04496350926297\n",
      "10_mean_23.bmp: 203.5118658052311, 99.0996471105475\n",
      "10_mean_24.bmp: 203.67472221823772, 99.07769920638255\n",
      "10_mean_25.bmp: 203.6695680251425, 99.16821629426778\n",
      "10_mean_26.bmp: 197.37304013940937, 99.6806810560536\n",
      "10_mean_27.bmp: 203.58547496153295, 99.02937661512483\n",
      "10_mean_28.bmp: 203.53141556803533, 99.22246940733311\n",
      "10_mean_29.bmp: 203.60712110050292, 99.0664096708117\n",
      "10_mean_3.bmp: 203.62356065549255, 99.0836864736871\n",
      "10_mean_30.bmp: 203.43275803182866, 98.94787331861082\n",
      "10_mean_31.bmp: 203.6125856839949, 99.01482921143094\n",
      "10_mean_32.bmp: 203.45003119624312, 98.93155959717444\n",
      "10_mean_33.bmp: 203.47639053317297, 99.08998096938832\n",
      "10_mean_34.bmp: 203.45193642772162, 99.16320326333525\n",
      "10_mean_35.bmp: 203.59676796296085, 99.16087334407769\n",
      "10_mean_36.bmp: 199.60968191866, 100.94302676801604\n",
      "10_mean_37.bmp: 203.65293570059575, 99.04568814835591\n",
      "10_mean_38.bmp: 203.60458947181644, 99.22372485086892\n",
      "10_mean_39.bmp: 203.481735092346, 99.16682996706133\n",
      "10_mean_4.bmp: 203.60770831326042, 98.95554546599995\n",
      "10_mean_40.bmp: 203.47201141969094, 99.23632630990811\n",
      "10_mean_41.bmp: 203.51814490496156, 98.90391469331642\n",
      "10_mean_42.bmp: 203.5218129687309, 98.89943022230237\n",
      "10_mean_43.bmp: 203.45566020881688, 99.03064287936772\n",
      "10_mean_44.bmp: 203.62094605984203, 99.18526431729381\n",
      "10_mean_45.bmp: 203.53309563245955, 99.17715869108645\n",
      "10_mean_46.bmp: 203.53743396078016, 98.96505125857595\n",
      "10_mean_47.bmp: 203.52080913576165, 99.01455270821947\n",
      "10_mean_48.bmp: 203.7041409629349, 98.8556174403014\n",
      "10_mean_49.bmp: 203.55572884020327, 99.04710585830254\n",
      "10_mean_5.bmp: 201.63437580652982, 98.32625576375241\n",
      "10_mean_50.bmp: 203.52640305980682, 99.11560941895947\n",
      "10_mean_51.bmp: 203.54309011224348, 99.15709396764339\n",
      "10_mean_52.bmp: 203.39892717770138, 99.10597945839145\n",
      "10_mean_53.bmp: 203.3045526769233, 99.08844930947052\n",
      "10_mean_54.bmp: 203.56574291285978, 99.27722306834326\n",
      "10_mean_55.bmp: 203.6183668928677, 99.28427360294495\n",
      "10_mean_56.bmp: 203.50530323320376, 99.30107803356736\n",
      "10_mean_57.bmp: 203.64990982140262, 99.09354086535288\n",
      "10_mean_58.bmp: 203.62842673548434, 98.88584317344007\n",
      "10_mean_59.bmp: 203.65803185604707, 99.02487199554622\n",
      "10_mean_6.bmp: 203.45333495369823, 99.20975936387764\n",
      "10_mean_60.bmp: 203.4909778093486, 99.20466644783629\n",
      "10_mean_61.bmp: 203.6275151305427, 99.04648207638185\n",
      "10_mean_62.bmp: 203.54410255511456, 99.18579408075024\n",
      "10_mean_63.bmp: 203.72508934513093, 99.27429465242123\n",
      "10_mean_64.bmp: 203.5023969691089, 99.10941546786374\n",
      "10_mean_65.bmp: 203.55915790217867, 99.08245000990753\n",
      "10_mean_66.bmp: 203.528986750409, 99.0532249699636\n",
      "10_mean_67.bmp: 203.65926904275372, 99.24089971113885\n",
      "10_mean_68.bmp: 203.5699159928237, 99.20774414702706\n",
      "10_mean_69.bmp: 203.53569192756115, 99.13526525609872\n",
      "10_mean_7.bmp: 202.88300039247264, 99.60530911011885\n",
      "10_mean_70.bmp: 203.53106860979884, 99.08356931263853\n",
      "10_mean_71.bmp: 203.5446044547993, 99.06286734815339\n",
      "10_mean_72.bmp: 197.61926680369112, 98.72447525192553\n",
      "10_mean_73.bmp: 203.50261796408188, 98.902835367284\n",
      "10_mean_74.bmp: 203.51656061095088, 99.06801491464262\n",
      "10_mean_75.bmp: 203.5180321988522, 99.07464694171743\n",
      "10_mean_76.bmp: 191.04186420187492, 99.33478507898275\n",
      "10_mean_77.bmp: 203.44887500377044, 99.03862611333298\n",
      "10_mean_78.bmp: 203.5952710812477, 99.2037011321745\n",
      "10_mean_79.bmp: 203.61699414832765, 99.08613239172408\n",
      "10_mean_8.bmp: 200.3495225051828, 100.86519271131914\n",
      "10_mean_80.bmp: 196.53539064546845, 102.43702064783326\n",
      "10_mean_81.bmp: 203.59886779378894, 99.04133534480329\n",
      "10_mean_82.bmp: 203.4220840354616, 99.07653313529323\n",
      "10_mean_83.bmp: 203.677917636337, 99.20827074314516\n",
      "10_mean_84.bmp: 203.38611801380262, 99.18468663219629\n",
      "10_mean_85.bmp: 203.55972496605543, 99.20689759496608\n",
      "10_mean_86.bmp: 203.52056185158244, 98.92883929762613\n",
      "10_mean_87.bmp: 188.47686620485285, 105.60240252780561\n",
      "10_mean_88.bmp: 203.71602972228237, 99.16601977328543\n",
      "10_mean_89.bmp: 203.6760903522697, 99.23919827652996\n",
      "10_mean_9.bmp: 203.5864393875279, 99.06197858901123\n",
      "10_mean_90.bmp: 203.54945720568264, 99.18240431740746\n",
      "10_mean_91.bmp: 203.74790578162586, 99.25186572054878\n",
      "10_mean_92.bmp: 203.62978906656866, 99.09548407846978\n",
      "10_mean_93.bmp: 203.56423547250105, 99.1104434006908\n",
      "10_mean_94.bmp: 203.56255686423046, 99.09394981084763\n",
      "10_mean_95.bmp: 203.5923888332229, 99.12516199658047\n",
      "10_mean_96.bmp: 200.39042145962517, 98.13852975184777\n",
      "10_mean_97.bmp: 203.66726700552465, 98.86687175584444\n",
      "10_mean_98.bmp: 203.4909982738946, 99.16670145437386\n",
      "10_mean_99.bmp: 203.57229422160006, 99.11426233881464\n"
     ]
    }
   ],
   "source": [
    "os.chdir(\"/home/mj/HardDisk/ARCS/img/X-Ray/Case_1/Cut\")\n",
    "try:\n",
    "    \n",
    "    images = os.listdir()\n",
    "    images.sort()\n",
    "    \n",
    "    predictions = []\n",
    "    for image in images:\n",
    "        img, gray = read_img(image)\n",
    "        height, width = get_imgInfo(img)\n",
    "        \n",
    "        blur = cv2.GaussianBlur(gray,(5,5),0)\n",
    "        cEn = swift_algo(blur, Lambda=3, Gamma=2)\n",
    "        dst = cv2.fastNlMeansDenoising(blur,None,5,3,9)\n",
    "        _, threshed = cv2.threshold(dst,0,255,cv2.THRESH_BINARY_INV+cv2.THRESH_OTSU)\n",
    "        median = median_filter(threshed, 25)\n",
    "        edge = edge_detect(median, 0, 20)\n",
    "\n",
    "        # get all target points\n",
    "#         target_points = []\n",
    "#         for i in range(height):\n",
    "#             for j in range(width):\n",
    "#                 if median[i,j] == 255:\n",
    "#                     target_points.append((i,j))\n",
    "                    \n",
    "        # get edge points\n",
    "        edge_points = []\n",
    "        for i in range(height):\n",
    "            for j in range(width):\n",
    "                if edge[i,j] == 255:\n",
    "                    edge_points.append((i,j))\n",
    "        \n",
    "\n",
    "\n",
    "        # Count center\n",
    "        cy,cx,r,_ = cf.least_squares_circle((edge_points))\n",
    "        predictions.append([cx, cy])\n",
    "        print(\"{}: {}, {}\".format(image ,cx, cy))\n",
    "\n",
    "    \n",
    "except Exception as e:\n",
    "    print(e)"
   ]
  },
  {
   "cell_type": "code",
   "execution_count": 14,
   "metadata": {},
   "outputs": [
    {
     "name": "stdout",
     "output_type": "stream",
     "text": [
      "-----------------------------------------------------\n",
      "Statistics: \n",
      "Mean Centroid: (202.95434, 99.22610)\n",
      "Variance     : (5.11211, 0.61563)\n",
      "Max Length   : 15.24822, 7.46387 (pixels)\n"
     ]
    }
   ],
   "source": [
    "show_resoult(predictions)"
   ]
  },
  {
   "cell_type": "code",
   "execution_count": null,
   "metadata": {},
   "outputs": [],
   "source": []
  },
  {
   "cell_type": "markdown",
   "metadata": {},
   "source": [
    "## Case2_1"
   ]
  },
  {
   "cell_type": "code",
   "execution_count": 16,
   "metadata": {},
   "outputs": [
    {
     "data": {
      "image/png": "[encoded data removed]",
      "text/plain": [
       "<Figure size 432x288 with 1 Axes>"
      ]
     },
     "metadata": {
      "needs_background": "light"
     },
     "output_type": "display_data"
    },
    {
     "data": {
      "image/png": "[encoded data removed]",
      "text/plain": [
       "<Figure size 432x288 with 1 Axes>"
      ]
     },
     "metadata": {
      "needs_background": "light"
     },
     "output_type": "display_data"
    },
    {
     "data": {
      "image/png": "[encoded data removed]",
      "text/plain": [
       "<Figure size 432x288 with 1 Axes>"
      ]
     },
     "metadata": {
      "needs_background": "light"
     },
     "output_type": "display_data"
    },
    {
     "data": {
      "text/plain": [
       "True"
      ]
     },
     "execution_count": 16,
     "metadata": {},
     "output_type": "execute_result"
    }
   ],
   "source": [
    "os.chdir(\"/home/mj/HardDisk/ARCS/img/X-Ray/Case_2/Cut\")\n",
    "## Read image\n",
    "img, gray = read_img(\"10_mean_90.bmp\")\n",
    "height, width = get_imgInfo(img)\n",
    "plt.hist(gray.ravel(), bins=256, range=[0, 255])\n",
    "plt.show()\n",
    "\n",
    "## Image processing\n",
    "blur = cv2.GaussianBlur(gray,(5,5),0)\n",
    "plt.hist(blur.ravel(), bins=256, range=[0, 255])\n",
    "plt.show()\n",
    "\n",
    "dst = cv2.fastNlMeansDenoising(blur,None,5,3,9)\n",
    "plt.hist(dst.ravel(), bins=256, range=[0, 255])\n",
    "plt.show()\n",
    "\n",
    "_, threshed = cv2.threshold(dst,0,255,cv2.THRESH_BINARY_INV+cv2.THRESH_OTSU)\n",
    "# threshed = threshold_moment_preserving(img, gray)\n",
    "# threshed = removeBorder(gray2, height, width)\n",
    "\n",
    "\n",
    "\n",
    "## Options\n",
    "# opened = opening(threshed, 5)\n",
    "median = median_filter(threshed, 25)\n",
    "closed = closing(median, 3)\n",
    "opened = opening(closed, 3)\n",
    "# edge = edge_detect(median, 0, 20)\n",
    "            \n",
    "fileName = \"/home/mj/Pictures/Histogram/Case2-1/{}.bmp\".format(90)\n",
    "cv2.imwrite(fileName, threshed)    \n",
    "    \n",
    "## Show processed images    \n",
    "# cv2.imshow(\"Original\", img)\n",
    "# cv2.imshow(\"Gray\", gray)\n",
    "# cv2.imshow(\"Blur\", blur)\n",
    "# cv2.imshow(\"Non Local Means\", dst)\n",
    "# cv2.imshow(\"Thresh\", threshed)\n",
    "# cv2.imshow(\"Median\", median)\n",
    "# cv2.imshow(\"Opening\", opened)\n",
    "# cv2.imshow(\"Closing\", closed)\n",
    "# cv2.imshow(\"Edge\", edge)\n",
    "# cv2.waitKey(0)\n",
    "# cv2.destroyAllWindows()"
   ]
  },
  {
   "cell_type": "code",
   "execution_count": null,
   "metadata": {},
   "outputs": [],
   "source": []
  },
  {
   "cell_type": "code",
   "execution_count": 82,
   "metadata": {
    "scrolled": true
   },
   "outputs": [
    {
     "name": "stdout",
     "output_type": "stream",
     "text": [
      "10_mean_0.bmp: 184.33996320962962, 90.4126600890036\n",
      "10_mean_1.bmp: 184.33273240009783, 90.42233242561191\n",
      "10_mean_10.bmp: 184.29970844632507, 90.43071617001934\n",
      "10_mean_11.bmp: 184.35314870110247, 90.41102355650702\n",
      "10_mean_12.bmp: 184.3378921741837, 90.43244014921235\n",
      "10_mean_13.bmp: 184.35863102160457, 90.3988587419344\n",
      "10_mean_14.bmp: 184.33916404005993, 90.4624366306039\n",
      "10_mean_15.bmp: 184.33936468741763, 90.33831123772237\n",
      "10_mean_16.bmp: 184.34267557577436, 90.43531169410154\n",
      "10_mean_17.bmp: 184.36601562333095, 90.43091045707729\n",
      "10_mean_18.bmp: 184.32103372617263, 90.40793527431865\n",
      "10_mean_19.bmp: 184.34508764153512, 90.45077616450543\n",
      "10_mean_2.bmp: 184.35584190901636, 90.45318317152872\n",
      "10_mean_20.bmp: 184.37030306092748, 90.44502111504698\n",
      "10_mean_21.bmp: 184.3471747958868, 90.42572926447974\n",
      "10_mean_22.bmp: 184.33495019095886, 90.41017335399465\n",
      "10_mean_23.bmp: 184.32051050943477, 90.43977071070012\n",
      "10_mean_24.bmp: 184.39232845938227, 90.42650237684178\n",
      "10_mean_25.bmp: 184.34053211287477, 90.41439356934231\n",
      "10_mean_26.bmp: 184.33153518943723, 90.45918624454362\n",
      "10_mean_27.bmp: 184.35051395248254, 90.43034894703133\n",
      "10_mean_28.bmp: 184.38914661090791, 90.43669689157984\n",
      "10_mean_29.bmp: 184.34744508528868, 90.40135266448227\n",
      "10_mean_3.bmp: 184.3637610185287, 90.43280853187542\n",
      "10_mean_30.bmp: 184.33084570013565, 90.49975374599516\n",
      "10_mean_31.bmp: 184.3448701201871, 90.45171036807139\n",
      "10_mean_32.bmp: 184.29316712907652, 90.42408014809757\n",
      "10_mean_33.bmp: 184.34768251623433, 90.42533053826673\n",
      "10_mean_34.bmp: 184.36851957614084, 90.4431621496701\n",
      "10_mean_35.bmp: 184.36895775914678, 90.42672769168328\n",
      "10_mean_36.bmp: 184.3368703443515, 90.45008410105608\n",
      "10_mean_37.bmp: 184.36495767534953, 90.38219428260021\n",
      "10_mean_38.bmp: 184.37328228733614, 90.40153098642324\n",
      "10_mean_39.bmp: 184.38596990180886, 90.37044805901046\n",
      "10_mean_4.bmp: 184.33266280684737, 90.43926651131407\n",
      "10_mean_40.bmp: 184.3381021274198, 90.42100063016844\n",
      "10_mean_41.bmp: 184.38757842901475, 90.44444796244424\n",
      "10_mean_42.bmp: 184.3354691033373, 90.45622544414282\n",
      "10_mean_43.bmp: 184.3736201706765, 90.40929807764918\n",
      "10_mean_44.bmp: 184.3888414045493, 90.38143394076421\n",
      "10_mean_45.bmp: 184.37678716855893, 90.47502442655998\n",
      "10_mean_46.bmp: 184.35049309909218, 90.46907194202488\n",
      "10_mean_47.bmp: 184.349783736763, 90.42032993919206\n",
      "10_mean_48.bmp: 184.31822579868376, 90.42077292706003\n",
      "10_mean_49.bmp: 184.35524567130543, 90.4230361314653\n",
      "10_mean_5.bmp: 184.303581630301, 90.43711832941798\n",
      "10_mean_50.bmp: 184.29364595655818, 90.43573447406952\n",
      "10_mean_51.bmp: 184.35053786390563, 90.44786617956305\n",
      "10_mean_52.bmp: 184.3318150929251, 90.42775928435104\n",
      "10_mean_53.bmp: 184.33682727208034, 90.46451009451674\n",
      "10_mean_54.bmp: 184.34232483164834, 90.42273961395159\n",
      "10_mean_55.bmp: 184.35324744731088, 90.4176462954752\n",
      "10_mean_56.bmp: 184.36434168795358, 90.47025537072358\n",
      "10_mean_57.bmp: 184.3201353226024, 90.44811595525901\n",
      "10_mean_58.bmp: 184.39200161964752, 90.43855994593854\n",
      "10_mean_59.bmp: 184.35832206866755, 90.44376301486149\n",
      "10_mean_6.bmp: 184.3626278348165, 90.40300708951786\n",
      "10_mean_60.bmp: 184.37552883657875, 90.46444197583631\n",
      "10_mean_61.bmp: 184.4013574783571, 90.45422045026207\n",
      "10_mean_62.bmp: 184.27425837467234, 90.47994658940517\n",
      "10_mean_63.bmp: 184.334400585164, 90.43913467416965\n",
      "10_mean_64.bmp: 184.28726779284855, 90.41626650830263\n",
      "10_mean_65.bmp: 184.3531096778236, 90.47872273823478\n",
      "10_mean_66.bmp: 184.34233852060677, 90.50272347239853\n",
      "10_mean_67.bmp: 184.3129302786869, 90.45412556770485\n",
      "10_mean_68.bmp: 184.3495315467616, 90.4645397035894\n",
      "10_mean_69.bmp: 184.33648569788272, 90.44821098884736\n",
      "10_mean_7.bmp: 184.35788724802023, 90.42390496986926\n",
      "10_mean_70.bmp: 184.3518579438314, 90.44996950852465\n",
      "10_mean_71.bmp: 184.33419228448597, 90.46230580089986\n",
      "10_mean_72.bmp: 184.42694588756717, 90.455137991796\n",
      "10_mean_73.bmp: 184.34577077186535, 90.41493885829334\n",
      "10_mean_74.bmp: 184.39248761357987, 90.4763425433852\n",
      "10_mean_75.bmp: 184.34828060173436, 90.47690234315898\n",
      "10_mean_76.bmp: 184.35944310052966, 90.47692588483287\n",
      "10_mean_77.bmp: 184.34404921660666, 90.41323366983929\n",
      "10_mean_78.bmp: 184.32006640710586, 90.48603646719313\n",
      "10_mean_79.bmp: 184.40997928623253, 90.5352838467062\n",
      "10_mean_8.bmp: 184.3663788457487, 90.40175144834411\n",
      "10_mean_80.bmp: 184.41070493257905, 90.49655896692838\n",
      "10_mean_81.bmp: 184.34858718693363, 90.43920118850465\n",
      "10_mean_82.bmp: 184.33780162476722, 90.47421885076042\n",
      "10_mean_83.bmp: 184.36965240121322, 90.44774097508851\n",
      "10_mean_84.bmp: 184.3164136837234, 90.47288816072302\n",
      "10_mean_85.bmp: 184.32501074690077, 90.43665687333814\n",
      "10_mean_86.bmp: 184.39717493595424, 90.43000825184694\n",
      "10_mean_87.bmp: 184.35369536821068, 90.49737078679891\n",
      "10_mean_88.bmp: 184.33033489106612, 90.46191945993947\n",
      "10_mean_89.bmp: 184.35872559741708, 90.44258629117421\n",
      "10_mean_9.bmp: 184.35951684911984, 90.39291827638868\n",
      "10_mean_90.bmp: 184.345241371851, 90.4716517301033\n",
      "10_mean_91.bmp: 184.33202454369712, 90.43206463566139\n",
      "10_mean_92.bmp: 184.35226164350078, 90.43830738637665\n",
      "10_mean_93.bmp: 184.34189085664815, 90.46589471059033\n",
      "10_mean_94.bmp: 184.38406121993077, 90.45119190840109\n",
      "10_mean_95.bmp: 184.38429518624804, 90.40639813223864\n",
      "10_mean_96.bmp: 184.3327225742869, 90.43133044491606\n",
      "10_mean_97.bmp: 184.3468299881654, 90.43878139634946\n",
      "10_mean_98.bmp: 184.41403924595375, 90.41604433235838\n",
      "10_mean_99.bmp: 184.38779405981492, 90.43881793241377\n"
     ]
    }
   ],
   "source": [
    "os.chdir(\"/home/mj/HardDisk/ARCS/img/X-Ray/Case_2/Cut\")\n",
    "try:\n",
    "    \n",
    "    images = os.listdir()\n",
    "    images.sort()\n",
    "    \n",
    "    predictions = []\n",
    "    for image in images:\n",
    "        img, gray = read_img(image)\n",
    "        height, width = get_imgInfo(img)\n",
    "        \n",
    "        blur = cv2.GaussianBlur(gray,(5,5),0)\n",
    "        dst = cv2.fastNlMeansDenoising(blur,None,5,3,9)\n",
    "        _, threshed = cv2.threshold(dst,0,255,cv2.THRESH_BINARY_INV+cv2.THRESH_OTSU)\n",
    "#         threshed = removeBorder(gray2, height, width)\n",
    "        median = median_filter(threshed, 25)\n",
    "        edge = edge_detect(median, 0, 20)\n",
    "\n",
    "        # get all target points\n",
    "        target_points = []\n",
    "        for i in range(height):\n",
    "            for j in range(width):\n",
    "                if median[i,j] == 255:\n",
    "                    target_points.append((i,j))\n",
    "                    \n",
    "#         # get edge points\n",
    "#         edge_points = []\n",
    "#         for i in range(height):\n",
    "#             for j in range(width):\n",
    "#                 if edge[i,j] == 255:\n",
    "#                     edge_points.append((i,j))\n",
    "        \n",
    "#         target = getTarget(median)\n",
    "#         target_points = []\n",
    "#         for p in target:\n",
    "#             target_points.append((p[1],p[0]))\n",
    "\n",
    "\n",
    "        # Count center\n",
    "        cy,cx,r,_ = cf.least_squares_circle((target_points))\n",
    "        predictions.append([cx, cy])\n",
    "        print(\"{}: {}, {}\".format(image ,cx, cy))\n",
    "\n",
    "    \n",
    "except Exception as e:\n",
    "    print(e)"
   ]
  },
  {
   "cell_type": "code",
   "execution_count": 83,
   "metadata": {},
   "outputs": [
    {
     "name": "stdout",
     "output_type": "stream",
     "text": [
      "-----------------------------------------------------\n",
      "Statistics: \n",
      "Mean Centroid: (184.35104, 90.43959)\n",
      "Variance     : (0.00077, 0.00090)\n",
      "Max Length   : 0.12710, 0.14237 (pixels)\n"
     ]
    }
   ],
   "source": [
    "show_resoult(predictions)"
   ]
  },
  {
   "cell_type": "code",
   "execution_count": null,
   "metadata": {},
   "outputs": [],
   "source": []
  },
  {
   "cell_type": "markdown",
   "metadata": {},
   "source": [
    "## Case2_2"
   ]
  },
  {
   "cell_type": "code",
   "execution_count": 20,
   "metadata": {
    "scrolled": false
   },
   "outputs": [
    {
     "data": {
      "image/png": "[encoded data removed]",
      "text/plain": [
       "<Figure size 432x288 with 1 Axes>"
      ]
     },
     "metadata": {
      "needs_background": "light"
     },
     "output_type": "display_data"
    },
    {
     "data": {
      "image/png": "[encoded data removed]",
      "text/plain": [
       "<Figure size 432x288 with 1 Axes>"
      ]
     },
     "metadata": {
      "needs_background": "light"
     },
     "output_type": "display_data"
    },
    {
     "data": {
      "image/png": "[encoded data removed]",
      "text/plain": [
       "<Figure size 432x288 with 1 Axes>"
      ]
     },
     "metadata": {
      "needs_background": "light"
     },
     "output_type": "display_data"
    }
   ],
   "source": [
    "os.chdir(\"/home/mj/HardDisk/ARCS/img/X-Ray/Case_2/Cut_2\")\n",
    "## Read image\n",
    "img, gray = read_img(\"10_mean_87.bmp\")\n",
    "height, width = get_imgInfo(img)\n",
    "plt.hist(gray.ravel(), bins=256, range=[0, 255])\n",
    "plt.show()\n",
    "\n",
    "## Image processing\n",
    "blur = cv2.GaussianBlur(gray,(5,5),0)\n",
    "plt.hist(blur.ravel(), bins=256, range=[0, 255])\n",
    "plt.show()\n",
    "\n",
    "dst = cv2.fastNlMeansDenoising(blur,None,5,3,9)\n",
    "plt.hist(dst.ravel(), bins=256, range=[0, 255])\n",
    "plt.show()\n",
    "\n",
    "_, threshed = cv2.threshold(dst,0,255,cv2.THRESH_BINARY_INV+cv2.THRESH_OTSU)\n",
    "# threshed = threshold_moment_preserving(img, gray)\n",
    "# threshed = removeBorder(gray2, height, width)\n",
    "\n",
    "\n",
    "\n",
    "## Options\n",
    "# opened = opening(threshed, 5)\n",
    "median = median_filter(threshed, 25)\n",
    "closed = closing(median, 3)\n",
    "opened = opening(closed, 3)\n",
    "# edge = edge_detect(median, 0, 20)\n",
    "            \n",
    "\n",
    "    \n",
    "## Show processed images    \n",
    "# cv2.imshow(\"Original\", img)\n",
    "# cv2.imshow(\"Gray\", gray)\n",
    "# cv2.imshow(\"Blur\", blur)\n",
    "# cv2.imshow(\"Non Local Means\", dst)\n",
    "# cv2.imshow(\"Thresh\", threshed)\n",
    "# cv2.imshow(\"Median\", median)\n",
    "# cv2.imshow(\"Opening\", opened)\n",
    "# cv2.imshow(\"Closing\", closed)\n",
    "# cv2.imshow(\"Edge\", edge)\n",
    "# cv2.waitKey(0)\n",
    "# cv2.destroyAllWindows()"
   ]
  },
  {
   "cell_type": "code",
   "execution_count": null,
   "metadata": {},
   "outputs": [],
   "source": []
  },
  {
   "cell_type": "code",
   "execution_count": 84,
   "metadata": {
    "scrolled": true
   },
   "outputs": [
    {
     "name": "stdout",
     "output_type": "stream",
     "text": [
      "10_mean_0.bmp: 158.1148618031052, 82.30404361641786\n",
      "10_mean_1.bmp: 158.18934513590378, 82.31407711530794\n",
      "10_mean_10.bmp: 158.09202265669364, 82.34894847408496\n",
      "10_mean_11.bmp: 158.11363511612947, 82.36129471893479\n",
      "10_mean_12.bmp: 158.17116703044562, 82.27153414923056\n",
      "10_mean_13.bmp: 158.17964876183385, 82.35553015859533\n",
      "10_mean_14.bmp: 158.16445422560298, 82.34433684318783\n",
      "10_mean_15.bmp: 158.10373878931725, 82.29786886659109\n",
      "10_mean_16.bmp: 158.15688279282128, 82.3525852342038\n",
      "10_mean_17.bmp: 158.13795631087922, 82.32415138312425\n",
      "10_mean_18.bmp: 158.18879727690017, 82.33268096661686\n",
      "10_mean_19.bmp: 158.0962175835294, 82.30337750104738\n",
      "10_mean_2.bmp: 158.163958784141, 82.29994819834553\n",
      "10_mean_20.bmp: 158.1194292248171, 82.33366394266366\n",
      "10_mean_21.bmp: 158.12744385556184, 82.38014811169204\n",
      "10_mean_22.bmp: 158.19446617600246, 82.35569187671076\n",
      "10_mean_23.bmp: 158.12175767319093, 82.33858975885728\n",
      "10_mean_24.bmp: 158.15495766671765, 82.31701203468504\n",
      "10_mean_25.bmp: 158.14869419415476, 82.34030621992244\n",
      "10_mean_26.bmp: 158.17971697371314, 82.28663522687171\n",
      "10_mean_27.bmp: 158.1728312150993, 82.33055965772307\n",
      "10_mean_28.bmp: 158.1716768828864, 82.32859401678257\n",
      "10_mean_29.bmp: 158.12355761080033, 82.34248660383706\n",
      "10_mean_3.bmp: 158.11377000976816, 82.37873306469005\n",
      "10_mean_30.bmp: 158.1287300076265, 82.39250018521898\n",
      "10_mean_31.bmp: 158.16923863442773, 82.31250614211832\n",
      "10_mean_32.bmp: 158.18505917982534, 82.31658687060222\n",
      "10_mean_33.bmp: 158.16139088631573, 82.3027997116814\n",
      "10_mean_34.bmp: 158.14769753956122, 82.3511815316508\n",
      "10_mean_35.bmp: 158.1923992661041, 82.2970755692303\n",
      "10_mean_36.bmp: 158.14603695237815, 82.35633020134601\n",
      "10_mean_37.bmp: 158.13289203916725, 82.39283318444787\n",
      "10_mean_38.bmp: 158.14334541868564, 82.35964000640509\n",
      "10_mean_39.bmp: 158.21254289197879, 82.38902593411643\n",
      "10_mean_4.bmp: 158.17784902041288, 82.35124652153988\n",
      "10_mean_40.bmp: 158.13692143056247, 82.26195714848285\n",
      "10_mean_41.bmp: 158.14455845612693, 82.32764783942746\n",
      "10_mean_42.bmp: 158.08532748930892, 82.32213744225484\n",
      "10_mean_43.bmp: 158.13170832765704, 82.35502806729566\n",
      "10_mean_44.bmp: 158.123479037701, 82.31975370013626\n",
      "10_mean_45.bmp: 158.18506328311008, 82.39647249330335\n",
      "10_mean_46.bmp: 158.21269202414533, 82.28267157713734\n",
      "10_mean_47.bmp: 158.1416323573038, 82.3284615582213\n",
      "10_mean_48.bmp: 158.1673300547629, 82.3332265832386\n",
      "10_mean_49.bmp: 158.2098408149903, 82.28949225161665\n",
      "10_mean_5.bmp: 158.1239000450267, 82.23806708958331\n",
      "10_mean_50.bmp: 158.1098654926738, 82.3257642556077\n",
      "10_mean_51.bmp: 158.0929149973381, 82.3340826114565\n",
      "10_mean_52.bmp: 158.12889721297003, 82.37184052219615\n",
      "10_mean_53.bmp: 158.0643578966973, 82.34944619077838\n",
      "10_mean_54.bmp: 158.14596816375254, 82.46767896924602\n",
      "10_mean_55.bmp: 158.16720601670346, 82.34740801017634\n",
      "10_mean_56.bmp: 158.13295714263472, 82.37768876699157\n",
      "10_mean_57.bmp: 158.16491578152414, 82.3561937776952\n",
      "10_mean_58.bmp: 158.19618614366482, 82.37932548595836\n",
      "10_mean_59.bmp: 158.17394619263843, 82.27191056164041\n",
      "10_mean_6.bmp: 158.16747579302742, 82.33574102894158\n",
      "10_mean_60.bmp: 158.17925616148565, 82.381357071055\n",
      "10_mean_61.bmp: 158.17325990912545, 82.3337554886848\n",
      "10_mean_62.bmp: 158.16778641723292, 82.29261996000243\n",
      "10_mean_63.bmp: 158.1486286003221, 82.29761548710886\n",
      "10_mean_64.bmp: 158.17789607944223, 82.3378295544678\n",
      "10_mean_65.bmp: 158.15767908924045, 82.33283195844224\n",
      "10_mean_66.bmp: 158.125091951829, 82.40328252708579\n",
      "10_mean_67.bmp: 158.17956835027627, 82.36074694393257\n",
      "10_mean_68.bmp: 158.18683872112302, 82.32416659641167\n",
      "10_mean_69.bmp: 158.17541545069608, 82.42571871671817\n",
      "10_mean_7.bmp: 158.12420693058914, 82.33311612742995\n",
      "10_mean_70.bmp: 158.16293705618887, 82.40976595414966\n",
      "10_mean_71.bmp: 158.18240034493684, 82.2940504036907\n",
      "10_mean_72.bmp: 158.19088281876532, 82.34569371204837\n",
      "10_mean_73.bmp: 158.1143314196547, 82.41733529692343\n",
      "10_mean_74.bmp: 158.17206772472622, 82.38499138003337\n",
      "10_mean_75.bmp: 158.17575702261158, 82.37200267155188\n",
      "10_mean_76.bmp: 158.15869986249126, 82.45647872685166\n",
      "10_mean_77.bmp: 158.22808536200426, 82.28887382439133\n",
      "10_mean_78.bmp: 158.1257336052225, 82.38868985531434\n",
      "10_mean_79.bmp: 158.19262174988697, 82.34214775527117\n",
      "10_mean_8.bmp: 158.16596341957995, 82.34796346545993\n",
      "10_mean_80.bmp: 158.19249859707952, 82.40721047077915\n",
      "10_mean_81.bmp: 158.168309985868, 82.34721425240852\n",
      "10_mean_82.bmp: 158.16104493656124, 82.33818613377123\n",
      "10_mean_83.bmp: 158.16088915879828, 82.34444446969752\n",
      "10_mean_84.bmp: 158.20520510748776, 82.33673569948749\n",
      "10_mean_85.bmp: 158.19620155028153, 82.33171815009153\n",
      "10_mean_86.bmp: 158.17054063649823, 82.43745361109843\n",
      "10_mean_87.bmp: 158.18779008097, 82.38566803967714\n",
      "10_mean_88.bmp: 158.1368241413318, 82.37420569217745\n",
      "10_mean_89.bmp: 158.1613191411016, 82.36405175013462\n",
      "10_mean_9.bmp: 158.17068983413424, 82.21563684213571\n",
      "10_mean_90.bmp: 158.155425958366, 82.31907706528793\n",
      "10_mean_91.bmp: 158.13341361668293, 82.42550154398926\n",
      "10_mean_92.bmp: 158.25780412293312, 82.30488510842349\n",
      "10_mean_93.bmp: 158.19753178180883, 82.41889536889326\n",
      "10_mean_94.bmp: 158.12454452244756, 82.43616001599564\n",
      "10_mean_95.bmp: 158.15478483695986, 82.40087708988383\n",
      "10_mean_96.bmp: 158.19288486646875, 82.37502869307555\n",
      "10_mean_97.bmp: 158.12568236534094, 82.317508549222\n",
      "10_mean_98.bmp: 158.14231966284493, 82.35910364878488\n",
      "10_mean_99.bmp: 158.19314900325477, 82.3282892939405\n"
     ]
    }
   ],
   "source": [
    "os.chdir(\"/home/mj/HardDisk/ARCS/img/X-Ray/Case_2/Cut_2\")\n",
    "try:\n",
    "    \n",
    "    images = os.listdir()\n",
    "    images.sort()\n",
    "    \n",
    "    predictions = []\n",
    "    for image in images:\n",
    "        img, gray = read_img(image)\n",
    "        height, width = get_imgInfo(img)\n",
    "        \n",
    "        blur = cv2.GaussianBlur(gray,(5,5),0)\n",
    "        dst = cv2.fastNlMeansDenoising(blur,None,5,3,9)\n",
    "        _, threshed = cv2.threshold(dst,0,255,cv2.THRESH_BINARY_INV+cv2.THRESH_OTSU)\n",
    "#         threshed = removeBorder(gray2, height, width)\n",
    "        median = median_filter(threshed, 25)\n",
    "        edge = edge_detect(median, 0, 20)\n",
    "\n",
    "        # get all target points\n",
    "        target_points = []\n",
    "        for i in range(height):\n",
    "            for j in range(width):\n",
    "                if median[i,j] == 255:\n",
    "                    target_points.append((i,j))\n",
    "                    \n",
    "#         # get edge points\n",
    "#         edge_points = []\n",
    "#         for i in range(height):\n",
    "#             for j in range(width):\n",
    "#                 if edge[i,j] == 255:\n",
    "#                     edge_points.append((i,j))\n",
    "        \n",
    "#         target = getTarget(median)\n",
    "#         target_points = []\n",
    "#         for p in target:\n",
    "#             target_points.append((p[1],p[0]))\n",
    "\n",
    "\n",
    "        # Count center\n",
    "        cy,cx,r,_ = cf.least_squares_circle((target_points))\n",
    "        predictions.append([cx, cy])\n",
    "        print(\"{}: {}, {}\".format(image ,cx, cy))\n",
    "\n",
    "    \n",
    "except Exception as e:\n",
    "    print(e)"
   ]
  },
  {
   "cell_type": "code",
   "execution_count": 85,
   "metadata": {
    "scrolled": true
   },
   "outputs": [
    {
     "name": "stdout",
     "output_type": "stream",
     "text": [
      "-----------------------------------------------------\n",
      "Statistics: \n",
      "Mean Centroid: (158.15759, 82.34575)\n",
      "Variance     : (0.00109, 0.00199)\n",
      "Max Length   : 0.14833, 0.25204 (pixels)\n"
     ]
    }
   ],
   "source": [
    "show_resoult(predictions)"
   ]
  },
  {
   "cell_type": "code",
   "execution_count": null,
   "metadata": {},
   "outputs": [],
   "source": []
  },
  {
   "cell_type": "markdown",
   "metadata": {},
   "source": [
    "## Case3_1"
   ]
  },
  {
   "cell_type": "code",
   "execution_count": 21,
   "metadata": {},
   "outputs": [
    {
     "data": {
      "image/png": "[encoded data removed]",
      "text/plain": [
       "<Figure size 432x288 with 1 Axes>"
      ]
     },
     "metadata": {
      "needs_background": "light"
     },
     "output_type": "display_data"
    },
    {
     "data": {
      "image/png": "[encoded data removed]",
      "text/plain": [
       "<Figure size 432x288 with 1 Axes>"
      ]
     },
     "metadata": {
      "needs_background": "light"
     },
     "output_type": "display_data"
    },
    {
     "data": {
      "image/png": "[encoded data removed]",
      "text/plain": [
       "<Figure size 432x288 with 1 Axes>"
      ]
     },
     "metadata": {
      "needs_background": "light"
     },
     "output_type": "display_data"
    }
   ],
   "source": [
    "os.chdir(\"/home/mj/HardDisk/ARCS/img/X-Ray/Case_3/Cut\")\n",
    "## Read image\n",
    "img, gray = read_img(\"10_mean_87.bmp\")\n",
    "height, width = get_imgInfo(img)\n",
    "plt.hist(gray.ravel(), bins=256, range=[0, 255])\n",
    "plt.show()\n",
    "\n",
    "## Image processing\n",
    "blur = cv2.GaussianBlur(gray,(5,5),0)\n",
    "plt.hist(blur.ravel(), bins=256, range=[0, 255])\n",
    "plt.show()\n",
    "\n",
    "dst = cv2.fastNlMeansDenoising(blur,None,5,3,9)\n",
    "plt.hist(dst.ravel(), bins=256, range=[0, 255])\n",
    "plt.show()\n",
    "\n",
    "_, threshed = cv2.threshold(dst,0,255,cv2.THRESH_BINARY_INV+cv2.THRESH_OTSU)\n",
    "# threshed = threshold_moment_preserving(img, gray)\n",
    "# threshed = removeBorder(gray2, height, width)\n",
    "\n",
    "\n",
    "\n",
    "## Options\n",
    "# opened = opening(threshed, 5)\n",
    "median = median_filter(threshed, 25)\n",
    "closed = closing(median, 3)\n",
    "opened = opening(closed, 3)\n",
    "# edge = edge_detect(median, 0, 20)\n",
    "            \n",
    "\n",
    "    \n",
    "## Show processed images    \n",
    "# cv2.imshow(\"Original\", img)\n",
    "# cv2.imshow(\"Gray\", gray)\n",
    "# cv2.imshow(\"Blur\", blur)\n",
    "# cv2.imshow(\"Non Local Means\", dst)\n",
    "# cv2.imshow(\"Thresh\", threshed)\n",
    "# cv2.imshow(\"Median\", median)\n",
    "# cv2.imshow(\"Opening\", opened)\n",
    "# cv2.imshow(\"Closing\", closed)\n",
    "# cv2.imshow(\"Edge\", edge)\n",
    "# cv2.waitKey(0)\n",
    "# cv2.destroyAllWindows()"
   ]
  },
  {
   "cell_type": "code",
   "execution_count": null,
   "metadata": {},
   "outputs": [],
   "source": []
  },
  {
   "cell_type": "code",
   "execution_count": 69,
   "metadata": {
    "scrolled": true
   },
   "outputs": [
    {
     "name": "stdout",
     "output_type": "stream",
     "text": [
      "10_mean_0.bmp: 174.87647116757995, 96.10523455858778\n",
      "10_mean_1.bmp: 174.78410148457303, 96.13263426134951\n",
      "10_mean_10.bmp: 174.82011584582017, 96.10056987953116\n",
      "10_mean_11.bmp: 174.92617116032054, 96.01666318354398\n",
      "10_mean_12.bmp: 174.81669722622362, 96.10954627994123\n",
      "10_mean_13.bmp: 174.86404004555598, 96.1048940059957\n",
      "10_mean_14.bmp: 174.8331897396372, 96.09014392393965\n",
      "10_mean_15.bmp: 174.87167455369826, 96.12584174021605\n",
      "10_mean_16.bmp: 174.8983616658588, 96.02529951670469\n",
      "10_mean_17.bmp: 174.88281185274863, 96.04648627727552\n",
      "10_mean_18.bmp: 174.87968381111136, 96.09921663379224\n",
      "10_mean_19.bmp: 174.90173936968034, 96.10068115598786\n",
      "10_mean_2.bmp: 174.88544452910187, 96.09879915420505\n",
      "10_mean_20.bmp: 174.7766053792461, 96.13489266226622\n",
      "10_mean_21.bmp: 174.89302326486296, 96.14967268418631\n",
      "10_mean_22.bmp: 174.80984239834103, 96.17791176490783\n",
      "10_mean_23.bmp: 174.87652768615942, 96.19662981669065\n",
      "10_mean_24.bmp: 174.84893979394246, 96.20901457114368\n",
      "10_mean_25.bmp: 174.85738882652637, 96.23528307036432\n",
      "10_mean_26.bmp: 174.8933253789002, 96.24247640770065\n",
      "10_mean_27.bmp: 174.8285207404923, 96.2237858100931\n",
      "10_mean_28.bmp: 174.87587006449854, 96.19516773795645\n",
      "10_mean_29.bmp: 174.90555965697968, 96.18645092572919\n",
      "10_mean_3.bmp: 174.90648950007878, 96.08059101312527\n",
      "10_mean_30.bmp: 174.83522622563115, 96.24648920831686\n",
      "10_mean_31.bmp: 174.8710270718836, 96.13319516296541\n",
      "10_mean_32.bmp: 174.86209398350584, 96.16514232859517\n",
      "10_mean_33.bmp: 174.84523649103824, 96.18172483046695\n",
      "10_mean_34.bmp: 174.87731596125212, 96.1884497741998\n",
      "10_mean_35.bmp: 174.86658397155466, 96.23034318764621\n",
      "10_mean_36.bmp: 174.79232376184385, 96.25123433732715\n",
      "10_mean_37.bmp: 174.94172588599446, 96.20216858571335\n",
      "10_mean_38.bmp: 174.80854425668815, 96.20252717128771\n",
      "10_mean_39.bmp: 174.94380812575284, 96.0940065025852\n",
      "10_mean_4.bmp: 174.86044051003387, 96.04174341115706\n",
      "10_mean_40.bmp: 174.9102284695756, 96.12096379449606\n",
      "10_mean_41.bmp: 174.83628890528516, 96.15302516609275\n",
      "10_mean_42.bmp: 174.8692291495353, 96.11640923139501\n",
      "10_mean_43.bmp: 174.8421123874274, 96.10827029244639\n",
      "10_mean_44.bmp: 174.80700944079922, 96.08592397160496\n",
      "10_mean_45.bmp: 174.84917864889036, 96.10902729614087\n",
      "10_mean_46.bmp: 174.84002087377328, 96.12106508699983\n",
      "10_mean_47.bmp: 174.8650440673799, 96.18680045819042\n",
      "10_mean_48.bmp: 174.84092740117123, 96.12980208804298\n",
      "10_mean_49.bmp: 174.86538147797756, 96.22767175934243\n",
      "10_mean_5.bmp: 174.82516074977445, 96.092362154641\n",
      "10_mean_50.bmp: 174.86856345972657, 96.15336280005526\n",
      "10_mean_51.bmp: 174.86391095779703, 96.10652747271644\n",
      "10_mean_52.bmp: 174.89787773002226, 96.12714850167752\n",
      "10_mean_53.bmp: 174.84093798552848, 96.10127951682111\n",
      "10_mean_54.bmp: 174.89262760796169, 96.08278867148623\n",
      "10_mean_55.bmp: 174.9032451102697, 96.03008145336585\n",
      "10_mean_56.bmp: 174.85736563706865, 96.1041689875183\n",
      "10_mean_57.bmp: 174.86755175886952, 96.08960694547504\n",
      "10_mean_58.bmp: 174.84190427351692, 96.07718912446435\n",
      "10_mean_59.bmp: 174.82871563833828, 96.1291210014742\n",
      "10_mean_6.bmp: 174.79877925647585, 96.1269048126921\n",
      "10_mean_60.bmp: 174.84329502140733, 96.0665680250932\n",
      "10_mean_61.bmp: 174.80951926054144, 96.11906528489054\n",
      "10_mean_62.bmp: 174.8424581153799, 96.11597750074999\n",
      "10_mean_63.bmp: 174.8724351288615, 96.15824272678229\n",
      "10_mean_64.bmp: 174.85894109844924, 96.13178958759985\n",
      "10_mean_65.bmp: 174.91290308100892, 96.10886682519995\n",
      "10_mean_66.bmp: 174.89254369587852, 96.1123615274442\n",
      "10_mean_67.bmp: 174.83661387486157, 96.09896416240501\n",
      "10_mean_68.bmp: 174.9020020040411, 96.08341551349959\n",
      "10_mean_69.bmp: 174.88225628036068, 96.08539938285888\n",
      "10_mean_7.bmp: 174.7920593136523, 96.06272082580699\n",
      "10_mean_70.bmp: 174.86322391484055, 96.15262071324655\n",
      "10_mean_71.bmp: 174.8575546531792, 96.07951634203268\n",
      "10_mean_72.bmp: 174.85720432015174, 96.09552076429068\n",
      "10_mean_73.bmp: 174.8761553777891, 96.14240343960647\n",
      "10_mean_74.bmp: 174.83743325249299, 96.0607192911964\n",
      "10_mean_75.bmp: 174.77656010837575, 96.08092400665024\n",
      "10_mean_76.bmp: 174.81885429676524, 96.06085337353292\n",
      "10_mean_77.bmp: 174.83203619532765, 96.19545971351258\n",
      "10_mean_78.bmp: 174.8327694557612, 96.07085159202632\n",
      "10_mean_79.bmp: 174.88270825570422, 96.10114838654137\n",
      "10_mean_8.bmp: 174.75868768152816, 96.03181483571976\n",
      "10_mean_80.bmp: 174.8890864540557, 96.173499895039\n",
      "10_mean_81.bmp: 174.79123025654724, 96.16114816860396\n",
      "10_mean_82.bmp: 174.84918027138065, 96.23207045581371\n",
      "10_mean_83.bmp: 174.9334965746228, 96.19224346502213\n",
      "10_mean_84.bmp: 174.81953244350785, 96.19198559708599\n",
      "10_mean_85.bmp: 174.81449469683307, 96.18259092977816\n",
      "10_mean_86.bmp: 174.86088285049118, 96.21933554220095\n",
      "10_mean_87.bmp: 174.83175133730927, 96.2085762347999\n",
      "10_mean_88.bmp: 174.8314667469404, 96.24108074216458\n",
      "10_mean_89.bmp: 174.9597634719643, 96.20629980113002\n",
      "10_mean_9.bmp: 174.7953942149402, 96.13130968421588\n",
      "10_mean_90.bmp: 174.90968113765754, 96.25265038932274\n",
      "10_mean_91.bmp: 174.83913431984945, 96.15433812195468\n",
      "10_mean_92.bmp: 174.83262933084137, 96.26975754974497\n",
      "10_mean_93.bmp: 174.93510047876725, 96.19437667154098\n",
      "10_mean_94.bmp: 174.82987623053347, 96.13941603929567\n",
      "10_mean_95.bmp: 174.88928012986037, 96.19344993103762\n",
      "10_mean_96.bmp: 174.87420291974905, 96.20505559397601\n",
      "10_mean_97.bmp: 174.8780144562598, 96.20840807972495\n",
      "10_mean_98.bmp: 174.89294485968531, 96.23913100130248\n",
      "10_mean_99.bmp: 174.8470764834279, 96.18962184554701\n"
     ]
    }
   ],
   "source": [
    "os.chdir(\"/home/mj/HardDisk/ARCS/img/X-Ray/Case_3/Cut\")\n",
    "try:\n",
    "    \n",
    "    images = os.listdir()\n",
    "    images.sort()\n",
    "    \n",
    "    predictions = []\n",
    "    for image in images:\n",
    "        img, gray = read_img(image)\n",
    "        height, width = get_imgInfo(img)\n",
    "        \n",
    "        blur = cv2.GaussianBlur(gray,(5,5),0)\n",
    "        dst = cv2.fastNlMeansDenoising(blur,None,5,3,9)\n",
    "        _, threshed = cv2.threshold(dst,0,255,cv2.THRESH_BINARY_INV+cv2.THRESH_OTSU)\n",
    "#         threshed = removeBorder(gray2, height, width)\n",
    "        median = median_filter(threshed, 25)\n",
    "        edge = edge_detect(median, 0, 20)\n",
    "\n",
    "        # get all target points\n",
    "        target_points = []\n",
    "        for i in range(height):\n",
    "            for j in range(width):\n",
    "                if median[i,j] == 255:\n",
    "                    target_points.append((i,j))\n",
    "                    \n",
    "#         # get edge points\n",
    "#         edge_points = []\n",
    "#         for i in range(height):\n",
    "#             for j in range(width):\n",
    "#                 if edge[i,j] == 255:\n",
    "#                     edge_points.append((i,j))\n",
    "        \n",
    "#         target = getTarget(median)\n",
    "#         target_points = []\n",
    "#         for p in target:\n",
    "#             target_points.append((p[1],p[0]))\n",
    "\n",
    "\n",
    "        # Count center\n",
    "        cy,cx,r,_ = cf.least_squares_circle((target_points))\n",
    "        predictions.append([cx, cy])\n",
    "        print(\"{}: {}, {}\".format(image ,cx, cy))\n",
    "\n",
    "    \n",
    "except Exception as e:\n",
    "    print(e)"
   ]
  },
  {
   "cell_type": "code",
   "execution_count": 70,
   "metadata": {},
   "outputs": [
    {
     "name": "stdout",
     "output_type": "stream",
     "text": [
      "-----------------------------------------------------\n",
      "Statistics: \n",
      "Mean Centroid: (174.85771, 96.14106)\n",
      "Variance     : (0.00157, 0.00361)\n",
      "Max Length   : 0.18512, 0.22115 (pixels)\n"
     ]
    }
   ],
   "source": [
    "show_resoult(predictions)"
   ]
  },
  {
   "cell_type": "code",
   "execution_count": null,
   "metadata": {},
   "outputs": [],
   "source": []
  },
  {
   "cell_type": "markdown",
   "metadata": {},
   "source": [
    "## Case3_2"
   ]
  },
  {
   "cell_type": "code",
   "execution_count": 22,
   "metadata": {},
   "outputs": [
    {
     "data": {
      "image/png": "[encoded data removed]",
      "text/plain": [
       "<Figure size 432x288 with 1 Axes>"
      ]
     },
     "metadata": {
      "needs_background": "light"
     },
     "output_type": "display_data"
    },
    {
     "data": {
      "image/png": "[encoded data removed]",
      "text/plain": [
       "<Figure size 432x288 with 1 Axes>"
      ]
     },
     "metadata": {
      "needs_background": "light"
     },
     "output_type": "display_data"
    },
    {
     "data": {
      "image/png": "[encoded data removed]",
      "text/plain": [
       "<Figure size 432x288 with 1 Axes>"
      ]
     },
     "metadata": {
      "needs_background": "light"
     },
     "output_type": "display_data"
    }
   ],
   "source": [
    "os.chdir(\"/home/mj/HardDisk/ARCS/img/X-Ray/Case_3/Cut_2\")\n",
    "## Read image\n",
    "img, gray = read_img(\"10_mean_87.bmp\")\n",
    "height, width = get_imgInfo(img)\n",
    "plt.hist(gray.ravel(), bins=256, range=[0, 255])\n",
    "plt.show()\n",
    "\n",
    "## Image processing\n",
    "blur = cv2.GaussianBlur(gray,(5,5),0)\n",
    "plt.hist(blur.ravel(), bins=256, range=[0, 255])\n",
    "plt.show()\n",
    "\n",
    "dst = cv2.fastNlMeansDenoising(blur,None,5,3,9)\n",
    "plt.hist(dst.ravel(), bins=256, range=[0, 255])\n",
    "plt.show()\n",
    "\n",
    "_, threshed = cv2.threshold(dst,0,255,cv2.THRESH_BINARY_INV+cv2.THRESH_OTSU)\n",
    "# threshed = threshold_moment_preserving(img, gray)\n",
    "# threshed = removeBorder(gray2, height, width)\n",
    "\n",
    "\n",
    "\n",
    "## Options\n",
    "# opened = opening(threshed, 5)\n",
    "median = median_filter(threshed, 25)\n",
    "closed = closing(median, 3)\n",
    "opened = opening(closed, 3)\n",
    "# edge = edge_detect(median, 0, 20)\n",
    "            \n",
    "\n",
    "    \n",
    "## Show processed images    \n",
    "# cv2.imshow(\"Original\", img)\n",
    "# cv2.imshow(\"Gray\", gray)\n",
    "# cv2.imshow(\"Blur\", blur)\n",
    "# cv2.imshow(\"Non Local Means\", dst)\n",
    "# cv2.imshow(\"Thresh\", threshed)\n",
    "# cv2.imshow(\"Median\", median)\n",
    "# cv2.imshow(\"Opening\", opened)\n",
    "# cv2.imshow(\"Closing\", closed)\n",
    "# cv2.imshow(\"Edge\", edge)\n",
    "# cv2.waitKey(0)\n",
    "# cv2.destroyAllWindows()"
   ]
  },
  {
   "cell_type": "code",
   "execution_count": null,
   "metadata": {},
   "outputs": [],
   "source": []
  },
  {
   "cell_type": "code",
   "execution_count": 15,
   "metadata": {
    "scrolled": true
   },
   "outputs": [
    {
     "name": "stdout",
     "output_type": "stream",
     "text": [
      "10_mean_0.bmp: 181.43278469157175, 96.64037503307205\n",
      "10_mean_1.bmp: 181.61446845651068, 96.80372763726542\n",
      "10_mean_10.bmp: 181.71270069086367, 96.86353607552496\n",
      "10_mean_11.bmp: 181.82342698385116, 96.62362152032873\n",
      "10_mean_12.bmp: 181.4974118702794, 96.87360392451774\n",
      "10_mean_13.bmp: 181.5547863173287, 96.59658144584719\n",
      "10_mean_14.bmp: 181.7169740692861, 96.90769540320548\n",
      "10_mean_15.bmp: 181.6457451792748, 96.73523053105048\n",
      "10_mean_16.bmp: 181.79776576075488, 96.69305340922442\n",
      "10_mean_17.bmp: 181.9540962863, 96.71609534853786\n",
      "10_mean_18.bmp: 181.8387542390774, 96.72687582745144\n",
      "10_mean_19.bmp: 181.70401353251137, 96.62744003659229\n",
      "10_mean_2.bmp: 181.91266016697205, 96.5649486360903\n",
      "10_mean_20.bmp: 181.63447301000699, 96.85112242686952\n",
      "10_mean_21.bmp: 181.6159139346252, 96.6109924266787\n",
      "10_mean_22.bmp: 181.67961936514922, 96.71655739030055\n",
      "10_mean_23.bmp: 181.52356498920443, 96.85528095595663\n",
      "10_mean_24.bmp: 181.64948820888227, 96.9267162393145\n",
      "10_mean_25.bmp: 181.7177853805241, 96.72445164545745\n",
      "10_mean_26.bmp: 181.7467572265407, 96.80392372283714\n",
      "10_mean_27.bmp: 181.5792540859122, 96.91579622624647\n",
      "10_mean_28.bmp: 181.75879183738078, 96.83686246458248\n",
      "10_mean_29.bmp: 181.47913562684292, 96.70088060176673\n",
      "10_mean_3.bmp: 181.64008559152174, 96.65228065665642\n",
      "10_mean_30.bmp: 181.38033401406972, 96.66565081996005\n",
      "10_mean_31.bmp: 181.59967499336364, 96.78923063559778\n",
      "10_mean_32.bmp: 181.8132492115914, 96.81480402132388\n",
      "10_mean_33.bmp: 181.5143222732142, 97.02367887691591\n",
      "10_mean_34.bmp: 181.8962773871765, 96.77909378009464\n",
      "10_mean_35.bmp: 181.67237818000598, 96.75984098498684\n",
      "10_mean_36.bmp: 181.68802661596777, 96.89715753581473\n",
      "10_mean_37.bmp: 181.89541704612196, 96.97482500954078\n",
      "10_mean_38.bmp: 181.7619341838305, 96.875420118465\n",
      "10_mean_39.bmp: 181.77910008527152, 96.59414367871497\n",
      "10_mean_4.bmp: 181.67917918524054, 96.59986837772657\n",
      "10_mean_40.bmp: 181.9780606870195, 96.5860197885747\n",
      "10_mean_41.bmp: 181.65440006606383, 96.71345185647955\n",
      "10_mean_42.bmp: 181.5924341635731, 96.63304661800015\n",
      "10_mean_43.bmp: 181.6519631568515, 96.75424865217119\n",
      "10_mean_44.bmp: 181.43296394611883, 96.75227035492382\n",
      "10_mean_45.bmp: 181.6946656559767, 97.03475907339607\n",
      "10_mean_46.bmp: 181.58122434545453, 96.90795742762138\n",
      "10_mean_47.bmp: 181.6611435645588, 96.85456441735033\n",
      "10_mean_48.bmp: 181.84871323489187, 96.89825348831235\n",
      "10_mean_49.bmp: 181.6414803594127, 96.87079510195245\n",
      "10_mean_5.bmp: 181.6564865351691, 96.85278141341803\n",
      "10_mean_50.bmp: 181.6620589921136, 96.9134859371584\n",
      "10_mean_51.bmp: 181.86806047220577, 96.7640988224937\n",
      "10_mean_52.bmp: 181.72196653083824, 96.7863843517997\n",
      "10_mean_53.bmp: 181.70061784614524, 96.57334302571897\n",
      "10_mean_54.bmp: 181.76859492103478, 96.7951389035859\n",
      "10_mean_55.bmp: 181.6896762537429, 96.85891678776615\n",
      "10_mean_56.bmp: 181.7570446812868, 96.92842253082877\n",
      "10_mean_57.bmp: 181.61435081245193, 96.78623937711352\n",
      "10_mean_58.bmp: 181.6316546675305, 96.81811228700543\n",
      "10_mean_59.bmp: 181.7424201543199, 96.71014506827198\n",
      "10_mean_6.bmp: 181.66789755962535, 96.70149510266344\n",
      "10_mean_60.bmp: 181.79259950203996, 96.76363876196244\n",
      "10_mean_61.bmp: 181.79758707620832, 96.79508856341786\n",
      "10_mean_62.bmp: 181.77921544805932, 96.61404123683418\n",
      "10_mean_63.bmp: 181.61461920708098, 96.79577294311426\n",
      "10_mean_64.bmp: 181.71835640917456, 96.79325652819898\n",
      "10_mean_65.bmp: 181.80123663211208, 96.79806724497939\n",
      "10_mean_66.bmp: 181.86783228724343, 97.05353362299047\n",
      "10_mean_67.bmp: 181.53139427803856, 96.69922316873782\n",
      "10_mean_68.bmp: 181.61704712843314, 96.69494769560565\n",
      "10_mean_69.bmp: 181.64071284609656, 96.98926038899951\n",
      "10_mean_7.bmp: 181.67390271355984, 96.62313472975156\n",
      "10_mean_70.bmp: 181.4765897855129, 96.76382366875748\n",
      "10_mean_71.bmp: 181.64589260248476, 96.8185564926089\n",
      "10_mean_72.bmp: 181.4949390737761, 96.83169849669315\n",
      "10_mean_73.bmp: 181.5683230482216, 96.68825996894522\n",
      "10_mean_74.bmp: 181.64091004257588, 96.94310761208519\n",
      "10_mean_75.bmp: 181.66152882516442, 96.67505815200319\n",
      "10_mean_76.bmp: 181.66118398141344, 96.76502332521143\n",
      "10_mean_77.bmp: 181.91535252960378, 96.75915261986968\n",
      "10_mean_78.bmp: 181.65593770102362, 96.80777819881206\n",
      "10_mean_79.bmp: 181.75374722356085, 96.84957589909884\n",
      "10_mean_8.bmp: 181.65294173827186, 96.90060067365992\n",
      "10_mean_80.bmp: 181.62171878833993, 96.71155187026312\n",
      "10_mean_81.bmp: 181.7496325810264, 96.82921060410347\n",
      "10_mean_82.bmp: 181.87953980979492, 96.82047090954865\n",
      "10_mean_83.bmp: 181.58139801565682, 96.93989696901417\n",
      "10_mean_84.bmp: 181.7573268119421, 97.12872454310669\n",
      "10_mean_85.bmp: 181.6907426147013, 96.79749543651504\n",
      "10_mean_86.bmp: 181.73731438477208, 96.81965718817338\n",
      "10_mean_87.bmp: 181.68506075541345, 97.02401414916301\n",
      "10_mean_88.bmp: 181.65021018189495, 96.91493512051224\n",
      "10_mean_89.bmp: 181.7197945663792, 96.98784430204466\n",
      "10_mean_9.bmp: 181.65710347635596, 96.6980270693295\n",
      "10_mean_90.bmp: 181.90499447288502, 96.89457419568105\n",
      "10_mean_91.bmp: 181.74805078593945, 96.86382841917566\n",
      "10_mean_92.bmp: 181.46946910140997, 96.99590343248951\n",
      "10_mean_93.bmp: 181.94304757482053, 96.63950214448045\n",
      "10_mean_94.bmp: 181.73868775065466, 96.89414947089091\n",
      "10_mean_95.bmp: 181.76746486995296, 96.9275199405981\n",
      "10_mean_96.bmp: 181.73700457500854, 96.76868013352552\n",
      "10_mean_97.bmp: 181.8311673264104, 96.89947014129132\n",
      "10_mean_98.bmp: 181.664168595103, 96.83434373208331\n",
      "10_mean_99.bmp: 181.7376083531572, 96.74246373889133\n"
     ]
    }
   ],
   "source": [
    "os.chdir(\"/home/mj/HardDisk/ARCS/img/X-Ray/Case_3/Cut_2\")\n",
    "try:\n",
    "    \n",
    "    images = os.listdir()\n",
    "    images.sort()\n",
    "    \n",
    "    predictions = []\n",
    "    for image in images:\n",
    "        img, gray = read_img(image)\n",
    "        height, width = get_imgInfo(img)\n",
    "        \n",
    "        blur = cv2.GaussianBlur(gray,(5,5),0)\n",
    "        dst = cv2.fastNlMeansDenoising(blur,None,5,3,9)\n",
    "        _, threshed = cv2.threshold(dst,0,255,cv2.THRESH_BINARY_INV+cv2.THRESH_OTSU)\n",
    "#         threshed = removeBorder(gray2, height, width)\n",
    "        median = median_filter(threshed, 25)\n",
    "        edge = edge_detect(median, 0, 20)\n",
    "\n",
    "        # get all target points\n",
    "        target_points = []\n",
    "        for i in range(height):\n",
    "            for j in range(width):\n",
    "                if median[i,j] == 255:\n",
    "                    target_points.append((i,j))\n",
    "                    \n",
    "#         # get edge points\n",
    "#         edge_points = []\n",
    "#         for i in range(height):\n",
    "#             for j in range(width):\n",
    "#                 if edge[i,j] == 255:\n",
    "#                     edge_points.append((i,j))\n",
    "        \n",
    "#         target = getTarget(median)\n",
    "#         target_points = []\n",
    "#         for p in target:\n",
    "#             target_points.append((p[1],p[0]))\n",
    "\n",
    "\n",
    "        # Count center\n",
    "        cy,cx,r,_ = cf.least_squares_circle((target_points))\n",
    "        predictions.append([cx, cy])\n",
    "        print(\"{}: {}, {}\".format(image ,cx, cy))\n",
    "\n",
    "    \n",
    "except Exception as e:\n",
    "    print(e)"
   ]
  },
  {
   "cell_type": "code",
   "execution_count": 16,
   "metadata": {},
   "outputs": [
    {
     "name": "stdout",
     "output_type": "stream",
     "text": [
      "-----------------------------------------------------\n",
      "Statistics: \n",
      "Mean Centroid: (181.69362, 96.79790)\n",
      "Variance     : (0.01451, 0.01443)\n",
      "Max Length   : 0.57376, 0.48922 (pixels)\n"
     ]
    }
   ],
   "source": [
    "show_resoult(predictions)"
   ]
  },
  {
   "cell_type": "code",
   "execution_count": null,
   "metadata": {},
   "outputs": [],
   "source": []
  },
  {
   "cell_type": "code",
   "execution_count": null,
   "metadata": {},
   "outputs": [],
   "source": []
  }
 ],
 "metadata": {
  "kernelspec": {
   "display_name": "Python 3",
   "language": "python",
   "name": "python3"
  },
  "language_info": {
   "codemirror_mode": {
    "name": "ipython",
    "version": 3
   },
   "file_extension": ".py",
   "mimetype": "text/x-python",
   "name": "python",
   "nbconvert_exporter": "python",
   "pygments_lexer": "ipython3",
   "version": "3.6.9"
  }
 },
 "nbformat": 4,
 "nbformat_minor": 2
}
