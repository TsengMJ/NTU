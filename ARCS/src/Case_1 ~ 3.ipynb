{
 "cells": [
  {
   "cell_type": "code",
   "execution_count": 1,
   "metadata": {},
   "outputs": [],
   "source": [
    "from matplotlib import pyplot as plt\n",
    "import circle_fit as cf\n",
    "import numpy as np\n",
    "import time\n",
    "import math\n",
    "import random\n",
    "import cv2\n",
    "import os\n",
    "%run functions.ipynb"
   ]
  },
  {
   "cell_type": "code",
   "execution_count": null,
   "metadata": {},
   "outputs": [],
   "source": []
  },
  {
   "cell_type": "markdown",
   "metadata": {},
   "source": [
    "## Functions"
   ]
  },
  {
   "cell_type": "markdown",
   "metadata": {},
   "source": [
    "### Circle-fixer  有問題"
   ]
  },
  {
   "cell_type": "code",
   "execution_count": 3,
   "metadata": {},
   "outputs": [],
   "source": [
    "## Assume the target circle is the largest object\n",
    "\n",
    "def getTarget(img):\n",
    "    contours, hierarchy = cv2.findContours(img,cv2.RETR_TREE,cv2.CHAIN_APPROX_SIMPLE)  \n",
    "    list_len = [len(i) for i in contours]\n",
    "        \n",
    "    max_len = 0\n",
    "    index = 0\n",
    "    for i,l in enumerate(list_len):\n",
    "        if l > max_len:\n",
    "            max_len = l\n",
    "            index = i\n",
    "            \n",
    "    target = contours[index]\n",
    "    target = np.asarray(target).reshape(max_len, 2)\n",
    "\n",
    "    return target\n",
    "\n",
    "# os.chdir(\"/home/mj/HardDisk/ARCS/img/X-Ray/Case_1/Cut\")\n",
    "# img, gray = read_img(\"10_mean_0.bmp\")\n",
    "# height, width = get_imgInfo(img)\n",
    "# threshed = removeBorder(gray, height, width)\n",
    "\n",
    "# target = getTarget(threshed)\n",
    "\n",
    "# print(target)"
   ]
  },
  {
   "cell_type": "code",
   "execution_count": null,
   "metadata": {},
   "outputs": [],
   "source": []
  },
  {
   "cell_type": "code",
   "execution_count": null,
   "metadata": {},
   "outputs": [],
   "source": [
    "img, gray = read_img(\"10_mean_0.bmp\")\n",
    "height, width = get_imgInfo(img)\n",
    "thr = removeBorder(gray, height, width)\n",
    "\n",
    "_, threshed = cv2.threshold(gray, thr,255,cv2.THRESH_BINARY_INV)\n",
    "\n",
    "target = getTarget(threshed)\n",
    "print(target)\n",
    "\n",
    "cv2.imshow(\"Thresh\", threshed)\n",
    "cv2.waitKey(0)\n",
    "cv2.destroyAllWindows()"
   ]
  },
  {
   "cell_type": "code",
   "execution_count": null,
   "metadata": {},
   "outputs": [],
   "source": []
  },
  {
   "cell_type": "code",
   "execution_count": null,
   "metadata": {},
   "outputs": [],
   "source": []
  },
  {
   "cell_type": "markdown",
   "metadata": {},
   "source": [
    "## Test"
   ]
  },
  {
   "cell_type": "code",
   "execution_count": 3,
   "metadata": {
    "scrolled": true
   },
   "outputs": [
    {
     "name": "stdout",
     "output_type": "stream",
     "text": [
      "2\n"
     ]
    }
   ],
   "source": [
    "os.chdir(\"/home/mj/HardDisk/ARCS/img/X-Ray/Case_1/Cut\")\n",
    "# Read image\n",
    "img, gray = read_img(\"10_mean_29.bmp\")\n",
    "height, width = get_imgInfo(img)\n",
    "\n",
    "\n",
    "# Image processing\n",
    "blur = cv2.GaussianBlur(img,(5,5),0)\n",
    "dst = cv2.fastNlMeansDenoisingColored(blur,None,10,10,7,21)\n",
    "\n",
    "gray2 = cv2.cvtColor(dst, cv2.COLOR_BGR2GRAY)\n",
    "_, threshed = cv2.threshold(gray2,0 ,255,cv2.THRESH_BINARY_INV+cv2.THRESH_OTSU)\n",
    "# threshed = threshold_moment_preserving(img, gray)\n",
    "# threshed = removeBorder(gray2, height, width)\n",
    "\n",
    "\n",
    "\n",
    "# Options\n",
    "\n",
    "# opened = opening(threshed, 5)\n",
    "# median = median_filter(threshed, 5)\n",
    "nb_components, output, stats, centroids = cv2.connectedComponentsWithStats(threshed, connectivity=8)\n",
    "\n",
    "print(nb_components)\n",
    "\n",
    "# closed = closing(median, 3)\n",
    "# opened = opening(closed, 3)\n",
    "# edge = edge_detect(median, 0, 20)\n",
    "\n",
    "# get all target points\n",
    "target_points = []\n",
    "# for i in range(height):\n",
    "#     for j in range(width):\n",
    "#         if median[i,j] == 255:\n",
    "#             target_points.append((i,j))\n",
    "            \n",
    "\n",
    "    \n",
    "# Show processed images    \n",
    "# cv2.imshow(\"Original\", img)\n",
    "# cv2.imshow(\"Gray\", gray)\n",
    "# cv2.imshow(\"Blur\", blur)\n",
    "# cv2.imshow(\"Non Local Means\", dst)\n",
    "cv2.imshow(\"Thresh\", threshed)\n",
    "# cv2.imshow(\"Median\", median)\n",
    "# cv2.imshow(\"Opening\", opened)\n",
    "# cv2.imshow(\"Closing\", closed)\n",
    "# cv2.imshow(\"Edge\", edge)\n",
    "cv2.waitKey(0)\n",
    "cv2.destroyAllWindows()"
   ]
  },
  {
   "cell_type": "code",
   "execution_count": null,
   "metadata": {},
   "outputs": [],
   "source": []
  },
  {
   "cell_type": "code",
   "execution_count": 9,
   "metadata": {
    "scrolled": true
   },
   "outputs": [
    {
     "name": "stdout",
     "output_type": "stream",
     "text": [
      "module 'numpy' has no attribute 'bitwise__xor'\n"
     ]
    }
   ],
   "source": [
    "os.chdir(\"/home/mj/HardDisk/ARCS/img/X-Ray/Case_1/Cut\")\n",
    "try:\n",
    "    \n",
    "    images = os.listdir()\n",
    "    images.sort()\n",
    "    \n",
    "    predictions = []\n",
    "    for image in images:\n",
    "        img, gray = read_img(image)\n",
    "        height, width = get_imgInfo(img)\n",
    "        \n",
    "        kernel = np.array([[-1,-1,-1], [-1,9,-1], [-1,-1,-1]])\n",
    "        sharpened = cv2.filter2D(img, -1, 1)\n",
    "        \n",
    "        blur = cv2.GaussianBlur(sharpened,(5,5),0)\n",
    "        dst = cv2.fastNlMeansDenoisingColored(blur,None,5,5,5,15)\n",
    "        gray2 = cv2.cvtColor(dst, cv2.COLOR_BGR2GRAY)\n",
    "        _, threshed = cv2.threshold(gray2,0,255,cv2.THRESH_BINARY_INV+cv2.THRESH_OTSU)\n",
    "#         threshed = removeBorder(gray2, height, width)\n",
    "        median = median_filter(threshed, 25)\n",
    "        \n",
    "#         closed = closing(median, 2)\n",
    "#         opened = opening(closed, 3)\n",
    "        edge = edge_detect(median, 0, 20)\n",
    "\n",
    "#         # get all target points\n",
    "#         target_points = []\n",
    "#         for i in range(height):\n",
    "#             for j in range(width):\n",
    "#                 if median[i,j] == 255:\n",
    "#                     target_points.append([i,j])\n",
    "                    \n",
    "        # get edge points\n",
    "        edge_points = []\n",
    "        for i in range(height):\n",
    "            for j in range(width):\n",
    "                if edge[i,j] == 255:\n",
    "                    edge_points.append((i,j))\n",
    "        \n",
    "#         target = getTarget(median)\n",
    "#         target_points = []\n",
    "#         for p in target:\n",
    "#             target_points.append((p[1],p[0]))\n",
    "\n",
    "\n",
    "        \n",
    "        \n",
    "        # Count center\n",
    "        cy,cx,r,_ = cf.least_squares_circle((edge_points))\n",
    "        predictions.append([cx, cy])\n",
    "        print(\"{}: {}, {}\".format(image ,cx, cy))\n",
    "\n",
    "    \n",
    "except Exception as e:\n",
    "    print(e)"
   ]
  },
  {
   "cell_type": "code",
   "execution_count": 8,
   "metadata": {
    "scrolled": true
   },
   "outputs": [
    {
     "name": "stdout",
     "output_type": "stream",
     "text": [
      "-----------------------------------------------------\n",
      "Statistics: \n",
      "Mean Centroid: (203.57613, 101.12628)\n",
      "Variance     : (0.00879, 0.01230)\n",
      "Max Length   : 0.43099, 0.46305 (pixels)\n"
     ]
    }
   ],
   "source": [
    "show_resoult(predictions)"
   ]
  },
  {
   "cell_type": "code",
   "execution_count": null,
   "metadata": {},
   "outputs": [],
   "source": []
  },
  {
   "cell_type": "code",
   "execution_count": null,
   "metadata": {},
   "outputs": [],
   "source": []
  },
  {
   "cell_type": "code",
   "execution_count": null,
   "metadata": {},
   "outputs": [],
   "source": []
  },
  {
   "cell_type": "code",
   "execution_count": 6,
   "metadata": {},
   "outputs": [],
   "source": [
    "def swift_algo(gray, Lambda=3, Gamma=2):\n",
    "    ## Step 1: Image normalization\n",
    "    norm = gray/255\n",
    "    \n",
    "    ## Step 2: Comupte u series from normalized image\n",
    "    u = np.log(1+norm)\n",
    "    u_avg = np.mean(u)\n",
    "    u_std = np.std(u)\n",
    "    \n",
    "    ## Step 3: Compute ...\n",
    "    v = np.power(u, Lambda)/Lambda\n",
    "    f = np.power( np.exp( (np.tan(u)-u_std) / (np.exp(u)-v)), Gamma)\n",
    "    \n",
    "    ## Step 4: Redefine distrubution\n",
    "    t = (f-np.min(f)) / (np.max(f)-np.min(f))\n",
    "    final = (t*255).astype('uint8')\n",
    "    \n",
    "    return final"
   ]
  },
  {
   "cell_type": "markdown",
   "metadata": {},
   "source": [
    "## Case1_1"
   ]
  },
  {
   "cell_type": "code",
   "execution_count": 7,
   "metadata": {},
   "outputs": [
    {
     "data": {
      "image/png": "[encoded data removed]",
      "text/plain": [
       "<Figure size 432x288 with 1 Axes>"
      ]
     },
     "metadata": {
      "needs_background": "light"
     },
     "output_type": "display_data"
    },
    {
     "data": {
      "image/png": "[encoded data removed]",
      "text/plain": [
       "<Figure size 432x288 with 1 Axes>"
      ]
     },
     "metadata": {
      "needs_background": "light"
     },
     "output_type": "display_data"
    },
    {
     "data": {
      "image/png": "[encoded data removed]",
      "text/plain": [
       "<Figure size 432x288 with 1 Axes>"
      ]
     },
     "metadata": {
      "needs_background": "light"
     },
     "output_type": "display_data"
    }
   ],
   "source": [
    "os.chdir(\"/home/mj/HardDisk/ARCS/img/X-Ray/Case_1/Cut\")\n",
    "## Read image\n",
    "img, gray = read_img(\"10_mean_90.bmp\")\n",
    "height, width = get_imgInfo(img)\n",
    "plt.hist(gray.ravel(), bins=256, range=[0, 255])\n",
    "plt.show()\n",
    "\n",
    "## Image processing\n",
    "blur = cv2.GaussianBlur(gray,(5,5),0)\n",
    "plt.hist(blur.ravel(), bins=256, range=[0, 255])\n",
    "plt.show()\n",
    "\n",
    "nlm = cv2.fastNlMeansDenoising(blur,None,10,7,21)\n",
    "plt.hist(nlm.ravel(), bins=256, range=[0, 255])\n",
    "plt.show()\n",
    "\n",
    "_, threshed = cv2.threshold(nlm,0,255,cv2.THRESH_BINARY_INV+cv2.THRESH_OTSU)\n",
    "\n",
    "\n",
    "\n",
    "## Options\n",
    "# opened = opening(threshed, 5)\n",
    "# median = median_filter(threshed, 25)\n",
    "# closed = closing(median, 3)\n",
    "# opened = opening(closed, 3)\n",
    "edge = edge_detect(median, 0, 20)\n",
    "            \n",
    "    \n",
    "## Save Image\n",
    "path = \"\"\n",
    "cv2.imwrite(\"Ori.bmp\", gray)\n",
    "cv2.imwrite(\"Blur.bmp\", blur)\n",
    "cv2.imwrite(\"NLM.bmp\", nlm)\n",
    "cv2.imwrite(\"Threshed.bmp\", threshed)\n",
    "cv2.imwrite(\"Edge.bmp\", edge)\n",
    "\n",
    "## Show processed images    \n",
    "# cv2.imshow(\"Original\", img)\n",
    "cv2.imshow(\"Gray\", gray)\n",
    "cv2.imshow(\"Blur\", blur)\n",
    "cv2.imshow(\"Non Local Means\", dst)\n",
    "cv2.imshow(\"Thresh\", threshed)\n",
    "# cv2.imshow(\"Median\", threshed)\n",
    "# cv2.imshow(\"Opening\", opened)\n",
    "# cv2.imshow(\"Closing\", closed)\n",
    "cv2.imshow(\"Edge\", edge)\n",
    "cv2.waitKey(0)\n",
    "cv2.destroyAllWindows()"
   ]
  },
  {
   "cell_type": "code",
   "execution_count": null,
   "metadata": {},
   "outputs": [],
   "source": []
  },
  {
   "cell_type": "code",
   "execution_count": 8,
   "metadata": {
    "scrolled": true
   },
   "outputs": [
    {
     "name": "stdout",
     "output_type": "stream",
     "text": [
      "10_mean_0.bmp: 203.7004419670094, 99.33583859199092\n",
      "10_mean_1.bmp: 203.68706758481366, 99.21511666213033\n",
      "10_mean_10.bmp: 203.71163214745067, 98.99189999721078\n",
      "10_mean_11.bmp: 203.60687400243165, 99.19779941953284\n",
      "10_mean_12.bmp: 203.56343806993806, 99.17563021397173\n",
      "10_mean_13.bmp: 203.56288700843297, 99.16322681719528\n",
      "10_mean_14.bmp: 203.5207474661094, 99.2949204068522\n",
      "10_mean_15.bmp: 203.476446217289, 99.19312093589858\n",
      "10_mean_16.bmp: 203.56247352608892, 99.20732742166638\n",
      "10_mean_17.bmp: 203.71383116635698, 99.32798490481072\n",
      "10_mean_18.bmp: 203.43640357503742, 99.02920627261011\n",
      "10_mean_19.bmp: 203.61761052498133, 99.08845860757096\n",
      "10_mean_2.bmp: 203.41772451236133, 98.94743441718101\n",
      "10_mean_20.bmp: 203.40479772048715, 99.10463297140367\n",
      "10_mean_21.bmp: 203.53317649013917, 99.26130095829947\n",
      "10_mean_22.bmp: 203.47136950274995, 99.1501232107837\n",
      "10_mean_23.bmp: 203.60642484337896, 99.08935344018776\n",
      "10_mean_24.bmp: 203.799430046932, 99.11415889872603\n",
      "10_mean_25.bmp: 203.73714203645488, 99.22418393491608\n",
      "10_mean_26.bmp: 203.81911251295006, 99.16505753039287\n",
      "10_mean_27.bmp: 203.7209910811128, 98.99989853857599\n",
      "10_mean_28.bmp: 203.62550555516665, 99.20428690407105\n",
      "10_mean_29.bmp: 203.58411766664454, 99.14537148077983\n",
      "10_mean_3.bmp: 203.66192404016337, 99.08449035952397\n",
      "10_mean_30.bmp: 203.6194492678208, 99.01209841427536\n",
      "10_mean_31.bmp: 203.64213559046598, 99.01252114730012\n",
      "10_mean_32.bmp: 203.47054259985478, 98.9125744545507\n",
      "10_mean_33.bmp: 203.511202957157, 99.1437739777866\n",
      "10_mean_34.bmp: 203.4419497694728, 99.28771035614153\n",
      "10_mean_35.bmp: 203.7056737914787, 99.21532689230784\n",
      "10_mean_36.bmp: 203.5084886320291, 99.17889356115874\n",
      "10_mean_37.bmp: 203.7132781080326, 99.17704266116765\n",
      "10_mean_38.bmp: 203.70421193895, 99.22939256836882\n",
      "10_mean_39.bmp: 203.62292026337906, 99.1820396662431\n",
      "10_mean_4.bmp: 203.62697514157193, 98.99338356741514\n",
      "10_mean_40.bmp: 203.49026448161783, 99.28121374247738\n",
      "10_mean_41.bmp: 203.57280104275318, 98.93540951765384\n",
      "10_mean_42.bmp: 203.5179043123621, 98.94551650979031\n",
      "10_mean_43.bmp: 203.51501406165096, 99.08597711171691\n",
      "10_mean_44.bmp: 203.64059870828686, 99.32213907235756\n",
      "10_mean_45.bmp: 203.62128846150148, 99.20781361441456\n",
      "10_mean_46.bmp: 203.73770650855698, 98.95294553034348\n",
      "10_mean_47.bmp: 203.55048847339714, 99.10850506430911\n",
      "10_mean_48.bmp: 203.80877049551864, 98.74846085935741\n",
      "10_mean_49.bmp: 203.6073858208294, 99.06714421487446\n",
      "10_mean_5.bmp: 203.58140214285606, 99.1692517521763\n",
      "10_mean_50.bmp: 203.5861523913087, 99.0606646694815\n",
      "10_mean_51.bmp: 203.53701410754948, 99.20380323935103\n",
      "10_mean_52.bmp: 203.46375925491404, 99.14554110766768\n",
      "10_mean_53.bmp: 203.30151281841378, 99.20750741924374\n",
      "10_mean_54.bmp: 203.62432981962667, 99.30988778066552\n",
      "10_mean_55.bmp: 203.6310868960707, 99.30944423335961\n",
      "10_mean_56.bmp: 203.61193721702878, 99.34766435542194\n",
      "10_mean_57.bmp: 203.82687436513197, 99.09345818608286\n",
      "10_mean_58.bmp: 203.76205804117055, 98.83758689099864\n",
      "10_mean_59.bmp: 203.59469455020175, 99.02658721943342\n",
      "10_mean_6.bmp: 203.55327934107996, 99.32863292521911\n",
      "10_mean_60.bmp: 203.43694474549048, 99.20498100842701\n",
      "10_mean_61.bmp: 203.59406073408587, 99.15407483468155\n",
      "10_mean_62.bmp: 203.58938444702815, 99.25453551181636\n",
      "10_mean_63.bmp: 203.87133859624794, 99.40371706689412\n",
      "10_mean_64.bmp: 203.47252108771144, 99.19205518761231\n",
      "10_mean_65.bmp: 203.58673637399792, 99.2334530443744\n",
      "10_mean_66.bmp: 203.50059202491158, 99.08815712495974\n",
      "10_mean_67.bmp: 203.63929077574434, 99.2693803382511\n",
      "10_mean_68.bmp: 203.68238349803917, 99.24907802791101\n",
      "10_mean_69.bmp: 203.63534950498092, 99.16940322094051\n",
      "10_mean_7.bmp: 203.69932558581542, 99.33372372747566\n",
      "10_mean_70.bmp: 203.5557083252862, 99.20671303411825\n",
      "10_mean_71.bmp: 203.57625541689376, 99.22159686331888\n",
      "10_mean_72.bmp: 203.70307399051015, 99.34500284072428\n",
      "10_mean_73.bmp: 203.50191348358013, 98.9922731360088\n",
      "10_mean_74.bmp: 203.56273780158904, 99.2294473268847\n",
      "10_mean_75.bmp: 203.6253745832248, 99.17960350145177\n",
      "10_mean_76.bmp: 203.49384230369384, 99.35531470105433\n",
      "10_mean_77.bmp: 203.6170544534626, 99.13494021350948\n",
      "10_mean_78.bmp: 203.64813489809697, 99.2284798359963\n",
      "10_mean_79.bmp: 203.70918222315433, 99.14648261743903\n",
      "10_mean_8.bmp: 203.65105352415307, 99.16395631569718\n",
      "10_mean_80.bmp: 203.43340624689515, 99.48214409869645\n",
      "10_mean_81.bmp: 203.57227461170865, 99.0669540153854\n",
      "10_mean_82.bmp: 203.41814350120313, 99.22724690935623\n",
      "10_mean_83.bmp: 203.71189523195355, 99.37702969328348\n",
      "10_mean_84.bmp: 203.44782148896863, 99.45082016319343\n",
      "10_mean_85.bmp: 203.70173995270898, 99.32204417293318\n",
      "10_mean_86.bmp: 203.63942413789624, 98.90122133502061\n",
      "10_mean_87.bmp: 203.90983194455583, 98.98540702757566\n",
      "10_mean_88.bmp: 203.748620390754, 99.26579034643792\n",
      "10_mean_89.bmp: 203.88928101620596, 99.40603837849415\n",
      "10_mean_9.bmp: 203.66485982914452, 99.0234875272354\n",
      "10_mean_90.bmp: 203.5830241094127, 99.2150763505462\n",
      "10_mean_91.bmp: 203.79300151469235, 99.38562847725076\n",
      "10_mean_92.bmp: 203.78837168058718, 99.25216465942903\n",
      "10_mean_93.bmp: 203.6562334537425, 99.1401054363605\n",
      "10_mean_94.bmp: 203.66108146726236, 99.20010478811447\n",
      "10_mean_95.bmp: 203.6453795028783, 99.28309715995772\n",
      "10_mean_96.bmp: 203.56822027248919, 99.23361080679527\n",
      "10_mean_97.bmp: 203.76748327167883, 99.00358279510941\n",
      "10_mean_98.bmp: 203.58600002212643, 99.2758708159065\n",
      "10_mean_99.bmp: 203.5979191697149, 99.24317026785964\n"
     ]
    }
   ],
   "source": [
    "os.chdir(\"/home/mj/HardDisk/ARCS/img/X-Ray/Case_1/Cut\")\n",
    "try:\n",
    "    \n",
    "    images = os.listdir()\n",
    "    images.sort()\n",
    "    \n",
    "    predictions = []\n",
    "    for image in images:\n",
    "        img, gray = read_img(image)\n",
    "        height, width = get_imgInfo(img)\n",
    "        \n",
    "        blur = cv2.GaussianBlur(gray,(5,5),0)\n",
    "        cEn = swift_algo(blur, Lambda=3, Gamma=2)\n",
    "        dst = cv2.fastNlMeansDenoising(blur,None,10,7,21)\n",
    "        _, threshed = cv2.threshold(dst,0,255,cv2.THRESH_BINARY_INV+cv2.THRESH_OTSU)\n",
    "#         median = median_filter(threshed, 25)\n",
    "        edge = edge_detect(threshed, 0, 20)\n",
    "\n",
    "        # get all target points\n",
    "#         target_points = []\n",
    "#         for i in range(height):\n",
    "#             for j in range(width):\n",
    "#                 if median[i,j] == 255:\n",
    "#                     target_points.append((i,j))\n",
    "                    \n",
    "        # get edge points\n",
    "        edge_points = []\n",
    "        for i in range(height):\n",
    "            for j in range(width):\n",
    "                if edge[i,j] == 255:\n",
    "                    edge_points.append((i,j))\n",
    "        \n",
    "\n",
    "\n",
    "        # Count center\n",
    "        cy,cx,r,_ = cf.least_squares_circle((edge_points))\n",
    "        predictions.append([cx, cy])\n",
    "        print(\"{}: {}, {}\".format(image ,cx, cy))\n",
    "\n",
    "    \n",
    "except Exception as e:\n",
    "    print(e)"
   ]
  },
  {
   "cell_type": "code",
   "execution_count": 9,
   "metadata": {},
   "outputs": [
    {
     "name": "stdout",
     "output_type": "stream",
     "text": [
      "-----------------------------------------------------\n",
      "Statistics: \n",
      "Mean Centroid: (203.61381, 99.17248)\n",
      "Variance     : (0.01305, 0.01841)\n",
      "Max Length   : 0.51760, 0.58738 (pixels)\n"
     ]
    }
   ],
   "source": [
    "show_resoult(predictions)"
   ]
  },
  {
   "cell_type": "code",
   "execution_count": null,
   "metadata": {},
   "outputs": [],
   "source": []
  },
  {
   "cell_type": "markdown",
   "metadata": {},
   "source": [
    "## Case2_1"
   ]
  },
  {
   "cell_type": "code",
   "execution_count": 16,
   "metadata": {},
   "outputs": [
    {
     "data": {
      "image/png": "[encoded data removed]",
      "text/plain": [
       "<Figure size 432x288 with 1 Axes>"
      ]
     },
     "metadata": {
      "needs_background": "light"
     },
     "output_type": "display_data"
    },
    {
     "data": {
      "image/png": "[encoded data removed]",
      "text/plain": [
       "<Figure size 432x288 with 1 Axes>"
      ]
     },
     "metadata": {
      "needs_background": "light"
     },
     "output_type": "display_data"
    },
    {
     "data": {
      "image/png": "[encoded data removed]",
      "text/plain": [
       "<Figure size 432x288 with 1 Axes>"
      ]
     },
     "metadata": {
      "needs_background": "light"
     },
     "output_type": "display_data"
    },
    {
     "data": {
      "text/plain": [
       "True"
      ]
     },
     "execution_count": 16,
     "metadata": {},
     "output_type": "execute_result"
    }
   ],
   "source": [
    "os.chdir(\"/home/mj/HardDisk/ARCS/img/X-Ray/Case_2/Cut\")\n",
    "## Read image\n",
    "img, gray = read_img(\"10_mean_90.bmp\")\n",
    "height, width = get_imgInfo(img)\n",
    "plt.hist(gray.ravel(), bins=256, range=[0, 255])\n",
    "plt.show()\n",
    "\n",
    "## Image processing\n",
    "blur = cv2.GaussianBlur(gray,(5,5),0)\n",
    "plt.hist(blur.ravel(), bins=256, range=[0, 255])\n",
    "plt.show()\n",
    "\n",
    "dst = cv2.fastNlMeansDenoising(blur,None,5,3,9)\n",
    "plt.hist(dst.ravel(), bins=256, range=[0, 255])\n",
    "plt.show()\n",
    "\n",
    "_, threshed = cv2.threshold(dst,0,255,cv2.THRESH_BINARY_INV+cv2.THRESH_OTSU)\n",
    "# threshed = threshold_moment_preserving(img, gray)\n",
    "# threshed = removeBorder(gray2, height, width)\n",
    "\n",
    "\n",
    "\n",
    "## Options\n",
    "# opened = opening(threshed, 5)\n",
    "median = median_filter(threshed, 25)\n",
    "closed = closing(median, 3)\n",
    "opened = opening(closed, 3)\n",
    "# edge = edge_detect(median, 0, 20)\n",
    "            \n",
    "fileName = \"/home/mj/Pictures/Histogram/Case2-1/{}.bmp\".format(90)\n",
    "cv2.imwrite(fileName, threshed)    \n",
    "    \n",
    "## Show processed images    \n",
    "# cv2.imshow(\"Original\", img)\n",
    "# cv2.imshow(\"Gray\", gray)\n",
    "# cv2.imshow(\"Blur\", blur)\n",
    "# cv2.imshow(\"Non Local Means\", dst)\n",
    "# cv2.imshow(\"Thresh\", threshed)\n",
    "# cv2.imshow(\"Median\", median)\n",
    "# cv2.imshow(\"Opening\", opened)\n",
    "# cv2.imshow(\"Closing\", closed)\n",
    "# cv2.imshow(\"Edge\", edge)\n",
    "# cv2.waitKey(0)\n",
    "# cv2.destroyAllWindows()"
   ]
  },
  {
   "cell_type": "code",
   "execution_count": null,
   "metadata": {},
   "outputs": [],
   "source": []
  },
  {
   "cell_type": "code",
   "execution_count": 2,
   "metadata": {
    "scrolled": true
   },
   "outputs": [
    {
     "name": "stdout",
     "output_type": "stream",
     "text": [
      "10_mean_0.bmp: 184.21121887684583, 90.26531175869553\n",
      "10_mean_1.bmp: 184.1631403999064, 90.31700679548871\n",
      "10_mean_10.bmp: 184.16587103588455, 90.2827477281446\n",
      "10_mean_11.bmp: 184.22724803041578, 90.27392267120311\n",
      "10_mean_12.bmp: 184.23721469695974, 90.27099313319589\n",
      "10_mean_13.bmp: 184.22964538751407, 90.25205059179791\n",
      "10_mean_14.bmp: 184.19895383835686, 90.32227239584405\n",
      "10_mean_15.bmp: 184.20371309403478, 90.20483158557252\n",
      "10_mean_16.bmp: 184.21307201131654, 90.28397831220792\n",
      "10_mean_17.bmp: 184.23821107998037, 90.28997629146365\n",
      "10_mean_18.bmp: 184.19341690066491, 90.26150577224041\n",
      "10_mean_19.bmp: 184.21434532643607, 90.31717575056683\n",
      "10_mean_2.bmp: 184.22645667029792, 90.33427846721716\n",
      "10_mean_20.bmp: 184.24402592842023, 90.30919542729401\n",
      "10_mean_21.bmp: 184.20955732942375, 90.28085890626333\n",
      "10_mean_22.bmp: 184.19071741343174, 90.26096248462606\n",
      "10_mean_23.bmp: 184.2003327841611, 90.31676545044066\n",
      "10_mean_24.bmp: 184.24443295575324, 90.28895584387877\n",
      "10_mean_25.bmp: 184.2144442762031, 90.26884376951311\n",
      "10_mean_26.bmp: 184.1860451508243, 90.32795519703592\n",
      "10_mean_27.bmp: 184.21767758884423, 90.28511633452825\n",
      "10_mean_28.bmp: 184.24271345698725, 90.29285100632269\n",
      "10_mean_29.bmp: 184.2230982146073, 90.26994460916008\n",
      "10_mean_3.bmp: 184.24185799090262, 90.30193433150114\n",
      "10_mean_30.bmp: 184.19540259939583, 90.35352324908087\n",
      "10_mean_31.bmp: 184.23479228905708, 90.31195482343746\n",
      "10_mean_32.bmp: 184.16987705293053, 90.26506967538978\n",
      "10_mean_33.bmp: 184.22583997653376, 90.27855408222855\n",
      "10_mean_34.bmp: 184.2382040344783, 90.29468759087122\n",
      "10_mean_35.bmp: 184.23545301199496, 90.28605463240335\n",
      "10_mean_36.bmp: 184.188130591782, 90.32125687439705\n",
      "10_mean_37.bmp: 184.2164432791793, 90.25311291671365\n",
      "10_mean_38.bmp: 184.23113531804896, 90.25119027777397\n",
      "10_mean_39.bmp: 184.2188807175642, 90.22521388768558\n",
      "10_mean_4.bmp: 184.19493809220728, 90.3005048335345\n",
      "10_mean_40.bmp: 184.22268168297552, 90.29574088459411\n",
      "10_mean_41.bmp: 184.24879452255362, 90.30402096509597\n",
      "10_mean_42.bmp: 184.18986921821653, 90.32368033673002\n",
      "10_mean_43.bmp: 184.23807790256998, 90.26819045193962\n",
      "10_mean_44.bmp: 184.26135747977028, 90.22034444885492\n",
      "10_mean_45.bmp: 184.23709850344991, 90.32214915647117\n",
      "10_mean_46.bmp: 184.22588333644708, 90.33471945219803\n",
      "10_mean_47.bmp: 184.2257902756543, 90.28014469943867\n",
      "10_mean_48.bmp: 184.19475941558622, 90.27754557194545\n",
      "10_mean_49.bmp: 184.21161714148388, 90.2807619042494\n",
      "10_mean_5.bmp: 184.18721588771112, 90.28944284279952\n",
      "10_mean_50.bmp: 184.21075241296626, 90.34741367124627\n",
      "10_mean_51.bmp: 184.21855496892493, 90.29431289611136\n",
      "10_mean_52.bmp: 184.198365222651, 90.28215849384506\n",
      "10_mean_53.bmp: 184.21773889927502, 90.33622145458396\n",
      "10_mean_54.bmp: 184.21370156594304, 90.2896913908533\n",
      "10_mean_55.bmp: 184.18200163284493, 90.29133161014897\n",
      "10_mean_56.bmp: 184.24959909641734, 90.33071147906482\n",
      "10_mean_57.bmp: 184.17745534757765, 90.30783776804408\n",
      "10_mean_58.bmp: 184.25218605534442, 90.28793378474083\n",
      "10_mean_59.bmp: 184.22052546669087, 90.3094583813171\n",
      "10_mean_6.bmp: 184.22318251610798, 90.25957410604887\n",
      "10_mean_60.bmp: 184.23470300491113, 90.32386792291516\n",
      "10_mean_61.bmp: 184.27195510054688, 90.3201209637376\n",
      "10_mean_62.bmp: 184.12095474164883, 90.35498860858137\n",
      "10_mean_63.bmp: 184.20914791317784, 90.30762206584478\n",
      "10_mean_64.bmp: 184.17281949493318, 90.28477197424974\n",
      "10_mean_65.bmp: 184.21673242618203, 90.33080554274295\n",
      "10_mean_66.bmp: 184.20044816371686, 90.37004848771693\n",
      "10_mean_67.bmp: 184.1874051192181, 90.3058558255192\n",
      "10_mean_68.bmp: 184.20216132317165, 90.33116347761377\n",
      "10_mean_69.bmp: 184.21599642064706, 90.29900475810994\n",
      "10_mean_7.bmp: 184.21047623945512, 90.28166733225564\n",
      "10_mean_70.bmp: 184.21198833659372, 90.30938185593764\n",
      "10_mean_71.bmp: 184.16136663333808, 90.34490310487145\n",
      "10_mean_72.bmp: 184.27793252758232, 90.30511475180535\n",
      "10_mean_73.bmp: 184.20725549125768, 90.27923852768915\n",
      "10_mean_74.bmp: 184.2536352240544, 90.33130650440052\n",
      "10_mean_75.bmp: 184.2002710896645, 90.34795237564373\n",
      "10_mean_76.bmp: 184.2124414509763, 90.35835892284477\n",
      "10_mean_77.bmp: 184.20399833393992, 90.2591949876254\n",
      "10_mean_78.bmp: 184.16880843222512, 90.36963180872895\n",
      "10_mean_79.bmp: 184.28671686383186, 90.39322760071126\n",
      "10_mean_8.bmp: 184.24110997259965, 90.26861827492151\n",
      "10_mean_80.bmp: 184.28955476100717, 90.36460468440588\n",
      "10_mean_81.bmp: 184.22390894848212, 90.29114129417087\n",
      "10_mean_82.bmp: 184.21774025273155, 90.33059425770473\n",
      "10_mean_83.bmp: 184.2460574135092, 90.30362536321117\n",
      "10_mean_84.bmp: 184.1709045209697, 90.33221042610158\n",
      "10_mean_85.bmp: 184.20176143630815, 90.29593088051118\n",
      "10_mean_86.bmp: 184.2768742606762, 90.29947379680718\n",
      "10_mean_87.bmp: 184.22202438597964, 90.3404271638695\n",
      "10_mean_88.bmp: 184.1861383294048, 90.32973629691783\n",
      "10_mean_89.bmp: 184.2306239766553, 90.31706895676328\n",
      "10_mean_9.bmp: 184.2307125376991, 90.25370173279916\n",
      "10_mean_90.bmp: 184.22034442109899, 90.32414461113636\n",
      "10_mean_91.bmp: 184.20318996116603, 90.28868630152948\n",
      "10_mean_92.bmp: 184.20872890977097, 90.28868805863749\n",
      "10_mean_93.bmp: 184.2036711595527, 90.3247675116715\n",
      "10_mean_94.bmp: 184.25730889142366, 90.31734288128744\n",
      "10_mean_95.bmp: 184.26825252793844, 90.30593657529023\n",
      "10_mean_96.bmp: 184.2025144679699, 90.28517428838694\n",
      "10_mean_97.bmp: 184.22886696680396, 90.29676576838784\n",
      "10_mean_98.bmp: 184.27517248388506, 90.27553230019934\n",
      "10_mean_99.bmp: 184.2555510281541, 90.2988185094176\n"
     ]
    }
   ],
   "source": [
    "os.chdir(\"/home/mj/HardDisk/ARCS/img/X-Ray/Case_2/Cut\")\n",
    "try:\n",
    "    \n",
    "    images = os.listdir()\n",
    "    images.sort()\n",
    "    \n",
    "    predictions = []\n",
    "    for image in images:\n",
    "        img, gray = read_img(image)\n",
    "        height, width = get_imgInfo(img)\n",
    "        \n",
    "        blur = cv2.GaussianBlur(gray,(5,5),0)\n",
    "        dst = cv2.fastNlMeansDenoising(blur,None,5,3,9)\n",
    "        _, threshed = cv2.threshold(dst,0,255,cv2.THRESH_BINARY_INV+cv2.THRESH_OTSU)\n",
    "#         threshed = removeBorder(gray2, height, width)\n",
    "        median = median_filter(threshed, 25)\n",
    "        edge = edge_detect(median, 0, 20)\n",
    "\n",
    "#         # get all target points\n",
    "#         target_points = []\n",
    "#         for i in range(height):\n",
    "#             for j in range(width):\n",
    "#                 if median[i,j] == 255:\n",
    "#                     target_points.append((i,j))\n",
    "                    \n",
    "        # get edge points\n",
    "        edge_points = []\n",
    "        for i in range(height):\n",
    "            for j in range(width):\n",
    "                if edge[i,j] == 255:\n",
    "                    edge_points.append((i,j))\n",
    "        \n",
    "#         target = getTarget(median)\n",
    "#         target_points = []\n",
    "#         for p in target:\n",
    "#             target_points.append((p[1],p[0]))\n",
    "\n",
    "\n",
    "        # Count center\n",
    "        cy,cx,r,_ = cf.least_squares_circle((edge_points))\n",
    "        predictions.append([cx, cy])\n",
    "        print(\"{}: {}, {}\".format(image ,cx, cy))\n",
    "\n",
    "    \n",
    "except Exception as e:\n",
    "    print(e)"
   ]
  },
  {
   "cell_type": "code",
   "execution_count": 3,
   "metadata": {},
   "outputs": [
    {
     "name": "stdout",
     "output_type": "stream",
     "text": [
      "-----------------------------------------------------\n",
      "Statistics: \n",
      "Mean Centroid: (184.21782, 90.30095)\n",
      "Variance     : (0.00086, 0.00108)\n",
      "Max Length   : 0.15100, 0.13953 (pixels)\n"
     ]
    }
   ],
   "source": [
    "show_resoult(predictions)"
   ]
  },
  {
   "cell_type": "code",
   "execution_count": null,
   "metadata": {},
   "outputs": [],
   "source": []
  },
  {
   "cell_type": "markdown",
   "metadata": {},
   "source": [
    "## Case2_2"
   ]
  },
  {
   "cell_type": "code",
   "execution_count": 20,
   "metadata": {
    "scrolled": false
   },
   "outputs": [
    {
     "data": {
      "image/png": "[encoded data removed]",
      "text/plain": [
       "<Figure size 432x288 with 1 Axes>"
      ]
     },
     "metadata": {
      "needs_background": "light"
     },
     "output_type": "display_data"
    },
    {
     "data": {
      "image/png": "[encoded data removed]",
      "text/plain": [
       "<Figure size 432x288 with 1 Axes>"
      ]
     },
     "metadata": {
      "needs_background": "light"
     },
     "output_type": "display_data"
    },
    {
     "data": {
      "image/png": "[encoded data removed]",
      "text/plain": [
       "<Figure size 432x288 with 1 Axes>"
      ]
     },
     "metadata": {
      "needs_background": "light"
     },
     "output_type": "display_data"
    }
   ],
   "source": [
    "os.chdir(\"/home/mj/HardDisk/ARCS/img/X-Ray/Case_2/Cut_2\")\n",
    "## Read image\n",
    "img, gray = read_img(\"10_mean_87.bmp\")\n",
    "height, width = get_imgInfo(img)\n",
    "plt.hist(gray.ravel(), bins=256, range=[0, 255])\n",
    "plt.show()\n",
    "\n",
    "## Image processing\n",
    "blur = cv2.GaussianBlur(gray,(5,5),0)\n",
    "plt.hist(blur.ravel(), bins=256, range=[0, 255])\n",
    "plt.show()\n",
    "\n",
    "dst = cv2.fastNlMeansDenoising(blur,None,5,3,9)\n",
    "plt.hist(dst.ravel(), bins=256, range=[0, 255])\n",
    "plt.show()\n",
    "\n",
    "_, threshed = cv2.threshold(dst,0,255,cv2.THRESH_BINARY_INV+cv2.THRESH_OTSU)\n",
    "# threshed = threshold_moment_preserving(img, gray)\n",
    "# threshed = removeBorder(gray2, height, width)\n",
    "\n",
    "\n",
    "\n",
    "## Options\n",
    "# opened = opening(threshed, 5)\n",
    "median = median_filter(threshed, 25)\n",
    "closed = closing(median, 3)\n",
    "opened = opening(closed, 3)\n",
    "# edge = edge_detect(median, 0, 20)\n",
    "            \n",
    "\n",
    "    \n",
    "## Show processed images    \n",
    "# cv2.imshow(\"Original\", img)\n",
    "# cv2.imshow(\"Gray\", gray)\n",
    "# cv2.imshow(\"Blur\", blur)\n",
    "# cv2.imshow(\"Non Local Means\", dst)\n",
    "# cv2.imshow(\"Thresh\", threshed)\n",
    "# cv2.imshow(\"Median\", median)\n",
    "# cv2.imshow(\"Opening\", opened)\n",
    "# cv2.imshow(\"Closing\", closed)\n",
    "# cv2.imshow(\"Edge\", edge)\n",
    "# cv2.waitKey(0)\n",
    "# cv2.destroyAllWindows()"
   ]
  },
  {
   "cell_type": "code",
   "execution_count": null,
   "metadata": {},
   "outputs": [],
   "source": []
  },
  {
   "cell_type": "code",
   "execution_count": 4,
   "metadata": {
    "scrolled": true
   },
   "outputs": [
    {
     "name": "stdout",
     "output_type": "stream",
     "text": [
      "10_mean_0.bmp: 157.979453130229, 82.16874731762057\n",
      "10_mean_1.bmp: 158.07156193477886, 82.15922450624107\n",
      "10_mean_10.bmp: 157.95901329978096, 82.21590911240001\n",
      "10_mean_11.bmp: 157.9709084444154, 82.22159747828074\n",
      "10_mean_12.bmp: 158.02980011206162, 82.1405934734219\n",
      "10_mean_13.bmp: 158.03457056003774, 82.19865126852417\n",
      "10_mean_14.bmp: 158.0363353191478, 82.1849807965993\n",
      "10_mean_15.bmp: 157.98012819826235, 82.13806799971418\n",
      "10_mean_16.bmp: 158.01762839762046, 82.21338414608104\n",
      "10_mean_17.bmp: 157.99022743188084, 82.18637987539053\n",
      "10_mean_18.bmp: 158.0517320459714, 82.17737399407329\n",
      "10_mean_19.bmp: 157.9582565100999, 82.18063135433815\n",
      "10_mean_2.bmp: 158.0381811299159, 82.1504661949724\n",
      "10_mean_20.bmp: 157.99037399788284, 82.2009303799137\n",
      "10_mean_21.bmp: 157.98236392253787, 82.23680196044117\n",
      "10_mean_22.bmp: 158.04554202256313, 82.20991001664655\n",
      "10_mean_23.bmp: 157.97729701231754, 82.21956615964872\n",
      "10_mean_24.bmp: 158.01787914897338, 82.17367038543054\n",
      "10_mean_25.bmp: 158.01123788510841, 82.19809789579436\n",
      "10_mean_26.bmp: 158.05795160242437, 82.16239177558077\n",
      "10_mean_27.bmp: 158.03059630843126, 82.18741172295346\n",
      "10_mean_28.bmp: 158.02433484156865, 82.1801730839841\n",
      "10_mean_29.bmp: 157.97122075831678, 82.21991540500636\n",
      "10_mean_3.bmp: 157.97586782099998, 82.23676439221832\n",
      "10_mean_30.bmp: 157.96594971904673, 82.2593097656394\n",
      "10_mean_31.bmp: 158.04076990052883, 82.14040610806312\n",
      "10_mean_32.bmp: 158.01602473078165, 82.18411225597343\n",
      "10_mean_33.bmp: 158.00726673499284, 82.15903432667082\n",
      "10_mean_34.bmp: 158.00386013817234, 82.23404204486572\n",
      "10_mean_35.bmp: 158.05397273586138, 82.16382621387265\n",
      "10_mean_36.bmp: 158.00102671563909, 82.22379741509125\n",
      "10_mean_37.bmp: 157.9981621942926, 82.22425907835643\n",
      "10_mean_38.bmp: 158.02328816573504, 82.18709984254689\n",
      "10_mean_39.bmp: 158.07280937092145, 82.23320967976268\n",
      "10_mean_4.bmp: 158.01287291980987, 82.24008171022575\n",
      "10_mean_40.bmp: 157.99250773744973, 82.14262678453322\n",
      "10_mean_41.bmp: 158.01178024954376, 82.17754330942722\n",
      "10_mean_42.bmp: 157.9490428088124, 82.19422041939345\n",
      "10_mean_43.bmp: 157.98509172069575, 82.2271478083314\n",
      "10_mean_44.bmp: 157.96967805315703, 82.19795273850225\n",
      "10_mean_45.bmp: 158.04580138774892, 82.26278520416251\n",
      "10_mean_46.bmp: 158.07643787661172, 82.14856696313674\n",
      "10_mean_47.bmp: 157.99636602720287, 82.18209141266352\n",
      "10_mean_48.bmp: 158.01531496847133, 82.17779536518626\n",
      "10_mean_49.bmp: 158.07292664124597, 82.15917392624903\n",
      "10_mean_5.bmp: 157.99027861426518, 82.12201954730352\n",
      "10_mean_50.bmp: 157.98068422400382, 82.19154016577129\n",
      "10_mean_51.bmp: 157.95633255515088, 82.20352184654276\n",
      "10_mean_52.bmp: 157.99454403080176, 82.23361058750449\n",
      "10_mean_53.bmp: 157.93126374569258, 82.20889622675905\n",
      "10_mean_54.bmp: 158.007519747763, 82.31758804769689\n",
      "10_mean_55.bmp: 158.03876433260754, 82.1929359604414\n",
      "10_mean_56.bmp: 157.98785678337026, 82.25137951427973\n",
      "10_mean_57.bmp: 158.0326256553146, 82.23003030605786\n",
      "10_mean_58.bmp: 158.03399647105223, 82.25623484586889\n",
      "10_mean_59.bmp: 158.0526679550613, 82.11367602389373\n",
      "10_mean_6.bmp: 158.03090154139753, 82.20495164438233\n",
      "10_mean_60.bmp: 158.04541900886105, 82.21681642123013\n",
      "10_mean_61.bmp: 158.04350705169256, 82.18373641877359\n",
      "10_mean_62.bmp: 158.05001743225205, 82.1282775131877\n",
      "10_mean_63.bmp: 158.01103681652774, 82.14278626825059\n",
      "10_mean_64.bmp: 158.05174144479994, 82.20091328952431\n",
      "10_mean_65.bmp: 158.0273788267994, 82.17058553626875\n",
      "10_mean_66.bmp: 157.98586497478314, 82.26791023441771\n",
      "10_mean_67.bmp: 158.0208947702517, 82.22448018355057\n",
      "10_mean_68.bmp: 158.03403338733486, 82.20843343469426\n",
      "10_mean_69.bmp: 158.03271189150482, 82.29497539742299\n",
      "10_mean_7.bmp: 157.97450104922717, 82.21242290633462\n",
      "10_mean_70.bmp: 158.01692979381932, 82.28276154812414\n",
      "10_mean_71.bmp: 158.05429940333818, 82.14099537137015\n",
      "10_mean_72.bmp: 158.02723909004462, 82.23793912458169\n",
      "10_mean_73.bmp: 157.97934488750934, 82.26903660356176\n",
      "10_mean_74.bmp: 158.0290068387224, 82.24767509577475\n",
      "10_mean_75.bmp: 158.02991594403628, 82.24370697200101\n",
      "10_mean_76.bmp: 158.03256018597753, 82.32246802976842\n",
      "10_mean_77.bmp: 158.1042799744574, 82.12771860593763\n",
      "10_mean_78.bmp: 157.9873483304204, 82.25936285299838\n",
      "10_mean_79.bmp: 158.05406495216045, 82.17698345471548\n",
      "10_mean_8.bmp: 158.03798578083416, 82.19077769445437\n",
      "10_mean_80.bmp: 158.04869107183427, 82.28521611969192\n",
      "10_mean_81.bmp: 158.01623748545137, 82.19861913464345\n",
      "10_mean_82.bmp: 158.002463097894, 82.21610992030065\n",
      "10_mean_83.bmp: 158.02430459509645, 82.20789196957618\n",
      "10_mean_84.bmp: 158.0616882745792, 82.17910908034621\n",
      "10_mean_85.bmp: 158.0591295172745, 82.19441262405414\n",
      "10_mean_86.bmp: 158.02907902871092, 82.28521500524535\n",
      "10_mean_87.bmp: 158.05840049129037, 82.23998571361365\n",
      "10_mean_88.bmp: 158.01786349658497, 82.19613625846263\n",
      "10_mean_89.bmp: 158.03434239133992, 82.25884125597611\n",
      "10_mean_9.bmp: 158.03359180556282, 82.07146454338262\n",
      "10_mean_90.bmp: 158.02519029132444, 82.18693490604406\n",
      "10_mean_91.bmp: 157.97632670855342, 82.27223865652412\n",
      "10_mean_92.bmp: 158.1282010462512, 82.13280118237688\n",
      "10_mean_93.bmp: 158.03881447537609, 82.2638817434941\n",
      "10_mean_94.bmp: 157.992842296637, 82.31450285959009\n",
      "10_mean_95.bmp: 157.98047681446386, 82.22392138854308\n",
      "10_mean_96.bmp: 158.05906617589508, 82.2281277146055\n",
      "10_mean_97.bmp: 157.98083625692922, 82.17111852998255\n",
      "10_mean_98.bmp: 158.00393894900895, 82.21973066746743\n",
      "10_mean_99.bmp: 158.05238840591497, 82.20039407266103\n"
     ]
    }
   ],
   "source": [
    "os.chdir(\"/home/mj/HardDisk/ARCS/img/X-Ray/Case_2/Cut_2\")\n",
    "try:\n",
    "    \n",
    "    images = os.listdir()\n",
    "    images.sort()\n",
    "    \n",
    "    predictions = []\n",
    "    for image in images:\n",
    "        img, gray = read_img(image)\n",
    "        height, width = get_imgInfo(img)\n",
    "        \n",
    "        blur = cv2.GaussianBlur(gray,(5,5),0)\n",
    "        dst = cv2.fastNlMeansDenoising(blur,None,5,3,9)\n",
    "        _, threshed = cv2.threshold(dst,0,255,cv2.THRESH_BINARY_INV+cv2.THRESH_OTSU)\n",
    "#         threshed = removeBorder(gray2, height, width)\n",
    "        median = median_filter(threshed, 25)\n",
    "        edge = edge_detect(median, 0, 20)\n",
    "\n",
    "#         # get all target points\n",
    "#         target_points = []\n",
    "#         for i in range(height):\n",
    "#             for j in range(width):\n",
    "#                 if median[i,j] == 255:\n",
    "#                     target_points.append((i,j))\n",
    "                    \n",
    "        # get edge points\n",
    "        edge_points = []\n",
    "        for i in range(height):\n",
    "            for j in range(width):\n",
    "                if edge[i,j] == 255:\n",
    "                    edge_points.append((i,j))\n",
    "        \n",
    "#         target = getTarget(median)\n",
    "#         target_points = []\n",
    "#         for p in target:\n",
    "#             target_points.append((p[1],p[0]))\n",
    "\n",
    "\n",
    "        # Count center\n",
    "        cy,cx,r,_ = cf.least_squares_circle((edge_points))\n",
    "        predictions.append([cx, cy])\n",
    "        print(\"{}: {}, {}\".format(image ,cx, cy))\n",
    "\n",
    "    \n",
    "except Exception as e:\n",
    "    print(e)"
   ]
  },
  {
   "cell_type": "code",
   "execution_count": 5,
   "metadata": {
    "scrolled": true
   },
   "outputs": [
    {
     "name": "stdout",
     "output_type": "stream",
     "text": [
      "-----------------------------------------------------\n",
      "Statistics: \n",
      "Mean Centroid: (158.01805, 82.20505)\n",
      "Variance     : (0.00119, 0.00219)\n",
      "Max Length   : 0.14772, 0.25100 (pixels)\n"
     ]
    }
   ],
   "source": [
    "show_resoult(predictions)"
   ]
  },
  {
   "cell_type": "code",
   "execution_count": null,
   "metadata": {},
   "outputs": [],
   "source": []
  },
  {
   "cell_type": "markdown",
   "metadata": {},
   "source": [
    "## Case3_1"
   ]
  },
  {
   "cell_type": "code",
   "execution_count": 21,
   "metadata": {},
   "outputs": [
    {
     "data": {
      "image/png": "[encoded data removed]",
      "text/plain": [
       "<Figure size 432x288 with 1 Axes>"
      ]
     },
     "metadata": {
      "needs_background": "light"
     },
     "output_type": "display_data"
    },
    {
     "data": {
      "image/png": "[encoded data removed]",
      "text/plain": [
       "<Figure size 432x288 with 1 Axes>"
      ]
     },
     "metadata": {
      "needs_background": "light"
     },
     "output_type": "display_data"
    },
    {
     "data": {
      "image/png": "[encoded data removed]",
      "text/plain": [
       "<Figure size 432x288 with 1 Axes>"
      ]
     },
     "metadata": {
      "needs_background": "light"
     },
     "output_type": "display_data"
    }
   ],
   "source": [
    "os.chdir(\"/home/mj/HardDisk/ARCS/img/X-Ray/Case_3/Cut\")\n",
    "## Read image\n",
    "img, gray = read_img(\"10_mean_87.bmp\")\n",
    "height, width = get_imgInfo(img)\n",
    "plt.hist(gray.ravel(), bins=256, range=[0, 255])\n",
    "plt.show()\n",
    "\n",
    "## Image processing\n",
    "blur = cv2.GaussianBlur(gray,(5,5),0)\n",
    "plt.hist(blur.ravel(), bins=256, range=[0, 255])\n",
    "plt.show()\n",
    "\n",
    "dst = cv2.fastNlMeansDenoising(blur,None,5,3,9)\n",
    "plt.hist(dst.ravel(), bins=256, range=[0, 255])\n",
    "plt.show()\n",
    "\n",
    "_, threshed = cv2.threshold(dst,0,255,cv2.THRESH_BINARY_INV+cv2.THRESH_OTSU)\n",
    "# threshed = threshold_moment_preserving(img, gray)\n",
    "# threshed = removeBorder(gray2, height, width)\n",
    "\n",
    "\n",
    "\n",
    "## Options\n",
    "# opened = opening(threshed, 5)\n",
    "median = median_filter(threshed, 25)\n",
    "closed = closing(median, 3)\n",
    "opened = opening(closed, 3)\n",
    "# edge = edge_detect(median, 0, 20)\n",
    "            \n",
    "\n",
    "    \n",
    "## Show processed images    \n",
    "# cv2.imshow(\"Original\", img)\n",
    "# cv2.imshow(\"Gray\", gray)\n",
    "# cv2.imshow(\"Blur\", blur)\n",
    "# cv2.imshow(\"Non Local Means\", dst)\n",
    "# cv2.imshow(\"Thresh\", threshed)\n",
    "# cv2.imshow(\"Median\", median)\n",
    "# cv2.imshow(\"Opening\", opened)\n",
    "# cv2.imshow(\"Closing\", closed)\n",
    "# cv2.imshow(\"Edge\", edge)\n",
    "# cv2.waitKey(0)\n",
    "# cv2.destroyAllWindows()"
   ]
  },
  {
   "cell_type": "code",
   "execution_count": null,
   "metadata": {},
   "outputs": [],
   "source": []
  },
  {
   "cell_type": "code",
   "execution_count": 6,
   "metadata": {
    "scrolled": true
   },
   "outputs": [
    {
     "name": "stdout",
     "output_type": "stream",
     "text": [
      "10_mean_0.bmp: 174.7428285726931, 95.9778355378548\n",
      "10_mean_1.bmp: 174.6496351654838, 96.00485204033511\n",
      "10_mean_10.bmp: 174.67945916709297, 95.9758445895323\n",
      "10_mean_11.bmp: 174.7987669230321, 95.89280442822307\n",
      "10_mean_12.bmp: 174.68989913316048, 95.97438697375902\n",
      "10_mean_13.bmp: 174.73275321087058, 95.96960568726027\n",
      "10_mean_14.bmp: 174.70068834327753, 95.96366830240989\n",
      "10_mean_15.bmp: 174.74357446506968, 95.99714659551258\n",
      "10_mean_16.bmp: 174.76048575957878, 95.90112042352996\n",
      "10_mean_17.bmp: 174.75825671874904, 95.90903292013816\n",
      "10_mean_18.bmp: 174.74234591970432, 95.97731143800965\n",
      "10_mean_19.bmp: 174.77385957129871, 95.96121883766413\n",
      "10_mean_2.bmp: 174.7511057072083, 95.97433240078607\n",
      "10_mean_20.bmp: 174.64600741521744, 96.01027717433466\n",
      "10_mean_21.bmp: 174.7644542901732, 96.01309470121073\n",
      "10_mean_22.bmp: 174.67489790826943, 96.0493626084256\n",
      "10_mean_23.bmp: 174.73923963230564, 96.06658311819027\n",
      "10_mean_24.bmp: 174.71310462421377, 96.08345706847592\n",
      "10_mean_25.bmp: 174.7201018760683, 96.10519560817526\n",
      "10_mean_26.bmp: 174.74079319316743, 96.11090536589438\n",
      "10_mean_27.bmp: 174.6936862308235, 96.09232055757235\n",
      "10_mean_28.bmp: 174.7375372976797, 96.06775609422233\n",
      "10_mean_29.bmp: 174.7619751470222, 96.05815796804566\n",
      "10_mean_3.bmp: 174.77866909878622, 95.94519574535843\n",
      "10_mean_30.bmp: 174.70423739265806, 96.11665878196781\n",
      "10_mean_31.bmp: 174.7388326592876, 96.00835290245382\n",
      "10_mean_32.bmp: 174.71683620946106, 96.03590772795562\n",
      "10_mean_33.bmp: 174.70767941289162, 96.05156941842753\n",
      "10_mean_34.bmp: 174.73454043762806, 96.05889568403512\n",
      "10_mean_35.bmp: 174.7180667546517, 96.09924383658249\n",
      "10_mean_36.bmp: 174.65916228594966, 96.12003875198745\n",
      "10_mean_37.bmp: 174.7863895593227, 96.0744832687549\n",
      "10_mean_38.bmp: 174.67508983028168, 96.06611517591675\n",
      "10_mean_39.bmp: 174.8120314425683, 95.95404850312933\n",
      "10_mean_4.bmp: 174.73024196691387, 95.91546940891544\n",
      "10_mean_40.bmp: 174.77947428179985, 95.98907335466048\n",
      "10_mean_41.bmp: 174.70002931573993, 96.02271329288588\n",
      "10_mean_42.bmp: 174.74052896511273, 95.97851182958918\n",
      "10_mean_43.bmp: 174.7061951530708, 95.97946562238903\n",
      "10_mean_44.bmp: 174.68240166070584, 95.94958773346933\n",
      "10_mean_45.bmp: 174.72139905438397, 95.97355546025422\n",
      "10_mean_46.bmp: 174.70881315656968, 95.99526338075344\n",
      "10_mean_47.bmp: 174.72555724019992, 96.05574867639234\n",
      "10_mean_48.bmp: 174.7050236455006, 96.00614137127627\n",
      "10_mean_49.bmp: 174.72762265582588, 96.09476791937865\n",
      "10_mean_5.bmp: 174.6946384405371, 95.9609169858626\n",
      "10_mean_50.bmp: 174.7283992247251, 96.02643071484194\n",
      "10_mean_51.bmp: 174.73273593492294, 95.97427622239718\n",
      "10_mean_52.bmp: 174.75274648728166, 95.9954149370414\n",
      "10_mean_53.bmp: 174.70339792851806, 95.97954024631368\n",
      "10_mean_54.bmp: 174.76762387880896, 95.94684726090544\n",
      "10_mean_55.bmp: 174.7778656660012, 95.89591637454461\n",
      "10_mean_56.bmp: 174.72499563560683, 95.97374751867984\n",
      "10_mean_57.bmp: 174.72304066575634, 95.96525353301429\n",
      "10_mean_58.bmp: 174.70601452536087, 95.95629190011051\n",
      "10_mean_59.bmp: 174.69141827611907, 96.00179044127808\n",
      "10_mean_6.bmp: 174.66515626344963, 96.00180868399542\n",
      "10_mean_60.bmp: 174.71577421801612, 95.93686832467957\n",
      "10_mean_61.bmp: 174.6734369472403, 95.99432499043122\n",
      "10_mean_62.bmp: 174.70457612242282, 95.9910238004594\n",
      "10_mean_63.bmp: 174.73744779747972, 96.02245085337928\n",
      "10_mean_64.bmp: 174.71866744274254, 96.00814277945501\n",
      "10_mean_65.bmp: 174.78638086916325, 95.97223228693689\n",
      "10_mean_66.bmp: 174.77163247875203, 95.97407513018369\n",
      "10_mean_67.bmp: 174.70388117138737, 95.96809533951976\n",
      "10_mean_68.bmp: 174.77511830283026, 95.94831306543713\n",
      "10_mean_69.bmp: 174.75117892389244, 95.95491454949239\n",
      "10_mean_7.bmp: 174.65938376507, 95.94256789933294\n",
      "10_mean_70.bmp: 174.72287536326914, 96.02566179867262\n",
      "10_mean_71.bmp: 174.71681980601178, 95.95445659256431\n",
      "10_mean_72.bmp: 174.72018755967855, 95.97440204879496\n",
      "10_mean_73.bmp: 174.7413694870861, 96.01929851256189\n",
      "10_mean_74.bmp: 174.71095381741327, 95.93657425196008\n",
      "10_mean_75.bmp: 174.63900473896948, 95.9534200044495\n",
      "10_mean_76.bmp: 174.691030250213, 95.93408797633762\n",
      "10_mean_77.bmp: 174.6928124200195, 96.06852443545725\n",
      "10_mean_78.bmp: 174.6954822895567, 95.9489412820822\n",
      "10_mean_79.bmp: 174.7437300597509, 95.97886649318258\n",
      "10_mean_8.bmp: 174.62650689343423, 95.91319009866889\n",
      "10_mean_80.bmp: 174.75364213579297, 96.04425380749895\n",
      "10_mean_81.bmp: 174.6552190854448, 96.03696574966895\n",
      "10_mean_82.bmp: 174.7070475149376, 96.10040463165353\n",
      "10_mean_83.bmp: 174.7844526106749, 96.06412553484226\n",
      "10_mean_84.bmp: 174.69125301097026, 96.06141083428916\n",
      "10_mean_85.bmp: 174.67910215713474, 96.05240898328694\n",
      "10_mean_86.bmp: 174.71070173803952, 96.09025017578288\n",
      "10_mean_87.bmp: 174.69147091818962, 96.07889747493476\n",
      "10_mean_88.bmp: 174.69138342376496, 96.11006081013478\n",
      "10_mean_89.bmp: 174.8186214428785, 96.06958308077371\n",
      "10_mean_9.bmp: 174.66558645132608, 96.00056474017748\n",
      "10_mean_90.bmp: 174.7695294099778, 96.1138110987972\n",
      "10_mean_91.bmp: 174.6975054245479, 96.02637723513331\n",
      "10_mean_92.bmp: 174.70316261835927, 96.14192307991021\n",
      "10_mean_93.bmp: 174.80296781281228, 96.06974724662287\n",
      "10_mean_94.bmp: 174.7031244476409, 96.00212077447242\n",
      "10_mean_95.bmp: 174.7469827172449, 96.063756683995\n",
      "10_mean_96.bmp: 174.74651068863884, 96.06971088561733\n",
      "10_mean_97.bmp: 174.73184630830696, 96.07752124170491\n",
      "10_mean_98.bmp: 174.75617558940314, 96.10930083103821\n",
      "10_mean_99.bmp: 174.7053737805844, 96.06143297960817\n"
     ]
    }
   ],
   "source": [
    "os.chdir(\"/home/mj/HardDisk/ARCS/img/X-Ray/Case_3/Cut\")\n",
    "try:\n",
    "    \n",
    "    images = os.listdir()\n",
    "    images.sort()\n",
    "    \n",
    "    predictions = []\n",
    "    for image in images:\n",
    "        img, gray = read_img(image)\n",
    "        height, width = get_imgInfo(img)\n",
    "        \n",
    "        blur = cv2.GaussianBlur(gray,(5,5),0)\n",
    "        dst = cv2.fastNlMeansDenoising(blur,None,5,3,9)\n",
    "        _, threshed = cv2.threshold(dst,0,255,cv2.THRESH_BINARY_INV+cv2.THRESH_OTSU)\n",
    "#         threshed = removeBorder(gray2, height, width)\n",
    "        median = median_filter(threshed, 25)\n",
    "        edge = edge_detect(median, 0, 20)\n",
    "\n",
    "#         # get all target points\n",
    "#         target_points = []\n",
    "#         for i in range(height):\n",
    "#             for j in range(width):\n",
    "#                 if median[i,j] == 255:\n",
    "#                     target_points.append((i,j))\n",
    "                    \n",
    "        # get edge points\n",
    "        edge_points = []\n",
    "        for i in range(height):\n",
    "            for j in range(width):\n",
    "                if edge[i,j] == 255:\n",
    "                    edge_points.append((i,j))\n",
    "        \n",
    "#         target = getTarget(median)\n",
    "#         target_points = []\n",
    "#         for p in target:\n",
    "#             target_points.append((p[1],p[0]))\n",
    "\n",
    "\n",
    "        # Count center\n",
    "        cy,cx,r,_ = cf.least_squares_circle((edge_points))\n",
    "        predictions.append([cx, cy])\n",
    "        print(\"{}: {}, {}\".format(image ,cx, cy))\n",
    "\n",
    "    \n",
    "except Exception as e:\n",
    "    print(e)"
   ]
  },
  {
   "cell_type": "code",
   "execution_count": 7,
   "metadata": {},
   "outputs": [
    {
     "name": "stdout",
     "output_type": "stream",
     "text": [
      "-----------------------------------------------------\n",
      "Statistics: \n",
      "Mean Centroid: (174.72252, 96.01170)\n",
      "Variance     : (0.00153, 0.00351)\n",
      "Max Length   : 0.18552, 0.22412 (pixels)\n"
     ]
    }
   ],
   "source": [
    "show_resoult(predictions)"
   ]
  },
  {
   "cell_type": "code",
   "execution_count": null,
   "metadata": {},
   "outputs": [],
   "source": []
  },
  {
   "cell_type": "markdown",
   "metadata": {},
   "source": [
    "## Case3_2"
   ]
  },
  {
   "cell_type": "code",
   "execution_count": 22,
   "metadata": {},
   "outputs": [
    {
     "data": {
      "image/png": "[encoded data removed]",
      "text/plain": [
       "<Figure size 432x288 with 1 Axes>"
      ]
     },
     "metadata": {
      "needs_background": "light"
     },
     "output_type": "display_data"
    },
    {
     "data": {
      "image/png": "[encoded data removed]",
      "text/plain": [
       "<Figure size 432x288 with 1 Axes>"
      ]
     },
     "metadata": {
      "needs_background": "light"
     },
     "output_type": "display_data"
    },
    {
     "data": {
      "image/png": "[encoded data removed]",
      "text/plain": [
       "<Figure size 432x288 with 1 Axes>"
      ]
     },
     "metadata": {
      "needs_background": "light"
     },
     "output_type": "display_data"
    }
   ],
   "source": [
    "os.chdir(\"/home/mj/HardDisk/ARCS/img/X-Ray/Case_3/Cut_2\")\n",
    "## Read image\n",
    "img, gray = read_img(\"10_mean_87.bmp\")\n",
    "height, width = get_imgInfo(img)\n",
    "plt.hist(gray.ravel(), bins=256, range=[0, 255])\n",
    "plt.show()\n",
    "\n",
    "## Image processing\n",
    "blur = cv2.GaussianBlur(gray,(5,5),0)\n",
    "plt.hist(blur.ravel(), bins=256, range=[0, 255])\n",
    "plt.show()\n",
    "\n",
    "dst = cv2.fastNlMeansDenoising(blur,None,5,3,9)\n",
    "plt.hist(dst.ravel(), bins=256, range=[0, 255])\n",
    "plt.show()\n",
    "\n",
    "_, threshed = cv2.threshold(dst,0,255,cv2.THRESH_BINARY_INV+cv2.THRESH_OTSU)\n",
    "# threshed = threshold_moment_preserving(img, gray)\n",
    "# threshed = removeBorder(gray2, height, width)\n",
    "\n",
    "\n",
    "\n",
    "## Options\n",
    "# opened = opening(threshed, 5)\n",
    "median = median_filter(threshed, 25)\n",
    "closed = closing(median, 3)\n",
    "opened = opening(closed, 3)\n",
    "# edge = edge_detect(median, 0, 20)\n",
    "            \n",
    "\n",
    "    \n",
    "## Show processed images    \n",
    "# cv2.imshow(\"Original\", img)\n",
    "# cv2.imshow(\"Gray\", gray)\n",
    "# cv2.imshow(\"Blur\", blur)\n",
    "# cv2.imshow(\"Non Local Means\", dst)\n",
    "# cv2.imshow(\"Thresh\", threshed)\n",
    "# cv2.imshow(\"Median\", median)\n",
    "# cv2.imshow(\"Opening\", opened)\n",
    "# cv2.imshow(\"Closing\", closed)\n",
    "# cv2.imshow(\"Edge\", edge)\n",
    "# cv2.waitKey(0)\n",
    "# cv2.destroyAllWindows()"
   ]
  },
  {
   "cell_type": "code",
   "execution_count": null,
   "metadata": {},
   "outputs": [],
   "source": []
  },
  {
   "cell_type": "code",
   "execution_count": 8,
   "metadata": {
    "scrolled": true
   },
   "outputs": [
    {
     "name": "stdout",
     "output_type": "stream",
     "text": [
      "10_mean_0.bmp: 181.34557052905535, 96.51359726082977\n",
      "10_mean_1.bmp: 181.51883827315243, 96.6609611352978\n",
      "10_mean_10.bmp: 181.58618867299484, 96.70616684301207\n",
      "10_mean_11.bmp: 181.73508849096518, 96.47579022851579\n",
      "10_mean_12.bmp: 181.41447753620474, 96.75215556095752\n",
      "10_mean_13.bmp: 181.49684318751085, 96.45077312298443\n",
      "10_mean_14.bmp: 181.61540285740102, 96.75600732716002\n",
      "10_mean_15.bmp: 181.5119442938017, 96.59353352794405\n",
      "10_mean_16.bmp: 181.62281318211072, 96.61544440617125\n",
      "10_mean_17.bmp: 181.74905964905955, 96.63971403804855\n",
      "10_mean_18.bmp: 181.61177091543868, 96.65392569377927\n",
      "10_mean_19.bmp: 181.60299136422316, 96.57031162103613\n",
      "10_mean_2.bmp: 181.75640070861684, 96.47036041916549\n",
      "10_mean_20.bmp: 181.48908719074902, 96.68108119997753\n",
      "10_mean_21.bmp: 181.53332160422156, 96.4794078218591\n",
      "10_mean_22.bmp: 181.54416239396278, 96.61691013874514\n",
      "10_mean_23.bmp: 181.4601606935859, 96.67056025063346\n",
      "10_mean_24.bmp: 181.5295746227035, 96.78429723461696\n",
      "10_mean_25.bmp: 181.62272808769706, 96.59873877869636\n",
      "10_mean_26.bmp: 181.53696647928444, 96.7405776000525\n",
      "10_mean_27.bmp: 181.4366712295179, 96.81908494581803\n",
      "10_mean_28.bmp: 181.680256543846, 96.7497101750708\n",
      "10_mean_29.bmp: 181.45849478940613, 96.55598174427334\n",
      "10_mean_3.bmp: 181.6203835544993, 96.5079454424285\n",
      "10_mean_30.bmp: 181.32697200696228, 96.4804500684785\n",
      "10_mean_31.bmp: 181.53556390279482, 96.6500688110263\n",
      "10_mean_32.bmp: 181.67417968728319, 96.7150964939952\n",
      "10_mean_33.bmp: 181.49057742433436, 96.91854029160788\n",
      "10_mean_34.bmp: 181.7088924606716, 96.64569038215602\n",
      "10_mean_35.bmp: 181.52653502274623, 96.6146419070198\n",
      "10_mean_36.bmp: 181.6073304590872, 96.81493676318027\n",
      "10_mean_37.bmp: 181.79685383885817, 96.84015028776793\n",
      "10_mean_38.bmp: 181.70779492820463, 96.79132581871568\n",
      "10_mean_39.bmp: 181.6826429422025, 96.49905711032724\n",
      "10_mean_4.bmp: 181.54628860438044, 96.48090728861244\n",
      "10_mean_40.bmp: 181.844610294404, 96.41781577868528\n",
      "10_mean_41.bmp: 181.60901900752992, 96.59185576081137\n",
      "10_mean_42.bmp: 181.55425807430842, 96.54016839084905\n",
      "10_mean_43.bmp: 181.5547872377334, 96.6597019384492\n",
      "10_mean_44.bmp: 181.37805610648385, 96.59901690781298\n",
      "10_mean_45.bmp: 181.55763062528402, 96.93234275896371\n",
      "10_mean_46.bmp: 181.52272006000047, 96.79394508625161\n",
      "10_mean_47.bmp: 181.54973807345925, 96.66019178851161\n",
      "10_mean_48.bmp: 181.74514648191234, 96.76183514602984\n",
      "10_mean_49.bmp: 181.57791100901858, 96.72083978381346\n",
      "10_mean_5.bmp: 181.60712450763575, 96.71389032966748\n",
      "10_mean_50.bmp: 181.43759224440754, 96.77609063203975\n",
      "10_mean_51.bmp: 181.65936383976387, 96.66693467536435\n",
      "10_mean_52.bmp: 181.62021842897175, 96.57722688875184\n",
      "10_mean_53.bmp: 181.51722128255852, 96.44843209204213\n",
      "10_mean_54.bmp: 181.60726025938015, 96.60700953884627\n",
      "10_mean_55.bmp: 181.58537268326654, 96.74555657640681\n",
      "10_mean_56.bmp: 181.60533557351388, 96.8344310310526\n",
      "10_mean_57.bmp: 181.56374415401993, 96.66440081483962\n",
      "10_mean_58.bmp: 181.56195221206883, 96.69747983589872\n",
      "10_mean_59.bmp: 181.66406991851596, 96.515226468104\n",
      "10_mean_6.bmp: 181.52645020402346, 96.5156274102569\n",
      "10_mean_60.bmp: 181.66199213178683, 96.69683179906278\n",
      "10_mean_61.bmp: 181.7110678611994, 96.68865951345838\n",
      "10_mean_62.bmp: 181.67578618441377, 96.53358018655055\n",
      "10_mean_63.bmp: 181.56482073272335, 96.67646854838364\n",
      "10_mean_64.bmp: 181.56751716425214, 96.68523927568252\n",
      "10_mean_65.bmp: 181.75404342626123, 96.65106751300287\n",
      "10_mean_66.bmp: 181.74997518499654, 96.96468049443904\n",
      "10_mean_67.bmp: 181.36709504092232, 96.53145918965853\n",
      "10_mean_68.bmp: 181.47753944654096, 96.58579782416723\n",
      "10_mean_69.bmp: 181.49117866095193, 96.8664593480797\n",
      "10_mean_7.bmp: 181.59795425994022, 96.49627491803024\n",
      "10_mean_70.bmp: 181.4380403066202, 96.65859245526497\n",
      "10_mean_71.bmp: 181.51777643681683, 96.66945115668838\n",
      "10_mean_72.bmp: 181.39380513535664, 96.67285276831356\n",
      "10_mean_73.bmp: 181.48684753862355, 96.57813478052523\n",
      "10_mean_74.bmp: 181.6410289237157, 96.7632262852792\n",
      "10_mean_75.bmp: 181.68649916134035, 96.48784830681703\n",
      "10_mean_76.bmp: 181.49926113203347, 96.70252342303938\n",
      "10_mean_77.bmp: 181.86508236593593, 96.6667188787813\n",
      "10_mean_78.bmp: 181.56163997464287, 96.66958529552973\n",
      "10_mean_79.bmp: 181.7025079095901, 96.60852214545814\n",
      "10_mean_8.bmp: 181.60043565219246, 96.7376677836493\n",
      "10_mean_80.bmp: 181.55496033065734, 96.59783696570948\n",
      "10_mean_81.bmp: 181.60168185800612, 96.65813044939956\n",
      "10_mean_82.bmp: 181.72160483005743, 96.70059253075972\n",
      "10_mean_83.bmp: 181.53012812546913, 96.74511802843314\n",
      "10_mean_84.bmp: 181.57081838578688, 97.02547853334231\n",
      "10_mean_85.bmp: 181.5724917226045, 96.64954609665195\n",
      "10_mean_86.bmp: 181.6006616234127, 96.59197305175572\n",
      "10_mean_87.bmp: 181.623970831747, 96.85774418648403\n",
      "10_mean_88.bmp: 181.60925061289143, 96.75680374265389\n",
      "10_mean_89.bmp: 181.49768750781197, 96.88510578140264\n",
      "10_mean_9.bmp: 181.56033293266964, 96.56972684621894\n",
      "10_mean_90.bmp: 181.77326683408333, 96.78464126963553\n",
      "10_mean_91.bmp: 181.7683297131581, 96.68488505804895\n",
      "10_mean_92.bmp: 181.44530098922402, 96.90890670645842\n",
      "10_mean_93.bmp: 181.7260107826677, 96.54908897351342\n",
      "10_mean_94.bmp: 181.55734540474074, 96.77975807891741\n",
      "10_mean_95.bmp: 181.6339507018703, 96.82663479753026\n",
      "10_mean_96.bmp: 181.7126931664986, 96.62819763392588\n",
      "10_mean_97.bmp: 181.72756351990415, 96.76912014880372\n",
      "10_mean_98.bmp: 181.67244589770826, 96.73395937199366\n",
      "10_mean_99.bmp: 181.59135198804785, 96.57987097261882\n"
     ]
    }
   ],
   "source": [
    "os.chdir(\"/home/mj/HardDisk/ARCS/img/X-Ray/Case_3/Cut_2\")\n",
    "try:\n",
    "    \n",
    "    images = os.listdir()\n",
    "    images.sort()\n",
    "    \n",
    "    predictions = []\n",
    "    for image in images:\n",
    "        img, gray = read_img(image)\n",
    "        height, width = get_imgInfo(img)\n",
    "        \n",
    "        blur = cv2.GaussianBlur(gray,(5,5),0)\n",
    "        dst = cv2.fastNlMeansDenoising(blur,None,5,3,9)\n",
    "        _, threshed = cv2.threshold(dst,0,255,cv2.THRESH_BINARY_INV+cv2.THRESH_OTSU)\n",
    "#         threshed = removeBorder(gray2, height, width)\n",
    "        median = median_filter(threshed, 25)\n",
    "        edge = edge_detect(median, 0, 20)\n",
    "\n",
    "#         # get all target points\n",
    "#         target_points = []\n",
    "#         for i in range(height):\n",
    "#             for j in range(width):\n",
    "#                 if median[i,j] == 255:\n",
    "#                     target_points.append((i,j))\n",
    "                    \n",
    "        # get edge points\n",
    "        edge_points = []\n",
    "        for i in range(height):\n",
    "            for j in range(width):\n",
    "                if edge[i,j] == 255:\n",
    "                    edge_points.append((i,j))\n",
    "        \n",
    "#         target = getTarget(median)\n",
    "#         target_points = []\n",
    "#         for p in target:\n",
    "#             target_points.append((p[1],p[0]))\n",
    "\n",
    "\n",
    "        # Count center\n",
    "        cy,cx,r,_ = cf.least_squares_circle((edge_points))\n",
    "        predictions.append([cx, cy])\n",
    "        print(\"{}: {}, {}\".format(image ,cx, cy))\n",
    "\n",
    "    \n",
    "except Exception as e:\n",
    "    print(e)"
   ]
  },
  {
   "cell_type": "code",
   "execution_count": 9,
   "metadata": {},
   "outputs": [
    {
     "name": "stdout",
     "output_type": "stream",
     "text": [
      "-----------------------------------------------------\n",
      "Statistics: \n",
      "Mean Centroid: (181.58996, 96.66829)\n",
      "Variance     : (0.01164, 0.01544)\n",
      "Max Length   : 0.47752, 0.50072 (pixels)\n"
     ]
    }
   ],
   "source": [
    "show_resoult(predictions)"
   ]
  },
  {
   "cell_type": "code",
   "execution_count": null,
   "metadata": {},
   "outputs": [],
   "source": []
  },
  {
   "cell_type": "code",
   "execution_count": null,
   "metadata": {},
   "outputs": [],
   "source": []
  }
 ],
 "metadata": {
  "kernelspec": {
   "display_name": "Python 3",
   "language": "python",
   "name": "python3"
  },
  "language_info": {
   "codemirror_mode": {
    "name": "ipython",
    "version": 3
   },
   "file_extension": ".py",
   "mimetype": "text/x-python",
   "name": "python",
   "nbconvert_exporter": "python",
   "pygments_lexer": "ipython3",
   "version": "3.6.9"
  }
 },
 "nbformat": 4,
 "nbformat_minor": 2
}
