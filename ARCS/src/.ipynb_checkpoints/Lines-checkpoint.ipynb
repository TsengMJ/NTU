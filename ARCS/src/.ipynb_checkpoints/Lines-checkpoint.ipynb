{
 "cells": [
  {
   "cell_type": "code",
   "execution_count": 2,
   "metadata": {},
   "outputs": [],
   "source": [
    "from matplotlib import pyplot as plt\n",
    "import numpy as np\n",
    "import math\n",
    "import cv2\n",
    "import os\n",
    "\n",
    "os.chdir(\"../img/Other/Line\")"
   ]
  },
  {
   "cell_type": "code",
   "execution_count": null,
   "metadata": {},
   "outputs": [],
   "source": []
  },
  {
   "cell_type": "code",
   "execution_count": null,
   "metadata": {},
   "outputs": [],
   "source": []
  },
  {
   "cell_type": "code",
   "execution_count": 118,
   "metadata": {
    "scrolled": false
   },
   "outputs": [
    {
     "name": "stdout",
     "output_type": "stream",
     "text": [
      "<class 'numpy.ndarray'>\n",
      "[[[ 57 217 598 217]]\n",
      "\n",
      " [[298 253 590 248]]]\n"
     ]
    }
   ],
   "source": [
    "# Read Image and Gray\n",
    "img = cv2.imread(\"7.bmp\")\n",
    "gray = cv2.cvtColor(img, cv2.COLOR_BGR2GRAY)\n",
    "\n",
    "# Get image's height and width\n",
    "img_height, img_width = gray.shape[:2]\n",
    "\n",
    "# Get threshold value at 95% \n",
    "index = int(img_height*img_width*0.95)\n",
    "thresh_value = np.sort(gray.ravel())[index]\n",
    "\n",
    "# Threshold at 95%\n",
    "ret, thresh = cv2.threshold(gray, thresh_value,255,cv2.THRESH_BINARY)\n",
    "\n",
    "# Median filter to eliminate noice dots\n",
    "median = cv2.medianBlur(thresh, 5)\n",
    "\n",
    "# Edge detect\n",
    "canny = cv2.Canny(median, 0, 20)\n",
    "\n",
    "# Get Lines\n",
    "lines = cv2.HoughLinesP(canny, 1, np.pi/180, 75, minLineLength=100, maxLineGap=200)\n",
    "\n",
    "print(type(lines))\n",
    "print(lines)\n",
    "\n",
    "# Draw lines on original image\n",
    "for line in lines:\n",
    "    x1, y1, x2, y2 = line[0]\n",
    "    cv2.line(img, (x1, y1), (x2, y2), (0, 0, 255), 1)\n",
    "\n",
    "# Show processed images    \n",
    "cv2.imshow(\"Original\", img)\n",
    "cv2.imshow(\"Gray\", gray)\n",
    "cv2.imshow(\"Thresh\", thresh)\n",
    "cv2.imshow(\"Median\", median)\n",
    "cv2.imshow(\"Canny\", canny)\n",
    "cv2.waitKey(0)\n",
    "cv2.destroyAllWindows()\n"
   ]
  },
  {
   "cell_type": "code",
   "execution_count": 3,
   "metadata": {},
   "outputs": [
    {
     "data": {
      "image/png": "[encoded data removed]",
      "text/plain": [
       "<Figure size 432x288 with 1 Axes>"
      ]
     },
     "metadata": {
      "needs_background": "light"
     },
     "output_type": "display_data"
    }
   ],
   "source": [
    "img = cv2.imread(\"C2_2_75.bmp\")\n",
    "gray = cv2.cvtColor(img, cv2.COLOR_BGR2GRAY)\n",
    "\n",
    "# histogram = cv2.equalizeHist(img)\n",
    "# ret, thresh1 = cv2.threshold(gray,10,255,cv2.THRESH_BINARY)\n",
    "# canny = cv2.Canny(thresh1, 0, 50)\n",
    "# lines = cv2.HoughLinesP(canny, 1, np.pi/180, 170, minLineLength=10, maxLineGap=250)\n",
    "\n",
    "# print(type(lines))\n",
    "# print(lines)\n",
    "\n",
    "# for line in lines:\n",
    "#     x1, y1, x2, y2 = line[0]\n",
    "#     cv2.line(img, (x1, y1), (x2, y2), (0, 0, 255), 3)\n",
    "\n",
    "cv2.imshow(\"Original\", gray)\n",
    "# # cv2.imshow(\"Histogram\", histogram)\n",
    "# cv2.imshow(\"Thresh\", thresh1)\n",
    "# cv2.imshow(\"Canny\", canny)\n",
    "cv2.waitKey(0)\n",
    "cv2.destroyAllWindows()\n",
    "\n",
    "plt.hist(gray.ravel(), bins=256, range=[0, 256])\n",
    "plt.show()"
   ]
  },
  {
   "cell_type": "code",
   "execution_count": null,
   "metadata": {},
   "outputs": [],
   "source": []
  }
 ],
 "metadata": {
  "kernelspec": {
   "display_name": "Python 3",
   "language": "python",
   "name": "python3"
  },
  "language_info": {
   "codemirror_mode": {
    "name": "ipython",
    "version": 3
   },
   "file_extension": ".py",
   "mimetype": "text/x-python",
   "name": "python",
   "nbconvert_exporter": "python",
   "pygments_lexer": "ipython3",
   "version": "3.6.9"
  }
 },
 "nbformat": 4,
 "nbformat_minor": 2
}
