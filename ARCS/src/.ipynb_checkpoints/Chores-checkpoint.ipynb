{
 "cells": [
  {
   "cell_type": "code",
   "execution_count": 2,
   "metadata": {},
   "outputs": [],
   "source": [
    "import cv2\n",
    "import os"
   ]
  },
  {
   "cell_type": "code",
   "execution_count": null,
   "metadata": {},
   "outputs": [],
   "source": []
  },
  {
   "cell_type": "markdown",
   "metadata": {},
   "source": [
    "## Cut Ori images"
   ]
  },
  {
   "cell_type": "code",
   "execution_count": 3,
   "metadata": {},
   "outputs": [],
   "source": [
    "def cut(path_src, path_dst, f_name, coord=None):\n",
    "    os.chdir(path_src)\n",
    "    images = os.listdir()\n",
    "    images.sort()\n",
    "    \n",
    "    num = 0\n",
    "    for image in images:\n",
    "        img = cv2.imread(image)\n",
    "        \n",
    "        if (coord != None):\n",
    "            cut = img[coord[0,1]:coord[0,0], coord[1,1]:coord[1,0],:]\n",
    "            cv2.imwrite(\"{}/{}_{}.bmp\".fomat(path_dst, f_name, num), cut)\n",
    "            num = num + 1\n",
    "        else:\n",
    "            print(\"Give me your interested area!\")\n",
    "    \n",
    "    print(files)"
   ]
  },
  {
   "cell_type": "code",
   "execution_count": null,
   "metadata": {},
   "outputs": [],
   "source": []
  },
  {
   "cell_type": "code",
   "execution_count": 5,
   "metadata": {},
   "outputs": [
    {
     "name": "stdout",
     "output_type": "stream",
     "text": [
      "['P90098705.bmp', 'P90100140.bmp', 'P90101497.bmp', 'P90102901.bmp', 'P90104289.bmp', 'P90105709.bmp', 'P90107144.bmp', 'P90108548.bmp', 'P90109983.bmp', 'P90111356.bmp', 'P90112791.bmp', 'P90114195.bmp', 'P90115599.bmp', 'P90116988.bmp', 'P90118407.bmp', 'P90119811.bmp', 'P90121200.bmp', 'P90122635.bmp', 'P90124039.bmp', 'P90125474.bmp', 'P90126878.bmp', 'P90128329.bmp', 'P90129811.bmp', 'P90131215.bmp', 'P90132682.bmp', 'P90134132.bmp', 'P90135599.bmp', 'P90137081.bmp', 'P90138532.bmp', 'P90139967.bmp', 'P90141371.bmp', 'P90142806.bmp', 'P90144226.bmp', 'P90145661.bmp', 'P90147080.bmp', 'P90148562.bmp', 'P90149982.bmp', 'P90151386.bmp', 'P90152806.bmp', 'P90154210.bmp', 'P90155629.bmp', 'P90157065.bmp', 'P90158500.bmp', 'P90159919.bmp', 'P90161355.bmp', 'P90162774.bmp', 'P90164194.bmp', 'P90165613.bmp', 'P90167064.bmp', 'P90168515.bmp', 'P90169966.bmp', 'P90171370.bmp', 'P90172789.bmp', 'P90174256.bmp', 'P90175707.bmp', 'P90177142.bmp', 'P90178577.bmp', 'P90180012.bmp', 'P90181463.bmp', 'P90182898.bmp', 'P90184380.bmp', 'P90185800.bmp', 'P90187220.bmp', 'P90188639.bmp', 'P90190636.bmp', 'P90192056.bmp', 'P90193506.bmp', 'P90194957.bmp', 'P90196392.bmp', 'P90197812.bmp', 'P90199200.bmp', 'P90200698.bmp', 'P90202164.bmp', 'P90203584.bmp', 'P90205050.bmp', 'P90206501.bmp', 'P90207952.bmp', 'P90209372.bmp', 'P90210807.bmp', 'P90212242.bmp', 'P90213724.bmp', 'P90215144.bmp', 'P90216579.bmp', 'P90218030.bmp', 'P90219481.bmp', 'P90220900.bmp', 'P90222351.bmp', 'P90223786.bmp', 'P90225221.bmp', 'P90226703.bmp', 'P90228123.bmp', 'P90229543.bmp', 'P90230993.bmp', 'P90232460.bmp', 'P90233895.bmp', 'P90235299.bmp', 'P90236765.bmp', 'P90238216.bmp', 'P90239698.bmp', 'P90241040.bmp']\n"
     ]
    }
   ],
   "source": [
    "path_src = \"/home/mj/HardDisk/Github/NTU/ARCS/img/X-Ray/Case_1/Ori\"\n",
    "path_dst = \"/home/mj/HardDisk/Github/NTU/ARCS/img/X-Ray/Case_1/Ori_Cut\"\n",
    "f_name = \"Ori\"\n",
    "coord = [[,], [,]]\n",
    "cut(, , \"\")"
   ]
  },
  {
   "cell_type": "code",
   "execution_count": null,
   "metadata": {},
   "outputs": [],
   "source": []
  }
 ],
 "metadata": {
  "kernelspec": {
   "display_name": "Python 3",
   "language": "python",
   "name": "python3"
  },
  "language_info": {
   "codemirror_mode": {
    "name": "ipython",
    "version": 3
   },
   "file_extension": ".py",
   "mimetype": "text/x-python",
   "name": "python",
   "nbconvert_exporter": "python",
   "pygments_lexer": "ipython3",
   "version": "3.6.9"
  }
 },
 "nbformat": 4,
 "nbformat_minor": 2
}
