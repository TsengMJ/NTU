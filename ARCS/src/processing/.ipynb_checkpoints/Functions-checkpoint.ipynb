{
 "cells": [
  {
   "cell_type": "code",
   "execution_count": null,
   "metadata": {},
   "outputs": [],
   "source": [
    "%run ../functions.ipynb"
   ]
  },
  {
   "cell_type": "markdown",
   "metadata": {},
   "source": [
    "## 拉對比"
   ]
  },
  {
   "cell_type": "code",
   "execution_count": null,
   "metadata": {},
   "outputs": [],
   "source": [
    "def swift_algo(gray, Lambda=3, Gamma=2):\n",
    "    ## Step 1: Image normalization\n",
    "    norm = gray/255\n",
    "    \n",
    "    ## Step 2: Comupte u series from normalized image\n",
    "    u = np.log(1+norm)\n",
    "    u_avg = np.mean(u)\n",
    "    u_std = np.std(u)\n",
    "    \n",
    "    ## Step 3: Compute ...\n",
    "    v = np.power(u, Lambda)/Lambda\n",
    "    f = np.power( np.exp( (np.tan(u)-u_std) / (np.exp(u)-v)), Gamma)\n",
    "    \n",
    "    ## Step 4: Redefine distrubution\n",
    "    t = (f-np.min(f)) / (np.max(f)-np.min(f))\n",
    "    final = (t*255).astype('uint8')\n",
    "    \n",
    "    return final"
   ]
  },
  {
   "cell_type": "code",
   "execution_count": null,
   "metadata": {},
   "outputs": [],
   "source": []
  },
  {
   "cell_type": "markdown",
   "metadata": {},
   "source": [
    "## 影像處理"
   ]
  },
  {
   "cell_type": "code",
   "execution_count": null,
   "metadata": {},
   "outputs": [],
   "source": [
    "def image_processing(gray_img):\n",
    "    blur = cv2.GaussianBlur(gray_img, (5,5), 0)\n",
    "    nlm  = cv2.fastNlMeansDenoising(blur, None, 10, 7, 21)\n",
    "    _, otsu = cv2.threshold(nlm, 0, 255, cv2.THRESH_BINARY_INV+cv2.THRESH_OTSU)\n",
    "    edge = cv2.Canny(otsu, 0, 20)\n",
    "    \n",
    "    return blur, nlm, otsu, edge\n",
    "\n",
    "def get_edge_points(edge_img):\n",
    "    edge_points = [[j,i] for i, r in enumerate(edge_img) for j, c in enumerate(r) if c == 255]\n",
    "\n",
    "    return edge_points"
   ]
  },
  {
   "cell_type": "code",
   "execution_count": null,
   "metadata": {},
   "outputs": [],
   "source": []
  },
  {
   "cell_type": "markdown",
   "metadata": {},
   "source": [
    "## 顯示結果"
   ]
  },
  {
   "cell_type": "code",
   "execution_count": null,
   "metadata": {},
   "outputs": [],
   "source": [
    "def show_resoult(predictions):\n",
    "    mean = np.mean(predictions, axis=0)\n",
    "    var  = np.var(predictions,  axis=0)\n",
    "    x_max, y_max = get_max_length_axil(predictions)\n",
    "    print(\"-----------------------------------------------------\")\n",
    "    print(\"Statistics: \")\n",
    "    print(\"Mean Centroid: ({:.5f}, {:.5f})\".format(mean[0], mean[1]))\n",
    "    print(\"Variance     : ({:.5f}, {:.5f})\".format(var[0], var[1]))\n",
    "    print(\"Max Length   : {:.5f}, {:.5f} (pixels)\".format(x_max, y_max))"
   ]
  },
  {
   "cell_type": "code",
   "execution_count": null,
   "metadata": {},
   "outputs": [],
   "source": []
  },
  {
   "cell_type": "markdown",
   "metadata": {},
   "source": [
    "## 亞像素座標"
   ]
  },
  {
   "cell_type": "code",
   "execution_count": null,
   "metadata": {},
   "outputs": [],
   "source": [
    "def sigmoid(x, a, b):\n",
    "    return 1.0 / (1.0 + np.exp(-a*(x-b)))\n",
    "\n",
    "def get_influential_neighbors(coord):\n",
    "    ## 依照 sample 的點落在當下 pixel 中的哪個空間，分為 4 個case\n",
    "    ##     0 . 1\n",
    "    ##    .......\n",
    "    ##     2 . 3\n",
    "    x = round(coord[0])\n",
    "    y = round(coord[1])\n",
    "    a = y > coord[0] and 1 or 0\n",
    "    b = x > coord[1] and 1 or 0\n",
    "    space = np.dot([1,2], [a,b])\n",
    "    \n",
    "    switcher = {\n",
    "        0: [[y,x], [y-1,x], [y-1,x-1], [y,x-1]],\n",
    "        1: [[y,x], [y,x+1], [y-1,x+1], [y-1,x]],\n",
    "        2: [[y,x], [y,x-1], [y+1,x-1], [y+1,x]],\n",
    "        3: [[y,x], [y+1,x], [y+1,x+1], [y,x+1]],\n",
    "    }\n",
    "    \n",
    "    neighbors_loc = np.asarray(switcher.get(space)).astype(int)\n",
    "    return neighbors_loc\n",
    "\n",
    "def get_negihbors_val(neighbors_loc, img):\n",
    "    neighbors_val = [img[y,x] for y, x in neighbors_loc]\n",
    "    return neighbors_val\n",
    "\n",
    "def get_negihbors_wt(coord, neighbors_loc): \n",
    "    ## 取的每個 neighbor 與 sample 點的距離\n",
    "    neighbors_dist = LA.norm(coord - neighbors_loc, axis=1)\n",
    "    neighbors_dist = neighbors_dist / np.sum(neighbors_dist)\n",
    "\n",
    "    ## 若與第一個 pixel 的距離是 0 (即在 pixel 上)則為當下的值\n",
    "    ## 否則每個 neighbor 的權重為距離倒數\n",
    "    neighbors_wt = neighbors_dist[0] == 0 and [1,0,0,0] or (1 - neighbors_dist)/3\n",
    "    return neighbors_wt\n",
    "\n",
    "def get_spl_val(coord, img):\n",
    "    ## 取得有影響力的 4 個相鄰點及相對應的 值 和 權重\n",
    "    neighbors_loc = get_influential_neighbors(coord)\n",
    "    neighbors_val = get_negihbors_val(neighbors_loc, img)\n",
    "    neighbors_wt  = get_negihbors_wt(coord, neighbors_loc)\n",
    "    \n",
    "    ## 計算 sample 的值\n",
    "    value = np.dot(neighbors_val, neighbors_wt)  \n",
    "    return value\n",
    "\n",
    "def get_sbp_edges(center, edge_pts, img):\n",
    "\n",
    "    sbp_edges = []\n",
    "    for pt in edge_pts:\n",
    "        ## 取得中心到邊緣的單位向量\n",
    "        c2e_V = pt - center\n",
    "        c2e_V = c2e_V/LA.norm(c2e_V)\n",
    "        \n",
    "        ## 取得 sapmple 點的'座標'及'亮度值' \n",
    "        spl_pts  = [pt + i*c2e_V for i in range(-5,6)]       # 需要再找道合適參數\n",
    "        spl_vals = [get_spl_val(spl_pt, img) for spl_pt in spl_pts]\n",
    "\n",
    "        ## 擬合 S 曲線\n",
    "        x_label = np.asarray(range(0,11))\n",
    "        y_vals  = (spl_vals - min(spl_vals))/ (max(spl_vals) - min(spl_vals))\n",
    "        popt, pcov = curve_fit(sigmoid, x_label, y_vals)\n",
    "        \n",
    "        ## 取得 Suboixels' 的位置\n",
    "        sbp = pt - 1.2*(5-popt[1])*c2e_V\n",
    "        sbp_edges.append(sbp)\n",
    "        \n",
    "\n",
    "    return sbp_edges"
   ]
  }
 ],
 "metadata": {
  "kernelspec": {
   "display_name": "Python 3",
   "language": "python",
   "name": "python3"
  },
  "language_info": {
   "codemirror_mode": {
    "name": "ipython",
    "version": 3
   },
   "file_extension": ".py",
   "mimetype": "text/x-python",
   "name": "python",
   "nbconvert_exporter": "python",
   "pygments_lexer": "ipython3",
   "version": "3.6.9"
  }
 },
 "nbformat": 4,
 "nbformat_minor": 2
}
