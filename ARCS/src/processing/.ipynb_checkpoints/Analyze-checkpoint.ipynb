{
 "cells": [
  {
   "cell_type": "code",
   "execution_count": 2,
   "metadata": {},
   "outputs": [],
   "source": [
    "import matplotlib.pyplot as plt\n",
    "import circle_fit as cf\n",
    "import numpy as np\n",
    "import cv2\n",
    "import os\n",
    "%run ../functions.ipynb"
   ]
  },
  {
   "cell_type": "code",
   "execution_count": null,
   "metadata": {},
   "outputs": [],
   "source": []
  },
  {
   "cell_type": "code",
   "execution_count": 5,
   "metadata": {},
   "outputs": [],
   "source": [
    "def image_processing(gray_img):\n",
    "    blur = cv2.GaussianBlur(gray_img, (5,5), 0)\n",
    "    nlm  = cv2.fastNlMeansDenoising(blur, None, 10, 7, 21)\n",
    "    _, otsu = cv2.threshold(nlm, 0, 255, cv2.THRESH_BINARY_INV+cv2.THRESH_OTSU)\n",
    "    edge = cv2.Canny(otsu, 0, 20)\n",
    "    \n",
    "    return edge, blur"
   ]
  },
  {
   "cell_type": "code",
   "execution_count": 6,
   "metadata": {},
   "outputs": [],
   "source": [
    "def get_edge_points(edge_img):\n",
    "    edge_points = [[j,i] for i, r in enumerate(edge_img) for j, c in enumerate(r) if c == 255]\n",
    "\n",
    "    return edge_points"
   ]
  },
  {
   "cell_type": "code",
   "execution_count": null,
   "metadata": {},
   "outputs": [],
   "source": []
  },
  {
   "cell_type": "markdown",
   "metadata": {},
   "source": [
    "## 測試擴增Edge 試圖建立虛擬連結"
   ]
  },
  {
   "cell_type": "markdown",
   "metadata": {},
   "source": [
    "### Version 1 移動有問題的點"
   ]
  },
  {
   "cell_type": "code",
   "execution_count": 7,
   "metadata": {},
   "outputs": [],
   "source": [
    "def move_edge(edited_edge, edge, img):\n",
    "    \n",
    "    edited_index = []\n",
    "    for index, point in enumerate(edge):\n",
    "        x, y = point[:]\n",
    "        value = img[y,x]\n",
    "        \n",
    "        for i in range(-1, 2, 1):\n",
    "            for j in range(-1, 2, 1):\n",
    "                if int(value) - int(img[y+i,x+j]) > 2:\n",
    "                    edited_edge.append([x+j, y+i])\n",
    "                    edited_index.append(index)\n",
    "    \n",
    "    edited_edge = np.delete(edited_edge, edited_index, axis=0)\n",
    "    return edited_edge"
   ]
  },
  {
   "cell_type": "markdown",
   "metadata": {},
   "source": [
    "### Versoin 2 直接增加可能的點"
   ]
  },
  {
   "cell_type": "code",
   "execution_count": 8,
   "metadata": {},
   "outputs": [],
   "source": [
    "def add_edge(edited_edge, edge_points, img):\n",
    "    \n",
    "    for index, point in enumerate(edge):\n",
    "        x, y = point[:]\n",
    "        value = img[y,x]\n",
    "        \n",
    "        for i in range(-1, 2, 1):\n",
    "            for j in range(-1, 2, 1):\n",
    "                if int(value) - int(img[y+i,x+j]) > 2:\n",
    "                    edited_edge.append([x+j, y+i])\n",
    "    \n",
    "    return edited_edge"
   ]
  },
  {
   "cell_type": "markdown",
   "metadata": {},
   "source": [
    "### Version 3 直接去除問題點"
   ]
  },
  {
   "cell_type": "code",
   "execution_count": 9,
   "metadata": {},
   "outputs": [],
   "source": [
    "def del_edge(edited_edge, edge_points, img):\n",
    "    \n",
    "    edited_index = []\n",
    "    for index, point in enumerate(edge):\n",
    "        x, y = point[:]\n",
    "        value = img[y,x]\n",
    "        \n",
    "        for i in range(-1, 2, 1):\n",
    "            for j in range(-1, 2, 1):\n",
    "                if int(value) - int(img[y+i,x+j]) > 2:\n",
    "                    edited_index.append(index)\n",
    "    \n",
    "    edited_edge = np.delete(edited_edge, edited_index, axis=0)\n",
    "    return edited_edge"
   ]
  },
  {
   "cell_type": "markdown",
   "metadata": {},
   "source": [
    "## 編輯邊緣"
   ]
  },
  {
   "cell_type": "code",
   "execution_count": 10,
   "metadata": {},
   "outputs": [],
   "source": [
    "def edit_edge(edge, img, funct):\n",
    "    edited_edge = edge.copy()\n",
    "    \n",
    "    if funct == 0:\n",
    "        edited_edge = move_edge(edited_edge, edge, img)\n",
    "    elif funct == 1: \n",
    "        edited_edge = add_edge(edited_edge, edge, img)\n",
    "    else:\n",
    "        edited_edge = del_edge(edited_edge, edge, img)\n",
    "    \n",
    "    edited_edge = np.unique(edited_edge, axis=0)\n",
    "    return edited_edge"
   ]
  },
  {
   "cell_type": "code",
   "execution_count": null,
   "metadata": {},
   "outputs": [],
   "source": []
  },
  {
   "cell_type": "code",
   "execution_count": 11,
   "metadata": {},
   "outputs": [
    {
     "name": "stdout",
     "output_type": "stream",
     "text": [
      "203.43340624689515  99.48214409869645\n",
      "203.43528157156837  99.49088777861972\n"
     ]
    }
   ],
   "source": [
    "os.chdir(\"/home/mj/HardDisk/Github/NTU/ARCS/img/X-Ray/Case_1/Cut\")\n",
    "\n",
    "file = \"10_mean_80.bmp\"\n",
    "img = cv2.imread(file,0)\n",
    "img_edge, img_blur = image_processing(img)\n",
    "edge = get_edge_points(img_edge)\n",
    "\n",
    "edited_edge = edit_edge(edge, img_blur, funct=0)\n",
    "\n",
    "cx,cy,r,_ = cf.least_squares_circle((edge))\n",
    "print(\"{}  {}\".format(cx, cy))\n",
    "cx,cy,r,_ = cf.least_squares_circle((edited_edge))\n",
    "print(\"{}  {}\".format(cx, cy))"
   ]
  },
  {
   "cell_type": "code",
   "execution_count": null,
   "metadata": {},
   "outputs": [],
   "source": []
  },
  {
   "cell_type": "code",
   "execution_count": 27,
   "metadata": {},
   "outputs": [
    {
     "name": "stdout",
     "output_type": "stream",
     "text": [
      "10_mean_0.bmp: 203.63069159851426, 99.29930449621862\n",
      "10_mean_1.bmp: 203.72580633913518, 99.18671017049444\n",
      "10_mean_10.bmp: 203.69815232915772, 99.00032905205221\n",
      "10_mean_11.bmp: 203.66804179701742, 99.15470489711709\n",
      "10_mean_12.bmp: 203.5769436233423, 99.148448777488\n",
      "10_mean_13.bmp: 203.54085519714027, 99.1337982525237\n",
      "10_mean_14.bmp: 203.55692309799988, 99.24662158535617\n",
      "10_mean_15.bmp: 203.49867016459072, 99.16251041492684\n",
      "10_mean_16.bmp: 203.5166087812232, 99.17368993386806\n",
      "10_mean_17.bmp: 203.63190419235477, 99.27693400006942\n",
      "10_mean_18.bmp: 203.42320404597072, 99.05680715512527\n",
      "10_mean_19.bmp: 203.6525761652803, 99.13739682749903\n",
      "10_mean_2.bmp: 203.46961683322576, 98.9722583807905\n",
      "10_mean_20.bmp: 203.46363306396833, 99.05997244695727\n",
      "10_mean_21.bmp: 203.534410082804, 99.21613789821288\n",
      "10_mean_22.bmp: 203.54408804679483, 99.15879438628329\n",
      "10_mean_23.bmp: 203.59323752590177, 99.09035582296201\n",
      "10_mean_24.bmp: 203.76215863433018, 99.06162340344221\n",
      "10_mean_25.bmp: 203.6355663596659, 99.20803129671759\n",
      "10_mean_26.bmp: 203.75288148983478, 99.20352788791254\n",
      "10_mean_27.bmp: 203.66712232330437, 99.02094202479319\n",
      "10_mean_28.bmp: 203.53667760200665, 99.24811283520499\n",
      "10_mean_29.bmp: 203.59170359120375, 99.1311081370752\n",
      "10_mean_3.bmp: 203.6672349697358, 99.15330188000107\n",
      "10_mean_30.bmp: 203.53560935834042, 98.98051354843865\n",
      "10_mean_31.bmp: 203.6489970455613, 99.06470963122813\n",
      "10_mean_32.bmp: 203.49998504771472, 98.88324643948748\n",
      "10_mean_33.bmp: 203.47237622647924, 99.16897361345347\n",
      "10_mean_34.bmp: 203.44782143535744, 99.27010360894413\n",
      "10_mean_35.bmp: 203.67235001950206, 99.20852319564096\n",
      "10_mean_36.bmp: 203.48121352610548, 99.19211684416302\n",
      "10_mean_37.bmp: 203.73358639484823, 99.15613838383877\n",
      "10_mean_38.bmp: 203.7502717975242, 99.20700817819069\n",
      "10_mean_39.bmp: 203.55971093108158, 99.21682433173216\n",
      "10_mean_4.bmp: 203.6545313774634, 98.98247481241688\n",
      "10_mean_40.bmp: 203.49680965219534, 99.23355904463745\n",
      "10_mean_41.bmp: 203.62580999406356, 98.93232175399066\n",
      "10_mean_42.bmp: 203.50291048263173, 99.01763287787396\n",
      "10_mean_43.bmp: 203.520482977313, 99.11822253439688\n",
      "10_mean_44.bmp: 203.64795501182806, 99.31149768869389\n",
      "10_mean_45.bmp: 203.59868715884906, 99.1845497267411\n",
      "10_mean_46.bmp: 203.6736196403012, 98.9639812223342\n",
      "10_mean_47.bmp: 203.5788134821291, 99.0952028588789\n",
      "10_mean_48.bmp: 203.72847855936539, 98.8592441198746\n",
      "10_mean_49.bmp: 203.63955968881055, 99.0609758724521\n",
      "10_mean_5.bmp: 203.5678299816651, 99.1341882311431\n",
      "10_mean_50.bmp: 203.56054752325866, 99.15377405986344\n",
      "10_mean_51.bmp: 203.5299346588228, 99.19030496515335\n",
      "10_mean_52.bmp: 203.5210093281749, 99.14426037728046\n",
      "10_mean_53.bmp: 203.33197524262235, 99.17721388447599\n",
      "10_mean_54.bmp: 203.6074385450837, 99.27019117358832\n",
      "10_mean_55.bmp: 203.63180779287387, 99.3032781014975\n",
      "10_mean_56.bmp: 203.60971824439616, 99.34467989741137\n",
      "10_mean_57.bmp: 203.72477619943922, 99.05166361449916\n",
      "10_mean_58.bmp: 203.6906724887743, 98.84689879530671\n",
      "10_mean_59.bmp: 203.65336860970993, 99.0106442649664\n",
      "10_mean_6.bmp: 203.57357287104824, 99.32059311956404\n",
      "10_mean_60.bmp: 203.43102586675084, 99.20623552312702\n",
      "10_mean_61.bmp: 203.57897858227503, 99.1590427714225\n",
      "10_mean_62.bmp: 203.58418316209642, 99.21522284865412\n",
      "10_mean_63.bmp: 203.83489899360518, 99.37938790810857\n",
      "10_mean_64.bmp: 203.56773141498755, 99.16034793936225\n",
      "10_mean_65.bmp: 203.60917464260734, 99.20845669560798\n",
      "10_mean_66.bmp: 203.4219365507746, 99.15226369671436\n",
      "10_mean_67.bmp: 203.67187879353077, 99.29793813857587\n",
      "10_mean_68.bmp: 203.6360398377476, 99.29000004737574\n",
      "10_mean_69.bmp: 203.63324895808438, 99.13773128021542\n",
      "10_mean_7.bmp: 203.72548743257633, 99.31463274557989\n",
      "10_mean_70.bmp: 203.53602815917918, 99.20073059921877\n",
      "10_mean_71.bmp: 203.60002939963076, 99.18266953854837\n",
      "10_mean_72.bmp: 203.66678146649616, 99.34200107032356\n",
      "10_mean_73.bmp: 203.57417958705983, 98.95828880704082\n",
      "10_mean_74.bmp: 203.523820887582, 99.22547240484658\n",
      "10_mean_75.bmp: 203.67010143486448, 99.17396733831896\n",
      "10_mean_76.bmp: 203.46143916607937, 99.31167029652754\n",
      "10_mean_77.bmp: 203.57497023700213, 99.13192823562412\n",
      "10_mean_78.bmp: 203.67543354648808, 99.17144597198065\n",
      "10_mean_79.bmp: 203.63786807778746, 99.20445971856495\n",
      "10_mean_8.bmp: 203.62100426494666, 99.24196216115044\n",
      "10_mean_80.bmp: 203.44046892562008, 99.4801094781841\n",
      "10_mean_81.bmp: 203.6313004166847, 99.05879952405444\n",
      "10_mean_82.bmp: 203.46736746845224, 99.28013008864141\n",
      "10_mean_83.bmp: 203.70724449441315, 99.3521421940835\n",
      "10_mean_84.bmp: 203.48681449222758, 99.39208368216107\n",
      "10_mean_85.bmp: 203.61465642143517, 99.31906202966937\n",
      "10_mean_86.bmp: 203.6435826795732, 98.90369606638882\n",
      "10_mean_87.bmp: 203.87075427639698, 98.99181572457523\n",
      "10_mean_88.bmp: 203.72535378504975, 99.26747745216778\n",
      "10_mean_89.bmp: 203.80649765689856, 99.36155296730624\n",
      "10_mean_9.bmp: 203.67906134548693, 99.02674419687324\n",
      "10_mean_90.bmp: 203.58481992056565, 99.18630355564278\n",
      "10_mean_91.bmp: 203.77621037373126, 99.3583529290583\n",
      "10_mean_92.bmp: 203.72053108136475, 99.24752333343986\n",
      "10_mean_93.bmp: 203.64584529759182, 99.18129107610794\n",
      "10_mean_94.bmp: 203.68684505439367, 99.17935160719045\n",
      "10_mean_95.bmp: 203.65178324348472, 99.20654210202606\n",
      "10_mean_96.bmp: 203.61535997893688, 99.2345222522819\n",
      "10_mean_97.bmp: 203.79934034125, 99.06592255295956\n",
      "10_mean_98.bmp: 203.5802887919273, 99.23296396779148\n",
      "10_mean_99.bmp: 203.58754568534118, 99.21975855855968\n"
     ]
    }
   ],
   "source": [
    "os.chdir(\"/home/mj/HardDisk/Github/NTU/ARCS/img/X-Ray/Case_1/Cut\")\n",
    "try:\n",
    "    \n",
    "    images = os.listdir()\n",
    "    images.sort()\n",
    "    \n",
    "    predictions = []\n",
    "    for image in images:\n",
    "        img = cv2.imread(image,0)\n",
    "        img_edge, img_blur = image_processing(img)\n",
    "        edge = get_edge_points(img_edge)\n",
    "        edited_edge = edit_edge(edge, img_blur, funct=1)\n",
    "\n",
    "        cx,cy,r,_ = cf.least_squares_circle((edited_edge))\n",
    "        predictions.append([cx, cy])\n",
    "        print(\"{}: {}, {}\".format(image ,cx, cy))\n",
    "        \n",
    "except Exception as e:\n",
    "    print(e)"
   ]
  },
  {
   "cell_type": "code",
   "execution_count": 28,
   "metadata": {},
   "outputs": [
    {
     "name": "stdout",
     "output_type": "stream",
     "text": [
      "-----------------------------------------------------\n",
      "Statistics: \n",
      "Mean Centroid: (203.60769, 99.16769)\n",
      "Variance     : (0.00973, 0.01521)\n",
      "Max Length   : 0.43018, 0.57641 (pixels)\n"
     ]
    }
   ],
   "source": [
    "show_resoult(predictions)"
   ]
  },
  {
   "cell_type": "code",
   "execution_count": null,
   "metadata": {},
   "outputs": [],
   "source": []
  },
  {
   "cell_type": "code",
   "execution_count": 20,
   "metadata": {},
   "outputs": [],
   "source": [
    "os.chdir(\"/home/mj/HardDisk/Github/NTU/ARCS/img/X-Ray/Case_1/Cut\")\n",
    "file_1 = \"10_mean_63.bmp\"\n",
    "img_1 = cv2.imread(file_1,0)\n",
    "blur_1 = cv2.GaussianBlur(img_1, (5,5), 0)\n",
    "nlm_1 = cv2.fastNlMeansDenoising(blur_1, None, 10, 7, 21)\n",
    "_, otsu_1 = cv2.threshold(nlm_1, 0, 255, cv2.THRESH_BINARY_INV+cv2.THRESH_OTSU)\n",
    "edge_1 = cv2.Canny(otsu_1, 0, 20)\n",
    "edge_points_1 = get_edge_points(edge_1)\n",
    "\n",
    "\n",
    "# file_2 = \"10_mean_81.bmp\"\n",
    "# img_2 = cv2.imread(file_2, 0)\n",
    "# blur_2 = cv2.GaussianBlur(img_2, (5,5), 0)\n",
    "# nlm_2 = cv2.fastNlMeansDenoising(blur_2, None, 10, 7, 21)\n",
    "# _, otsu_2 = cv2.threshold(nlm_2, 0, 255, cv2.THRESH_BINARY_INV+cv2.THRESH_OTSU)\n",
    "# edge_2 = cv2.Canny(otsu_2, 0, 20)# edge_points_2 = get_edge_points(edge_2)\n",
    "\n",
    "\n",
    "# 顯示圖片\n",
    "cv2.imshow(\"Blur 1\", blur_1)\n",
    "# cv2.imshow(\"Blur 2\", blur_2)\n",
    "\n",
    "cv2.imshow(\"NLM 1\", nlm_1)\n",
    "# cv2.imshow(\"NLM 2\", nlm_2)\n",
    "\n",
    "cv2.imshow(\"Otsu 1\", otsu_1)\n",
    "# cv2.imshow(\"Otsu 2\", otsu_2)\n",
    "\n",
    "cv2.imshow(\"Edge 1\", edge_1)\n",
    "# cv2.imshow(\"Edge 2\", edge_2)\n",
    "cv2.waitKey(0)\n",
    "cv2.destroyAllWindows()"
   ]
  },
  {
   "cell_type": "code",
   "execution_count": 81,
   "metadata": {},
   "outputs": [
    {
     "data": {
      "text/plain": [
       "{(1, 2), (3, 4), (5, 6)}"
      ]
     },
     "execution_count": 81,
     "metadata": {},
     "output_type": "execute_result"
    }
   ],
   "source": []
  },
  {
   "cell_type": "code",
   "execution_count": null,
   "metadata": {},
   "outputs": [],
   "source": []
  },
  {
   "cell_type": "code",
   "execution_count": null,
   "metadata": {},
   "outputs": [],
   "source": []
  },
  {
   "cell_type": "code",
   "execution_count": null,
   "metadata": {},
   "outputs": [],
   "source": []
  },
  {
   "cell_type": "code",
   "execution_count": null,
   "metadata": {},
   "outputs": [],
   "source": []
  },
  {
   "cell_type": "markdown",
   "metadata": {},
   "source": [
    "## 測試多次隨機取子點擬合的分佈\n",
    "假定平均 cx: 203.61381  cy: 99.17248\n",
    "### 結論：無法單靠尋找 Fram 各自的 Median 或 多次 Random subsampled 做連結"
   ]
  },
  {
   "cell_type": "code",
   "execution_count": 50,
   "metadata": {},
   "outputs": [
    {
     "name": "stdout",
     "output_type": "stream",
     "text": [
      "[205.0, 205.0, 205.0, 205.0, 205.0, 205.0, 205.0, 205.0, 205.0, 205.0]\n",
      "[100.5, 100.5, 100.5, 100.5, 100.5, 100.5, 100.5, 100.5, 100.5, 100.5]\n"
     ]
    }
   ],
   "source": [
    "os.chdir(\"/home/mj/HardDisk/Github/NTU/ARCS/img/X-Ray/Case_1/Cut\")\n",
    "\n",
    "file = \"10_mean_80.bmp\"\n",
    "img = cv2.imread(file,0)\n",
    "edge = image_processing(img)\n",
    "edge_points = get_edge_points(edge)\n",
    "\n",
    "\n",
    "xs = []\n",
    "ys = []\n",
    "for iter in range(10):\n",
    "    sampled_indices = np.random.choice(range(len(edge_points)), size=int(len(edge_points)), replace=False)\n",
    "    sample_points = edge_points[sampled_indices]\n",
    "#     cx,cy,r,_ = cf.least_squares_circle((sample_points))\n",
    "    cx = np.median(sample_points[:,0])\n",
    "    cy = np.median(sample_points[:,1])\n",
    "    xs.append(cx)\n",
    "    ys.append(cy)\n",
    "\n",
    "print(xs)\n",
    "print(ys)"
   ]
  },
  {
   "cell_type": "code",
   "execution_count": null,
   "metadata": {},
   "outputs": [],
   "source": []
  }
 ],
 "metadata": {
  "kernelspec": {
   "display_name": "Python 3",
   "language": "python",
   "name": "python3"
  },
  "language_info": {
   "codemirror_mode": {
    "name": "ipython",
    "version": 3
   },
   "file_extension": ".py",
   "mimetype": "text/x-python",
   "name": "python",
   "nbconvert_exporter": "python",
   "pygments_lexer": "ipython3",
   "version": "3.6.9"
  }
 },
 "nbformat": 4,
 "nbformat_minor": 2
}
