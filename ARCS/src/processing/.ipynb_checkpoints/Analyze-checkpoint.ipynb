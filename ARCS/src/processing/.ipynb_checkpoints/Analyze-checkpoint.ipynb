{
 "cells": [
  {
   "cell_type": "code",
   "execution_count": 2,
   "metadata": {},
   "outputs": [],
   "source": [
    "import matplotlib.pyplot as plt\n",
    "import circle_fit as cf\n",
    "import numpy as np\n",
    "import cv2\n",
    "import os\n",
    "%run ../functions.ipynb"
   ]
  },
  {
   "cell_type": "code",
   "execution_count": null,
   "metadata": {},
   "outputs": [],
   "source": []
  },
  {
   "cell_type": "code",
   "execution_count": 3,
   "metadata": {},
   "outputs": [],
   "source": [
    "def image_processing(gray_img):\n",
    "    blur = cv2.GaussianBlur(gray_img, (5,5), 0)\n",
    "    nlm  = cv2.fastNlMeansDenoising(blur, None, 10, 7, 21)\n",
    "    _, otsu = cv2.threshold(nlm, 0, 255, cv2.THRESH_BINARY_INV+cv2.THRESH_OTSU)\n",
    "    edge = cv2.Canny(otsu, 0, 20)\n",
    "    \n",
    "    return edge, blur"
   ]
  },
  {
   "cell_type": "code",
   "execution_count": 4,
   "metadata": {},
   "outputs": [],
   "source": [
    "def get_edge_points(edge_img):\n",
    "    edge_points = [[j,i] for i, r in enumerate(edge_img) for j, c in enumerate(r) if c == 255]\n",
    "\n",
    "    return edge_points"
   ]
  },
  {
   "cell_type": "code",
   "execution_count": null,
   "metadata": {},
   "outputs": [],
   "source": []
  },
  {
   "cell_type": "markdown",
   "metadata": {},
   "source": [
    "## 測試擴增Edge 試圖建立虛擬連結"
   ]
  },
  {
   "cell_type": "markdown",
   "metadata": {},
   "source": [
    "### Version 1 移動有問題的點"
   ]
  },
  {
   "cell_type": "code",
   "execution_count": 5,
   "metadata": {},
   "outputs": [],
   "source": [
    "def move_edge(edited_edge, edge, img):\n",
    "    \n",
    "    edited_index = []\n",
    "    for index, point in enumerate(edge):\n",
    "        x, y = point[:]\n",
    "        value = img[y,x]\n",
    "        \n",
    "        for i in range(-1, 2, 1):\n",
    "            for j in range(-1, 2, 1):\n",
    "                if int(value) - int(img[y+i,x+j]) > 2:\n",
    "                    edited_edge.append([x+j, y+i])\n",
    "                    edited_index.append(index)\n",
    "    \n",
    "    edited_edge = np.delete(edited_edge, edited_index, axis=0)\n",
    "    return edited_edge"
   ]
  },
  {
   "cell_type": "markdown",
   "metadata": {},
   "source": [
    "### Versoin 2 直接增加可能的點"
   ]
  },
  {
   "cell_type": "code",
<<<<<<< HEAD
   "execution_count": 6,
=======
   "execution_count": 16,
>>>>>>> da8f5dc6281b5542f4b7345dab5f5a7e2bd8ab44
   "metadata": {},
   "outputs": [],
   "source": [
    "def add_edge(edited_edge, edge_points, img):\n",
    "    \n",
    "    for index, point in enumerate(edge):\n",
    "        x, y = point[:]\n",
    "        value = img[y,x]\n",
    "        \n",
    "        for i in range(-1, 2, 1):\n",
    "            for j in range(-1, 2, 1):\n",
    "                if int(value) - int(img[y+i,x+j]) > 2:\n",
    "                    edited_edge.append([x+j, y+i])\n",
    "    \n",
    "    return edited_edge"
   ]
  },
  {
   "cell_type": "markdown",
   "metadata": {},
   "source": [
    "### Version 3 直接去除問題點"
   ]
  },
  {
   "cell_type": "code",
   "execution_count": 7,
   "metadata": {},
   "outputs": [],
   "source": [
    "def del_edge(edited_edge, edge_points, img):\n",
    "    \n",
    "    edited_index = []\n",
    "    for index, point in enumerate(edge):\n",
    "        x, y = point[:]\n",
    "        value = img[y,x]\n",
    "        \n",
    "        for i in range(-1, 2, 1):\n",
    "            for j in range(-1, 2, 1):\n",
    "                if int(value) - int(img[y+i,x+j]) > 2:\n",
    "                    edited_index.append(index)\n",
    "    \n",
    "    edited_edge = np.delete(edited_edge, edited_index, axis=0)\n",
    "    return edited_edge"
   ]
  },
  {
   "cell_type": "markdown",
   "metadata": {},
   "source": [
    "## 去除極端"
   ]
  },
  {
   "cell_type": "code",
   "execution_count": 27,
   "metadata": {},
   "outputs": [],
   "source": [
    "def remove_extreme(points):\n",
    "    tmp = points[points[:,0].argsort()]\n",
    "    tmp = tmp[10:-10, :]\n",
    "    \n",
    "    tmp = tmp[tmp[:,1].argsort()]\n",
    "    tmp = tmp[10:-10, :]\n",
    "    return tmp"
   ]
  },
  {
   "cell_type": "markdown",
   "metadata": {},
   "source": [
    "## 無差別增加"
   ]
  },
  {
   "cell_type": "code",
   "execution_count": 43,
   "metadata": {},
   "outputs": [],
   "source": [
    "def add_neighbors(edge):\n",
    "    \n",
    "    for index, point in enumerate(edge):\n",
    "        x, y = point[:]\n",
    "        \n",
    "        for i in range(-1, 2, 1):\n",
    "            for j in range(-1, 2, 1):\n",
    "                edited_edge.append([x+j, y+i])\n",
    "    \n",
    "    return edited_edge"
   ]
  },
  {
   "cell_type": "code",
   "execution_count": null,
   "metadata": {},
   "outputs": [],
   "source": []
  },
  {
   "cell_type": "markdown",
   "metadata": {},
   "source": [
    "## 編輯邊緣"
   ]
  },
  {
   "cell_type": "code",
<<<<<<< HEAD
   "execution_count": 21,
=======
   "execution_count": 8,
>>>>>>> da8f5dc6281b5542f4b7345dab5f5a7e2bd8ab44
   "metadata": {},
   "outputs": [],
   "source": [
    "def edit_edge(edge, img, funct):\n",
    "    edited_edge = edge.copy()\n",
    "    \n",
    "    if funct == 0:\n",
    "        edited_edge = move_edge(edited_edge, edge, img)\n",
    "    elif funct == 1: \n",
    "        edited_edge = add_edge(edited_edge, edge, img)\n",
    "    else:\n",
    "        edited_edge = del_edge(edited_edge, edge, img)\n",
    "    \n",
    "    edited_edge = np.unique(edited_edge, axis=0)\n",
    "    return edited_edge"
   ]
  },
  {
   "cell_type": "code",
   "execution_count": null,
   "metadata": {},
   "outputs": [],
   "source": []
  },
  {
   "cell_type": "code",
<<<<<<< HEAD
   "execution_count": 44,
   "metadata": {},
   "outputs": [
    {
     "ename": "AttributeError",
     "evalue": "'numpy.ndarray' object has no attribute 'append'",
     "output_type": "error",
     "traceback": [
      "\u001b[0;31m---------------------------------------------------------------------------\u001b[0m",
      "\u001b[0;31mAttributeError\u001b[0m                            Traceback (most recent call last)",
      "\u001b[0;32m<ipython-input-44-547480bcee60>\u001b[0m in \u001b[0;36m<module>\u001b[0;34m\u001b[0m\n\u001b[1;32m      8\u001b[0m \u001b[0;31m# edited_edge = edit_edge(edge, img_blur, funct=0)\u001b[0m\u001b[0;34m\u001b[0m\u001b[0;34m\u001b[0m\u001b[0;34m\u001b[0m\u001b[0m\n\u001b[1;32m      9\u001b[0m \u001b[0;31m# edited_edge = remove_extreme(edited_edge)\u001b[0m\u001b[0;34m\u001b[0m\u001b[0;34m\u001b[0m\u001b[0;34m\u001b[0m\u001b[0m\n\u001b[0;32m---> 10\u001b[0;31m \u001b[0medited_edge\u001b[0m \u001b[0;34m=\u001b[0m \u001b[0madd_neighbors\u001b[0m\u001b[0;34m(\u001b[0m\u001b[0medge\u001b[0m\u001b[0;34m)\u001b[0m\u001b[0;34m\u001b[0m\u001b[0;34m\u001b[0m\u001b[0m\n\u001b[0m\u001b[1;32m     11\u001b[0m \u001b[0medited_edge\u001b[0m \u001b[0;34m=\u001b[0m \u001b[0mnp\u001b[0m\u001b[0;34m.\u001b[0m\u001b[0munique\u001b[0m\u001b[0;34m(\u001b[0m\u001b[0medited_edge\u001b[0m\u001b[0;34m,\u001b[0m \u001b[0maxis\u001b[0m\u001b[0;34m=\u001b[0m\u001b[0;36m0\u001b[0m\u001b[0;34m)\u001b[0m\u001b[0;34m\u001b[0m\u001b[0;34m\u001b[0m\u001b[0m\n\u001b[1;32m     12\u001b[0m \u001b[0;34m\u001b[0m\u001b[0m\n",
      "\u001b[0;32m<ipython-input-43-5b23675a3ad5>\u001b[0m in \u001b[0;36madd_neighbors\u001b[0;34m(edge)\u001b[0m\n\u001b[1;32m      6\u001b[0m         \u001b[0;32mfor\u001b[0m \u001b[0mi\u001b[0m \u001b[0;32min\u001b[0m \u001b[0mrange\u001b[0m\u001b[0;34m(\u001b[0m\u001b[0;34m-\u001b[0m\u001b[0;36m1\u001b[0m\u001b[0;34m,\u001b[0m \u001b[0;36m2\u001b[0m\u001b[0;34m,\u001b[0m \u001b[0;36m1\u001b[0m\u001b[0;34m)\u001b[0m\u001b[0;34m:\u001b[0m\u001b[0;34m\u001b[0m\u001b[0;34m\u001b[0m\u001b[0m\n\u001b[1;32m      7\u001b[0m             \u001b[0;32mfor\u001b[0m \u001b[0mj\u001b[0m \u001b[0;32min\u001b[0m \u001b[0mrange\u001b[0m\u001b[0;34m(\u001b[0m\u001b[0;34m-\u001b[0m\u001b[0;36m1\u001b[0m\u001b[0;34m,\u001b[0m \u001b[0;36m2\u001b[0m\u001b[0;34m,\u001b[0m \u001b[0;36m1\u001b[0m\u001b[0;34m)\u001b[0m\u001b[0;34m:\u001b[0m\u001b[0;34m\u001b[0m\u001b[0;34m\u001b[0m\u001b[0m\n\u001b[0;32m----> 8\u001b[0;31m                 \u001b[0medited_edge\u001b[0m\u001b[0;34m.\u001b[0m\u001b[0mappend\u001b[0m\u001b[0;34m(\u001b[0m\u001b[0;34m[\u001b[0m\u001b[0mx\u001b[0m\u001b[0;34m+\u001b[0m\u001b[0mj\u001b[0m\u001b[0;34m,\u001b[0m \u001b[0my\u001b[0m\u001b[0;34m+\u001b[0m\u001b[0mi\u001b[0m\u001b[0;34m]\u001b[0m\u001b[0;34m)\u001b[0m\u001b[0;34m\u001b[0m\u001b[0;34m\u001b[0m\u001b[0m\n\u001b[0m\u001b[1;32m      9\u001b[0m \u001b[0;34m\u001b[0m\u001b[0m\n\u001b[1;32m     10\u001b[0m     \u001b[0;32mreturn\u001b[0m \u001b[0medited_edge\u001b[0m\u001b[0;34m\u001b[0m\u001b[0;34m\u001b[0m\u001b[0m\n",
      "\u001b[0;31mAttributeError\u001b[0m: 'numpy.ndarray' object has no attribute 'append'"
=======
   "execution_count": 17,
   "metadata": {},
   "outputs": [
    {
     "name": "stdout",
     "output_type": "stream",
     "text": [
      "203.43340624689515  99.48214409869645\n",
      "203.39608778343222  99.51262931804382\n"
>>>>>>> da8f5dc6281b5542f4b7345dab5f5a7e2bd8ab44
     ]
    }
   ],
   "source": [
    "os.chdir(\"/home/mj/Github/NTU/ARCS/img/X-Ray/Case_1/Cut\")\n",
    "\n",
    "file = \"10_mean_80.bmp\"\n",
    "img = cv2.imread(file,0)\n",
    "img_edge, img_blur = image_processing(img)\n",
    "edge = get_edge_points(img_edge)\n",
    "\n",
<<<<<<< HEAD
    "# edited_edge = edit_edge(edge, img_blur, funct=0)\n",
    "# edited_edge = remove_extreme(edited_edge)\n",
    "edited_edge = add_neighbors(edge)\n",
    "edited_edge = np.unique(edited_edge, axis=0)\n",
=======
    "edited_edge = edit_edge(edge, img_blur, funct=1)\n",
>>>>>>> da8f5dc6281b5542f4b7345dab5f5a7e2bd8ab44
    "\n",
    "cx,cy,r,_ = cf.least_squares_circle((edge))\n",
    "print(\"{}  {}\".format(cx, cy))\n",
    "cx,cy,r,_ = cf.least_squares_circle((edited_edge))\n",
    "print(\"{}  {}\".format(cx, cy))"
   ]
  },
  {
   "cell_type": "code",
   "execution_count": null,
   "metadata": {},
   "outputs": [],
   "source": []
  },
  {
   "cell_type": "code",
<<<<<<< HEAD
   "execution_count": 41,
   "metadata": {
    "scrolled": true
   },
=======
   "execution_count": 18,
   "metadata": {},
>>>>>>> da8f5dc6281b5542f4b7345dab5f5a7e2bd8ab44
   "outputs": [
    {
     "name": "stdout",
     "output_type": "stream",
     "text": [
<<<<<<< HEAD
      "10_mean_0.bmp: 203.65015812646615, 99.31823635818822\n",
      "10_mean_1.bmp: 203.72156333051737, 99.16541760073561\n",
      "10_mean_10.bmp: 203.687243218752, 99.026438987076\n",
      "10_mean_11.bmp: 203.68624704960123, 99.16997286985983\n",
      "10_mean_12.bmp: 203.57702104704794, 99.15251288078137\n",
      "10_mean_13.bmp: 203.5543050507337, 99.14141741329092\n",
      "10_mean_14.bmp: 203.55077402828599, 99.2387580838919\n",
      "10_mean_15.bmp: 203.47917121281904, 99.20155926445166\n",
      "10_mean_16.bmp: 203.50992480702777, 99.20248973086012\n",
      "10_mean_17.bmp: 203.63567305364083, 99.25578855542489\n",
      "10_mean_18.bmp: 203.4423583187869, 99.05418509690529\n",
      "10_mean_19.bmp: 203.65967992386763, 99.13897097258894\n",
      "10_mean_2.bmp: 203.47404270172729, 99.00593486021788\n",
      "10_mean_20.bmp: 203.48117828340423, 99.06057785858914\n",
      "10_mean_21.bmp: 203.56029199178002, 99.20183050679015\n",
      "10_mean_22.bmp: 203.55727962321959, 99.18621780539195\n",
      "10_mean_23.bmp: 203.58225025293928, 99.09700553956289\n",
      "10_mean_24.bmp: 203.779217177741, 99.07016184404632\n",
      "10_mean_25.bmp: 203.6354087084237, 99.20401661777284\n",
      "10_mean_26.bmp: 203.7677099122567, 99.21401701341088\n",
      "10_mean_27.bmp: 203.67961541956228, 99.03520369318645\n",
      "10_mean_28.bmp: 203.537333194974, 99.26042899555031\n",
      "10_mean_29.bmp: 203.60417461105672, 99.12383460506786\n",
      "10_mean_3.bmp: 203.67194577353985, 99.15931673312465\n",
      "10_mean_30.bmp: 203.51980176887102, 98.99940861488794\n",
      "10_mean_31.bmp: 203.65741097952213, 99.06053359983949\n",
      "10_mean_32.bmp: 203.50011595662838, 98.87805741787422\n",
      "10_mean_33.bmp: 203.4776398024047, 99.19057570202429\n",
      "10_mean_34.bmp: 203.4524669460719, 99.25332766396922\n",
      "10_mean_35.bmp: 203.66419179313976, 99.18512228663005\n",
      "10_mean_36.bmp: 203.48784686545025, 99.20686086285542\n",
      "10_mean_37.bmp: 203.75022334405827, 99.157909867443\n",
      "10_mean_38.bmp: 203.76397072331886, 99.24592056501945\n",
      "10_mean_39.bmp: 203.58757252744743, 99.23078799404323\n",
      "10_mean_4.bmp: 203.6751117391369, 99.01002844549924\n",
      "10_mean_40.bmp: 203.51156135279453, 99.18941032535155\n",
      "10_mean_41.bmp: 203.62698447942824, 98.89709216945819\n",
      "10_mean_42.bmp: 203.51638189771217, 99.01399861245834\n",
      "10_mean_43.bmp: 203.52456676649965, 99.10055634732697\n",
      "10_mean_44.bmp: 203.65114336426495, 99.31876449614515\n",
      "10_mean_45.bmp: 203.6034845441706, 99.2112607825299\n",
      "10_mean_46.bmp: 203.6540057774563, 98.96660673081904\n",
      "10_mean_47.bmp: 203.6131971949719, 99.11551080184977\n",
      "10_mean_48.bmp: 203.74429620044648, 98.87879581908305\n",
      "10_mean_49.bmp: 203.63913615630892, 99.05451915563549\n",
      "10_mean_5.bmp: 203.58263935865023, 99.15820987367044\n",
      "10_mean_50.bmp: 203.57006404694343, 99.18703912423798\n",
      "10_mean_51.bmp: 203.53991527546358, 99.19078715100049\n",
      "10_mean_52.bmp: 203.53495322725973, 99.16013890931619\n",
      "10_mean_53.bmp: 203.32251287629526, 99.2120319869825\n",
      "10_mean_54.bmp: 203.6271253764594, 99.25087434365736\n",
      "10_mean_55.bmp: 203.6437803085128, 99.33096139832607\n",
      "10_mean_56.bmp: 203.61334954961808, 99.32975651946919\n",
      "10_mean_57.bmp: 203.72421247157334, 99.06286813029034\n",
      "10_mean_58.bmp: 203.6909887052422, 98.86398858633243\n",
      "10_mean_59.bmp: 203.66075169138685, 99.00747526530682\n",
      "10_mean_6.bmp: 203.58480485870297, 99.32484298612839\n",
      "10_mean_60.bmp: 203.43228324959887, 99.20689060683982\n",
      "10_mean_61.bmp: 203.58446291411545, 99.16565798182128\n",
      "10_mean_62.bmp: 203.58722571078297, 99.19840541403859\n",
      "10_mean_63.bmp: 203.86200536333442, 99.34088223828384\n",
      "10_mean_64.bmp: 203.5922344159732, 99.20301755955367\n",
      "10_mean_65.bmp: 203.61156323655462, 99.20555302656743\n",
      "10_mean_66.bmp: 203.43805535609454, 99.14293034057845\n",
      "10_mean_67.bmp: 203.67954575925557, 99.31844874663018\n",
      "10_mean_68.bmp: 203.64308258879063, 99.28598609241702\n",
      "10_mean_69.bmp: 203.65508770280292, 99.14943825319484\n",
      "10_mean_7.bmp: 203.73815466063277, 99.32623459151611\n",
      "10_mean_70.bmp: 203.53979692082507, 99.21310485531598\n",
      "10_mean_71.bmp: 203.61519751009797, 99.19108857110606\n",
      "10_mean_72.bmp: 203.66783501983568, 99.33048692257215\n",
      "10_mean_73.bmp: 203.57345776608722, 98.97036287289268\n",
      "10_mean_74.bmp: 203.53225331584028, 99.20674912712525\n",
      "10_mean_75.bmp: 203.67005781481126, 99.15160984130188\n",
      "10_mean_76.bmp: 203.4554309597907, 99.31891986175617\n",
      "10_mean_77.bmp: 203.5759191408945, 99.1257860653816\n",
      "10_mean_78.bmp: 203.69833926225724, 99.19210473593341\n",
      "10_mean_79.bmp: 203.6437604931441, 99.21970018237631\n",
      "10_mean_8.bmp: 203.6416007290241, 99.2587187158062\n",
      "10_mean_80.bmp: 203.44053119875414, 99.49219557410538\n",
      "10_mean_81.bmp: 203.62733352512154, 99.076675024659\n",
      "10_mean_82.bmp: 203.48352140777163, 99.30195295274227\n",
      "10_mean_83.bmp: 203.68730202411191, 99.35927876145308\n",
      "10_mean_84.bmp: 203.4984153301334, 99.38100194737709\n",
      "10_mean_85.bmp: 203.6349165928081, 99.33361430898037\n",
      "10_mean_86.bmp: 203.64426611642583, 98.90249681309606\n",
      "10_mean_87.bmp: 203.88854364788523, 99.01490713010611\n",
      "10_mean_88.bmp: 203.7546312636797, 99.29570523305749\n",
      "10_mean_89.bmp: 203.8206662102613, 99.34841599651769\n",
      "10_mean_9.bmp: 203.67994543442924, 99.0552921937228\n",
      "10_mean_90.bmp: 203.5917684564435, 99.1742911051062\n",
      "10_mean_91.bmp: 203.76170407286824, 99.36939354911307\n",
      "10_mean_92.bmp: 203.7293408048267, 99.25029093711437\n",
      "10_mean_93.bmp: 203.65963957141466, 99.1846056122342\n",
      "10_mean_94.bmp: 203.7004052206214, 99.16848012563574\n",
      "10_mean_95.bmp: 203.6561314326568, 99.21492260542283\n",
      "10_mean_96.bmp: 203.6134839397546, 99.24313143354328\n",
      "10_mean_97.bmp: 203.81545296426498, 99.05692745668466\n",
      "10_mean_98.bmp: 203.60524955776873, 99.24763140516191\n",
      "10_mean_99.bmp: 203.58820076695235, 99.24811085985145\n"
=======
      "10_mean_0.bmp: 203.65148127383424, 99.34046385032879\n",
      "10_mean_1.bmp: 203.7226536236001, 99.20579779717248\n",
      "10_mean_10.bmp: 203.72823483247674, 99.01548571141475\n",
      "10_mean_11.bmp: 203.61724093797685, 99.19294420801616\n",
      "10_mean_12.bmp: 203.58303395297943, 99.14008903331438\n",
      "10_mean_13.bmp: 203.55023764240585, 99.16971108365122\n",
      "10_mean_14.bmp: 203.50887671972993, 99.26349689932998\n",
      "10_mean_15.bmp: 203.48595752271643, 99.1558225581777\n",
      "10_mean_16.bmp: 203.5048771327654, 99.17142677078748\n",
      "10_mean_17.bmp: 203.64995591694097, 99.29816654594798\n",
      "10_mean_18.bmp: 203.42189430103605, 99.05786894482877\n",
      "10_mean_19.bmp: 203.656517896485, 99.12014932238354\n",
      "10_mean_2.bmp: 203.46014946699106, 98.93144635525327\n",
      "10_mean_20.bmp: 203.48511322568797, 99.11745813105705\n",
      "10_mean_21.bmp: 203.5854814148023, 99.2718272834331\n",
      "10_mean_22.bmp: 203.5460648651913, 99.16104132544415\n",
      "10_mean_23.bmp: 203.5940910388126, 99.11659210704808\n",
      "10_mean_24.bmp: 203.77382769146593, 99.0433502550144\n",
      "10_mean_25.bmp: 203.67622274839422, 99.21286533868263\n",
      "10_mean_26.bmp: 203.76880825974584, 99.18173733034224\n",
      "10_mean_27.bmp: 203.74038682831977, 99.02521852026729\n",
      "10_mean_28.bmp: 203.55686149104304, 99.25217823789045\n",
      "10_mean_29.bmp: 203.62248172512986, 99.18847626127099\n",
      "10_mean_3.bmp: 203.6803793144926, 99.11476495649116\n",
      "10_mean_30.bmp: 203.56896672561842, 99.00961298942579\n",
      "10_mean_31.bmp: 203.586161243705, 99.07611650792654\n",
      "10_mean_32.bmp: 203.50350856861846, 98.86527454156473\n",
      "10_mean_33.bmp: 203.5078224265563, 99.13406158157618\n",
      "10_mean_34.bmp: 203.38782815535433, 99.33137809936093\n",
      "10_mean_35.bmp: 203.6844469724493, 99.18677642226426\n",
      "10_mean_36.bmp: 203.45457553486878, 99.2125971479782\n",
      "10_mean_37.bmp: 203.7044244357769, 99.16789259380558\n",
      "10_mean_38.bmp: 203.7165249645285, 99.2509568946953\n",
      "10_mean_39.bmp: 203.5825747480618, 99.21387647855501\n",
      "10_mean_4.bmp: 203.66612395736894, 98.96692087412669\n",
      "10_mean_40.bmp: 203.51480540962652, 99.26595845655478\n",
      "10_mean_41.bmp: 203.65882876921174, 98.95054322892996\n",
      "10_mean_42.bmp: 203.49403817867247, 98.96923286106436\n",
      "10_mean_43.bmp: 203.54575940083865, 99.13871325961581\n",
      "10_mean_44.bmp: 203.63412654025433, 99.33515342789129\n",
      "10_mean_45.bmp: 203.6193295359379, 99.19938008594711\n",
      "10_mean_46.bmp: 203.7210501759478, 98.96636870289713\n",
      "10_mean_47.bmp: 203.57815147378892, 99.00740481643635\n",
      "10_mean_48.bmp: 203.73794633634301, 98.7973091382828\n",
      "10_mean_49.bmp: 203.67476420543974, 99.06325331823449\n",
      "10_mean_5.bmp: 203.5346193554783, 99.18353483780392\n",
      "10_mean_50.bmp: 203.5787212261207, 99.1595437070024\n",
      "10_mean_51.bmp: 203.48167201286853, 99.19824943581598\n",
      "10_mean_52.bmp: 203.4935228588778, 99.13620858552223\n",
      "10_mean_53.bmp: 203.3053199512606, 99.16541735422209\n",
      "10_mean_54.bmp: 203.62792376300297, 99.33233197254054\n",
      "10_mean_55.bmp: 203.6075137423945, 99.32995727974917\n",
      "10_mean_56.bmp: 203.57345668885216, 99.38044401441451\n",
      "10_mean_57.bmp: 203.7327171369013, 99.03408661248567\n",
      "10_mean_58.bmp: 203.70446919441986, 98.81705949768315\n",
      "10_mean_59.bmp: 203.63374999200656, 99.05124566011146\n",
      "10_mean_6.bmp: 203.5651252800416, 99.34215617420116\n",
      "10_mean_60.bmp: 203.3958272183803, 99.18146319744521\n",
      "10_mean_61.bmp: 203.58008120264165, 99.1793955085556\n",
      "10_mean_62.bmp: 203.59548874600821, 99.24507750659838\n",
      "10_mean_63.bmp: 203.86686174790046, 99.42509020215677\n",
      "10_mean_64.bmp: 203.62296329863548, 99.168329070888\n",
      "10_mean_65.bmp: 203.616581519529, 99.20769259356025\n",
      "10_mean_66.bmp: 203.4166683187317, 99.08465152198971\n",
      "10_mean_67.bmp: 203.62328517293028, 99.27876171421883\n",
      "10_mean_68.bmp: 203.63338220336985, 99.27340823930807\n",
      "10_mean_69.bmp: 203.65317922839972, 99.1488070196821\n",
      "10_mean_7.bmp: 203.74533903032767, 99.3104679468474\n",
      "10_mean_70.bmp: 203.5359740884057, 99.1900468286904\n",
      "10_mean_71.bmp: 203.60422133339117, 99.2105627545586\n",
      "10_mean_72.bmp: 203.6768425589159, 99.35759105254304\n",
      "10_mean_73.bmp: 203.55147688514694, 98.9605472985233\n",
      "10_mean_74.bmp: 203.57095388075427, 99.28524457895958\n",
      "10_mean_75.bmp: 203.66785089124917, 99.17747291170451\n",
      "10_mean_76.bmp: 203.4440637379722, 99.33192235369091\n",
      "10_mean_77.bmp: 203.59060094847757, 99.17034608314582\n",
      "10_mean_78.bmp: 203.66153972549074, 99.18015711019797\n",
      "10_mean_79.bmp: 203.69082258537097, 99.18899528653519\n",
      "10_mean_8.bmp: 203.57481001144768, 99.24247037746318\n",
      "10_mean_80.bmp: 203.39608778343222, 99.51262931804382\n",
      "10_mean_81.bmp: 203.62770792643158, 99.06640232762715\n",
      "10_mean_82.bmp: 203.48348818644604, 99.28444446100082\n",
      "10_mean_83.bmp: 203.75382767101706, 99.42368362044694\n",
      "10_mean_84.bmp: 203.49968272339353, 99.43349954088082\n",
      "10_mean_85.bmp: 203.6168994351651, 99.33717420173245\n",
      "10_mean_86.bmp: 203.6416801020924, 98.90021280079145\n",
      "10_mean_87.bmp: 203.89306329724886, 98.98602974417474\n",
      "10_mean_88.bmp: 203.7061604559325, 99.30273233953295\n",
      "10_mean_89.bmp: 203.88479416947922, 99.38796022328142\n",
      "10_mean_9.bmp: 203.67008938802434, 99.0293813731155\n",
      "10_mean_90.bmp: 203.54877588112555, 99.18793067016264\n",
      "10_mean_91.bmp: 203.79192902432436, 99.40769052055337\n",
      "10_mean_92.bmp: 203.7574726113547, 99.26155563114459\n",
      "10_mean_93.bmp: 203.6867484018579, 99.17979624209994\n",
      "10_mean_94.bmp: 203.70526463698863, 99.20431739646568\n",
      "10_mean_95.bmp: 203.66048757876652, 99.21131940468557\n",
      "10_mean_96.bmp: 203.65606914602745, 99.2679488955073\n",
      "10_mean_97.bmp: 203.88224289129516, 99.02815992253531\n",
      "10_mean_98.bmp: 203.59745387650506, 99.2437462367957\n",
      "10_mean_99.bmp: 203.58060172264464, 99.22697266891652\n"
>>>>>>> da8f5dc6281b5542f4b7345dab5f5a7e2bd8ab44
     ]
    }
   ],
   "source": [
    "os.chdir(\"/home/mj/Github/NTU/ARCS/img/X-Ray/Case_1/Cut\")\n",
    "try:\n",
    "    \n",
    "    images = os.listdir()\n",
    "    images.sort()\n",
    "    \n",
    "    predictions = []\n",
    "    for image in images:\n",
    "        img = cv2.imread(image,0)\n",
    "        img_edge, img_blur = image_processing(img)\n",
    "        edge = get_edge_points(img_edge)\n",
    "        edited_edge = edit_edge(edge, img_blur, funct=1)\n",
    "        edited_edge = remove_extreme(edited_edge)\n",
    "        \n",
    "        cx,cy,r,_ = cf.least_squares_circle((edited_edge))\n",
    "        predictions.append([cx, cy])\n",
    "        print(\"{}: {}, {}\".format(image ,cx, cy))\n",
    "        \n",
    "except Exception as e:\n",
    "    print(e)"
   ]
  },
  {
   "cell_type": "code",
<<<<<<< HEAD
   "execution_count": 42,
=======
   "execution_count": 19,
>>>>>>> da8f5dc6281b5542f4b7345dab5f5a7e2bd8ab44
   "metadata": {},
   "outputs": [
    {
     "name": "stdout",
     "output_type": "stream",
     "text": [
      "-----------------------------------------------------\n",
      "Statistics: \n",
<<<<<<< HEAD
      "Mean Centroid: (203.61520, 99.17370)\n",
      "Variance     : (0.01009, 0.01487)\n",
      "Max Length   : 0.45670, 0.58970 (pixels)\n"
=======
      "Mean Centroid: (203.61311, 99.17669)\n",
      "Variance     : (0.01226, 0.01900)\n",
      "Max Length   : 0.47077, 0.61242 (pixels)\n"
>>>>>>> da8f5dc6281b5542f4b7345dab5f5a7e2bd8ab44
     ]
    }
   ],
   "source": [
    "show_resoult(predictions)"
   ]
  },
  {
   "cell_type": "code",
   "execution_count": null,
   "metadata": {},
   "outputs": [],
   "source": []
  },
  {
   "cell_type": "code",
   "execution_count": 16,
   "metadata": {},
   "outputs": [
    {
     "ename": "error",
     "evalue": "OpenCV(3.4.2) /tmp/build/80754af9/opencv-suite_1535558553474/work/modules/highgui/src/window.cpp:632: error: (-2:Unspecified error) The function is not implemented. Rebuild the library with Windows, GTK+ 2.x or Carbon support. If you are on Ubuntu or Debian, install libgtk2.0-dev and pkg-config, then re-run cmake or configure script in function 'cvShowImage'\n",
     "output_type": "error",
     "traceback": [
      "\u001b[0;31m---------------------------------------------------------------------------\u001b[0m",
      "\u001b[0;31merror\u001b[0m                                     Traceback (most recent call last)",
      "\u001b[0;32m<ipython-input-16-487b6293b7c6>\u001b[0m in \u001b[0;36m<module>\u001b[0;34m\u001b[0m\n\u001b[1;32m     24\u001b[0m \u001b[0;34m\u001b[0m\u001b[0m\n\u001b[1;32m     25\u001b[0m \u001b[0;31m# 顯示圖片\u001b[0m\u001b[0;34m\u001b[0m\u001b[0;34m\u001b[0m\u001b[0;34m\u001b[0m\u001b[0m\n\u001b[0;32m---> 26\u001b[0;31m \u001b[0mcv2\u001b[0m\u001b[0;34m.\u001b[0m\u001b[0mimshow\u001b[0m\u001b[0;34m(\u001b[0m\u001b[0;34m\"Compare\"\u001b[0m\u001b[0;34m,\u001b[0m \u001b[0mtmp\u001b[0m\u001b[0;34m)\u001b[0m\u001b[0;34m\u001b[0m\u001b[0;34m\u001b[0m\u001b[0m\n\u001b[0m\u001b[1;32m     27\u001b[0m \u001b[0mcv2\u001b[0m\u001b[0;34m.\u001b[0m\u001b[0mwaitKey\u001b[0m\u001b[0;34m(\u001b[0m\u001b[0;36m0\u001b[0m\u001b[0;34m)\u001b[0m\u001b[0;34m\u001b[0m\u001b[0;34m\u001b[0m\u001b[0m\n\u001b[1;32m     28\u001b[0m \u001b[0mcv2\u001b[0m\u001b[0;34m.\u001b[0m\u001b[0mdestroyAllWindows\u001b[0m\u001b[0;34m(\u001b[0m\u001b[0;34m)\u001b[0m\u001b[0;34m\u001b[0m\u001b[0;34m\u001b[0m\u001b[0m\n",
      "\u001b[0;31merror\u001b[0m: OpenCV(3.4.2) /tmp/build/80754af9/opencv-suite_1535558553474/work/modules/highgui/src/window.cpp:632: error: (-2:Unspecified error) The function is not implemented. Rebuild the library with Windows, GTK+ 2.x or Carbon support. If you are on Ubuntu or Debian, install libgtk2.0-dev and pkg-config, then re-run cmake or configure script in function 'cvShowImage'\n"
     ]
    }
   ],
   "source": [
    "os.chdir(\"/home/mj/Github/NTU/ARCS/img/X-Ray/Case_1/Cut\")\n",
    "file_1 = \"10_mean_63.bmp\"\n",
    "img_1 = cv2.imread(file_1,0)\n",
    "img_edge_1, img_blur_1 = image_processing(img_1)\n",
    "edge_1 = get_edge_points(img_edge_1)\n",
    "edited_edge_1 = edit_edge(edge_1, img_blur_1, funct=1)\n",
    "\n",
    "file_2 = \"10_mean_63.bmp\"\n",
    "img_2 = cv2.imread(file_2,0)\n",
    "img_edge_2, img_blur_2 = image_processing(img_2)\n",
    "edge_2 = get_edge_points(img_edge_2)\n",
    "edited_edge_2 = edit_edge(edge_2, img_blur_2, funct=1)\n",
    "\n",
    "\n",
    "h, w = img.shape[:2]\n",
    "tmp = np.zeros((h,w,3))\n",
    "\n",
    "for x, y in edited_edge_1:\n",
    "    tmp[y,x,1] = 255\n",
    "    \n",
    "for x, y in edited_edge_2:\n",
    "    tmp[y,x,2] = 255\n",
    "    \n",
    "    \n",
    "# 顯示圖片\n",
    "cv2.imshow(\"Compare\", tmp)\n",
    "cv2.waitKey(0)\n",
    "cv2.destroyAllWindows()"
   ]
  },
  {
   "cell_type": "code",
   "execution_count": 3,
   "metadata": {},
   "outputs": [
    {
     "name": "stdout",
     "output_type": "stream",
     "text": [
      "2\n",
      "4\n"
     ]
    }
   ],
   "source": [
    "a = [[1,2], [3,4]]\n",
    "\n",
    "for b,c in a:\n",
    "    print(c)\n",
    "    "
   ]
  },
  {
   "cell_type": "code",
   "execution_count": null,
   "metadata": {},
   "outputs": [],
   "source": []
  },
  {
   "cell_type": "code",
   "execution_count": null,
   "metadata": {},
   "outputs": [],
   "source": []
  },
  {
   "cell_type": "code",
   "execution_count": null,
   "metadata": {},
   "outputs": [],
   "source": []
  },
  {
   "cell_type": "code",
   "execution_count": null,
   "metadata": {},
   "outputs": [],
   "source": []
  },
  {
   "cell_type": "markdown",
   "metadata": {},
   "source": [
    "## 測試多次隨機取子點擬合的分佈\n",
    "假定平均 cx: 203.61381  cy: 99.17248\n",
    "### 結論：無法單靠尋找 Fram 各自的 Median 或 多次 Random subsampled 做連結"
   ]
  },
  {
   "cell_type": "code",
   "execution_count": 50,
   "metadata": {},
   "outputs": [
    {
     "name": "stdout",
     "output_type": "stream",
     "text": [
      "[205.0, 205.0, 205.0, 205.0, 205.0, 205.0, 205.0, 205.0, 205.0, 205.0]\n",
      "[100.5, 100.5, 100.5, 100.5, 100.5, 100.5, 100.5, 100.5, 100.5, 100.5]\n"
     ]
    }
   ],
   "source": [
    "os.chdir(\"/home/mj/HardDisk/Github/NTU/ARCS/img/X-Ray/Case_1/Cut\")\n",
    "\n",
    "file = \"10_mean_80.bmp\"\n",
    "img = cv2.imread(file,0)\n",
    "edge = image_processing(img)\n",
    "edge_points = get_edge_points(edge)\n",
    "\n",
    "\n",
    "xs = []\n",
    "ys = []\n",
    "for iter in range(10):\n",
    "    sampled_indices = np.random.choice(range(len(edge_points)), size=int(len(edge_points)), replace=False)\n",
    "    sample_points = edge_points[sampled_indices]\n",
    "#     cx,cy,r,_ = cf.least_squares_circle((sample_points))\n",
    "    cx = np.median(sample_points[:,0])\n",
    "    cy = np.median(sample_points[:,1])\n",
    "    xs.append(cx)\n",
    "    ys.append(cy)\n",
    "\n",
    "print(xs)\n",
    "print(ys)"
   ]
  },
  {
   "cell_type": "code",
   "execution_count": null,
   "metadata": {},
   "outputs": [],
   "source": []
  }
 ],
 "metadata": {
  "kernelspec": {
   "display_name": "Python 3",
   "language": "python",
   "name": "python3"
  },
  "language_info": {
   "codemirror_mode": {
    "name": "ipython",
    "version": 3
   },
   "file_extension": ".py",
   "mimetype": "text/x-python",
   "name": "python",
   "nbconvert_exporter": "python",
   "pygments_lexer": "ipython3",
   "version": "3.6.9"
  }
 },
 "nbformat": 4,
 "nbformat_minor": 2
}
