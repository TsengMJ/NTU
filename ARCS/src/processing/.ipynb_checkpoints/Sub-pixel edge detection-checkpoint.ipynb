{
 "cells": [
  {
   "cell_type": "code",
   "execution_count": 1,
   "metadata": {},
   "outputs": [],
   "source": [
    "from numpy import linalg as LA\n",
    "from scipy.optimize import curve_fit\n",
    "import matplotlib.pyplot as plt\n",
    "import circle_fit as cf\n",
    "import numpy as np\n",
    "import cv2\n",
    "import timeit\n",
    "import time\n",
    "import os\n",
    "%run ../functions.ipynb"
   ]
  },
  {
   "cell_type": "markdown",
   "metadata": {},
   "source": [
    "## 影像處理"
   ]
  },
  {
   "cell_type": "code",
   "execution_count": 2,
   "metadata": {},
   "outputs": [],
   "source": [
    "def image_processing(gray_img):\n",
    "    blur = cv2.GaussianBlur(gray_img, (5,5), 0)\n",
    "    nlm  = cv2.fastNlMeansDenoising(blur, None, 10, 7, 21)\n",
    "    _, otsu = cv2.threshold(nlm, 0, 255, cv2.THRESH_BINARY_INV+cv2.THRESH_OTSU)\n",
    "    edge = cv2.Canny(otsu, 0, 20)\n",
    "    \n",
    "    return blur, nlm, otsu, edge\n",
    "\n",
    "def get_edge_points(edge_img):\n",
    "    edge_points = [[j,i] for i, r in enumerate(edge_img) for j, c in enumerate(r) if c == 255]\n",
    "\n",
    "    return edge_points"
   ]
  },
  {
   "cell_type": "markdown",
   "metadata": {},
   "source": [
    "## Get subpixel edge locations"
   ]
  },
  {
   "cell_type": "code",
   "execution_count": 3,
   "metadata": {},
   "outputs": [],
   "source": [
    "def sigmoid(x, a, b):\n",
    "    return 1.0 / (1.0 + np.exp(-a*(x-b)))"
   ]
  },
  {
   "cell_type": "code",
   "execution_count": 4,
   "metadata": {},
   "outputs": [],
   "source": [
    "def get_influential_neighbors(coord):\n",
    "    ## 依照 sample 的點落在當下 pixel 中的哪個空間，分為 4 個case\n",
    "    ##     0 . 1\n",
    "    ##    .......\n",
    "    ##     2 . 3\n",
    "    x = round(coord[0])\n",
    "    y = round(coord[1])\n",
    "    a = y > coord[0] and 1 or 0\n",
    "    b = x > coord[1] and 1 or 0\n",
    "    space = np.dot([1,2], [a,b])\n",
    "    \n",
    "    switcher = {\n",
    "        0: [[y,x], [y-1,x], [y-1,x-1], [y,x-1]],\n",
    "        1: [[y,x], [y,x+1], [y-1,x+1], [y-1,x]],\n",
    "        2: [[y,x], [y,x-1], [y+1,x-1], [y+1,x]],\n",
    "        3: [[y,x], [y+1,x], [y+1,x+1], [y,x+1]],\n",
    "    }\n",
    "    \n",
    "    neighbors_loc = np.asarray(switcher.get(space)).astype(int)\n",
    "    return neighbors_loc"
   ]
  },
  {
   "cell_type": "code",
   "execution_count": 5,
   "metadata": {},
   "outputs": [],
   "source": [
    "def get_negihbors_val(neighbors_loc, img):\n",
    "    neighbors_val = [img[y,x] for y, x in neighbors_loc]\n",
    "    return neighbors_val"
   ]
  },
  {
   "cell_type": "code",
   "execution_count": 6,
   "metadata": {},
   "outputs": [],
   "source": [
    "def get_negihbors_wt(coord, neighbors_loc): \n",
    "    ## 取的每個 neighbor 與 sample 點的距離\n",
    "    neighbors_dist = LA.norm(coord - neighbors_loc, axis=1)\n",
    "    neighbors_dist = neighbors_dist / np.sum(neighbors_dist)\n",
    "\n",
    "    ## 若與第一個 pixel 的距離是 0 (即在 pixel 上)則為當下的值\n",
    "    ## 否則每個 neighbor 的權重為距離倒數\n",
    "    neighbors_wt = neighbors_dist[0] == 0 and [1,0,0,0] or (1 - neighbors_dist)/3\n",
    "    return neighbors_wt"
   ]
  },
  {
   "cell_type": "code",
   "execution_count": 7,
   "metadata": {},
   "outputs": [],
   "source": [
    "def get_spl_val(coord, img):\n",
    "    ## 取得有影響力的 4 個相鄰點及相對應的 值 和 權重\n",
    "    neighbors_loc = get_influential_neighbors(coord)\n",
    "    neighbors_val = get_negihbors_val(neighbors_loc, img)\n",
    "    neighbors_wt  = get_negihbors_wt(coord, neighbors_loc)\n",
    "    \n",
    "    ## 計算 sample 的值\n",
    "    value = np.dot(neighbors_val, neighbors_wt)  \n",
    "    return value\n",
    "    "
   ]
  },
  {
   "cell_type": "code",
   "execution_count": 12,
   "metadata": {},
   "outputs": [],
   "source": [
    "def get_sbp_edges(center, edge_pts, img):\n",
    "\n",
    "    sbp_edges = []\n",
    "    for pt in edge_pts:\n",
    "        ## 取得中心到邊緣的單位向量\n",
    "        c2e_V = pt - center\n",
    "        c2e_V = c2e_V/LA.norm(c2e_V)\n",
    "        \n",
    "        ## 取得 sapmple 點的'座標'及'亮度值' \n",
    "        spl_pts  = [pt + i*c2e_V for i in range(-5,6)]       # 需要再找道合適參數\n",
    "        spl_vals = [get_spl_val(spl_pt, img) for spl_pt in spl_pts]\n",
    "\n",
    "        ## 擬合 S 曲線\n",
    "        x_label = np.asarray(range(0,11))\n",
    "        y_vals  = (spl_vals - min(spl_vals))/ (max(spl_vals) - min(spl_vals))\n",
    "        popt, pcov = curve_fit(sigmoid, x_label, y_vals)\n",
    "        \n",
    "        \n",
    "#         ## Debug\n",
    "#         x = np.linspace(0, 11)\n",
    "#         y = sigmoid(x, *popt)\n",
    "\n",
    "#         plt.plot(x_label, y_vals, 'o', label='data')\n",
    "#         plt.plot(x,y, label='fit')\n",
    "#         plt.ylim(0, 1)\n",
    "#         plt.legend(loc='best')\n",
    "        \n",
    "        \n",
    "#         ## 取得 Subpixels' 的位置\n",
    "#         sbp = pt - 1.2*(5-popt[1])*c2e_V\n",
    "#         sbp_edges.append(sbp)\n",
    "        \n",
    "    return sbp_edges"
   ]
  },
  {
   "cell_type": "code",
   "execution_count": null,
   "metadata": {},
   "outputs": [],
   "source": []
  },
  {
   "cell_type": "code",
   "execution_count": 15,
   "metadata": {
    "scrolled": true
   },
   "outputs": [
    {
     "ename": "TypeError",
     "evalue": "Improper input: N=2 must not exceed M=0",
     "output_type": "error",
     "traceback": [
      "\u001b[0;31m---------------------------------------------------------------------------\u001b[0m",
      "\u001b[0;31mTypeError\u001b[0m                                 Traceback (most recent call last)",
      "\u001b[0;32m<ipython-input-15-bf9b81776389>\u001b[0m in \u001b[0;36m<module>\u001b[0;34m\u001b[0m\n\u001b[1;32m     10\u001b[0m \u001b[0msp_edges\u001b[0m \u001b[0;34m=\u001b[0m \u001b[0mget_sbp_edges\u001b[0m\u001b[0;34m(\u001b[0m\u001b[0mnp\u001b[0m\u001b[0;34m.\u001b[0m\u001b[0masarray\u001b[0m\u001b[0;34m(\u001b[0m\u001b[0;34m[\u001b[0m\u001b[0mcx\u001b[0m\u001b[0;34m,\u001b[0m\u001b[0mcy\u001b[0m\u001b[0;34m]\u001b[0m\u001b[0;34m)\u001b[0m\u001b[0;34m,\u001b[0m \u001b[0medge_points\u001b[0m\u001b[0;34m,\u001b[0m \u001b[0mnlm\u001b[0m\u001b[0;34m)\u001b[0m\u001b[0;34m\u001b[0m\u001b[0;34m\u001b[0m\u001b[0m\n\u001b[1;32m     11\u001b[0m \u001b[0;34m\u001b[0m\u001b[0m\n\u001b[0;32m---> 12\u001b[0;31m \u001b[0mcx\u001b[0m\u001b[0;34m,\u001b[0m\u001b[0mcy\u001b[0m\u001b[0;34m,\u001b[0m\u001b[0mr\u001b[0m\u001b[0;34m,\u001b[0m\u001b[0m_\u001b[0m \u001b[0;34m=\u001b[0m \u001b[0mcf\u001b[0m\u001b[0;34m.\u001b[0m\u001b[0mleast_squares_circle\u001b[0m\u001b[0;34m(\u001b[0m\u001b[0;34m(\u001b[0m\u001b[0msp_edges\u001b[0m\u001b[0;34m)\u001b[0m\u001b[0;34m)\u001b[0m\u001b[0;34m\u001b[0m\u001b[0;34m\u001b[0m\u001b[0m\n\u001b[0m\u001b[1;32m     13\u001b[0m \u001b[0mprint\u001b[0m\u001b[0;34m(\u001b[0m\u001b[0;34m\"{}, {}\"\u001b[0m\u001b[0;34m.\u001b[0m\u001b[0mformat\u001b[0m\u001b[0;34m(\u001b[0m\u001b[0mcx\u001b[0m\u001b[0;34m,\u001b[0m \u001b[0mcy\u001b[0m\u001b[0;34m)\u001b[0m\u001b[0;34m)\u001b[0m\u001b[0;34m\u001b[0m\u001b[0;34m\u001b[0m\u001b[0m\n\u001b[1;32m     14\u001b[0m \u001b[0;34m\u001b[0m\u001b[0m\n",
      "\u001b[0;32m~/anaconda3/envs/py36/lib/python3.6/site-packages/circle_fit/circle_fit.py\u001b[0m in \u001b[0;36mleast_squares_circle\u001b[0;34m(coords)\u001b[0m\n\u001b[1;32m    145\u001b[0m     \u001b[0my_m\u001b[0m \u001b[0;34m=\u001b[0m \u001b[0mnp\u001b[0m\u001b[0;34m.\u001b[0m\u001b[0mmean\u001b[0m\u001b[0;34m(\u001b[0m\u001b[0my\u001b[0m\u001b[0;34m)\u001b[0m\u001b[0;34m\u001b[0m\u001b[0;34m\u001b[0m\u001b[0m\n\u001b[1;32m    146\u001b[0m     \u001b[0mcenter_estimate\u001b[0m \u001b[0;34m=\u001b[0m \u001b[0mx_m\u001b[0m\u001b[0;34m,\u001b[0m \u001b[0my_m\u001b[0m\u001b[0;34m\u001b[0m\u001b[0;34m\u001b[0m\u001b[0m\n\u001b[0;32m--> 147\u001b[0;31m     \u001b[0mcenter\u001b[0m\u001b[0;34m,\u001b[0m \u001b[0m_\u001b[0m \u001b[0;34m=\u001b[0m \u001b[0moptimize\u001b[0m\u001b[0;34m.\u001b[0m\u001b[0mleastsq\u001b[0m\u001b[0;34m(\u001b[0m\u001b[0mf\u001b[0m\u001b[0;34m,\u001b[0m \u001b[0mcenter_estimate\u001b[0m\u001b[0;34m,\u001b[0m \u001b[0margs\u001b[0m\u001b[0;34m=\u001b[0m\u001b[0;34m(\u001b[0m\u001b[0mx\u001b[0m\u001b[0;34m,\u001b[0m\u001b[0my\u001b[0m\u001b[0;34m)\u001b[0m\u001b[0;34m)\u001b[0m\u001b[0;34m\u001b[0m\u001b[0;34m\u001b[0m\u001b[0m\n\u001b[0m\u001b[1;32m    148\u001b[0m     \u001b[0mxc\u001b[0m\u001b[0;34m,\u001b[0m \u001b[0myc\u001b[0m \u001b[0;34m=\u001b[0m \u001b[0mcenter\u001b[0m\u001b[0;34m\u001b[0m\u001b[0;34m\u001b[0m\u001b[0m\n\u001b[1;32m    149\u001b[0m     \u001b[0mRi\u001b[0m       \u001b[0;34m=\u001b[0m \u001b[0mcalc_R\u001b[0m\u001b[0;34m(\u001b[0m\u001b[0mx\u001b[0m\u001b[0;34m,\u001b[0m \u001b[0my\u001b[0m\u001b[0;34m,\u001b[0m \u001b[0;34m*\u001b[0m\u001b[0mcenter\u001b[0m\u001b[0;34m)\u001b[0m\u001b[0;34m\u001b[0m\u001b[0;34m\u001b[0m\u001b[0m\n",
      "\u001b[0;32m~/anaconda3/envs/py36/lib/python3.6/site-packages/scipy/optimize/minpack.py\u001b[0m in \u001b[0;36mleastsq\u001b[0;34m(func, x0, args, Dfun, full_output, col_deriv, ftol, xtol, gtol, maxfev, epsfcn, factor, diag)\u001b[0m\n\u001b[1;32m    385\u001b[0m \u001b[0;34m\u001b[0m\u001b[0m\n\u001b[1;32m    386\u001b[0m     \u001b[0;32mif\u001b[0m \u001b[0mn\u001b[0m \u001b[0;34m>\u001b[0m \u001b[0mm\u001b[0m\u001b[0;34m:\u001b[0m\u001b[0;34m\u001b[0m\u001b[0;34m\u001b[0m\u001b[0m\n\u001b[0;32m--> 387\u001b[0;31m         \u001b[0;32mraise\u001b[0m \u001b[0mTypeError\u001b[0m\u001b[0;34m(\u001b[0m\u001b[0;34m'Improper input: N=%s must not exceed M=%s'\u001b[0m \u001b[0;34m%\u001b[0m \u001b[0;34m(\u001b[0m\u001b[0mn\u001b[0m\u001b[0;34m,\u001b[0m \u001b[0mm\u001b[0m\u001b[0;34m)\u001b[0m\u001b[0;34m)\u001b[0m\u001b[0;34m\u001b[0m\u001b[0;34m\u001b[0m\u001b[0m\n\u001b[0m\u001b[1;32m    388\u001b[0m \u001b[0;34m\u001b[0m\u001b[0m\n\u001b[1;32m    389\u001b[0m     \u001b[0;32mif\u001b[0m \u001b[0mepsfcn\u001b[0m \u001b[0;32mis\u001b[0m \u001b[0;32mNone\u001b[0m\u001b[0;34m:\u001b[0m\u001b[0;34m\u001b[0m\u001b[0;34m\u001b[0m\u001b[0m\n",
      "\u001b[0;31mTypeError\u001b[0m: Improper input: N=2 must not exceed M=0"
     ]
    }
   ],
   "source": [
    "os.chdir(\"/home/mj/HardDisk/Github/NTU/ARCS/img/X-Ray/Case_1/Cut\")\n",
    "# os.chdir(\"/home/mj/Github/NTU/ARCS/img/X-Ray/Case_1/Cut\")\n",
    "file = \"10_mean_80.bmp\"\n",
    "img = cv2.imread(file, 0)\n",
    "\n",
    "\n",
    "blur, nlm, otsu, edge = image_processing(img)\n",
    "edge_points = get_edge_points(edge)\n",
    "cx,cy,r,_ = cf.least_squares_circle((edge_points))\n",
    "sp_edges = get_sbp_edges(np.asarray([cx,cy]), edge_points, nlm)\n",
    "\n",
    "cx,cy,r,_ = cf.least_squares_circle((sp_edges))\n",
    "print(\"{}, {}\".format(cx, cy))\n",
    "\n",
    "x = [a[0] for a in edge_points]\n",
    "y = [a[1] for a in edge_points]\n",
    "plt.plot(x, y, 'o', label='ori', markersize=1)\n",
    "x = [a[0] for a in sp_edges]\n",
    "y = [a[1] for a in sp_edges]\n",
    "plt.plot(x, y, 'o', label='sub', markersize=1)\n",
    "plt.legend(loc='best')\n",
    "plt.axis('equal')\n",
    "plt.show()\n",
    "\n",
    "# cv2.imshow(\"Image\", nlm)\n",
    "# cv2.waitKey(0)\n",
    "# cv2.destroyAllWindows()"
   ]
  },
  {
   "cell_type": "code",
   "execution_count": null,
   "metadata": {},
   "outputs": [],
   "source": []
  },
  {
   "cell_type": "code",
   "execution_count": 54,
   "metadata": {
    "scrolled": true
   },
   "outputs": [
    {
     "name": "stdout",
     "output_type": "stream",
     "text": [
      "10_mean_0.bmp: 203.96838158734354, 99.00957407651369\n",
      "10_mean_1.bmp: 204.01204562521866, 98.99274313521852\n",
      "10_mean_10.bmp: 203.9684448028334, 98.78278530293409\n",
      "10_mean_11.bmp: 203.99998280510465, 98.86095270466754\n",
      "10_mean_12.bmp: 203.86410964361718, 98.93778603271839\n",
      "10_mean_13.bmp: 204.01818609164056, 98.80998485052365\n",
      "10_mean_14.bmp: 203.84764179226215, 98.9548775263262\n",
      "10_mean_15.bmp: 203.83226682511292, 98.86842018782498\n",
      "10_mean_16.bmp: 203.93543711511637, 98.93711378499624\n",
      "10_mean_17.bmp: 203.99015959789185, 98.96015091223596\n",
      "10_mean_18.bmp: 203.8816775078249, 98.7981384208826\n",
      "10_mean_19.bmp: 203.98277664939548, 98.88952805271907\n",
      "10_mean_2.bmp: 203.8299661955772, 98.74688894195293\n",
      "10_mean_20.bmp: 203.91809501073473, 98.8137247631749\n",
      "10_mean_21.bmp: 203.88649285697184, 98.94667665432067\n",
      "10_mean_22.bmp: 203.93978893550465, 98.87094445356755\n",
      "10_mean_23.bmp: 203.87040101281463, 98.91961063598274\n",
      "10_mean_24.bmp: 204.0532120226834, 98.80622861813309\n",
      "10_mean_25.bmp: 204.11718437643268, 98.85309356817734\n",
      "10_mean_26.bmp: 204.07646288643946, 98.95541246751306\n",
      "10_mean_27.bmp: 203.99957903067468, 98.7354495818424\n",
      "10_mean_28.bmp: 203.93139192706926, 98.92137564264686\n",
      "10_mean_29.bmp: 204.02733507005516, 98.85319733826164\n",
      "10_mean_3.bmp: 204.1030306859186, 98.81692892962258\n",
      "10_mean_30.bmp: 203.9168161605167, 98.7026140119981\n",
      "10_mean_31.bmp: 204.02185465077727, 98.80396841260254\n",
      "10_mean_32.bmp: 203.97284011461159, 98.72526791832283\n",
      "10_mean_33.bmp: 203.8761417366123, 98.9171021816356\n",
      "10_mean_34.bmp: 203.76044322338248, 98.96799866266063\n",
      "10_mean_35.bmp: 203.98599192965528, 98.92698404180354\n",
      "10_mean_36.bmp: 203.84959636671456, 98.9037595370775\n",
      "10_mean_37.bmp: 204.0156671389905, 98.83215906780406\n",
      "10_mean_38.bmp: 204.06557024159443, 99.0119616930698\n",
      "10_mean_39.bmp: 203.915380110415, 98.94802931580273\n",
      "10_mean_4.bmp: 203.9885612276993, 98.77839220880097\n",
      "10_mean_40.bmp: 203.9184445107281, 98.99074541490972\n",
      "10_mean_41.bmp: 203.9366593717982, 98.63003473059196\n",
      "10_mean_42.bmp: 203.88050553236613, 98.65772057491564\n",
      "10_mean_43.bmp: 203.94436642214254, 98.79069182845309\n",
      "10_mean_44.bmp: 204.0256860436278, 98.94877409356315\n",
      "10_mean_45.bmp: 203.9380003684522, 99.00023047544933\n",
      "10_mean_46.bmp: 203.96099441986456, 98.76669284984038\n",
      "10_mean_47.bmp: 203.8976631490052, 98.80344614157546\n",
      "10_mean_48.bmp: 204.12545453288408, 98.63150727079011\n",
      "10_mean_49.bmp: 204.0423643763002, 98.82471709382573\n",
      "10_mean_5.bmp: 203.99464783474912, 98.7536863732538\n",
      "10_mean_50.bmp: 203.92261694386, 98.85875347198044\n",
      "10_mean_51.bmp: 204.03122959719798, 98.90686171907889\n",
      "10_mean_52.bmp: 203.81257718545413, 98.8838560190642\n",
      "10_mean_53.bmp: 203.62885451137973, 98.95020591697734\n",
      "10_mean_54.bmp: 203.99835407787015, 99.0564579151874\n",
      "10_mean_55.bmp: 203.95507146534382, 99.09762004621265\n",
      "10_mean_56.bmp: 203.933951020982, 99.07235422213714\n",
      "10_mean_57.bmp: 204.0481653079757, 98.86571508994544\n",
      "10_mean_58.bmp: 204.05148557001255, 98.61939314267568\n",
      "10_mean_59.bmp: 204.04376374486546, 98.78812208366452\n",
      "10_mean_6.bmp: 203.9072236503738, 99.07622771425942\n",
      "10_mean_60.bmp: 203.92622114179832, 99.07491894657225\n",
      "10_mean_61.bmp: 204.03997771890167, 98.84749801313997\n",
      "10_mean_62.bmp: 203.9616004574638, 98.96828150210766\n",
      "10_mean_63.bmp: 204.16340091162786, 99.02606812391839\n",
      "10_mean_64.bmp: 203.87784827562479, 98.87462311577241\n",
      "10_mean_65.bmp: 203.95801585635982, 98.90745917924602\n",
      "10_mean_66.bmp: 203.81421923186602, 98.84845133076959\n",
      "10_mean_67.bmp: 203.99690801136012, 98.98088925832693\n",
      "10_mean_68.bmp: 203.9679196424891, 98.99518803502258\n",
      "10_mean_69.bmp: 204.01765926256576, 98.93347262806222\n",
      "10_mean_7.bmp: 203.92132059832144, 98.99866980074766\n",
      "10_mean_70.bmp: 203.9234108199461, 98.91022768835695\n",
      "10_mean_71.bmp: 203.95765347356516, 98.89797698712205\n",
      "10_mean_72.bmp: 204.04655624780472, 99.02878350148094\n",
      "10_mean_73.bmp: 203.89557374628865, 98.73290242451448\n",
      "10_mean_74.bmp: 203.8698121048918, 98.95338402430542\n",
      "10_mean_75.bmp: 203.9236212355655, 98.92758326427024\n",
      "10_mean_76.bmp: 203.8899772807596, 99.0275055549077\n",
      "10_mean_77.bmp: 203.80911461328327, 98.7704315706981\n",
      "10_mean_78.bmp: 203.9919531481025, 98.92643685777205\n",
      "10_mean_79.bmp: 204.0330747945535, 98.88732194483455\n",
      "10_mean_8.bmp: 203.99278784901134, 98.93490070312751\n",
      "10_mean_80.bmp: 203.8568187923317, 99.20116631195086\n",
      "10_mean_81.bmp: 203.98172391505045, 98.71770010778637\n",
      "10_mean_82.bmp: 203.8649788333491, 98.95966268994879\n",
      "10_mean_83.bmp: 204.08027836049624, 99.02150681948646\n",
      "10_mean_84.bmp: 203.72527026849056, 99.08188296631072\n",
      "10_mean_85.bmp: 204.02570116257485, 99.00149527941063\n",
      "10_mean_86.bmp: 203.91820493940827, 98.75575916990356\n",
      "10_mean_87.bmp: 204.16499927105903, 98.73784374742156\n",
      "10_mean_88.bmp: 204.05528011391866, 99.00775561764611\n",
      "10_mean_89.bmp: 204.18954338711586, 99.09745685683127\n",
      "10_mean_9.bmp: 203.93194758949426, 98.82440057751934\n",
      "10_mean_90.bmp: 203.94990182971142, 99.02448474675597\n",
      "10_mean_91.bmp: 204.18005393510154, 98.99673613830537\n",
      "10_mean_92.bmp: 204.06241625450582, 98.89683818902095\n",
      "10_mean_93.bmp: 204.0082207453332, 98.87194890988569\n",
      "10_mean_94.bmp: 204.03436377348, 98.95876313485384\n",
      "10_mean_95.bmp: 204.02389804484008, 98.96009931995901\n",
      "10_mean_96.bmp: 203.82861717353822, 98.98680983804624\n",
      "10_mean_97.bmp: 204.09655702729043, 98.63223882708661\n",
      "10_mean_98.bmp: 203.9342906889924, 98.88746970007325\n",
      "10_mean_99.bmp: 203.88938356186736, 98.9735507792759\n"
     ]
    }
   ],
   "source": [
    "os.chdir(\"/home/mj/HardDisk/Github/NTU/ARCS/img/X-Ray/Case_1/Cut\")\n",
    "try:\n",
    "    images = os.listdir()\n",
    "    images.sort()\n",
    "    \n",
    "    predictions = []\n",
    "    for image in images:\n",
    "        img = cv2.imread(image, 0)\n",
    "\n",
    "        blur, nlm, otsu, edge = image_processing(img)\n",
    "        edge_points = get_edge_points(edge)\n",
    "        cx,cy,r,_ = cf.least_squares_circle((edge_points))\n",
    "        sp_edges = get_sbp_edges(np.asarray([cx,cy]), edge_points, nlm)\n",
    "\n",
    "        cx,cy,r,_ = cf.least_squares_circle((sp_edges))\n",
    "        predictions.append([cx, cy])\n",
    "        print(\"{}: {}, {}\".format(image, cx, cy))\n",
    "\n",
    "except Exception as e:\n",
    "    print(e)"
   ]
  },
  {
   "cell_type": "code",
   "execution_count": 55,
   "metadata": {},
   "outputs": [
    {
     "name": "stdout",
     "output_type": "stream",
     "text": [
      "-----------------------------------------------------\n",
      "Statistics: \n",
      "Mean Centroid: (203.96202, 98.89582)\n",
      "Variance     : (0.00916, 0.01352)\n",
      "Max Length   : 0.49660, 0.56893 (pixels)\n"
     ]
    }
   ],
   "source": [
    "show_resoult(predictions)"
   ]
  },
  {
   "cell_type": "code",
   "execution_count": null,
   "metadata": {},
   "outputs": [],
   "source": []
  }
 ],
 "metadata": {
  "kernelspec": {
   "display_name": "Python 3",
   "language": "python",
   "name": "python3"
  },
  "language_info": {
   "codemirror_mode": {
    "name": "ipython",
    "version": 3
   },
   "file_extension": ".py",
   "mimetype": "text/x-python",
   "name": "python",
   "nbconvert_exporter": "python",
   "pygments_lexer": "ipython3",
   "version": "3.6.9"
  }
 },
 "nbformat": 4,
 "nbformat_minor": 2
}
