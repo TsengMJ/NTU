{
 "cells": [
  {
   "cell_type": "code",
   "execution_count": 21,
   "metadata": {},
   "outputs": [],
   "source": [
    "from numpy import linalg as LA\n",
    "import matplotlib.pyplot as plt\n",
    "import circle_fit as cf\n",
    "import numpy as np\n",
    "import cv2\n",
    "import os"
   ]
  },
  {
   "cell_type": "code",
   "execution_count": null,
   "metadata": {},
   "outputs": [],
   "source": []
  },
  {
   "cell_type": "code",
   "execution_count": null,
   "metadata": {},
   "outputs": [],
   "source": []
  },
  {
   "cell_type": "markdown",
   "metadata": {},
   "source": [
    "## Get subpixel edge locations"
   ]
  },
  {
   "cell_type": "code",
   "execution_count": 25,
   "metadata": {},
   "outputs": [],
   "source": [
    "def get_sample_value(coord, img):\n",
    "    center = np.around(coord)\n",
    "    \n",
    "    x, y = center[0], center[1]\n",
    "    neighbor_val = []\n",
    "    neighbor_dist = []\n",
    "    \n",
    "    ## 取的9格的距離跟值\n",
    "    for i in range(-1,2):\n",
    "        for j in range(-1,2):\n",
    "            dist = LA.norm((center - np.asrray([j,i])) - coord)\n",
    "            neighbor_val.append(img[y+i, x+j])\n",
    "            neighbor_dist.apend(dist)\n",
    "    \n",
    "    ## 依照距離反比給權重\n",
    "    neighbor_val = (1 - neighbor_val)/8\n",
    "    \n",
    "    value = np.dot(neighbor_val, neighbor_dist)\n",
    "    return value\n",
    "\n",
    "\n",
    "def get_subpixel_edge(center, edge_points, img):\n",
    "    sp_edge = []\n",
    "    \n",
    "    for point in edge_points:\n",
    "        ## 取得中心到邊緣的單位向量\n",
    "        c2e_Vector = point - center\n",
    "        c2e_Vector = vector/LA.norm(vector)\n",
    "        \n",
    "        \n",
    "        sample_points = []\n",
    "        for i in range(-3,3.05,0.2):\n",
    "            ## 生出要擬合 S 曲線的點\n",
    "            sample_location = point + i*c2e_Vector\n",
    "            sample_value = get_sample_value(sample_location, img)\n",
    "            \n",
    "            \n",
    "        ## 擬合 S 曲線\n",
    "            \n",
    "            \n",
    "        break\n",
    "    \n",
    "    return sp_edge"
   ]
  },
  {
   "cell_type": "code",
   "execution_count": null,
   "metadata": {},
   "outputs": [],
   "source": []
  },
  {
   "cell_type": "code",
   "execution_count": 31,
   "metadata": {},
   "outputs": [
    {
     "data": {
      "text/plain": [
       "5.5"
      ]
     },
     "execution_count": 31,
     "metadata": {},
     "output_type": "execute_result"
    }
   ],
   "source": [
    "a = np.asarray([0.1, 0.5])\n",
    "b = np.asarray([5, 10])\n",
    "\n",
    "np.dot(a,b)"
   ]
  },
  {
   "cell_type": "code",
   "execution_count": null,
   "metadata": {},
   "outputs": [],
   "source": []
  },
  {
   "cell_type": "code",
   "execution_count": 26,
   "metadata": {},
   "outputs": [],
   "source": [
    "def image_processing(gray_img):\n",
    "    blur = cv2.GaussianBlur(gray_img, (5,5), 0)\n",
    "    nlm  = cv2.fastNlMeansDenoising(blur, None, 10, 7, 21)\n",
    "    _, otsu = cv2.threshold(nlm, 0, 255, cv2.THRESH_BINARY_INV+cv2.THRESH_OTSU)\n",
    "    edge = cv2.Canny(otsu, 0, 20)\n",
    "    \n",
    "    return blur, nlm, otsu, edge\n",
    "\n",
    "def get_edge_points(edge_img):\n",
    "    edge_points = [[j,i] for i, r in enumerate(edge_img) for j, c in enumerate(r) if c == 255]\n",
    "\n",
    "    return edge_points"
   ]
  },
  {
   "cell_type": "code",
   "execution_count": 27,
   "metadata": {},
   "outputs": [
    {
     "name": "stdout",
     "output_type": "stream",
     "text": [
      "[-0.06555615 -0.99784888]\n",
      "203.43340624689515, 99.48214409869645\n"
     ]
    }
   ],
   "source": [
    "os.chdir(\"/home/mj/HardDisk/Github/NTU/ARCS/img/X-Ray/Case_1/Cut\")\n",
    "file = \"10_mean_80.bmp\"\n",
    "img = cv2.imread(file, 0)\n",
    "blur, nlm, otsu, edge = image_processing(img)\n",
    "\n",
    "edge_points = get_edge_points(edge)\n",
    "cx,cy,r,_ = cf.least_squares_circle((edge_points))\n",
    "\n",
    "sp_edge = get_subpixel_edge(np.asarray([cx,cy]), edge_points, img)\n",
    "\n",
    "\n",
    "print(\"{}, {}\".format(cx, cy))"
   ]
  },
  {
   "cell_type": "code",
   "execution_count": null,
   "metadata": {},
   "outputs": [],
   "source": []
  },
  {
   "cell_type": "code",
   "execution_count": null,
   "metadata": {},
   "outputs": [],
   "source": []
  }
 ],
 "metadata": {
  "kernelspec": {
   "display_name": "Python 3",
   "language": "python",
   "name": "python3"
  },
  "language_info": {
   "codemirror_mode": {
    "name": "ipython",
    "version": 3
   },
   "file_extension": ".py",
   "mimetype": "text/x-python",
   "name": "python",
   "nbconvert_exporter": "python",
   "pygments_lexer": "ipython3",
   "version": "3.6.9"
  }
 },
 "nbformat": 4,
 "nbformat_minor": 2
}
