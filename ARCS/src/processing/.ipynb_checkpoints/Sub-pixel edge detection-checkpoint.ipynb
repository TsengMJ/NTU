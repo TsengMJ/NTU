{
 "cells": [
  {
   "cell_type": "code",
   "execution_count": 10,
   "metadata": {},
   "outputs": [],
   "source": [
    "from numpy import linalg as LA\n",
    "from scipy.optimize import curve_fit\n",
    "import matplotlib.pyplot as plt\n",
    "import circle_fit as cf\n",
    "import numpy as np\n",
    "import cv2\n",
    "import time\n",
    "import os"
   ]
  },
  {
   "cell_type": "markdown",
   "metadata": {},
   "source": [
    "## 目前進度\n",
    "### 還須找到更好的擬合公式\n",
    "### 或是找到適合 sample 的距離 "
   ]
  },
  {
   "cell_type": "markdown",
   "metadata": {},
   "source": [
    "## 縮寫頓應\n",
    "pt   -> points  <br>\n",
    "dist -> distance <br>\n",
    "spl  -> sample\n"
   ]
  },
  {
   "cell_type": "markdown",
   "metadata": {},
   "source": [
    "## 影像處理"
   ]
  },
  {
   "cell_type": "code",
   "execution_count": 13,
   "metadata": {},
   "outputs": [],
   "source": [
    "def image_processing(gray_img):\n",
    "    blur = cv2.GaussianBlur(gray_img, (5,5), 0)\n",
    "    nlm  = cv2.fastNlMeansDenoising(blur, None, 10, 7, 21)\n",
    "    _, otsu = cv2.threshold(nlm, 0, 255, cv2.THRESH_BINARY_INV+cv2.THRESH_OTSU)\n",
    "    edge = cv2.Canny(otsu, 0, 20)\n",
    "    \n",
    "    return blur, nlm, otsu, edge\n",
    "\n",
    "def get_edge_points(edge_img):\n",
    "    edge_points = [[j,i] for i, r in enumerate(edge_img) for j, c in enumerate(r) if c == 255]\n",
    "\n",
    "    return edge_points"
   ]
  },
  {
   "cell_type": "markdown",
   "metadata": {},
   "source": [
    "## Get subpixel edge locations"
   ]
  },
  {
   "cell_type": "code",
   "execution_count": 3,
   "metadata": {},
   "outputs": [],
   "source": [
    "def sigmoid(x, a, b):\n",
    "    return 1.0 / (1.0 + np.exp(-a*(x-b)))"
   ]
  },
  {
   "cell_type": "code",
   "execution_count": null,
   "metadata": {},
   "outputs": [],
   "source": [
    "def get_influential_neighbors():\n",
    "    pass"
   ]
  },
  {
   "cell_type": "code",
   "execution_count": null,
   "metadata": {},
   "outputs": [],
   "source": [
    "def get_negihbors_val(neighbors_loc, img):\n",
    "    neighbors_val = [img[y,x] for y, x in neighbors_loc]\n",
    "    return neighbors_val"
   ]
  },
  {
   "cell_type": "code",
   "execution_count": null,
   "metadata": {},
   "outputs": [],
   "source": [
    "def get_negihbors_wt(coord, neighbors_loc):\n",
    "    neighbors_dist = LA.norm(coord - neighbors_loc, axis=1)\n",
    "    \n",
    "    ## 想辦法使得以距離違反比且對於剛好在pixel上時回傳整數值\n",
    "    pass"
   ]
  },
  {
   "cell_type": "code",
   "execution_count": null,
   "metadata": {},
   "outputs": [],
   "source": []
  },
  {
   "cell_type": "code",
   "execution_count": 21,
   "metadata": {},
   "outputs": [
    {
     "data": {
      "text/plain": [
       "array([2.23606798, 5.        ])"
      ]
     },
     "execution_count": 21,
     "metadata": {},
     "output_type": "execute_result"
    }
   ],
   "source": [
    "a = np.asarray([[-1,2],[3,4]])\n",
    "\n",
    "LA.norm(a, axis=1)"
   ]
  },
  {
   "cell_type": "code",
   "execution_count": null,
   "metadata": {},
   "outputs": [],
   "source": []
  },
  {
   "cell_type": "code",
   "execution_count": null,
   "metadata": {},
   "outputs": [],
   "source": [
    "def get_sample_value(coord, img):\n",
    "    ## 取得有影響力的 4 個相鄰點及相對應的 值 和 權重\n",
    "    neighbors_loc = get_influential_neighbors(coord)\n",
    "    neighbors_val = get_negihbors_val(neighbors_loc, img)\n",
    "    neighbors_wt  = get_negihbors_wt(coord, neighbors_loc)\n",
    "    \n",
    "    ## 計算 sample 的值\n",
    "    value = np.dot(neighbors_val, neighbors_wt)\n",
    "    return value\n",
    "    "
   ]
  },
  {
   "cell_type": "code",
   "execution_count": null,
   "metadata": {},
   "outputs": [],
   "source": []
  },
  {
   "cell_type": "code",
   "execution_count": 4,
   "metadata": {},
   "outputs": [],
   "source": [
    "### Stop\n",
    "def get_sample_value(coord, img):\n",
    "    center = np.around(coord)\n",
    "    \n",
    "    x, y = int(center[0]), int(center[1])\n",
    "    neighbor_val = []\n",
    "    neighbor_dist = []\n",
    "    \n",
    "    ## 取的9格的距離跟值\n",
    "    for i in range(-1,2):\n",
    "        for j in range(-1,2):\n",
    "            dist = LA.norm((center + np.asarray([j,i])) - coord)\n",
    "            neighbor_val.append(img[y+i, x+j])\n",
    "            neighbor_dist.append(dist)\n",
    "\n",
    "    ## 依照距離反比給權重\n",
    "    neighbor_dist = np.asarray(neighbor_dist)/np.sum(neighbor_dist)\n",
    "    neighbor_dist = (1 - np.asarray(neighbor_dist))/8\n",
    "    \n",
    "    value = np.dot(neighbor_val, neighbor_dist)\n",
    "    return value\n",
    "### Stop"
   ]
  },
  {
   "cell_type": "code",
   "execution_count": 12,
   "metadata": {},
   "outputs": [],
   "source": [
    "def get_subpixel_edges(center, edge_pts, img):\n",
    "    sp_edge = []\n",
    "    \n",
    "    for pt in edge_pts:\n",
    "        ## 取得中心到邊緣的單位向量\n",
    "        c2e_Vector = pt - center\n",
    "        c2e_Vector = c2e_Vector/LA.norm(c2e_Vector)\n",
    "        \n",
    "        \n",
    "        spl_pts = []\n",
    "        spl_vals = []\n",
    "        for i in range(-10, 11):\n",
    "            ## 生出要擬合 S 曲線的點\n",
    "            spl_loc = pt + i*c2e_Vector              # 需要再找道合適參數\n",
    "            spl_val = get_sample_value(spl_loc, img)\n",
    "            \n",
    "            spl_pts.append(spl_loc)\n",
    "            spl_vals.append(spl_val)\n",
    "            \n",
    "\n",
    "#         print(spl_pts)\n",
    "#         print(spl_vals)\n",
    "        \n",
    "        x_label = np.asarray(range(0,21))\n",
    "        \n",
    "\n",
    "        ## 擬合 S 曲線\n",
    "        popt, pcov = curve_fit(sigmoid, x_label, spl_vals)\n",
    "#         print(popt)\n",
    "        \n",
    "        x = np.linspace(-5, 35, 50)\n",
    "        y = sigmoid(x, *popt)\n",
    "\n",
    "#         plt.plot(x_label, spl_vals, 'o', label='data')\n",
    "# #         plt.plot(x,y, label='fit')\n",
    "#         plt.ylim(100, 140)\n",
    "#         plt.legend(loc='best')\n",
    "#         plt.show()\n",
    "        \n",
    "#         break\n",
    "    \n",
    "    return sp_edge"
   ]
  },
  {
   "cell_type": "code",
   "execution_count": null,
   "metadata": {},
   "outputs": [],
   "source": []
  },
  {
   "cell_type": "code",
   "execution_count": 14,
   "metadata": {
    "scrolled": true
   },
   "outputs": [
    {
     "name": "stdout",
     "output_type": "stream",
     "text": [
      "1.0810234546661377\n"
     ]
    }
   ],
   "source": [
    "os.chdir(\"/home/mj/HardDisk/Github/NTU/ARCS/img/X-Ray/Case_1/Cut\")\n",
    "# os.chdir(\"/home/mj/Github/NTU/ARCS/img/X-Ray/Case_1/Cut\")\n",
    "file = \"10_mean_80.bmp\"\n",
    "img = cv2.imread(file, 0)\n",
    "\n",
    "time_start = time.time()\n",
    "\n",
    "blur, nlm, otsu, edge = image_processing(img)\n",
    "edge_points = get_edge_points(edge)\n",
    "cx,cy,r,_ = cf.least_squares_circle((edge_points))\n",
    "sp_edges = get_subpixel_edges(np.asarray([cx,cy]), edge_points, nlm)\n",
    "\n",
    "\n",
    "elapsed_time = time.time() - time_start\n",
    "print(elapsed_time)\n",
    "# cv2.imshow(\"Image\", img)\n",
    "# cv2.waitKey(0)\n",
    "# cv2.destroyAllWindows()\n",
    "\n",
    "# print(\"{}, {}\".format(cx, cy))"
   ]
  },
  {
   "cell_type": "code",
   "execution_count": null,
   "metadata": {},
   "outputs": [],
   "source": []
  },
  {
   "cell_type": "code",
   "execution_count": null,
   "metadata": {},
   "outputs": [],
   "source": []
  }
 ],
 "metadata": {
  "kernelspec": {
   "display_name": "Python 3",
   "language": "python",
   "name": "python3"
  },
  "language_info": {
   "codemirror_mode": {
    "name": "ipython",
    "version": 3
   },
   "file_extension": ".py",
   "mimetype": "text/x-python",
   "name": "python",
   "nbconvert_exporter": "python",
   "pygments_lexer": "ipython3",
   "version": "3.6.9"
  }
 },
 "nbformat": 4,
 "nbformat_minor": 2
}
