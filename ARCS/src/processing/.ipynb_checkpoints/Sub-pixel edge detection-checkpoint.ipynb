{
 "cells": [
  {
   "cell_type": "code",
   "execution_count": 1,
   "metadata": {},
   "outputs": [],
   "source": [
    "from numpy import linalg as LA\n",
    "from scipy.optimize import curve_fit\n",
    "import matplotlib.pyplot as plt\n",
    "import circle_fit as cf\n",
    "import numpy as np\n",
    "import cv2\n",
    "import timeit\n",
    "import time\n",
    "import os"
   ]
  },
  {
   "cell_type": "markdown",
   "metadata": {},
   "source": [
    "## 目前進度\n",
    "### 還須找到更好的擬合公式\n",
    "### 或是找到適合 sample 的距離 "
   ]
  },
  {
   "cell_type": "markdown",
   "metadata": {},
   "source": [
    "## 縮寫對應\n",
    "pt   -> points  <br>\n",
    "dist -> distance <br>\n",
    "spl  -> sample\n"
   ]
  },
  {
   "cell_type": "markdown",
   "metadata": {},
   "source": [
    "## 影像處理"
   ]
  },
  {
   "cell_type": "code",
   "execution_count": 2,
   "metadata": {},
   "outputs": [],
   "source": [
    "def image_processing(gray_img):\n",
    "    blur = cv2.GaussianBlur(gray_img, (5,5), 0)\n",
    "    nlm  = cv2.fastNlMeansDenoising(blur, None, 10, 7, 21)\n",
    "    _, otsu = cv2.threshold(nlm, 0, 255, cv2.THRESH_BINARY_INV+cv2.THRESH_OTSU)\n",
    "    edge = cv2.Canny(otsu, 0, 20)\n",
    "    \n",
    "    return blur, nlm, otsu, edge\n",
    "\n",
    "def get_edge_points(edge_img):\n",
    "    edge_points = [[j,i] for i, r in enumerate(edge_img) for j, c in enumerate(r) if c == 255]\n",
    "\n",
    "    return edge_points"
   ]
  },
  {
   "cell_type": "markdown",
   "metadata": {},
   "source": [
    "## Get subpixel edge locations"
   ]
  },
  {
   "cell_type": "code",
   "execution_count": 3,
   "metadata": {},
   "outputs": [],
   "source": [
    "def sigmoid(x, a, b):\n",
    "    return 1.0 / (1.0 + np.exp(-a*(x-b)))"
   ]
  },
  {
   "cell_type": "code",
   "execution_count": 4,
   "metadata": {},
   "outputs": [],
   "source": [
    "def get_influential_neighbors(coord):\n",
    "    ## 依照 sample 的點落在當下 pixel 中的哪個空間，分為 4 個case\n",
    "    ##     0 . 1\n",
    "    ##    .......\n",
    "    ##     2 . 3\n",
    "    y, x = round(coord[0]), round(coord[1])\n",
    "    space = np.dot([1,2], [y,x])\n",
    "    \n",
    "    switcher = {\n",
    "        0: [[y,x], [y-1,x], [y-1,x-1], [y,x-1]],\n",
    "        1: [[y,x], [y,x+1], [y-1,x+1], [y-1,x]],\n",
    "        2: [[y,x], [y,x-1], [y+1,x-1], [y+1,x]],\n",
    "        3: [[y,x], [y+1,x], [y+1,x+1], [y,x+1]],\n",
    "    }\n",
    "    \n",
    "    neighbors_loc = np.asarray(switcher.get(space))\n",
    "    return neighbors_loc"
   ]
  },
  {
   "cell_type": "code",
   "execution_count": 5,
   "metadata": {},
   "outputs": [],
   "source": [
    "def get_negihbors_val(neighbors_loc, img):\n",
    "    neighbors_val = [img[y,x] for y, x in neighbors_loc]\n",
    "    return neighbors_val"
   ]
  },
  {
   "cell_type": "code",
   "execution_count": 6,
   "metadata": {},
   "outputs": [],
   "source": [
    "def get_negihbors_wt(coord, neighbors_loc): \n",
    "    ## 取的每個 neighbor 與 sample 點的距離\n",
    "    neighbors_dist = LA.norm(coord - neighbors_loc, axis=1)\n",
    "    \n",
    "    ## 若與第一個 pixel 的距離是 0 (即在 pixel 上)則為當下的值\n",
    "    ## 否則每個 neighbor 的權重為距離倒數\n",
    "    neighbors_wt = neighbors_dist[0] == 0 and [1,0,0,0] or (1 - neighbors_dist)/3\n",
    "    return neighbors_wt"
   ]
  },
  {
   "cell_type": "code",
   "execution_count": 7,
   "metadata": {},
   "outputs": [],
   "source": [
    "def get_spl_val(coord, img):\n",
    "    ## 取得有影響力的 4 個相鄰點及相對應的 值 和 權重\n",
    "    neighbors_loc = get_influential_neighbors(coord)\n",
    "    neighbors_val = get_negihbors_val(neighbors_loc, img)\n",
    "    neighbors_wt  = get_negihbors_wt(coord, neighbors_loc)\n",
    "    \n",
    "    ## 計算 sample 的值\n",
    "    value = np.dot(neighbors_val, neighbors_wt)\n",
    "    return value\n",
    "    "
   ]
  },
  {
   "cell_type": "code",
   "execution_count": 11,
   "metadata": {},
   "outputs": [],
   "source": [
    "def get_sbp_edges(center, edge_pts, img):\n",
    "    sbp_edges = []\n",
    "    \n",
    "    for pt in edge_pts:\n",
    "        ## 取得中心到邊緣的單位向量\n",
    "        c2e_V = pt - center\n",
    "        c2e_V = c2e_V/LA.norm(c2e_V)\n",
    "        \n",
    "        spl_pts  = [pt + i*c2e_V for i in range(-10,11)]       # 需要再找道合適參數\n",
    "        spl_vals = [get_spl_val(spl_pt, img) for spl_pt in spl_pts]\n",
    "            \n",
    "#         print(spl_pts)\n",
    "#         print(spl_vals)\n",
    "        \n",
    "        x_label = np.asarray(range(0,21))\n",
    "\n",
    "        ## 擬合 S 曲線\n",
    "        popt, pcov = curve_fit(sigmoid, x_label, spl_vals)\n",
    "#         print(popt)\n",
    "        \n",
    "        x = np.linspace(-5, 35, 50)\n",
    "        y = sigmoid(x, *popt)\n",
    "\n",
    "        plt.plot(x_label, spl_vals, 'o', label='data')\n",
    "#         plt.plot(x,y, label='fit')\n",
    "        plt.ylim(100, 140)\n",
    "        plt.legend(loc='best')\n",
    "        plt.show()\n",
    "        \n",
    "        break\n",
    "    \n",
    "    return sp_edges"
   ]
  },
  {
   "cell_type": "code",
   "execution_count": null,
   "metadata": {},
   "outputs": [],
   "source": []
  },
  {
   "cell_type": "code",
   "execution_count": 12,
   "metadata": {
    "scrolled": true
   },
   "outputs": [
    {
     "ename": "TypeError",
     "evalue": "iteration over a 0-d array",
     "output_type": "error",
     "traceback": [
      "\u001b[0;31m---------------------------------------------------------------------------\u001b[0m",
      "\u001b[0;31mTypeError\u001b[0m                                 Traceback (most recent call last)",
      "\u001b[0;32m<ipython-input-12-6d8e77096ea8>\u001b[0m in \u001b[0;36m<module>\u001b[0;34m\u001b[0m\n\u001b[1;32m      9\u001b[0m \u001b[0medge_points\u001b[0m \u001b[0;34m=\u001b[0m \u001b[0mget_edge_points\u001b[0m\u001b[0;34m(\u001b[0m\u001b[0medge\u001b[0m\u001b[0;34m)\u001b[0m\u001b[0;34m\u001b[0m\u001b[0;34m\u001b[0m\u001b[0m\n\u001b[1;32m     10\u001b[0m \u001b[0mcx\u001b[0m\u001b[0;34m,\u001b[0m\u001b[0mcy\u001b[0m\u001b[0;34m,\u001b[0m\u001b[0mr\u001b[0m\u001b[0;34m,\u001b[0m\u001b[0m_\u001b[0m \u001b[0;34m=\u001b[0m \u001b[0mcf\u001b[0m\u001b[0;34m.\u001b[0m\u001b[0mleast_squares_circle\u001b[0m\u001b[0;34m(\u001b[0m\u001b[0;34m(\u001b[0m\u001b[0medge_points\u001b[0m\u001b[0;34m)\u001b[0m\u001b[0;34m)\u001b[0m\u001b[0;34m\u001b[0m\u001b[0;34m\u001b[0m\u001b[0m\n\u001b[0;32m---> 11\u001b[0;31m \u001b[0msp_edges\u001b[0m \u001b[0;34m=\u001b[0m \u001b[0mget_sbp_edges\u001b[0m\u001b[0;34m(\u001b[0m\u001b[0mnp\u001b[0m\u001b[0;34m.\u001b[0m\u001b[0masarray\u001b[0m\u001b[0;34m(\u001b[0m\u001b[0;34m[\u001b[0m\u001b[0mcx\u001b[0m\u001b[0;34m,\u001b[0m\u001b[0mcy\u001b[0m\u001b[0;34m]\u001b[0m\u001b[0;34m)\u001b[0m\u001b[0;34m,\u001b[0m \u001b[0medge_points\u001b[0m\u001b[0;34m,\u001b[0m \u001b[0mnlm\u001b[0m\u001b[0;34m)\u001b[0m\u001b[0;34m\u001b[0m\u001b[0;34m\u001b[0m\u001b[0m\n\u001b[0m\u001b[1;32m     12\u001b[0m \u001b[0;34m\u001b[0m\u001b[0m\n\u001b[1;32m     13\u001b[0m \u001b[0;34m\u001b[0m\u001b[0m\n",
      "\u001b[0;32m<ipython-input-11-5b041889aa21>\u001b[0m in \u001b[0;36mget_sbp_edges\u001b[0;34m(center, edge_pts, img)\u001b[0m\n\u001b[1;32m      8\u001b[0m \u001b[0;34m\u001b[0m\u001b[0m\n\u001b[1;32m      9\u001b[0m         \u001b[0mspl_pts\u001b[0m  \u001b[0;34m=\u001b[0m \u001b[0;34m[\u001b[0m\u001b[0mpt\u001b[0m \u001b[0;34m+\u001b[0m \u001b[0mi\u001b[0m\u001b[0;34m*\u001b[0m\u001b[0mc2e_V\u001b[0m \u001b[0;32mfor\u001b[0m \u001b[0mi\u001b[0m \u001b[0;32min\u001b[0m \u001b[0mrange\u001b[0m\u001b[0;34m(\u001b[0m\u001b[0;34m-\u001b[0m\u001b[0;36m10\u001b[0m\u001b[0;34m,\u001b[0m\u001b[0;36m11\u001b[0m\u001b[0;34m)\u001b[0m\u001b[0;34m]\u001b[0m       \u001b[0;31m# 需要再找道合適參數\u001b[0m\u001b[0;34m\u001b[0m\u001b[0;34m\u001b[0m\u001b[0m\n\u001b[0;32m---> 10\u001b[0;31m         \u001b[0mspl_vals\u001b[0m \u001b[0;34m=\u001b[0m \u001b[0;34m[\u001b[0m\u001b[0mget_spl_val\u001b[0m\u001b[0;34m(\u001b[0m\u001b[0mspl_pt\u001b[0m\u001b[0;34m,\u001b[0m \u001b[0mimg\u001b[0m\u001b[0;34m)\u001b[0m \u001b[0;32mfor\u001b[0m \u001b[0mspl_pt\u001b[0m \u001b[0;32min\u001b[0m \u001b[0mspl_pts\u001b[0m\u001b[0;34m]\u001b[0m\u001b[0;34m\u001b[0m\u001b[0;34m\u001b[0m\u001b[0m\n\u001b[0m\u001b[1;32m     11\u001b[0m \u001b[0;34m\u001b[0m\u001b[0m\n\u001b[1;32m     12\u001b[0m \u001b[0;31m#         print(spl_pts)\u001b[0m\u001b[0;34m\u001b[0m\u001b[0;34m\u001b[0m\u001b[0;34m\u001b[0m\u001b[0m\n",
      "\u001b[0;32m<ipython-input-11-5b041889aa21>\u001b[0m in \u001b[0;36m<listcomp>\u001b[0;34m(.0)\u001b[0m\n\u001b[1;32m      8\u001b[0m \u001b[0;34m\u001b[0m\u001b[0m\n\u001b[1;32m      9\u001b[0m         \u001b[0mspl_pts\u001b[0m  \u001b[0;34m=\u001b[0m \u001b[0;34m[\u001b[0m\u001b[0mpt\u001b[0m \u001b[0;34m+\u001b[0m \u001b[0mi\u001b[0m\u001b[0;34m*\u001b[0m\u001b[0mc2e_V\u001b[0m \u001b[0;32mfor\u001b[0m \u001b[0mi\u001b[0m \u001b[0;32min\u001b[0m \u001b[0mrange\u001b[0m\u001b[0;34m(\u001b[0m\u001b[0;34m-\u001b[0m\u001b[0;36m10\u001b[0m\u001b[0;34m,\u001b[0m\u001b[0;36m11\u001b[0m\u001b[0;34m)\u001b[0m\u001b[0;34m]\u001b[0m       \u001b[0;31m# 需要再找道合適參數\u001b[0m\u001b[0;34m\u001b[0m\u001b[0;34m\u001b[0m\u001b[0m\n\u001b[0;32m---> 10\u001b[0;31m         \u001b[0mspl_vals\u001b[0m \u001b[0;34m=\u001b[0m \u001b[0;34m[\u001b[0m\u001b[0mget_spl_val\u001b[0m\u001b[0;34m(\u001b[0m\u001b[0mspl_pt\u001b[0m\u001b[0;34m,\u001b[0m \u001b[0mimg\u001b[0m\u001b[0;34m)\u001b[0m \u001b[0;32mfor\u001b[0m \u001b[0mspl_pt\u001b[0m \u001b[0;32min\u001b[0m \u001b[0mspl_pts\u001b[0m\u001b[0;34m]\u001b[0m\u001b[0;34m\u001b[0m\u001b[0;34m\u001b[0m\u001b[0m\n\u001b[0m\u001b[1;32m     11\u001b[0m \u001b[0;34m\u001b[0m\u001b[0m\n\u001b[1;32m     12\u001b[0m \u001b[0;31m#         print(spl_pts)\u001b[0m\u001b[0;34m\u001b[0m\u001b[0;34m\u001b[0m\u001b[0;34m\u001b[0m\u001b[0m\n",
      "\u001b[0;32m<ipython-input-7-405f3690a090>\u001b[0m in \u001b[0;36mget_spl_val\u001b[0;34m(coord, img)\u001b[0m\n\u001b[1;32m      2\u001b[0m     \u001b[0;31m## 取得有影響力的 4 個相鄰點及相對應的 值 和 權重\u001b[0m\u001b[0;34m\u001b[0m\u001b[0;34m\u001b[0m\u001b[0;34m\u001b[0m\u001b[0m\n\u001b[1;32m      3\u001b[0m     \u001b[0mneighbors_loc\u001b[0m \u001b[0;34m=\u001b[0m \u001b[0mget_influential_neighbors\u001b[0m\u001b[0;34m(\u001b[0m\u001b[0mcoord\u001b[0m\u001b[0;34m)\u001b[0m\u001b[0;34m\u001b[0m\u001b[0;34m\u001b[0m\u001b[0m\n\u001b[0;32m----> 4\u001b[0;31m     \u001b[0mneighbors_val\u001b[0m \u001b[0;34m=\u001b[0m \u001b[0mget_negihbors_val\u001b[0m\u001b[0;34m(\u001b[0m\u001b[0mneighbors_loc\u001b[0m\u001b[0;34m,\u001b[0m \u001b[0mimg\u001b[0m\u001b[0;34m)\u001b[0m\u001b[0;34m\u001b[0m\u001b[0;34m\u001b[0m\u001b[0m\n\u001b[0m\u001b[1;32m      5\u001b[0m     \u001b[0mneighbors_wt\u001b[0m  \u001b[0;34m=\u001b[0m \u001b[0mget_negihbors_wt\u001b[0m\u001b[0;34m(\u001b[0m\u001b[0mcoord\u001b[0m\u001b[0;34m,\u001b[0m \u001b[0mneighbors_loc\u001b[0m\u001b[0;34m)\u001b[0m\u001b[0;34m\u001b[0m\u001b[0;34m\u001b[0m\u001b[0m\n\u001b[1;32m      6\u001b[0m \u001b[0;34m\u001b[0m\u001b[0m\n",
      "\u001b[0;32m<ipython-input-5-7a8f6bffae15>\u001b[0m in \u001b[0;36mget_negihbors_val\u001b[0;34m(neighbors_loc, img)\u001b[0m\n\u001b[1;32m      1\u001b[0m \u001b[0;32mdef\u001b[0m \u001b[0mget_negihbors_val\u001b[0m\u001b[0;34m(\u001b[0m\u001b[0mneighbors_loc\u001b[0m\u001b[0;34m,\u001b[0m \u001b[0mimg\u001b[0m\u001b[0;34m)\u001b[0m\u001b[0;34m:\u001b[0m\u001b[0;34m\u001b[0m\u001b[0;34m\u001b[0m\u001b[0m\n\u001b[0;32m----> 2\u001b[0;31m     \u001b[0mneighbors_val\u001b[0m \u001b[0;34m=\u001b[0m \u001b[0;34m[\u001b[0m\u001b[0mimg\u001b[0m\u001b[0;34m[\u001b[0m\u001b[0my\u001b[0m\u001b[0;34m,\u001b[0m\u001b[0mx\u001b[0m\u001b[0;34m]\u001b[0m \u001b[0;32mfor\u001b[0m \u001b[0my\u001b[0m\u001b[0;34m,\u001b[0m \u001b[0mx\u001b[0m \u001b[0;32min\u001b[0m \u001b[0mneighbors_loc\u001b[0m\u001b[0;34m]\u001b[0m\u001b[0;34m\u001b[0m\u001b[0;34m\u001b[0m\u001b[0m\n\u001b[0m\u001b[1;32m      3\u001b[0m     \u001b[0;32mreturn\u001b[0m \u001b[0mneighbors_val\u001b[0m\u001b[0;34m\u001b[0m\u001b[0;34m\u001b[0m\u001b[0m\n",
      "\u001b[0;31mTypeError\u001b[0m: iteration over a 0-d array"
     ]
    }
   ],
   "source": [
    "# os.chdir(\"/home/mj/HardDisk/Github/NTU/ARCS/img/X-Ray/Case_1/Cut\")\n",
    "os.chdir(\"/home/mj/Github/NTU/ARCS/img/X-Ray/Case_1/Cut\")\n",
    "file = \"10_mean_80.bmp\"\n",
    "img = cv2.imread(file, 0)\n",
    "\n",
    "time_start = time.time()\n",
    "\n",
    "blur, nlm, otsu, edge = image_processing(img)\n",
    "edge_points = get_edge_points(edge)\n",
    "cx,cy,r,_ = cf.least_squares_circle((edge_points))\n",
    "sp_edges = get_sbp_edges(np.asarray([cx,cy]), edge_points, nlm)\n",
    "\n",
    "\n",
    "elapsed_time = time.time() - time_start\n",
    "print(elapsed_time)\n",
    "# cv2.imshow(\"Image\", img)\n",
    "# cv2.waitKey(0)\n",
    "# cv2.destroyAllWindows()\n",
    "\n",
    "# print(\"{}, {}\".format(cx, cy))"
   ]
  },
  {
   "cell_type": "code",
   "execution_count": null,
   "metadata": {},
   "outputs": [],
   "source": []
  },
  {
   "cell_type": "code",
   "execution_count": null,
   "metadata": {},
   "outputs": [],
   "source": []
  }
 ],
 "metadata": {
  "kernelspec": {
   "display_name": "Python 3",
   "language": "python",
   "name": "python3"
  },
  "language_info": {
   "codemirror_mode": {
    "name": "ipython",
    "version": 3
   },
   "file_extension": ".py",
   "mimetype": "text/x-python",
   "name": "python",
   "nbconvert_exporter": "python",
   "pygments_lexer": "ipython3",
   "version": "3.6.9"
  }
 },
 "nbformat": 4,
 "nbformat_minor": 2
}
