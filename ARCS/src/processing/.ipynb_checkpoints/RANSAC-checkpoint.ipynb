{
 "cells": [
  {
   "cell_type": "code",
   "execution_count": 1,
   "metadata": {},
   "outputs": [],
   "source": [
    "from matplotlib import pyplot as plt\n",
    "from scipy.optimize import minimize\n",
    "import circle_fit as cf\n",
    "import numpy as np\n",
    "import time\n",
    "import math\n",
    "import random\n",
    "import cv2\n",
    "import os\n",
    "%run ../functions.ipynb"
   ]
  },
  {
   "cell_type": "code",
   "execution_count": null,
   "metadata": {},
   "outputs": [],
   "source": []
  },
  {
   "cell_type": "code",
   "execution_count": 50,
   "metadata": {},
   "outputs": [
    {
     "data": {
      "text/plain": [
       "array([3, 5, 7])"
      ]
     },
     "execution_count": 50,
     "metadata": {},
     "output_type": "execute_result"
    }
   ],
   "source": [
    "q = lambda x: 2*x+1\n",
    "a = np.asarray([1,2,3])\n",
    "a = q(a)\n",
    "a"
   ]
  },
  {
   "cell_type": "markdown",
   "metadata": {},
   "source": [
    "## Error functions"
   ]
  },
  {
   "cell_type": "code",
   "execution_count": 51,
   "metadata": {},
   "outputs": [],
   "source": [
    "def linear_ls_errors(x, y, a, b, weights):\n",
    "    return (a*x - y + b)**2 * weights\n",
    "\n",
    "def circle_ls_errors(x, y, a, b, r, weights):\n",
    "    return abs(((x - a)**2 + (y - b)**2 - r**2) * weights)\n",
    "\n",
    "def evaluate_func(x, y, a, b, r, weights ,threshold):\n",
    "    errors = abs(((x - a)**2 + (y - b)**2 - r**2) * weights)\n",
    "    inliers = errors < threshold\n",
    "    num_inliers = np.count_nonzero(inliers == True)\n",
    "    return num_inliers"
   ]
  },
  {
   "cell_type": "code",
   "execution_count": null,
   "metadata": {},
   "outputs": [],
   "source": []
  },
  {
   "cell_type": "markdown",
   "metadata": {},
   "source": [
    "## Fitting models"
   ]
  },
  {
   "cell_type": "code",
   "execution_count": 53,
   "metadata": {},
   "outputs": [],
   "source": [
    "def linear_fit_model(error_func, init_cond, x, y, weights):\n",
    "    J = lambda param: np.sum(error_func(x, y, param[0], param[1], weights))\n",
    "    sol = minimize(J, init_cond)\n",
    "    return sol\n",
    "\n",
    "def circle_fit_model(init_cond, data, weights):\n",
    "    cy,cx,r,_ = cf.least_squares_circle(data)\n",
    "    return [cx, cy, r]\n"
   ]
  },
  {
   "cell_type": "code",
   "execution_count": null,
   "metadata": {},
   "outputs": [],
   "source": [
    "def fit_with_least_squares(X, y):\n",
    "    \"\"\"\n",
    "    Fits model for a given data using least squares.\n",
    "    X should be an mxn matrix, where m is number of samples, and n is number of independent variables.\n",
    "    y should be an mx1 vector of dependent variables.\n",
    "    \"\"\"\n",
    "    b = np.ones((X.shape[0], 1))\n",
    "    A = np.hstack((X, b))\n",
    "    theta = np.linalg.lstsq(A, y)[0]\n",
    "    return theta\n",
    "\n",
    "def evaluate_model(X, y, theta, inlier_threshold):\n",
    "    \"\"\"\n",
    "    Evaluates model and returns total number of inliers.\n",
    "    X should be an mxn matrix, where m is number of samples, and n is number of independent variables.\n",
    "    y should be an mx1 vector of dependent variables.\n",
    "    theta should be an (n+1)x1 vector of model parameters.\n",
    "    inlier_threshold should be a scalar.\n",
    "    \"\"\"\n",
    "    b = np.ones((X.shape[0], 1))\n",
    "    y = y.reshape((y.shape[0], 1))\n",
    "    A = np.hstack((y, X, b))\n",
    "    theta = np.insert(theta, 0, -1.)\n",
    "    \n",
    "    distances = np.abs(np.sum(A*theta, axis=1)) / np.sqrt(np.sum(np.power(theta[:-1], 2)))\n",
    "    inliers = distances <= inlier_threshold\n",
    "    num_inliers = np.count_nonzero(inliers == True)\n",
    "    \n",
    "    return num_inliers\n"
   ]
  },
  {
   "cell_type": "markdown",
   "metadata": {},
   "source": [
    "## RANSAC"
   ]
  },
  {
   "cell_type": "markdown",
   "metadata": {},
   "source": [
    "### Classic"
   ]
  },
  {
   "cell_type": "code",
   "execution_count": 33,
   "metadata": {},
   "outputs": [],
   "source": [
    "def ransac_classic(evaluate_fn, fit_model, X, iterations=100, fit_samples=3, inlier_threshold=0.1, min_inliners=10):\n",
    "    best_params = None\n",
    "    best_performance = 0\n",
    "    indices = np.array(range(len(X)))\n",
    "    \n",
    "    for iter in range(iterations):\n",
    "        sampled_indices = np.random.choice(range(len(indices)), size=fit_samples, replace=False)        \n",
    "        X_subset = X[sampled_indices]\n",
    "        \n",
    "        current_params = fit_model(X_subset)\n",
    "        current_performance = evaluate_fn(X, current_params, inlier_threshold)\n",
    "        \n",
    "        if current_performance < min_inliers:\n",
    "            continue\n",
    "        \n",
    "        if current_performance > best_performance:\n",
    "            best_params = current_params\n",
    "            best_performance = current_performance\n",
    "            \n",
    "    return best_params"
   ]
  },
  {
   "cell_type": "markdown",
   "metadata": {},
   "source": [
    "### Bayesian based"
   ]
  },
  {
   "cell_type": "code",
   "execution_count": 39,
   "metadata": {},
   "outputs": [],
   "source": [
    "def ransac_bayesian(error_func, fit_model, X, iterations=1000,\n",
    "                      fit_samples=3, fit_with_best_n=None, priors=None, norm_func=np.arctan):\n",
    "    \n",
    "    # Step1. 事先機率設定\n",
    "    \n",
    "    # 1-1 如過參數 priors 為 None 時，將其設為全都一樣\n",
    "    if priors == None:\n",
    "        prob = np.ones(len(X))\n",
    "    else:\n",
    "        prob = priors\n",
    "    \n",
    "    # 1-2 將機率單位化\n",
    "    prob = np.divide(prob, np.sum(prob)) # p /= sum(p)\n",
    "    indices = np.array(range(len(X)))\n",
    "    current_prob = prob.copy()\n",
    "    \n",
    "    \n",
    "    # Step2. 計算穩定可靠的權重\n",
    "    for iter in range(iterations):       \n",
    "        # 2-1 隨機挑選 n 個資料子集合的索引\n",
    "        sampled_indices = np.random.choice(range(len(indices)), \n",
    "                                          p=prob, size=fit_samples, replace=False)\n",
    "        \n",
    "        # 2-2 從完整資料及中取出相對應元素\n",
    "        X_subset = X[sampled_indices]\n",
    "        \n",
    "        # 2-3 用計算取出的子集合求一組權重，再以此權重套到完整資料集求錯誤值\n",
    "        params = fit_model(X_subset)\n",
    "        errors = error_func(X, params)\n",
    "        \n",
    "        # 2-4 每次更新幅度與當次各點的誤差值成反比（不完全反比），含意為提高 inlier 往後被選取的機率\n",
    "        current_prob[:] = 1 / norm_func(1 + errors[:]) \n",
    "        prob = np.multiply(prob, current_prob)            # p *= p'\n",
    "        prob = np.divide(prob, np.sum(prob))     # p /= sum(p)\n",
    "    \n",
    "    \n",
    "    # Step3. 如果參數 fit_with_best_n 沒給就只回傳每個點被選取的機率，若有則回傳前 n 個機率高的資料擬合結果\n",
    "    if fit_with_best_n == None:       \n",
    "        return prob\n",
    "    else:\n",
    "        robust_X = X[np.argsort(prob)[-fit_with_best_n:]]\n",
    "        robust_params = fit_model(robust_X)\n",
    "        latest_errors = error_func(robust_X, robust_params) \n",
    "        return prob, robust_params, latest_errors\n",
    "        "
   ]
  },
  {
   "cell_type": "code",
   "execution_count": null,
   "metadata": {},
   "outputs": [],
   "source": []
  },
  {
   "cell_type": "markdown",
   "metadata": {},
   "source": [
    "## Test RANSAC"
   ]
  },
  {
   "cell_type": "markdown",
   "metadata": {},
   "source": [
    "### linear"
   ]
  },
  {
   "cell_type": "code",
   "execution_count": 47,
   "metadata": {},
   "outputs": [
    {
     "data": {
      "image/png": "[encoded data removed]",
      "text/plain": [
       "<Figure size 432x288 with 1 Axes>"
      ]
     },
     "metadata": {
      "needs_background": "light"
     },
     "output_type": "display_data"
    }
   ],
   "source": [
    "# Step1. 產生測試資料\n",
    "x_actual = np.random.rand(100)\n",
    "y_actual = x_actual * (-1) + 3\n",
    "y_measured = y_actual + np.random.rand(len(x_actual)) * 0.1 - 0.05\n",
    "x_measured = x_actual + np.random.rand(len(x_actual)) * 0.1 - 0.05\n",
    "x_measured = np.append(x_measured, np.array(range(50)) / 100.0)\n",
    "y_measured = np.append(y_measured, np.zeros(50) + np.random.rand(50) * 10)\n",
    "\n",
    "# Step2. \n",
    "X = np.transpose([x_measured, y_measured])\n",
    "weights = np.ones(len(X))\n",
    "\n",
    "\n",
    "fit_func = lambda X: linear_fit_model(linear_ls_errors, [1,1], X[:,0], X[:,1], np.ones(len(X))).x\n",
    "error_func = lambda X, params: linear_ls_errors(X[:,0],X[:,1],params[0],params[1],np.ones(len(X)))\n",
    "\n",
    "# Step3. 分別用 LS 與 RANSAC 擬合\n",
    "sol_lsq = linear_fit_model(linear_ls_errors, [1, 1], x_measured, y_measured,weights)\n",
    "probs, params, errors = ransac_bayesian(error_func, fit_func,X,\n",
    "                                 iterations = 100,fit_samples = 10,fit_with_best_n = 100)\n",
    "\n",
    "plt.plot(x_actual, y_actual, '.b')\n",
    "plt.plot(x_measured, y_measured, '.g')\n",
    "plt.plot(x_measured, x_measured * sol_lsq.x[0] + sol_lsq.x[1], 'r')\n",
    "plt.plot(x_measured, x_measured * params[0] + params[1], 'y')\n",
    "plt.show()"
   ]
  },
  {
   "cell_type": "code",
   "execution_count": null,
   "metadata": {},
   "outputs": [],
   "source": []
  },
  {
   "cell_type": "markdown",
   "metadata": {},
   "source": [
    "### Circle"
   ]
  },
  {
   "cell_type": "code",
   "execution_count": 52,
   "metadata": {},
   "outputs": [
    {
     "ename": "TypeError",
     "evalue": "<lambda>() takes 2 positional arguments but 3 were given",
     "output_type": "error",
     "traceback": [
      "\u001b[0;31m---------------------------------------------------------------------------\u001b[0m",
      "\u001b[0;31mTypeError\u001b[0m                                 Traceback (most recent call last)",
      "\u001b[0;32m<ipython-input-52-3c6b3be8c240>\u001b[0m in \u001b[0;36m<module>\u001b[0;34m\u001b[0m\n\u001b[1;32m     27\u001b[0m \u001b[0merror_func\u001b[0m \u001b[0;34m=\u001b[0m \u001b[0;32mlambda\u001b[0m \u001b[0mX\u001b[0m\u001b[0;34m,\u001b[0m \u001b[0mparams\u001b[0m\u001b[0;34m:\u001b[0m \u001b[0mcircle_ls_errors\u001b[0m\u001b[0;34m(\u001b[0m\u001b[0mX\u001b[0m\u001b[0;34m[\u001b[0m\u001b[0;34m:\u001b[0m\u001b[0;34m,\u001b[0m\u001b[0;36m0\u001b[0m\u001b[0;34m]\u001b[0m\u001b[0;34m,\u001b[0m \u001b[0mX\u001b[0m\u001b[0;34m[\u001b[0m\u001b[0;34m:\u001b[0m\u001b[0;34m,\u001b[0m\u001b[0;36m1\u001b[0m\u001b[0;34m]\u001b[0m\u001b[0;34m,\u001b[0m \u001b[0mparams\u001b[0m\u001b[0;34m[\u001b[0m\u001b[0;36m0\u001b[0m\u001b[0;34m]\u001b[0m\u001b[0;34m,\u001b[0m \u001b[0mparams\u001b[0m\u001b[0;34m[\u001b[0m\u001b[0;36m1\u001b[0m\u001b[0;34m]\u001b[0m\u001b[0;34m,\u001b[0m \u001b[0mparams\u001b[0m\u001b[0;34m[\u001b[0m\u001b[0;36m2\u001b[0m\u001b[0;34m]\u001b[0m\u001b[0;34m,\u001b[0m \u001b[0mnp\u001b[0m\u001b[0;34m.\u001b[0m\u001b[0mones\u001b[0m\u001b[0;34m(\u001b[0m\u001b[0mlen\u001b[0m\u001b[0;34m(\u001b[0m\u001b[0mX\u001b[0m\u001b[0;34m)\u001b[0m\u001b[0;34m)\u001b[0m\u001b[0;34m,\u001b[0m \u001b[0;36m0.5\u001b[0m\u001b[0;34m)\u001b[0m\u001b[0;34m\u001b[0m\u001b[0;34m\u001b[0m\u001b[0m\n\u001b[1;32m     28\u001b[0m \u001b[0;34m\u001b[0m\u001b[0m\n\u001b[0;32m---> 29\u001b[0;31m \u001b[0mparams\u001b[0m \u001b[0;34m=\u001b[0m \u001b[0mransac_classic\u001b[0m\u001b[0;34m(\u001b[0m\u001b[0merror_func\u001b[0m\u001b[0;34m,\u001b[0m \u001b[0mfit_func\u001b[0m\u001b[0;34m,\u001b[0m \u001b[0mX\u001b[0m\u001b[0;34m,\u001b[0m \u001b[0miterations\u001b[0m\u001b[0;34m=\u001b[0m\u001b[0;36m100\u001b[0m\u001b[0;34m,\u001b[0m \u001b[0mfit_samples\u001b[0m\u001b[0;34m=\u001b[0m\u001b[0;36m3\u001b[0m\u001b[0;34m,\u001b[0m \u001b[0minlier_threshold\u001b[0m\u001b[0;34m=\u001b[0m\u001b[0;36m0.1\u001b[0m\u001b[0;34m,\u001b[0m \u001b[0mmin_inliners\u001b[0m\u001b[0;34m=\u001b[0m\u001b[0;36m10\u001b[0m\u001b[0;34m)\u001b[0m\u001b[0;34m\u001b[0m\u001b[0;34m\u001b[0m\u001b[0m\n\u001b[0m\u001b[1;32m     30\u001b[0m \u001b[0;34m\u001b[0m\u001b[0m\n\u001b[1;32m     31\u001b[0m \u001b[0mfig\u001b[0m\u001b[0;34m,\u001b[0m \u001b[0max\u001b[0m \u001b[0;34m=\u001b[0m \u001b[0mplt\u001b[0m\u001b[0;34m.\u001b[0m\u001b[0msubplots\u001b[0m\u001b[0;34m(\u001b[0m\u001b[0;34m)\u001b[0m\u001b[0;34m\u001b[0m\u001b[0;34m\u001b[0m\u001b[0m\n",
      "\u001b[0;32m<ipython-input-33-9f7739fa02db>\u001b[0m in \u001b[0;36mransac_classic\u001b[0;34m(evaluate_fn, fit_model, X, iterations, fit_samples, inlier_threshold, min_inliners)\u001b[0m\n\u001b[1;32m      9\u001b[0m \u001b[0;34m\u001b[0m\u001b[0m\n\u001b[1;32m     10\u001b[0m         \u001b[0mcurrent_params\u001b[0m \u001b[0;34m=\u001b[0m \u001b[0mfit_model\u001b[0m\u001b[0;34m(\u001b[0m\u001b[0mX_subset\u001b[0m\u001b[0;34m)\u001b[0m\u001b[0;34m\u001b[0m\u001b[0;34m\u001b[0m\u001b[0m\n\u001b[0;32m---> 11\u001b[0;31m         \u001b[0mcurrent_performance\u001b[0m \u001b[0;34m=\u001b[0m \u001b[0mevaluate_fn\u001b[0m\u001b[0;34m(\u001b[0m\u001b[0mX\u001b[0m\u001b[0;34m,\u001b[0m \u001b[0mcurrent_params\u001b[0m\u001b[0;34m,\u001b[0m \u001b[0minlier_threshold\u001b[0m\u001b[0;34m)\u001b[0m\u001b[0;34m\u001b[0m\u001b[0;34m\u001b[0m\u001b[0m\n\u001b[0m\u001b[1;32m     12\u001b[0m \u001b[0;34m\u001b[0m\u001b[0m\n\u001b[1;32m     13\u001b[0m         \u001b[0;32mif\u001b[0m \u001b[0mcurrent_performance\u001b[0m \u001b[0;34m<\u001b[0m \u001b[0mmin_inliers\u001b[0m\u001b[0;34m:\u001b[0m\u001b[0;34m\u001b[0m\u001b[0;34m\u001b[0m\u001b[0m\n",
      "\u001b[0;31mTypeError\u001b[0m: <lambda>() takes 2 positional arguments but 3 were given"
     ]
    }
   ],
   "source": [
    "# Step1. 產生測試資料\n",
    "\n",
    "# 1-1 生成圓形資料點\n",
    "num_samples = 100\n",
    "theta = np.linspace(0, 2*np.pi, num_samples)\n",
    "r = np.random.rand((num_samples))\n",
    "\n",
    "x_actual = 10 * np.cos(theta)\n",
    "y_actual = 10 * np.sin(theta)\n",
    "x_measured = x_actual + np.random.rand(len(x_actual)) * 0.1 - 0.05\n",
    "y_measured = y_actual + np.random.rand(len(x_actual)) * 0.1 - 0.05\n",
    "x_measured = np.append(x_measured, np.array(range(50)) / 100.0)\n",
    "y_measured = np.append(y_measured, np.zeros(50) + np.random.rand(50) * 10)\n",
    "\n",
    "# Step2. 客製化錯誤函式 及 客製化擬合模型\n",
    "X = np.transpose([x_measured, y_measured])\n",
    "weights = np.ones(len(X))\n",
    "\n",
    "## Baysian\n",
    "# fit_func = lambda X: circle_fit_model([1,1,1], X, np.ones(len(X)))\n",
    "# error_func = lambda X, params: circle_ls_errors(X[:,0], X[:,1], params[0], params[1], params[2], np.ones(len(X)))\n",
    "# probs,params,errors = ransac_bayesian(error_func, fit_func,X,\n",
    "#                                  iterations = 100,fit_samples = 10,fit_with_best_n = 50)\n",
    "\n",
    "## Classic\n",
    "fit_func = lambda X: circle_fit_model([1,1,1], X, np.ones(len(X)))\n",
    "error_func = lambda X, params: circle_ls_errors(X[:,0], X[:,1], params[0], params[1], params[2], np.ones(len(X)), 0.5)\n",
    "\n",
    "params = ransac_classic(error_func, fit_func, X, iterations=100, fit_samples=3, inlier_threshold=0.1, min_inliners=10)\n",
    "\n",
    "fig, ax = plt.subplots()\n",
    "plt.axis('equal')\n",
    "plt.plot(x_actual, y_actual, '.b')\n",
    "plt.plot(x_measured, y_measured, '.g')\n",
    "\n",
    "print(errors)\n",
    "Circle_1 = plt.Circle((params[0], params[1]), params[2])\n",
    "ax.add_artist(Circle_1)\n",
    "\n",
    "plt.show()"
   ]
  },
  {
   "cell_type": "code",
   "execution_count": null,
   "metadata": {},
   "outputs": [],
   "source": []
  },
  {
   "cell_type": "code",
   "execution_count": 11,
   "metadata": {
    "scrolled": true
   },
   "outputs": [],
   "source": [
    "os.chdir(\"/home/mj/HardDisk/ARCS/img/X-Ray/Case_1/Cut\")\n",
    "## Read image\n",
    "img, gray = read_img(\"10_mean_26.bmp\")\n",
    "height, width = get_imgInfo(img)\n",
    "\n",
    "## Image processing\n",
    "blur = cv2.GaussianBlur(gray,(5,5),0)\n",
    "dst = cv2.fastNlMeansDenoising(blur,None,10,7,21)\n",
    "\n",
    "_, threshed = cv2.threshold(dst,0,255,cv2.THRESH_BINARY_INV+cv2.THRESH_OTSU)\n",
    "\n",
    "\n",
    "## Options\n",
    "# median = median_filter(threshed, 25)\n",
    "# closed = closing(median, 3)\n",
    "# opened = opening(closed, 3)\n",
    "edge = edge_detect(threshed, 0, 20)\n",
    "ret, labels = cv2.connectedComponents(edge)\n",
    "\n",
    "\n",
    "#get edge points\n",
    "edge_points = []\n",
    "for i in range(height):\n",
    "    for j in range(width):\n",
    "        if edge[i,j] == 255:\n",
    "            edge_points.append([i,j])\n",
    "            \n",
    "fit_func = lambda X: circle_fit_model([1,1,1], X, np.ones(len(X)))\n",
    "error_func = lambda X, params: circle_ls_errors(X[:,0], X[:,1], params[0], params[1], params[2], np.ones(len(X)))\n",
    "probs,params,errors = robust_lsq_ransac(error_func, fit_func,np.asarray(edge_points),\n",
    "                                 iterations = 200,fit_samples = 3,fit_with_best_n = int(0.8*len(edge_points)))\n",
    "\n",
    "# print(edge_points)\n",
    "# print(ls_params)\n",
    "# print(params)\n",
    "\n",
    "## Show processed images    \n",
    "# cv2.imshow(\"Original\", img)\n",
    "cv2.imshow(\"Gray\", gray)\n",
    "cv2.imshow(\"Blur\", blur)\n",
    "# cv2.imshow(\"Non Local Means\", dst)\n",
    "cv2.imshow(\"Thresh\", threshed)\n",
    "# cv2.imshow(\"Median\", median)\n",
    "# cv2.imshow(\"Opening\", opened)\n",
    "# cv2.imshow(\"Closing\", closed)\n",
    "cv2.imshow(\"Edge\", edge)\n",
    "cv2.waitKey(0)\n",
    "cv2.destroyAllWindows()"
   ]
  },
  {
   "cell_type": "code",
   "execution_count": null,
   "metadata": {},
   "outputs": [],
   "source": []
  },
  {
   "cell_type": "code",
   "execution_count": 31,
   "metadata": {
    "scrolled": true
   },
   "outputs": [
    {
     "name": "stdout",
     "output_type": "stream",
     "text": [
      "10_mean_0.bmp: 203.7086740800161, 99.35729350303622\n",
      "10_mean_1.bmp: 203.84024960913604, 99.12189381550981\n",
      "10_mean_10.bmp: 203.71395996797025, 99.0463301352767\n",
      "10_mean_11.bmp: 203.57848204449274, 99.23262182398659\n",
      "10_mean_12.bmp: 203.58112091127478, 99.18310274377005\n",
      "10_mean_13.bmp: 203.52485994776558, 99.20813545697546\n",
      "10_mean_14.bmp: 203.5478320751001, 99.30623294305323\n",
      "10_mean_15.bmp: 203.48808857757604, 99.17619219490551\n",
      "10_mean_16.bmp: 203.59845493708428, 99.1849829240979\n",
      "10_mean_17.bmp: 203.71332204666248, 99.32971174191407\n",
      "10_mean_18.bmp: 203.4034768835333, 99.0493759190953\n",
      "10_mean_19.bmp: 203.57851361527221, 99.16799240434393\n",
      "10_mean_2.bmp: 203.40466980920922, 98.92534304693163\n",
      "10_mean_20.bmp: 203.42934275972343, 99.03242080279628\n",
      "10_mean_21.bmp: 203.4451437309605, 99.36811870176082\n",
      "10_mean_22.bmp: 203.44578596688177, 99.19265438355544\n",
      "10_mean_23.bmp: 203.64786921831117, 99.02839814312668\n",
      "10_mean_24.bmp: 203.73553478431649, 99.255634666654\n",
      "10_mean_25.bmp: 203.81832709742991, 99.17872935130976\n",
      "10_mean_26.bmp: 203.87226325410882, 99.12846356970198\n",
      "10_mean_27.bmp: 203.61235177005446, 99.12156373037398\n",
      "10_mean_28.bmp: 203.78221546568253, 99.06849131229681\n",
      "10_mean_29.bmp: 203.59622682408678, 99.15379011553522\n",
      "10_mean_3.bmp: 203.58514855509355, 99.16240950853116\n",
      "10_mean_30.bmp: 203.67934327513794, 98.98528775792656\n",
      "10_mean_31.bmp: 203.6358611423097, 99.02786315052929\n",
      "10_mean_32.bmp: 203.46661913634966, 98.93489237155904\n",
      "10_mean_33.bmp: 203.578399034762, 99.08492249808593\n",
      "10_mean_34.bmp: 203.39328148417206, 99.32389894140144\n",
      "10_mean_35.bmp: 203.617535857321, 99.27956986741437\n",
      "10_mean_36.bmp: 203.4449987149528, 99.24755659709935\n",
      "10_mean_37.bmp: 203.6605453322083, 99.2760678747403\n",
      "10_mean_38.bmp: 203.59226440638713, 99.37813570253752\n",
      "10_mean_39.bmp: 203.5015790315779, 99.28688576657076\n",
      "10_mean_4.bmp: 203.56230702510447, 99.05234418329319\n",
      "10_mean_40.bmp: 203.3928737794978, 99.41284647356754\n",
      "10_mean_41.bmp: 203.48200510088984, 99.03670750143058\n",
      "10_mean_42.bmp: 203.58792886712695, 98.85364104613068\n",
      "10_mean_43.bmp: 203.4640746704193, 99.14729737325158\n",
      "10_mean_44.bmp: 203.6107181722704, 99.34369886510409\n",
      "10_mean_45.bmp: 203.49700718216275, 99.43263947246614\n",
      "10_mean_46.bmp: 203.64553061192169, 99.06546550276701\n",
      "10_mean_47.bmp: 203.5156407270078, 99.1974903405781\n",
      "10_mean_48.bmp: 203.7573002492623, 98.78697132778716\n",
      "10_mean_49.bmp: 203.61482133912094, 99.07155858914241\n",
      "10_mean_5.bmp: 203.4531050470735, 99.34819683320563\n",
      "10_mean_50.bmp: 203.61813950084962, 99.08286135566652\n",
      "10_mean_51.bmp: 203.51096461393198, 99.224067060739\n",
      "10_mean_52.bmp: 203.46670201060047, 99.16709879052287\n",
      "10_mean_53.bmp: 203.38185040555854, 99.14645305528961\n",
      "10_mean_54.bmp: 203.63804474426618, 99.28571090654451\n",
      "10_mean_55.bmp: 203.5715010659802, 99.34206630614446\n",
      "10_mean_56.bmp: 203.58485038583441, 99.39855524256225\n",
      "10_mean_57.bmp: 203.80980918109094, 99.12176240435528\n",
      "10_mean_58.bmp: 203.8178285033527, 98.78111777599311\n",
      "10_mean_59.bmp: 203.46639371306296, 99.12992153045025\n",
      "10_mean_6.bmp: 203.5437577261073, 99.35758840871337\n",
      "10_mean_60.bmp: 203.5456039053343, 99.1181460041943\n",
      "10_mean_61.bmp: 203.51381451541573, 99.23385532708068\n",
      "10_mean_62.bmp: 203.57990848808515, 99.2551088568653\n",
      "10_mean_63.bmp: 203.76958163687496, 99.53948606094555\n",
      "10_mean_64.bmp: 203.41689277990278, 99.35112980259512\n",
      "10_mean_65.bmp: 203.67374629598845, 99.28376794656897\n",
      "10_mean_66.bmp: 203.49780810692604, 99.06101366996225\n",
      "10_mean_67.bmp: 203.7397821089965, 99.18480252695541\n",
      "10_mean_68.bmp: 203.66944246899027, 99.24942270533548\n",
      "10_mean_69.bmp: 203.6082755717463, 99.219865555361\n",
      "10_mean_7.bmp: 203.71044170150176, 99.29921576420074\n",
      "10_mean_70.bmp: 203.52568761704336, 99.21882365482281\n",
      "10_mean_71.bmp: 203.47883814531508, 99.33283066413462\n",
      "10_mean_72.bmp: 203.72149304865832, 99.34769721015104\n",
      "10_mean_73.bmp: 203.51542588135183, 98.98394442754142\n",
      "10_mean_74.bmp: 203.51951022813245, 99.3027964348773\n",
      "10_mean_75.bmp: 203.67279033517687, 99.17565563917461\n",
      "10_mean_76.bmp: 203.47839207324168, 99.40138185096728\n",
      "10_mean_77.bmp: 203.61055289194024, 99.19936699043848\n",
      "10_mean_78.bmp: 203.60458350880867, 99.23120904252609\n",
      "10_mean_79.bmp: 203.75652745061606, 99.08764195909012\n",
      "10_mean_8.bmp: 203.68275826283778, 99.1568284914146\n",
      "10_mean_80.bmp: 203.40750268044215, 99.4935392249864\n",
      "10_mean_81.bmp: 203.7391454349458, 98.93465134789754\n",
      "10_mean_82.bmp: 203.4080124898586, 99.26975776842238\n",
      "10_mean_83.bmp: 203.66358358972383, 99.46910962417697\n",
      "10_mean_84.bmp: 203.39006352589874, 99.54400756890062\n",
      "10_mean_85.bmp: 203.76049006671875, 99.2198410451043\n",
      "10_mean_86.bmp: 203.72390538813625, 98.83574571680488\n",
      "10_mean_87.bmp: 203.9500095073191, 98.97746691790339\n",
      "10_mean_88.bmp: 203.76779493215577, 99.25665342012776\n",
      "10_mean_89.bmp: 203.83796442038366, 99.47203145557576\n",
      "10_mean_9.bmp: 203.71408553525666, 99.02369514181154\n",
      "10_mean_90.bmp: 203.5448574491583, 99.28826751588936\n",
      "10_mean_91.bmp: 203.86196427497805, 99.32627878550932\n",
      "10_mean_92.bmp: 203.76468331021013, 99.35044431290036\n",
      "10_mean_93.bmp: 203.6115791574058, 99.18312740403431\n",
      "10_mean_94.bmp: 203.5868897411336, 99.27929831856497\n",
      "10_mean_95.bmp: 203.63890664556232, 99.29523632181046\n",
      "10_mean_96.bmp: 203.59184842791632, 99.22883118916295\n",
      "10_mean_97.bmp: 203.79365719493074, 99.01383830845505\n",
      "10_mean_98.bmp: 203.5767828407283, 99.28013108578418\n",
      "10_mean_99.bmp: 203.6778282040336, 99.20063698540739\n"
     ]
    }
   ],
   "source": [
    "os.chdir(\"/home/mj/HardDisk/ARCS/img/X-Ray/Case_1/Cut\")\n",
    "try:\n",
    "    \n",
    "    images = os.listdir()\n",
    "    images.sort()\n",
    "    \n",
    "    predictions = []\n",
    "    for image in images:\n",
    "        img, gray = read_img(image)\n",
    "        \n",
    "        blur = cv2.GaussianBlur(gray,(5,5),0)\n",
    "        dst = cv2.fastNlMeansDenoising(blur,None,10,7,21)\n",
    "        _, threshed = cv2.threshold(dst,0,255,cv2.THRESH_BINARY_INV+cv2.THRESH_OTSU)\n",
    "#         median = median_filter(threshed, 7)\n",
    "        edge = edge_detect(threshed, 0, 20)\n",
    "                    \n",
    "        # get edge points\n",
    "        edge_points = []\n",
    "        for i in range(height):\n",
    "            for j in range(width):\n",
    "                if edge[i,j] == 255:\n",
    "                    edge_points.append([i,j])\n",
    "        \n",
    "        fit_func = lambda X: circle_fit_model([1,1,1], X, np.ones(len(X)))\n",
    "        error_func = lambda X, params: circle_ls_errors(X[:,0], X[:,1], params[0], params[1], params[2], np.ones(len(X)))\n",
    "        probs,params,errors = robust_lsq_ransac(error_func, fit_func,np.asarray(edge_points),\n",
    "                                         iterations = 100,fit_samples = 3 ,fit_with_best_n = int(0.8*len(edge_points)))\n",
    "        \n",
    "\n",
    "        # Count center\n",
    "#         cy,cx,r,_ = cf.least_squares_circle((edge_points))\n",
    "#         predictions.append([cx, cy])\n",
    "#         print(\"{}: {}, {}\".format(image, cx, cy))\n",
    "        predictions.append([params[0], params[1]])\n",
    "        print(\"{}: {}, {}\".format(image ,params[0], params[1]))\n",
    "\n",
    "    \n",
    "except Exception as e:\n",
    "    print(e)"
   ]
  },
  {
   "cell_type": "code",
   "execution_count": 32,
   "metadata": {},
   "outputs": [
    {
     "name": "stdout",
     "output_type": "stream",
     "text": [
      "-----------------------------------------------------\n",
      "Statistics: \n",
      "Mean Centroid: (203.60519, 99.19768)\n",
      "Variance     : (0.01656, 0.02437)\n",
      "Max Length   : 0.49041, 0.70826 (pixels)\n"
     ]
    }
   ],
   "source": [
    "show_resoult(predictions)"
   ]
  },
  {
   "cell_type": "code",
   "execution_count": null,
   "metadata": {},
   "outputs": [],
   "source": []
  },
  {
   "cell_type": "code",
   "execution_count": null,
   "metadata": {},
   "outputs": [],
   "source": []
  },
  {
   "cell_type": "code",
   "execution_count": null,
   "metadata": {},
   "outputs": [],
   "source": []
  },
  {
   "cell_type": "code",
   "execution_count": null,
   "metadata": {},
   "outputs": [],
   "source": []
  },
  {
   "cell_type": "code",
   "execution_count": null,
   "metadata": {},
   "outputs": [],
   "source": []
  },
  {
   "cell_type": "code",
   "execution_count": null,
   "metadata": {},
   "outputs": [],
   "source": []
  },
  {
   "cell_type": "markdown",
   "metadata": {},
   "source": [
    "## M-Eestimator"
   ]
  },
  {
   "cell_type": "code",
   "execution_count": 45,
   "metadata": {},
   "outputs": [],
   "source": [
    "def robust_lsq_m_estimates(error_func, fit_model, X,\n",
    "                           iterations=1000, priors=None, norm_func=lambda x: 1/(1 + x**0.1)):\n",
    "\n",
    "    # Step1. 事先機率設定\n",
    "\n",
    "    # 1-1 如過參數 priors 為 None 時，將其設為全都一樣\n",
    "    if priors == None:\n",
    "        prob = np.ones(len(X))\n",
    "    else:\n",
    "        prob = priors\n",
    "\n",
    "    # 1-2 將機率單位化\n",
    "    prob /= np.sum(prob)\n",
    "    best_errors = 1e100\n",
    "    best_param = None\n",
    "    current_prob = prob.copy()\n",
    "\n",
    "\n",
    "    # Step2. 計算穩定可靠的權重\n",
    "    for iter in range(iterations):\n",
    "        # 2-1 \n",
    "        params = fit_model(X, prob)\n",
    "        errors = error_func(X, params, prob)\n",
    "\n",
    "        #\n",
    "        if np.sum(errors) < best_errors:\n",
    "            best_param = params\n",
    "            best_errors = np.sum(errors)\n",
    "\n",
    "        #\n",
    "        current_prob[:] = norm_func(errors[:])\n",
    "        prob *= current_prob\n",
    "        prob /= np.sum(prob)\n",
    "\n",
    "\n",
    "    # Step3.\n",
    "    params = fit_model(X, prob)\n",
    "    errors = error_func(X, params, prob)\n",
    "    if np.sum(errors) < best_errors:\n",
    "        best_param = params\n",
    "        \n",
    "    return prob, best_param, errors"
   ]
  },
  {
   "cell_type": "code",
   "execution_count": null,
   "metadata": {},
   "outputs": [],
   "source": []
  },
  {
   "cell_type": "markdown",
   "metadata": {},
   "source": [
    "### Tukey bisquare function"
   ]
  },
  {
   "cell_type": "code",
   "execution_count": null,
   "metadata": {},
   "outputs": [],
   "source": []
  },
  {
   "cell_type": "code",
   "execution_count": null,
   "metadata": {},
   "outputs": [],
   "source": []
  },
  {
   "cell_type": "markdown",
   "metadata": {},
   "source": [
    "### Huber"
   ]
  },
  {
   "cell_type": "code",
   "execution_count": null,
   "metadata": {},
   "outputs": [],
   "source": []
  },
  {
   "cell_type": "code",
   "execution_count": null,
   "metadata": {},
   "outputs": [],
   "source": []
  },
  {
   "cell_type": "markdown",
   "metadata": {},
   "source": [
    "## Least Trimmed Square Estimator (LTS)"
   ]
  },
  {
   "cell_type": "code",
   "execution_count": null,
   "metadata": {},
   "outputs": [],
   "source": []
  },
  {
   "cell_type": "code",
   "execution_count": null,
   "metadata": {},
   "outputs": [],
   "source": []
  },
  {
   "cell_type": "markdown",
   "metadata": {},
   "source": [
    "## Least Median Squares Estimator (LMS)"
   ]
  },
  {
   "cell_type": "code",
   "execution_count": null,
   "metadata": {},
   "outputs": [],
   "source": []
  },
  {
   "cell_type": "code",
   "execution_count": null,
   "metadata": {},
   "outputs": [],
   "source": []
  },
  {
   "cell_type": "markdown",
   "metadata": {},
   "source": [
    "## Symmetric Distance"
   ]
  },
  {
   "cell_type": "code",
   "execution_count": null,
   "metadata": {},
   "outputs": [],
   "source": []
  },
  {
   "cell_type": "code",
   "execution_count": null,
   "metadata": {},
   "outputs": [],
   "source": []
  },
  {
   "cell_type": "code",
   "execution_count": null,
   "metadata": {},
   "outputs": [],
   "source": []
  },
  {
   "cell_type": "code",
   "execution_count": null,
   "metadata": {},
   "outputs": [],
   "source": []
  }
 ],
 "metadata": {
  "kernelspec": {
   "display_name": "Python 3",
   "language": "python",
   "name": "python3"
  },
  "language_info": {
   "codemirror_mode": {
    "name": "ipython",
    "version": 3
   },
   "file_extension": ".py",
   "mimetype": "text/x-python",
   "name": "python",
   "nbconvert_exporter": "python",
   "pygments_lexer": "ipython3",
   "version": "3.6.9"
  }
 },
 "nbformat": 4,
 "nbformat_minor": 2
}
