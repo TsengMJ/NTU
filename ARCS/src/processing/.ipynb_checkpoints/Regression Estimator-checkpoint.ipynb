{
 "cells": [
  {
   "cell_type": "code",
   "execution_count": 1,
   "metadata": {},
   "outputs": [],
   "source": [
    "from matplotlib import pyplot as plt\n",
    "from scipy.optimize import minimize\n",
    "import circle_fit as cf\n",
    "import numpy as np\n",
    "import time\n",
    "import math\n",
    "import random\n",
    "import cv2\n",
    "import os\n",
    "%run ../functions.ipynb"
   ]
  },
  {
   "cell_type": "code",
   "execution_count": null,
   "metadata": {},
   "outputs": [],
   "source": []
  },
  {
   "cell_type": "code",
   "execution_count": null,
   "metadata": {},
   "outputs": [],
   "source": []
  },
  {
   "cell_type": "markdown",
   "metadata": {},
   "source": [
    "## Error functions"
   ]
  },
  {
   "cell_type": "code",
   "execution_count": 2,
   "metadata": {},
   "outputs": [],
   "source": [
    "def linear_ls_errors(x, y, a, b, weights):\n",
    "    return (a*x - y + b)**2 * weights\n",
    "\n",
    "\n",
    "def circle_ls_errors(x, y, a, b, weights):\n",
    "    return (x/a**2 + y/b**2)**2 * weights"
   ]
  },
  {
   "cell_type": "code",
   "execution_count": null,
   "metadata": {},
   "outputs": [],
   "source": []
  },
  {
   "cell_type": "markdown",
   "metadata": {},
   "source": [
    "## Fitting models"
   ]
  },
  {
   "cell_type": "code",
   "execution_count": 3,
   "metadata": {},
   "outputs": [],
   "source": [
    "def fitting_model(error_func, init_cond, x, y, weights):\n",
    "    J = lambda param: np.sum(error_func(x, y, param[0], param[1], weights))\n",
    "    sol = minimize(J, init_cond)\n",
    "    return sol"
   ]
  },
  {
   "cell_type": "code",
   "execution_count": null,
   "metadata": {},
   "outputs": [],
   "source": []
  },
  {
   "cell_type": "markdown",
   "metadata": {},
   "source": [
    "## RANSAC"
   ]
  },
  {
   "cell_type": "markdown",
   "metadata": {},
   "source": [
    "### Bayesian based"
   ]
  },
  {
   "cell_type": "code",
   "execution_count": 4,
   "metadata": {},
   "outputs": [],
   "source": [
    "def robust_lsq_ransac(error_func, fitting_model, data, iterations=1000,\n",
    "                      fit_samples=2, fit_with_best_n=None, priors=None, norm_func=np.arctan):\n",
    "    \n",
    "    # Step1. 事先機率設定\n",
    "    \n",
    "    # 1-1 如過參數 priors 為 None 時，將其設為全都一樣\n",
    "    if priors == None:\n",
    "        prob = np.ones(len(X))\n",
    "    else:\n",
    "        prob = priors\n",
    "    \n",
    "    # 1-2 將機率單位化\n",
    "    prob = np.divide(prob, np.sum(prob)) # p /= sum(p)\n",
    "    indices_prob = np.array(range(len(X)))\n",
    "    current_prob = prob.copy()\n",
    "    \n",
    "    \n",
    "    # Step2. 計算穩定可靠的權重\n",
    "    for iter in range(iterations):       \n",
    "        # 2-1 隨機挑選 n 個資料子集合的索引\n",
    "        sample_indices = np.random,choice(range(len(indices)), \n",
    "                                          p=prob, size=fit_samples, replace=False)\n",
    "        # 2-2 從完整資料及中取出相對應元素\n",
    "        X_subset = X[sampled_indices]\n",
    "        \n",
    "        # 2-3 用計算取出的子集合求一組權重，再以此權重套到完整資料集求錯誤值\n",
    "        params = fitting_model(X_subset)\n",
    "        errors = error_func(X, params)\n",
    "        \n",
    "        # 2-4 每次更新幅度與當次各點的誤差值成反比（不完全反比），含意為提高 inlier 往後被選取的機率\n",
    "        current_prob[:] = 1 / norm_func(1 + errors[:]) \n",
    "        probabilities = np.multiply(prob, current_prob)            # p *= p'\n",
    "        probabilities = np.divide(prob, np.sum(prob))     # p /= sum(p)\n",
    "    \n",
    "    \n",
    "    # Step3. 如果參數 fit_with_best_n 沒給就只回傳每個點被選取的機率，若有則回傳前 n 個機率高的資料擬合結果\n",
    "    if fit_with_best_n == None:       \n",
    "        return prob\n",
    "    else:\n",
    "        robust_X = X[np.argsort(prob)[-fit_with_best_n:]]\n",
    "        robust_params = fitting_model(robust_X)\n",
    "        latest_errors = error_func(robust_X, robust_params) \n",
    "        return prob, robust_params, latest_errors\n",
    "        "
   ]
  },
  {
   "cell_type": "code",
   "execution_count": null,
   "metadata": {},
   "outputs": [],
   "source": []
  },
  {
   "cell_type": "code",
   "execution_count": null,
   "metadata": {},
   "outputs": [],
   "source": []
  },
  {
   "cell_type": "code",
   "execution_count": null,
   "metadata": {},
   "outputs": [],
   "source": []
  },
  {
   "cell_type": "code",
   "execution_count": null,
   "metadata": {},
   "outputs": [],
   "source": []
  },
  {
   "cell_type": "code",
   "execution_count": null,
   "metadata": {},
   "outputs": [],
   "source": []
  },
  {
   "cell_type": "markdown",
   "metadata": {},
   "source": [
    "## M-Eestimator"
   ]
  },
  {
   "cell_type": "code",
   "execution_count": null,
   "metadata": {},
   "outputs": [],
   "source": [
    "def robust_lsq_m_estimates(error_func, fitting_model, data,\n",
    "                           iterations=1000, priors=None, norm_func=lambda x: 1/(1 + x**0.1)):\n",
    "\n",
    "    # Step1. 事先機率設定\n",
    "\n",
    "    # 1-1 如過參數 priors 為 None 時，將其設為全都一樣\n",
    "    if priors == None:\n",
    "        prob = np.ones(len(X))\n",
    "    else:\n",
    "        prob = priors\n",
    "\n",
    "    # 1-2 將機率單位化\n",
    "    prob /= np.sum(probabilities)\n",
    "    best_errors = 1e100\n",
    "    best_param = None\n",
    "    current_prob = prob.copy()\n",
    "\n",
    "\n",
    "    # Step2. 計算穩定可靠的權重\n",
    "    for iter in range(iterations):\n",
    "        # 2-1\n",
    "        params = fitting_model(X, prob)\n",
    "        errors = error_func(X, params, prob)\n",
    "\n",
    "        #\n",
    "        if np.sum(errors) < best_errors:\n",
    "            best_param = params\n",
    "            best_errors = np.sum(errors)\n",
    "\n",
    "        #\n",
    "        current_prob[:] = norm_func(errors[:])\n",
    "        prob *= current_prob\n",
    "        prob /= np.sum(prob)\n",
    "\n",
    "\n",
    "    # Step3.\n",
    "    params = fitting_model(X, prob)\n",
    "    errors = error_func(X, params, prob)\n",
    "    if np.sum(errors) < best_errors:\n",
    "        best_param = params\n",
    "        \n",
    "    return prob, best_param, errors"
   ]
  },
  {
   "cell_type": "code",
   "execution_count": null,
   "metadata": {},
   "outputs": [],
   "source": []
  },
  {
   "cell_type": "markdown",
   "metadata": {},
   "source": [
    "### Tukey bisquare function"
   ]
  },
  {
   "cell_type": "code",
   "execution_count": null,
   "metadata": {},
   "outputs": [],
   "source": []
  },
  {
   "cell_type": "code",
   "execution_count": null,
   "metadata": {},
   "outputs": [],
   "source": []
  },
  {
   "cell_type": "markdown",
   "metadata": {},
   "source": [
    "### Huber"
   ]
  },
  {
   "cell_type": "code",
   "execution_count": null,
   "metadata": {},
   "outputs": [],
   "source": []
  },
  {
   "cell_type": "code",
   "execution_count": null,
   "metadata": {},
   "outputs": [],
   "source": []
  },
  {
   "cell_type": "markdown",
   "metadata": {},
   "source": [
    "## Least Trimmed Square Estimator (LTS)"
   ]
  },
  {
   "cell_type": "code",
   "execution_count": null,
   "metadata": {},
   "outputs": [],
   "source": []
  },
  {
   "cell_type": "code",
   "execution_count": null,
   "metadata": {},
   "outputs": [],
   "source": []
  },
  {
   "cell_type": "markdown",
   "metadata": {},
   "source": [
    "## Least Median Squares Estimator (LMS)"
   ]
  },
  {
   "cell_type": "code",
   "execution_count": null,
   "metadata": {},
   "outputs": [],
   "source": []
  },
  {
   "cell_type": "code",
   "execution_count": null,
   "metadata": {},
   "outputs": [],
   "source": []
  },
  {
   "cell_type": "markdown",
   "metadata": {},
   "source": [
    "## Symmetric Distance"
   ]
  },
  {
   "cell_type": "code",
   "execution_count": null,
   "metadata": {},
   "outputs": [],
   "source": []
  },
  {
   "cell_type": "code",
   "execution_count": null,
   "metadata": {},
   "outputs": [],
   "source": []
  },
  {
   "cell_type": "code",
   "execution_count": null,
   "metadata": {},
   "outputs": [],
   "source": []
  },
  {
   "cell_type": "code",
   "execution_count": null,
   "metadata": {},
   "outputs": [],
   "source": []
  }
 ],
 "metadata": {
  "kernelspec": {
   "display_name": "Python 3",
   "language": "python",
   "name": "python3"
  },
  "language_info": {
   "codemirror_mode": {
    "name": "ipython",
    "version": 3
   },
   "file_extension": ".py",
   "mimetype": "text/x-python",
   "name": "python",
   "nbconvert_exporter": "python",
   "pygments_lexer": "ipython3",
   "version": "3.6.9"
  }
 },
 "nbformat": 4,
 "nbformat_minor": 2
}
