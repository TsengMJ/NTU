{
 "cells": [
  {
   "cell_type": "code",
   "execution_count": 2,
   "metadata": {},
   "outputs": [],
   "source": [
    "from numpy import linalg as LA\n",
    "from scipy.optimize import curve_fit\n",
    "import matplotlib.pyplot as plt\n",
    "import circle_fit as cf\n",
    "import numpy as np\n",
    "import cv2\n",
    "import timeit\n",
    "import time\n",
    "import os\n",
    "%run ../functions.ipynb"
   ]
  },
  {
   "cell_type": "markdown",
   "metadata": {},
   "source": [
    "## 影像處理"
   ]
  },
  {
   "cell_type": "code",
   "execution_count": 3,
   "metadata": {},
   "outputs": [],
   "source": [
    "def image_processing(gray_img):\n",
    "    blur = cv2.GaussianBlur(gray_img, (5,5), 0)\n",
    "    nlm  = cv2.fastNlMeansDenoising(blur, None, 10, 7, 21)\n",
    "    _, otsu = cv2.threshold(nlm, 0, 255, cv2.THRESH_BINARY_INV+cv2.THRESH_OTSU)\n",
    "    edge = cv2.Canny(otsu, 0, 20)\n",
    "    \n",
    "    return blur, nlm, otsu, edge\n",
    "\n",
    "def get_edge_points(edge_img):\n",
    "    edge_points = [[j,i] for i, r in enumerate(edge_img) for j, c in enumerate(r) if c == 255]\n",
    "\n",
    "    return edge_points"
   ]
  },
  {
   "cell_type": "markdown",
   "metadata": {},
   "source": [
    "## Get subpixel edge locations"
   ]
  },
  {
   "cell_type": "code",
   "execution_count": 4,
   "metadata": {},
   "outputs": [],
   "source": [
    "def sigmoid(x, a, b):\n",
    "    return 1.0 / (1.0 + np.exp(-a*(x-b)))"
   ]
  },
  {
   "cell_type": "code",
   "execution_count": 5,
   "metadata": {},
   "outputs": [],
   "source": [
    "def get_influential_neighbors(coord):\n",
    "    ## 依照 sample 的點落在當下 pixel 中的哪個空間，分為 4 個case\n",
    "    ##     0 . 1\n",
    "    ##    .......\n",
    "    ##     2 . 3\n",
    "    x = round(coord[0])\n",
    "    y = round(coord[1])\n",
    "    a = y > coord[0] and 1 or 0\n",
    "    b = x > coord[1] and 1 or 0\n",
    "    space = np.dot([1,2], [a,b])\n",
    "    \n",
    "    switcher = {\n",
    "        0: [[y,x], [y-1,x], [y-1,x-1], [y,x-1]],\n",
    "        1: [[y,x], [y,x+1], [y-1,x+1], [y-1,x]],\n",
    "        2: [[y,x], [y,x-1], [y+1,x-1], [y+1,x]],\n",
    "        3: [[y,x], [y+1,x], [y+1,x+1], [y,x+1]],\n",
    "    }\n",
    "    \n",
    "    neighbors_loc = np.asarray(switcher.get(space)).astype(int)\n",
    "    return neighbors_loc"
   ]
  },
  {
   "cell_type": "code",
   "execution_count": 6,
   "metadata": {},
   "outputs": [],
   "source": [
    "def get_negihbors_val(neighbors_loc, img):\n",
    "    neighbors_val = [img[y,x] for y, x in neighbors_loc]\n",
    "    return neighbors_val"
   ]
  },
  {
   "cell_type": "code",
   "execution_count": 7,
   "metadata": {},
   "outputs": [],
   "source": [
    "def get_negihbors_wt(coord, neighbors_loc): \n",
    "    ## 取的每個 neighbor 與 sample 點的距離\n",
    "    neighbors_dist = LA.norm(coord - neighbors_loc, axis=1)\n",
    "    neighbors_dist = neighbors_dist / np.sum(neighbors_dist)\n",
    "\n",
    "    ## 若與第一個 pixel 的距離是 0 (即在 pixel 上)則為當下的值\n",
    "    ## 否則每個 neighbor 的權重為距離倒數\n",
    "    neighbors_wt = neighbors_dist[0] == 0 and [1,0,0,0] or (1 - neighbors_dist)/3\n",
    "    return neighbors_wt"
   ]
  },
  {
   "cell_type": "code",
   "execution_count": 8,
   "metadata": {},
   "outputs": [],
   "source": [
    "def get_spl_val(coord, img):\n",
    "    ## 取得有影響力的 4 個相鄰點及相對應的 值 和 權重\n",
    "    neighbors_loc = get_influential_neighbors(coord)\n",
    "    neighbors_val = get_negihbors_val(neighbors_loc, img)\n",
    "    neighbors_wt  = get_negihbors_wt(coord, neighbors_loc)\n",
    "    \n",
    "    ## 計算 sample 的值\n",
    "    value = np.dot(neighbors_val, neighbors_wt)  \n",
    "    return value\n",
    "    "
   ]
  },
  {
   "cell_type": "code",
   "execution_count": 9,
   "metadata": {},
   "outputs": [],
   "source": [
    "def get_sbp_edges(center, edge_pts, img):\n",
    "\n",
    "    sbp_edges = []\n",
    "    for pt in edge_pts:\n",
    "        ## 取得中心到邊緣的單位向量\n",
    "        c2e_V = pt - center\n",
    "        c2e_V = c2e_V/LA.norm(c2e_V)\n",
    "        \n",
    "        ## 取得 sapmple 點的'座標'及'亮度值' \n",
    "        spl_pts  = [pt + i*c2e_V for i in range(-5,6)]       # 需要再找道合適參數\n",
    "        spl_vals = [get_spl_val(spl_pt, img) for spl_pt in spl_pts]\n",
    "\n",
    "        ## 擬合 S 曲線\n",
    "        x_label = np.asarray(range(0,11))\n",
    "        y_vals  = (spl_vals - min(spl_vals))/ (max(spl_vals) - min(spl_vals))\n",
    "        popt, pcov = curve_fit(sigmoid, x_label, y_vals, maxfev=10000)\n",
    "        \n",
    "        \n",
    "        ## Debug\n",
    "#         print(popt[1])\n",
    "#         x = np.linspace(0, 11)\n",
    "#         y = sigmoid(x, *popt)\n",
    "\n",
    "#         plt.plot(x_label, y_vals, 'o', label='data')\n",
    "#         plt.plot(x,y, label='fit')\n",
    "#         plt.ylim(0, 1)\n",
    "#         plt.legend(loc='best')\n",
    "#         plt.show()\n",
    "        \n",
    "        \n",
    "        ## 取得 Subpixels' 的位置\n",
    "        sbp = pt - 1*(5-popt[1])*c2e_V\n",
    "        sbp_edges.append(sbp)\n",
    "\n",
    "        \n",
    "    return sbp_edges"
   ]
  },
  {
   "cell_type": "code",
   "execution_count": null,
   "metadata": {},
   "outputs": [],
   "source": []
  },
  {
   "cell_type": "code",
   "execution_count": 9,
   "metadata": {
    "scrolled": true
   },
   "outputs": [],
   "source": [
    "os.chdir(\"/home/mj/HardDisk/Github/NTU/ARCS/img/X-Ray/Case_1/Cut\")\n",
    "# os.chdir(\"/home/mj/Github/NTU/ARCS/img/X-Ray/Case_1/Cut\")\n",
    "file = \"10_mean_1.bmp\"\n",
    "img = cv2.imread(file, 0)\n",
    "\n",
    "\n",
    "blur, nlm, otsu, edge = image_processing(img)\n",
    "edge_points = get_edge_points(edge)\n",
    "cx,cy,r,_ = cf.least_squares_circle((edge_points))\n",
    "sp_edges = get_sbp_edges(np.asarray([cx,cy]), edge_points, img)\n",
    "\n",
    "# cx,cy,r,_ = cf.least_squares_circle((sp_edges))\n",
    "# print(\"{}, {}\".format(cx, cy))\n",
    "\n",
    "# x = [a[0] for a in edge_points]\n",
    "# y = [a[1] for a in edge_points]\n",
    "# plt.plot(x, y, 'o', label='ori', markersize=1)\n",
    "# x = [a[0] for a in sp_edges]\n",
    "# y = [a[1] for a in sp_edges]\n",
    "# plt.plot(x, y, 'o', label='sub', markersize=1)\n",
    "# plt.legend(loc='best')\n",
    "# plt.axis('equal')\n",
    "# plt.show()\n",
    "\n",
    "# cv2.imshow(\"Image\", nlm)\n",
    "# cv2.waitKey(0)\n",
    "# cv2.destroyAllWindows()"
   ]
  },
  {
   "cell_type": "code",
   "execution_count": null,
   "metadata": {},
   "outputs": [],
   "source": []
  },
  {
   "cell_type": "code",
   "execution_count": 10,
   "metadata": {
    "scrolled": true
   },
   "outputs": [
    {
     "name": "stdout",
     "output_type": "stream",
     "text": [
      "10_mean_0.bmp: 203.92374210347566, 99.06393226476749\n",
      "10_mean_1.bmp: 203.95786046389995, 99.0298274387758\n",
      "10_mean_10.bmp: 203.9256374033678, 98.8176735595217\n",
      "10_mean_11.bmp: 203.93448766930086, 98.91706417540894\n",
      "10_mean_12.bmp: 203.8140103845119, 98.97741490167668\n",
      "10_mean_13.bmp: 203.942244316097, 98.86883392157728\n",
      "10_mean_14.bmp: 203.79314491628185, 99.01153909104941\n",
      "10_mean_15.bmp: 203.772963546671, 98.92249539246583\n",
      "10_mean_16.bmp: 203.8732492044871, 98.98213863237254\n",
      "10_mean_17.bmp: 203.94413278602178, 99.02150672652718\n",
      "10_mean_18.bmp: 203.80747082546162, 98.8366205255092\n",
      "10_mean_19.bmp: 203.92186053395082, 98.92268100618087\n",
      "10_mean_2.bmp: 203.76127448766806, 98.78027689271794\n",
      "10_mean_20.bmp: 203.83257122698237, 98.86221255568061\n",
      "10_mean_21.bmp: 203.82758777193874, 98.99908110555668\n",
      "10_mean_22.bmp: 203.86173224545274, 98.91746734870091\n",
      "10_mean_23.bmp: 203.82640007765028, 98.94789345343169\n",
      "10_mean_24.bmp: 204.01091668410305, 98.85757858430176\n",
      "10_mean_25.bmp: 204.05383443303646, 98.91492714858647\n",
      "10_mean_26.bmp: 204.03356598860262, 98.99035697067538\n",
      "10_mean_27.bmp: 203.95316779893184, 98.77951834687407\n",
      "10_mean_28.bmp: 203.88039314133124, 98.96852023817743\n",
      "10_mean_29.bmp: 203.9534842519708, 98.90184156722995\n",
      "10_mean_3.bmp: 204.02953979581807, 98.86149208789101\n",
      "10_mean_30.bmp: 203.86724318127506, 98.75421870610877\n",
      "10_mean_31.bmp: 203.95854727453215, 98.83872191438887\n",
      "10_mean_32.bmp: 203.88915113056714, 98.7564861897449\n",
      "10_mean_33.bmp: 203.81536727594212, 98.95486805937867\n",
      "10_mean_34.bmp: 203.70735325188662, 99.02133495855868\n",
      "10_mean_35.bmp: 203.9392786467748, 98.97504265310565\n",
      "10_mean_36.bmp: 203.7927579146954, 98.94956329543813\n",
      "10_mean_37.bmp: 203.96527338172956, 98.88959536384635\n",
      "10_mean_38.bmp: 204.00534764563812, 99.0481575845334\n",
      "10_mean_39.bmp: 203.86662484358007, 98.98698034032618\n",
      "10_mean_4.bmp: 203.92828786188352, 98.81421003496328\n",
      "10_mean_40.bmp: 203.84703131505083, 99.03910313904693\n",
      "10_mean_41.bmp: 203.87601628790242, 98.68082551015374\n",
      "10_mean_42.bmp: 203.82003973198906, 98.70565448901536\n",
      "10_mean_43.bmp: 203.87282973848974, 98.83987638132234\n",
      "10_mean_44.bmp: 203.9615311191053, 99.01099101238161\n",
      "10_mean_45.bmp: 203.88523372668948, 99.03481200130284\n",
      "10_mean_46.bmp: 203.923795070417, 98.7977427573786\n",
      "10_mean_47.bmp: 203.83983601656894, 98.85424724635162\n",
      "10_mean_48.bmp: 204.07266192997784, 98.65100141463269\n",
      "10_mean_49.bmp: 203.9698748515668, 98.86508783908197\n",
      "10_mean_5.bmp: 203.92578790505272, 98.82293732549367\n",
      "10_mean_50.bmp: 203.86655214223345, 98.89242201484862\n",
      "10_mean_51.bmp: 203.9488250763654, 98.9563367457445\n",
      "10_mean_52.bmp: 203.75441318993776, 98.92745094633868\n",
      "10_mean_53.bmp: 203.57430265786905, 98.9930407272176\n",
      "10_mean_54.bmp: 203.93603812943232, 99.09872621734463\n",
      "10_mean_55.bmp: 203.90108213806974, 99.13290608502876\n",
      "10_mean_56.bmp: 203.88025661916285, 99.11823506532514\n",
      "10_mean_57.bmp: 204.01128016167812, 98.9036565335269\n",
      "10_mean_58.bmp: 204.0032669184564, 98.65576217166175\n",
      "10_mean_59.bmp: 203.9689281364731, 98.82783936065906\n",
      "10_mean_6.bmp: 203.8482307295531, 99.11827277063185\n",
      "10_mean_60.bmp: 203.84465245211825, 99.0965932565473\n",
      "10_mean_61.bmp: 203.96566168851322, 98.8985644347743\n",
      "10_mean_62.bmp: 203.89955581974073, 99.01597594764453\n",
      "10_mean_63.bmp: 204.1147318862354, 99.0889736038996\n",
      "10_mean_64.bmp: 203.81031176741405, 98.92749991050546\n",
      "10_mean_65.bmp: 203.89613233347927, 98.9617744632865\n",
      "10_mean_66.bmp: 203.76192537392697, 98.8883946403826\n",
      "10_mean_67.bmp: 203.9372885121297, 99.02893914283668\n",
      "10_mean_68.bmp: 203.9203163310271, 99.03750052815553\n",
      "10_mean_69.bmp: 203.9539068446138, 98.97273420471905\n",
      "10_mean_7.bmp: 203.88433834846919, 99.05448932720175\n",
      "10_mean_70.bmp: 203.86212183747995, 98.95962622226178\n",
      "10_mean_71.bmp: 203.89415087625244, 98.9518901760162\n",
      "10_mean_72.bmp: 203.9893576292322, 99.0814904776206\n",
      "10_mean_73.bmp: 203.82994267700064, 98.77612164519932\n",
      "10_mean_74.bmp: 203.81863800242905, 98.99937976571522\n",
      "10_mean_75.bmp: 203.8739127361637, 98.96961119896545\n",
      "10_mean_76.bmp: 203.82398125845347, 99.08207965892504\n",
      "10_mean_77.bmp: 203.77711920583846, 98.83117540514007\n",
      "10_mean_78.bmp: 203.93465356731517, 98.97676959028777\n",
      "10_mean_79.bmp: 203.97906086399607, 98.93051764407926\n",
      "10_mean_8.bmp: 203.93581291927163, 98.97303937098961\n",
      "10_mean_80.bmp: 203.78626754344262, 99.24794979681116\n",
      "10_mean_81.bmp: 203.9134699909887, 98.77590387506784\n",
      "10_mean_82.bmp: 203.79049114850497, 99.00426875646589\n",
      "10_mean_83.bmp: 204.01884724330148, 99.08068928569416\n",
      "10_mean_84.bmp: 203.67903836827884, 99.14333106043796\n",
      "10_mean_85.bmp: 203.9716847411324, 99.05490800710409\n",
      "10_mean_86.bmp: 203.8717413690222, 98.78001789473602\n",
      "10_mean_87.bmp: 204.12244063115327, 98.779088113764\n",
      "10_mean_88.bmp: 204.00417543238262, 99.05074780986502\n",
      "10_mean_89.bmp: 204.13949875537554, 99.14887905674335\n",
      "10_mean_9.bmp: 203.88746644457487, 98.85757968340943\n",
      "10_mean_90.bmp: 203.8887779236753, 99.05622672818382\n",
      "10_mean_91.bmp: 204.11555888836833, 99.06156784430257\n",
      "10_mean_92.bmp: 204.01672382903502, 98.95604919030295\n",
      "10_mean_93.bmp: 203.94950205237944, 98.91666355811697\n",
      "10_mean_94.bmp: 203.97216454832355, 98.99895201265873\n",
      "10_mean_95.bmp: 203.96084934130255, 99.0139152431188\n",
      "10_mean_96.bmp: 203.7852045617724, 99.02791971522038\n",
      "10_mean_97.bmp: 204.04170792216587, 98.69410510224189\n",
      "10_mean_98.bmp: 203.87629964991748, 98.95220656001108\n",
      "10_mean_99.bmp: 203.84077426226702, 99.0185011643466\n"
     ]
    }
   ],
   "source": [
    "os.chdir(\"/home/mj/HardDisk/Github/NTU/ARCS/img/X-Ray/Case_1/Cut\")\n",
    "try:\n",
    "    images = os.listdir()\n",
    "    images.sort()\n",
    "    \n",
    "    predictions = []\n",
    "    for image in images:\n",
    "        img = cv2.imread(image, 0)\n",
    "\n",
    "        blur, nlm, otsu, edge = image_processing(img)\n",
    "        edge_points = get_edge_points(edge)\n",
    "        cx,cy,r,_ = cf.least_squares_circle((edge_points))\n",
    "        sp_edges = get_sbp_edges(np.asarray([cx,cy]), edge_points, nlm)\n",
    "\n",
    "        cx,cy,r,_ = cf.least_squares_circle((sp_edges))\n",
    "        predictions.append([cx, cy])\n",
    "        print(\"{}: {}, {}\".format(image, cx, cy))\n",
    "\n",
    "except Exception as e:\n",
    "    print(e) "
   ]
  },
  {
   "cell_type": "code",
   "execution_count": 11,
   "metadata": {},
   "outputs": [
    {
     "name": "stdout",
     "output_type": "stream",
     "text": [
      "-----------------------------------------------------\n",
      "Statistics: \n",
      "Mean Centroid: (203.90399, 98.94192)\n",
      "Variance     : (0.00919, 0.01383)\n",
      "Max Length   : 0.56520, 0.20093 (pixels)\n"
     ]
    }
   ],
   "source": [
    "show_resoult(predictions)"
   ]
  },
  {
   "cell_type": "code",
   "execution_count": null,
   "metadata": {},
   "outputs": [],
   "source": []
  }
 ],
 "metadata": {
  "kernelspec": {
   "display_name": "Python 3",
   "language": "python",
   "name": "python3"
  },
  "language_info": {
   "codemirror_mode": {
    "name": "ipython",
    "version": 3
   },
   "file_extension": ".py",
   "mimetype": "text/x-python",
   "name": "python",
   "nbconvert_exporter": "python",
   "pygments_lexer": "ipython3",
   "version": "3.6.9"
  }
 },
 "nbformat": 4,
 "nbformat_minor": 2
}
