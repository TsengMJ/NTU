{
 "cells": [
  {
   "cell_type": "code",
   "execution_count": 1,
   "metadata": {},
   "outputs": [],
   "source": [
    "import numpy as np\n",
    "import circle_fit as cf\n",
    "import os\n",
    "import cv2\n",
    "%run Functions.ipynb"
   ]
  },
  {
   "cell_type": "code",
   "execution_count": null,
   "metadata": {},
   "outputs": [],
   "source": []
  },
  {
   "cell_type": "markdown",
   "metadata": {},
   "source": [
    "## 重複過半的 Pixel 才拿來用"
   ]
  },
  {
   "cell_type": "code",
   "execution_count": 2,
   "metadata": {},
   "outputs": [],
   "source": [
    "def Get_ROI_Loc(cy,cx,cr):\n",
    "    ## Loc 從左上到右下，y放前面（符合 image 讀取）\n",
    "    x, y, r = int(round(cx)), int(round(cy)), int(round(cr))\n",
    "    roi_loc = [[x-r-10, y-r-10], [x+r+10, y+r+10] ]\n",
    "    return np.asarray(roi_loc)"
   ]
  },
  {
   "cell_type": "code",
   "execution_count": 3,
   "metadata": {},
   "outputs": [],
   "source": [
    "def Get_ROI(image):\n",
    "    ## 拿一張影像先算 Center 拿來取 ROI\n",
    "    _, _, _, edge = image_processing(image)\n",
    "    edge_pts = get_edge_points(edge)\n",
    "    cx,cy,cr,_ = cf.least_squares_circle((edge_pts))\n",
    "    \n",
    "    roi_loc = Get_ROI_Loc(cy,cx,cr)\n",
    "    return roi_loc"
   ]
  },
  {
   "cell_type": "code",
   "execution_count": 32,
   "metadata": {},
   "outputs": [],
   "source": [
    "def Analize_Multi_Frames(roi_loc, images):\n",
    "    ## 取得所有當批影像的 ROI \n",
    "    lx, ly = roi_loc[0,:]\n",
    "    rx, ry = roi_loc[1,:]\n",
    "    imgs_crop = [image[ly:ry, lx:rx] for image in images]\n",
    "    \n",
    "    \n",
    "    ## 取得每張邊緣影像的\n",
    "    imgs_edge = []\n",
    "    for cropped in imgs_crop:\n",
    "        _, _, _, edge = image_processing(cropped)\n",
    "        imgs_edge.append(edge)\n",
    "    \n",
    "    \n",
    "    ## 取得每張邊緣的點\n",
    "    imgs_edge_pts = [get_edge_points(edge) for edge in imgs_edge]\n",
    "    \n",
    "    \n",
    "    ## 產生 Map 來紀錄出現次數\n",
    "    Map = np.zeros(images[0].shape)\n",
    "    for img_edge_pts in imgs_edge_pts:\n",
    "        for x, y in img_edge_pts:\n",
    "            Map[y,x] = Map[y,x] + 1\n",
    "   \n",
    "    \n",
    "    # 塞選出重複出現一半次數的點\n",
    "    valid_pts = []\n",
    "    for i, row in enumerate(Map):\n",
    "        for j, val in enumerate(row):\n",
    "            if(val >= 4):\n",
    "                valid_pts.append([j,i])\n",
    "    \n",
    "    cx, cy, r, _ = cf.least_squares_circle((valid_pts))\n",
    "    predicted = [cx+lx, cy+ly] \n",
    "    return predicted"
   ]
  },
  {
   "cell_type": "markdown",
   "metadata": {},
   "source": [
    "## 測試前檢查"
   ]
  },
  {
   "cell_type": "code",
   "execution_count": 23,
   "metadata": {},
   "outputs": [],
   "source": [
    "os.chdir(\"/home/mj/HardDisk/Github/NTU/ARCS/img/X-Ray/Case_1/Cut\")\n",
    "files = os.listdir()\n",
    "files.sort()\n",
    "files = np.asarray(files)\n",
    "batches = np.split(files, 10)\n",
    "\n",
    "img = cv2.imread(files[0], 0)\n",
    "roi_loc = Get_ROI(img)\n",
    "\n",
    "lx, ly = roi_loc[0,:]\n",
    "rx, ry = roi_loc[1,:]\n",
    "imgs_crop = img[ly:ry, lx:rx]\n",
    "\n",
    "blur, nlm, otsu, edge = image_processing(imgs_crop)\n",
    "\n",
    "cv2.imshow(\"Blur\", blur)\n",
    "cv2.imshow(\"Nlm\", nlm)\n",
    "cv2.imshow(\"Otsu\", otsu)\n",
    "cv2.imshow(\"Edge\", edge)\n",
    "cv2.waitKey(0)\n",
    "cv2.destroyAllWindows()"
   ]
  },
  {
   "cell_type": "code",
   "execution_count": null,
   "metadata": {},
   "outputs": [],
   "source": []
  },
  {
   "cell_type": "markdown",
   "metadata": {},
   "source": [
    "## 實際測試"
   ]
  },
  {
   "cell_type": "code",
   "execution_count": 33,
   "metadata": {
    "scrolled": true
   },
   "outputs": [
    {
     "name": "stdout",
     "output_type": "stream",
     "text": [
      "134.54265982239258, 98.12318949344714\n",
      "134.54912795161206, 98.14957624177792\n",
      "134.61448830597658, 98.0312041915902\n",
      "134.5896337777607, 97.96379417742878\n",
      "134.59046505928347, 98.10781631142365\n",
      "134.567403296836, 98.02981006195078\n",
      "134.61175903989425, 98.24910608216695\n",
      "134.56558502057018, 98.16054717655338\n",
      "134.5669878287887, 98.17400622276007\n",
      "134.5071549725179, 98.0930921251013\n"
     ]
    }
   ],
   "source": [
    "os.chdir(\"/home/mj/HardDisk/Github/NTU/ARCS/img/X-Ray/Case_1/Ori_Cut\")\n",
    "\n",
    "files = os.listdir()\n",
    "files.sort()\n",
    "files = np.asarray(files)\n",
    "batches = np.split(files, 10)\n",
    "\n",
    "predictions = []\n",
    "for batch in batches:\n",
    "    images = [cv2.imread(img,0) for img in batch]\n",
    "    roi_loc = Get_ROI(images[0])\n",
    "    predicted = Analize_Multi_Frames(roi_loc, images)\n",
    "    predictions.append(predicted)\n",
    "    print(\"{}, {}\".format(predicted[0], predicted[1]))"
   ]
  },
  {
   "cell_type": "code",
   "execution_count": 34,
   "metadata": {
    "scrolled": true
   },
   "outputs": [
    {
     "name": "stdout",
     "output_type": "stream",
     "text": [
      "-----------------------------------------------------\n",
      "Statistics: \n",
      "Mean Centroid: (134.57053, 98.10821)\n",
      "Variance     : (0.00097, 0.00620)\n",
      "Max Length   : 0.10733, 0.28531 (pixels)\n"
     ]
    }
   ],
   "source": [
    "show_resoult(predictions)"
   ]
  },
  {
   "cell_type": "code",
   "execution_count": null,
   "metadata": {},
   "outputs": [],
   "source": []
  },
  {
   "cell_type": "code",
   "execution_count": null,
   "metadata": {},
   "outputs": [],
   "source": []
  },
  {
   "cell_type": "markdown",
   "metadata": {},
   "source": [
    "## 算機率"
   ]
  },
  {
   "cell_type": "code",
   "execution_count": 22,
   "metadata": {},
   "outputs": [
    {
     "data": {
      "text/plain": [
       "0.9468333856370541"
      ]
     },
     "execution_count": 22,
     "metadata": {},
     "output_type": "execute_result"
    }
   ],
   "source": [
    "from scipy.special import comb\n",
    "\n",
    "def Count_Probability(num_tal, num_sel, prob):\n",
    "    x = prob\n",
    "    y = 1 - x\n",
    "    \n",
    "    result = 0\n",
    "    for i in range(num_sel, num_tal+1):\n",
    "        num_x = i \n",
    "        num_y = num_tal - i\n",
    "        result = result + comb(num_tal, i) * x**num_x * y**num_y\n",
    "    \n",
    "    return result\n",
    "\n",
    "Count_Probability(20,10,0.65)"
   ]
  },
  {
   "cell_type": "code",
   "execution_count": null,
   "metadata": {},
   "outputs": [],
   "source": []
  },
  {
   "cell_type": "code",
   "execution_count": null,
   "metadata": {},
   "outputs": [],
   "source": []
  }
 ],
 "metadata": {
  "kernelspec": {
   "display_name": "Python 3",
   "language": "python",
   "name": "python3"
  },
  "language_info": {
   "codemirror_mode": {
    "name": "ipython",
    "version": 3
   },
   "file_extension": ".py",
   "mimetype": "text/x-python",
   "name": "python",
   "nbconvert_exporter": "python",
   "pygments_lexer": "ipython3",
   "version": "3.6.9"
  }
 },
 "nbformat": 4,
 "nbformat_minor": 2
}
