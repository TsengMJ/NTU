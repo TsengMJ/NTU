{
 "cells": [
  {
   "cell_type": "code",
   "execution_count": 1,
   "metadata": {},
   "outputs": [],
   "source": [
    "from matplotlib import pyplot as plt\n",
    "from scipy.optimize import minimize\n",
    "import circle_fit as cf\n",
    "import numpy as np\n",
    "import time\n",
    "import math\n",
    "import random\n",
    "import cv2\n",
    "import os\n",
    "%run ../functions.ipynb"
   ]
  },
  {
   "cell_type": "code",
   "execution_count": null,
   "metadata": {},
   "outputs": [],
   "source": []
  },
  {
   "cell_type": "markdown",
   "metadata": {},
   "source": [
    "## Error functions"
   ]
  },
  {
   "cell_type": "code",
   "execution_count": null,
   "metadata": {},
   "outputs": [],
   "source": [
    "def linear_ls_errors(x, y, a, b, weights):\n",
    "    return (a*x - y + b)**2 * weights\n",
    "\n",
    "def circle_ls_errors(x, y, a, b, r, weights):\n",
    "    return abs(((x - a)**2 + (y - b)**2 - r**2) * weights)\n",
    "\n",
    "def evaluate_func(x, y, a, b, r, weights ,threshold):\n",
    "    errors = abs(((x - a)**2 + (y - b)**2 - r**2) * weights)\n",
    "    inliers = errors < threshold\n",
    "    num_inliers = np.count_nonzero(inliers == True)\n",
    "    return num_inliers"
   ]
  },
  {
   "cell_type": "code",
   "execution_count": null,
   "metadata": {},
   "outputs": [],
   "source": []
  },
  {
   "cell_type": "markdown",
   "metadata": {},
   "source": [
    "## Fitting models"
   ]
  },
  {
   "cell_type": "code",
   "execution_count": null,
   "metadata": {},
   "outputs": [],
   "source": [
    "def linear_fit_model(error_func, init_cond, x, y, weights):\n",
    "    J = lambda param: np.sum(error_func(x, y, param[0], param[1], weights))\n",
    "    sol = minimize(J, init_cond)\n",
    "    return sol\n",
    "\n",
    "def circle_fit_model(init_cond, data, weights):\n",
    "    cy,cx,r,_ = cf.least_squares_circle(data)\n",
    "    return [cx, cy, r]\n"
   ]
  },
  {
   "cell_type": "code",
   "execution_count": null,
   "metadata": {},
   "outputs": [],
   "source": []
  },
  {
   "cell_type": "markdown",
   "metadata": {},
   "source": [
    "## Least Median of Squares Estimator (LMS)"
   ]
  },
  {
   "cell_type": "code",
   "execution_count": null,
   "metadata": {},
   "outputs": [],
   "source": [
    "def "
   ]
  }
 ],
 "metadata": {
  "kernelspec": {
   "display_name": "Python 3",
   "language": "python",
   "name": "python3"
  },
  "language_info": {
   "codemirror_mode": {
    "name": "ipython",
    "version": 3
   },
   "file_extension": ".py",
   "mimetype": "text/x-python",
   "name": "python",
   "nbconvert_exporter": "python",
   "pygments_lexer": "ipython3",
   "version": "3.6.9"
  }
 },
 "nbformat": 4,
 "nbformat_minor": 2
}
