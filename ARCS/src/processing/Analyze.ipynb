{
 "cells": [
  {
   "cell_type": "code",
   "execution_count": 1,
   "metadata": {},
   "outputs": [],
   "source": [
    "import matplotlib.pyplot as plt\n",
    "import circle_fit as cf\n",
    "import numpy as np\n",
    "import cv2\n",
    "import os\n",
    "%run Functions.ipynb"
   ]
  },
  {
   "cell_type": "code",
   "execution_count": null,
   "metadata": {},
   "outputs": [],
   "source": []
  },
  {
   "cell_type": "markdown",
   "metadata": {},
   "source": [
    "## Countour"
   ]
  },
  {
   "cell_type": "code",
   "execution_count": null,
   "metadata": {},
   "outputs": [],
   "source": []
  },
  {
   "cell_type": "markdown",
   "metadata": {},
   "source": [
    "## 比較出現 pixel 的現象"
   ]
  },
  {
   "cell_type": "code",
   "execution_count": 9,
   "metadata": {},
   "outputs": [],
   "source": [
    "os.chdir(\"/home/mj/HardDisk/Github/NTU/ARCS/img/X-Ray/Case_1/Cut\")\n",
    "\n",
    "## 製作所有可能邊出現之地圖\n",
    "file = \"10_mean_0.bmp\"\n",
    "img = cv2.imread(file,0)\n",
    "h,w = img.shape[:2]\n",
    "Map = np.zeros((h,w,3))\n",
    "images = os.listdir()\n",
    "images.sort()\n",
    "\n",
    "for image in images:\n",
    "    img = cv2.imread(image,0)\n",
    "\n",
    "    blur, nlm, otsu, edge = image_processing(img)\n",
    "    edge_points = get_edge_points(edge)\n",
    "    \n",
    "    for x, y in edge_points:\n",
    "        Map[y, x, :] = Map[y, x, :] + [0, 0, 1]\n",
    "  \n",
    "    \n",
    "    \n",
    "for i, Row in enumerate(Map[:,:,2]):\n",
    "    for j, val in enumerate(Row):\n",
    "        if (val >= 75):\n",
    "            Map[i, j, :] = [0,0,255]\n",
    "        elif (val >= 50):\n",
    "            Map[i, j, :] = [0,118,238]\n",
    "        elif (val >= 30):\n",
    "            Map[i, j, :] = [0,215,255]\n",
    "        elif (val >= 10):\n",
    "            Map[i, j, :] = [34,139,34]\n",
    "        elif (val >= 1):\n",
    "            Map[i, j, :] = [255,0,0]\n",
    "        else:\n",
    "            Map[i, j, :] = [0,0,0]\n",
    "\n",
    "cv2.imwrite(\"/home/mj/HardDisk/Github/NTU/ARCS/Demo/2020.01.03/10_Mean_Map.bmp\", Map)\n",
    "cv2.imshow(\"Map\", Map)\n",
    "cv2.waitKey(0)\n",
    "cv2.destroyAllWindows()"
   ]
  },
  {
   "cell_type": "code",
   "execution_count": 15,
   "metadata": {},
   "outputs": [],
   "source": [
    "Map = cv2.imread(\"/home/mj/HardDisk/Github/NTU/ARCS/Demo/2020.01.03/Ori_Map.bmp\")\n",
    "cv2.imshow(\"Map\", Map)\n",
    "cv2.waitKey(0)\n",
    "cv2.destroyAllWindows()"
   ]
  },
  {
   "cell_type": "code",
   "execution_count": null,
   "metadata": {},
   "outputs": [],
   "source": []
  },
  {
   "cell_type": "code",
   "execution_count": null,
   "metadata": {},
   "outputs": [],
   "source": []
  },
  {
   "cell_type": "markdown",
   "metadata": {},
   "source": [
    "## 比較不同 Resolution"
   ]
  },
  {
   "cell_type": "code",
   "execution_count": 40,
   "metadata": {},
   "outputs": [
    {
     "name": "stdout",
     "output_type": "stream",
     "text": [
      "203.73934499580767\n",
      "99.73042279520683\n",
      "202.29628722449291\n",
      "98.89638363540156\n"
     ]
    }
   ],
   "source": [
    "os.chdir(\"/home/mj/HardDisk/Github/NTU/ARCS/img/X-Ray/Case_1/Cut\")\n",
    "file = \"10_mean_80.bmp\"\n",
    "img = cv2.imread(file,0)\n",
    "h,w = img.shape[:2]\n",
    "\n",
    "resized = cv2.resize(img, (w*2, h*2))\n",
    "# enchanced = swift_algo(resized)\n",
    "blur = cv2.GaussianBlur(resized, (11,11), 0)\n",
    "nlm = cv2.fastNlMeansDenoising(blur, None, 10, 7, 21)\n",
    "enchanced = swift_algo(nlm)\n",
    "_, otsu = cv2.threshold(enchanced, 0, 255, cv2.THRESH_BINARY_INV+cv2.THRESH_OTSU)\n",
    "edge = cv2.Canny(otsu, 0, 20)\n",
    "edge_points = get_edge_points(edge)\n",
    "cy,cx,r,_ = cf.least_squares_circle((edge_points))\n",
    "print(cy/2)\n",
    "print(cx/2)\n",
    "\n",
    "resized = cv2.resize(img, (int(w/2), int(h/2)))\n",
    "# enchanced = swift_algo(resized)\n",
    "blur = cv2.GaussianBlur(resized, (3,3), 0)\n",
    "nlm = cv2.fastNlMeansDenoising(blur, None, 10, 7, 21)\n",
    "enchanced = swift_algo(nlm)\n",
    "_, otsu = cv2.threshold(enchanced, 0, 255, cv2.THRESH_BINARY_INV+cv2.THRESH_OTSU)\n",
    "edge = cv2.Canny(otsu, 0, 20)\n",
    "edge_points = get_edge_points(edge)\n",
    "cy,cx,r,_ = cf.least_squares_circle((edge_points))\n",
    "print(cy*2)\n",
    "print(cx*2)\n",
    "\n",
    "cv2.imshow(\"Resizd\", resized)\n",
    "cv2.imshow(\"Enhanced\", enchanced)\n",
    "cv2.imshow(\"Blur\", blur)\n",
    "cv2.imshow(\"NLM\", nlm)\n",
    "cv2.imshow(\"Otsu\", otsu)\n",
    "cv2.imshow(\"Edge\", edge)\n",
    "cv2.waitKey(0)\n",
    "cv2.destroyAllWindows()"
   ]
  },
  {
   "cell_type": "code",
   "execution_count": null,
   "metadata": {},
   "outputs": [],
   "source": []
  },
  {
   "cell_type": "markdown",
   "metadata": {},
   "source": [
    "## 測試擴增Edge 試圖建立虛擬連結"
   ]
  },
  {
   "cell_type": "markdown",
   "metadata": {},
   "source": [
    "### Version 1 移動有問題的點"
   ]
  },
  {
   "cell_type": "code",
   "execution_count": 67,
   "metadata": {},
   "outputs": [],
   "source": [
    "def move_edge(edited_edge, edge_points, img):\n",
    "    \n",
    "    edited_index = []\n",
    "    for index, point in enumerate(edge_points):\n",
    "        x, y = point[:]\n",
    "        value = img[y,x]\n",
    "        \n",
    "        for i in range(-1, 1):\n",
    "            for j in range(-1, 1):\n",
    "                if int(value) - int(img[y+i,x+j]) > 2:\n",
    "                    edited_edge.append([x+j, y+i])\n",
    "                    edited_index.append(index)\n",
    "    \n",
    "    edited_edge = np.delete(edited_edge, edited_index, axis=0)"
   ]
  },
  {
   "cell_type": "markdown",
   "metadata": {},
   "source": [
    "### Versoin 2 直接增加可能的點"
   ]
  },
  {
   "cell_type": "code",
   "execution_count": 68,
   "metadata": {},
   "outputs": [],
   "source": [
    "def add_edge(edited_edge, edge_points, img):\n",
    "    \n",
    "    for index, point in enumerate(edge_points):\n",
    "        x, y = point[:]\n",
    "        value = img[y,x]\n",
    "        \n",
    "        for i in range(-1, 1):\n",
    "            for j in range(-1, 1):\n",
    "                if int(value) - int(img[y+i,x+j]) > 2:\n",
    "                    edited_edge.append([x+j, y+i])\n",
    "                    "
   ]
  },
  {
   "cell_type": "markdown",
   "metadata": {},
   "source": [
    "### Version 3 直接去除問題點"
   ]
  },
  {
   "cell_type": "code",
   "execution_count": 69,
   "metadata": {},
   "outputs": [],
   "source": [
    "def del_edge(edited_edge, edge_points, img):\n",
    "    \n",
    "    edited_index = []\n",
    "    for index, point in enumerate(edge_points):\n",
    "        x, y = point[:]\n",
    "        value = img[y,x]\n",
    "        \n",
    "        for i in range(-1, 1):\n",
    "            for j in range(-1, 1):\n",
    "                if int(value) - int(img[y+i,x+j]) > 2:\n",
    "                    edited_index.append(index)\n",
    "    \n",
    "    edited_edge = np.delete(edited_edge, edited_index, axis=0)"
   ]
  },
  {
   "cell_type": "markdown",
   "metadata": {},
   "source": [
    "## 編輯邊緣"
   ]
  },
  {
   "cell_type": "code",
   "execution_count": 47,
   "metadata": {},
   "outputs": [],
   "source": [
    "def edit_edge(edge_points, img, funct):\n",
    "    edited_edge = edge_points.copy()\n",
    "    \n",
    "    if funct == 0:\n",
    "        move_edge(edited_edge, edge_points, img)\n",
    "    elif funct == 1: \n",
    "        add_edge(edited_edge, edge_points, img)\n",
    "    else:\n",
    "        del_edge(edited_edge, edge_points, img)\n",
    "    \n",
    "    edited_edge = np.unique(edited_edge, axis=0)\n",
    "    return edited_edge"
   ]
  },
  {
   "cell_type": "code",
   "execution_count": null,
   "metadata": {},
   "outputs": [],
   "source": []
  },
  {
   "cell_type": "code",
   "execution_count": 66,
   "metadata": {},
   "outputs": [
    {
     "name": "stdout",
     "output_type": "stream",
     "text": [
      "442\n"
     ]
    }
   ],
   "source": [
    "os.chdir(\"/home/mj/HardDisk/Github/NTU/ARCS/img/X-Ray/Case_1/Cut\")\n",
    "\n",
    "file = \"10_mean_80.bmp\"\n",
    "img = cv2.imread(file,0)\n",
    "blur = cv2.GaussianBlur(img, (5,5), 0)\n",
    "nlm = cv2.fastNlMeansDenoising(blur, None, 10, 7, 21)\n",
    "_, otsu = cv2.threshold(nlm, 0, 255, cv2.THRESH_BINARY_INV+cv2.THRESH_OTSU)\n",
    "edge = cv2.Canny(otsu, 0, 20)\n",
    "edge_points = get_edge_points(edge)\n",
    "\n",
    "# edited_edge = edit_edge(edge_points, img, funct=2)\n",
    "\n",
    "print(len(edge_points))\n",
    "# print(len(edited_edge))"
   ]
  },
  {
   "cell_type": "code",
   "execution_count": null,
   "metadata": {},
   "outputs": [],
   "source": []
  },
  {
   "cell_type": "markdown",
   "metadata": {},
   "source": [
    "## 測試多次隨機取子點擬合的分佈\n",
    "假定平均 cx: 203.61381  cy: 99.17248\n",
    "### 結論：無法單靠尋找 Fram 各自的 Median 或 多次 Random subsampled 做連結"
   ]
  },
  {
   "cell_type": "code",
   "execution_count": 50,
   "metadata": {},
   "outputs": [
    {
     "name": "stdout",
     "output_type": "stream",
     "text": [
      "[205.0, 205.0, 205.0, 205.0, 205.0, 205.0, 205.0, 205.0, 205.0, 205.0]\n",
      "[100.5, 100.5, 100.5, 100.5, 100.5, 100.5, 100.5, 100.5, 100.5, 100.5]\n"
     ]
    }
   ],
   "source": [
    "os.chdir(\"/home/mj/HardDisk/Github/NTU/ARCS/img/X-Ray/Case_1/Cut\")\n",
    "\n",
    "file = \"10_mean_80.bmp\"\n",
    "img = cv2.imread(file,0)\n",
    "edge = image_processing(img)\n",
    "edge_points = get_edge_points(edge)\n",
    "\n",
    "\n",
    "xs = []\n",
    "ys = []\n",
    "for iter in range(10):\n",
    "    sampled_indices = np.random.choice(range(len(edge_points)), size=int(len(edge_points)), replace=False)\n",
    "    sample_points = edge_points[sampled_indices]\n",
    "#     cx,cy,r,_ = cf.least_squares_circle((sample_points))\n",
    "    cx = np.median(sample_points[:,0])\n",
    "    cy = np.median(sample_points[:,1])\n",
    "    xs.append(cx)\n",
    "    ys.append(cy)\n",
    "\n",
    "print(xs)\n",
    "print(ys)"
   ]
  },
  {
   "cell_type": "code",
   "execution_count": null,
   "metadata": {},
   "outputs": [],
   "source": []
  },
  {
   "cell_type": "code",
   "execution_count": null,
   "metadata": {},
   "outputs": [],
   "source": [
    "   "
   ]
  }
 ],
 "metadata": {
  "kernelspec": {
   "display_name": "Python 3",
   "language": "python",
   "name": "python3"
  },
  "language_info": {
   "codemirror_mode": {
    "name": "ipython",
    "version": 3
   },
   "file_extension": ".py",
   "mimetype": "text/x-python",
   "name": "python",
   "nbconvert_exporter": "python",
   "pygments_lexer": "ipython3",
   "version": "3.6.9"
  }
 },
 "nbformat": 4,
 "nbformat_minor": 2
}
