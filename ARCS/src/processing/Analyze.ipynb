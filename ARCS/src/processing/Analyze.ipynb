{
 "cells": [
  {
   "cell_type": "code",
   "execution_count": 1,
   "metadata": {},
   "outputs": [],
   "source": [
    "import matplotlib.pyplot as plt\n",
    "import circle_fit as cf\n",
    "import numpy as np\n",
    "import cv2\n",
    "import os\n",
    "%run ../functions.ipynb"
   ]
  },
  {
   "cell_type": "code",
   "execution_count": null,
   "metadata": {},
   "outputs": [],
   "source": []
  },
  {
   "cell_type": "code",
<<<<<<< HEAD
   "execution_count": 2,
=======
   "execution_count": 3,
>>>>>>> da8f5dc6281b5542f4b7345dab5f5a7e2bd8ab44
   "metadata": {},
   "outputs": [],
   "source": [
    "def image_processing(gray_img):\n",
    "    blur = cv2.GaussianBlur(gray_img, (5,5), 0)\n",
    "    nlm  = cv2.fastNlMeansDenoising(blur, None, 10, 7, 21)\n",
    "    _, otsu = cv2.threshold(nlm, 0, 255, cv2.THRESH_BINARY_INV+cv2.THRESH_OTSU)\n",
    "    edge = cv2.Canny(otsu, 0, 20)\n",
    "    \n",
    "    return edge, blur"
   ]
  },
  {
   "cell_type": "code",
<<<<<<< HEAD
   "execution_count": 3,
=======
   "execution_count": 4,
>>>>>>> da8f5dc6281b5542f4b7345dab5f5a7e2bd8ab44
   "metadata": {},
   "outputs": [],
   "source": [
    "def get_edge_points(edge_img):\n",
    "    edge_points = [[j,i] for i, r in enumerate(edge_img) for j, c in enumerate(r) if c == 255]\n",
    "\n",
    "    return edge_points"
   ]
  },
  {
   "cell_type": "code",
   "execution_count": null,
   "metadata": {},
   "outputs": [],
   "source": []
  },
  {
   "cell_type": "markdown",
   "metadata": {},
   "source": [
    "## 測試擴增Edge 試圖建立虛擬連結"
   ]
  },
  {
   "cell_type": "markdown",
   "metadata": {},
   "source": [
    "### Version 1 移動有問題的點"
   ]
  },
  {
   "cell_type": "code",
<<<<<<< HEAD
   "execution_count": 4,
=======
   "execution_count": 5,
>>>>>>> da8f5dc6281b5542f4b7345dab5f5a7e2bd8ab44
   "metadata": {},
   "outputs": [],
   "source": [
    "def move_edge(edited_edge, edge, img):\n",
    "    \n",
    "    edited_index = []\n",
    "    for index, point in enumerate(edge):\n",
    "        x, y = point[:]\n",
    "        value = img[y,x]\n",
    "        \n",
    "        for i in range(-1, 2, 1):\n",
    "            for j in range(-1, 2, 1):\n",
    "                if int(value) - int(img[y+i,x+j]) > 2:\n",
    "                    edited_edge.append([x+j, y+i])\n",
    "                    edited_index.append(index)\n",
    "    \n",
    "    edited_edge = np.delete(edited_edge, edited_index, axis=0)\n",
    "    return edited_edge"
   ]
  },
  {
   "cell_type": "markdown",
   "metadata": {},
   "source": [
    "### Versoin 2 直接增加可能的點"
   ]
  },
  {
   "cell_type": "code",
<<<<<<< HEAD
   "execution_count": 5,
=======
   "execution_count": 16,
>>>>>>> da8f5dc6281b5542f4b7345dab5f5a7e2bd8ab44
   "metadata": {},
   "outputs": [],
   "source": [
    "def add_edge(edited_edge, edge_points, img):\n",
    "    \n",
    "    for index, point in enumerate(edge):\n",
    "        x, y = point[:]\n",
    "        value = img[y,x]\n",
    "        \n",
    "        for i in range(-1, 2, 1):\n",
    "            for j in range(-1, 2, 1):\n",
    "                if int(value) - int(img[y+i,x+j]) > 2:\n",
    "                    edited_edge.append([x+j, y+i])\n",
    "    \n",
    "    return edited_edge"
   ]
  },
  {
   "cell_type": "markdown",
   "metadata": {},
   "source": [
    "### Version 3 直接去除問題點"
   ]
  },
  {
   "cell_type": "code",
<<<<<<< HEAD
   "execution_count": 6,
=======
   "execution_count": 7,
>>>>>>> da8f5dc6281b5542f4b7345dab5f5a7e2bd8ab44
   "metadata": {},
   "outputs": [],
   "source": [
    "def del_edge(edited_edge, edge_points, img):\n",
    "    \n",
    "    edited_index = []\n",
    "    for index, point in enumerate(edge):\n",
    "        x, y = point[:]\n",
    "        value = img[y,x]\n",
    "        \n",
    "        for i in range(-1, 2, 1):\n",
    "            for j in range(-1, 2, 1):\n",
    "                if int(value) - int(img[y+i,x+j]) > 2:\n",
    "                    edited_index.append(index)\n",
    "    \n",
    "    edited_edge = np.delete(edited_edge, edited_index, axis=0)\n",
    "    return edited_edge"
   ]
  },
  {
   "cell_type": "markdown",
   "metadata": {},
   "source": [
<<<<<<< HEAD
    "## 去除極端"
=======
    "## 去除上下左右極端點"
>>>>>>> da8f5dc6281b5542f4b7345dab5f5a7e2bd8ab44
   ]
  },
  {
   "cell_type": "code",
<<<<<<< HEAD
   "execution_count": 7,
   "metadata": {},
   "outputs": [],
   "source": [
    "def remove_extreme(points):\n",
    "    tmp = points[points[:,0].argsort()]\n",
    "    tmp = tmp[10:-10, :]\n",
    "    \n",
    "    tmp = tmp[tmp[:,1].argsort()]\n",
    "    tmp = tmp[10:-10, :]\n",
    "    return tmp"
   ]
  },
  {
   "cell_type": "markdown",
   "metadata": {},
   "source": [
    "## 無差別增加"
=======
   "execution_count": null,
   "metadata": {},
   "outputs": [],
   "source": [
    "def remove_extreme(edited_edge, img):\n",
    "    \n",
    "    \n",
    "    return edited_edge"
   ]
  },
  {
   "cell_type": "code",
   "execution_count": null,
   "metadata": {},
   "outputs": [],
   "source": []
  },
  {
   "cell_type": "code",
   "execution_count": 26,
   "metadata": {},
   "outputs": [
    {
     "data": {
      "text/plain": [
       "array([['2', 'a'],\n",
       "       ['1', 'c'],\n",
       "       ['3', 'b']], dtype='<U21')"
      ]
     },
     "execution_count": 26,
     "metadata": {},
     "output_type": "execute_result"
    }
   ],
   "source": [
    "a = np.array([[2,'a'],\n",
    "              [1,'c'],\n",
    "              [3,'b']])\n",
    "b = np.sort(a,axis=-1)\n",
    "b"
>>>>>>> da8f5dc6281b5542f4b7345dab5f5a7e2bd8ab44
   ]
  },
  {
   "cell_type": "code",
<<<<<<< HEAD
   "execution_count": 14,
   "metadata": {},
   "outputs": [],
   "source": [
    "def add_neighbors(edge):\n",
    "    tmp = edge.copy()\n",
    "    \n",
    "    for index, point in enumerate(edge):\n",
    "        x, y = point[:]\n",
    "        \n",
    "        for i in range(-1, 2, 1):\n",
    "            for j in range(-1, 2, 1):\n",
    "                tmp.append([x+j, y+i])\n",
    "    \n",
    "    return tmp"
   ]
=======
   "execution_count": null,
   "metadata": {},
   "outputs": [],
   "source": []
>>>>>>> da8f5dc6281b5542f4b7345dab5f5a7e2bd8ab44
  },
  {
   "cell_type": "code",
   "execution_count": null,
   "metadata": {},
   "outputs": [],
   "source": []
  },
  {
   "cell_type": "markdown",
   "metadata": {},
   "source": [
    "## 編輯邊緣"
   ]
  },
  {
   "cell_type": "code",
<<<<<<< HEAD
   "execution_count": 15,
=======
   "execution_count": 8,
>>>>>>> da8f5dc6281b5542f4b7345dab5f5a7e2bd8ab44
   "metadata": {},
   "outputs": [],
   "source": [
    "def edit_edge(edge, img, funct):\n",
    "    edited_edge = edge.copy()\n",
    "    \n",
    "    if funct == 0:\n",
    "        edited_edge = move_edge(edited_edge, edge, img)\n",
    "    elif funct == 1: \n",
    "        edited_edge = add_edge(edited_edge, edge, img)\n",
    "    else:\n",
    "        edited_edge = del_edge(edited_edge, edge, img)\n",
    "    \n",
    "    edited_edge = np.unique(edited_edge, axis=0)\n",
    "    return edited_edge"
   ]
  },
  {
   "cell_type": "code",
   "execution_count": null,
   "metadata": {},
   "outputs": [],
   "source": []
  },
  {
   "cell_type": "code",
<<<<<<< HEAD
   "execution_count": 21,
=======
   "execution_count": 17,
>>>>>>> da8f5dc6281b5542f4b7345dab5f5a7e2bd8ab44
   "metadata": {},
   "outputs": [
    {
     "name": "stdout",
     "output_type": "stream",
     "text": [
      "442\n",
      "1514\n",
      "203.43340624689515  99.48214409869645\n",
<<<<<<< HEAD
      "203.44549777281  99.49552666649772\n"
=======
      "203.39608778343222  99.51262931804382\n"
>>>>>>> da8f5dc6281b5542f4b7345dab5f5a7e2bd8ab44
     ]
    }
   ],
   "source": [
    "os.chdir(\"/home/mj/Github/NTU/ARCS/img/X-Ray/Case_1/Cut\")\n",
    "\n",
    "file = \"10_mean_80.bmp\"\n",
    "img = cv2.imread(file,0)\n",
    "img_edge, img_blur = image_processing(img)\n",
    "edge = get_edge_points(img_edge)\n",
    "\n",
<<<<<<< HEAD
    "edited_edge = edit_edge(edge, img_blur, funct=0)\n",
    "edited_edge = remove_extreme(edited_edge)\n",
    "edited_edge = add_neighbors(edge)\n",
    "edited_edge = np.unique(edited_edge, axis=0)\n",
    "\n",
    "print(len(edge))\n",
    "print(len(edited_edge))\n",
=======
    "edited_edge = edit_edge(edge, img_blur, funct=1)\n",
>>>>>>> da8f5dc6281b5542f4b7345dab5f5a7e2bd8ab44
    "\n",
    "cx,cy,r,_ = cf.least_squares_circle((edge))\n",
    "print(\"{}  {}\".format(cx, cy))\n",
    "cx,cy,r,_ = cf.least_squares_circle((edited_edge))\n",
    "print(\"{}  {}\".format(cx, cy))"
   ]
  },
  {
   "cell_type": "code",
   "execution_count": null,
   "metadata": {},
   "outputs": [],
   "source": []
  },
  {
   "cell_type": "code",
<<<<<<< HEAD
   "execution_count": 31,
   "metadata": {
    "scrolled": true
   },
=======
   "execution_count": 18,
   "metadata": {},
>>>>>>> da8f5dc6281b5542f4b7345dab5f5a7e2bd8ab44
   "outputs": [
    {
     "name": "stdout",
     "output_type": "stream",
     "text": [
<<<<<<< HEAD
      "10_mean_0.bmp: 181.67687321470495, 96.87066921198652\n",
      "10_mean_1.bmp: 181.59941065369617, 96.87420776877117\n",
      "10_mean_10.bmp: 181.62256434043044, 96.83923308575152\n",
      "10_mean_11.bmp: 181.89170532831955, 96.65249354646441\n",
      "10_mean_12.bmp: 181.40600409480223, 96.99376840052763\n",
      "10_mean_13.bmp: 181.6105769964037, 96.7686030064725\n",
      "10_mean_14.bmp: 181.6109942399868, 97.05185234243683\n",
      "10_mean_15.bmp: 181.55196428893495, 96.83273308348835\n",
      "10_mean_16.bmp: 181.74714363356722, 96.88777347460353\n",
      "10_mean_17.bmp: 181.82304532527, 96.96275856458584\n",
      "10_mean_18.bmp: 181.66447032500918, 96.96298660560184\n",
      "10_mean_19.bmp: 181.58057824696238, 96.85101010126763\n",
      "10_mean_2.bmp: 181.7777721668212, 96.80591038185756\n",
      "10_mean_20.bmp: 181.56678815924766, 96.94193642996709\n",
      "10_mean_21.bmp: 181.5832477635625, 96.65998611345911\n",
      "10_mean_22.bmp: 181.60562961025894, 96.82707535070224\n",
      "10_mean_23.bmp: 181.62591385969097, 97.01331961957143\n",
      "10_mean_24.bmp: 181.61592094337476, 97.01870239024483\n",
      "10_mean_25.bmp: 181.6383028606056, 96.85187310600473\n",
      "10_mean_26.bmp: 181.59854558994488, 96.94976572565784\n",
      "10_mean_27.bmp: 181.5525644881667, 96.9878410066125\n",
      "10_mean_28.bmp: 181.58950391426674, 97.02455671532609\n",
      "10_mean_29.bmp: 181.54703516817443, 96.79352833278485\n",
      "10_mean_3.bmp: 181.65182595973835, 96.7905714728058\n",
      "10_mean_30.bmp: 181.365127084207, 96.67464328698108\n",
      "10_mean_31.bmp: 181.60031926910224, 96.8945989907833\n",
      "10_mean_32.bmp: 181.78481524713965, 96.96060483746103\n",
      "10_mean_33.bmp: 181.55954512796282, 97.1356054327263\n",
      "10_mean_34.bmp: 181.85974573546451, 96.9060336697839\n",
      "10_mean_35.bmp: 181.61705435699824, 96.91549909360688\n",
      "10_mean_36.bmp: 181.6277978784569, 96.99432072359083\n",
      "10_mean_37.bmp: 181.88697214476937, 97.03033199353217\n",
      "10_mean_38.bmp: 181.81139434845403, 97.01046989107392\n",
      "10_mean_39.bmp: 181.7551115016953, 96.72338395938115\n",
      "10_mean_4.bmp: 181.74271125601248, 96.78389662235965\n",
      "10_mean_40.bmp: 181.93161361421025, 96.64723464741937\n",
      "10_mean_41.bmp: 181.78264676120926, 96.85868814381439\n",
      "10_mean_42.bmp: 181.56856027793012, 96.77945662313101\n",
      "10_mean_43.bmp: 181.5528813051661, 96.9680173766676\n",
      "10_mean_44.bmp: 181.3565701670723, 97.02575991544444\n",
      "10_mean_45.bmp: 181.61630263641385, 97.09188837813818\n",
      "10_mean_46.bmp: 181.61648494197271, 97.0317148518539\n",
      "10_mean_47.bmp: 181.6266183712302, 96.85837863751054\n",
      "10_mean_48.bmp: 181.72692914417172, 96.95725166650399\n",
      "10_mean_49.bmp: 181.6103974285766, 97.04795298099589\n",
      "10_mean_5.bmp: 181.64721227551686, 96.97024717807093\n",
      "10_mean_50.bmp: 181.5464231541341, 96.96160212925992\n",
      "10_mean_51.bmp: 181.76353748811783, 96.97000701693432\n",
      "10_mean_52.bmp: 181.72080412947648, 96.9176234953206\n",
      "10_mean_53.bmp: 181.47650038981214, 96.64284085199333\n",
      "10_mean_54.bmp: 181.75336144538946, 96.88318030817337\n",
      "10_mean_55.bmp: 181.75488253299687, 96.95217099389336\n",
      "10_mean_56.bmp: 181.63120983563644, 97.02763390438045\n",
      "10_mean_57.bmp: 181.6599480521342, 96.8371170408787\n",
      "10_mean_58.bmp: 181.65713733714085, 96.93789976661863\n",
      "10_mean_59.bmp: 181.76342433117108, 96.75203179895077\n",
      "10_mean_6.bmp: 181.549826966789, 96.6707055436724\n",
      "10_mean_60.bmp: 181.69792705670787, 96.94944266881106\n",
      "10_mean_61.bmp: 181.8143407056699, 97.0351452415776\n",
      "10_mean_62.bmp: 181.7420823146566, 96.82016177589813\n",
      "10_mean_63.bmp: 181.59084763739293, 96.93526876546498\n",
      "10_mean_64.bmp: 181.7027817363968, 96.93600941436624\n",
      "10_mean_65.bmp: 181.73586935252737, 97.00615629282166\n",
      "10_mean_66.bmp: 181.76384839359534, 97.3203420025538\n",
      "10_mean_67.bmp: 181.40494414574425, 96.7865255401686\n",
      "10_mean_68.bmp: 181.60079382095466, 96.9035643083664\n",
      "10_mean_69.bmp: 181.60387877007972, 97.02910267719395\n",
      "10_mean_7.bmp: 181.67961891919427, 96.76931571034025\n",
      "10_mean_70.bmp: 181.52980796689224, 96.87518308707062\n",
      "10_mean_71.bmp: 181.5941711622908, 96.89383212069373\n",
      "10_mean_72.bmp: 181.48554693295247, 96.90617207714428\n",
      "10_mean_73.bmp: 181.58376457612297, 96.84706943100207\n",
      "10_mean_74.bmp: 181.76912652235453, 96.99437744771004\n",
      "10_mean_75.bmp: 181.80999996800597, 96.68705699331473\n",
      "10_mean_76.bmp: 181.57947227326682, 97.00491324644265\n",
      "10_mean_77.bmp: 181.87652315599743, 96.99075167658398\n",
      "10_mean_78.bmp: 181.7041066140937, 97.08697903223258\n",
      "10_mean_79.bmp: 181.6605331263748, 96.89828549313727\n",
      "10_mean_8.bmp: 181.57163423414264, 96.98896236033671\n",
      "10_mean_80.bmp: 181.5696110203636, 96.84068942744153\n",
      "10_mean_81.bmp: 181.65626338582948, 96.83025489689608\n",
      "10_mean_82.bmp: 181.7784490127865, 96.99869610088837\n",
      "10_mean_83.bmp: 181.73378331129058, 97.05592782285653\n",
      "10_mean_84.bmp: 181.73090274311522, 97.30300056392761\n",
      "10_mean_85.bmp: 181.55311221216547, 96.87894821095404\n",
      "10_mean_86.bmp: 181.66831071537962, 96.76131905915264\n",
      "10_mean_87.bmp: 181.7203828141018, 97.15325598207042\n",
      "10_mean_88.bmp: 181.63008995790386, 96.96047677095358\n",
      "10_mean_89.bmp: 181.58880235100128, 97.14925662048698\n",
      "10_mean_9.bmp: 181.7817850069644, 96.9319242775517\n",
      "10_mean_90.bmp: 181.9146180835134, 97.0403098967462\n",
      "10_mean_91.bmp: 181.85522476773642, 96.96371252773608\n",
      "10_mean_92.bmp: 181.54654873018202, 97.15554606809943\n",
      "10_mean_93.bmp: 181.84042031336153, 96.81165573905984\n",
      "10_mean_94.bmp: 181.59372277020336, 96.91737541305129\n",
      "10_mean_95.bmp: 181.74297757401027, 97.09087378980155\n",
      "10_mean_96.bmp: 181.63499887198446, 96.99917063874526\n",
      "10_mean_97.bmp: 181.8511280554533, 96.96713325441848\n",
      "10_mean_98.bmp: 181.62994386021097, 97.12125711916998\n",
      "10_mean_99.bmp: 181.7636077066392, 96.7826206407635\n"
=======
      "10_mean_0.bmp: 203.65148127383424, 99.34046385032879\n",
      "10_mean_1.bmp: 203.7226536236001, 99.20579779717248\n",
      "10_mean_10.bmp: 203.72823483247674, 99.01548571141475\n",
      "10_mean_11.bmp: 203.61724093797685, 99.19294420801616\n",
      "10_mean_12.bmp: 203.58303395297943, 99.14008903331438\n",
      "10_mean_13.bmp: 203.55023764240585, 99.16971108365122\n",
      "10_mean_14.bmp: 203.50887671972993, 99.26349689932998\n",
      "10_mean_15.bmp: 203.48595752271643, 99.1558225581777\n",
      "10_mean_16.bmp: 203.5048771327654, 99.17142677078748\n",
      "10_mean_17.bmp: 203.64995591694097, 99.29816654594798\n",
      "10_mean_18.bmp: 203.42189430103605, 99.05786894482877\n",
      "10_mean_19.bmp: 203.656517896485, 99.12014932238354\n",
      "10_mean_2.bmp: 203.46014946699106, 98.93144635525327\n",
      "10_mean_20.bmp: 203.48511322568797, 99.11745813105705\n",
      "10_mean_21.bmp: 203.5854814148023, 99.2718272834331\n",
      "10_mean_22.bmp: 203.5460648651913, 99.16104132544415\n",
      "10_mean_23.bmp: 203.5940910388126, 99.11659210704808\n",
      "10_mean_24.bmp: 203.77382769146593, 99.0433502550144\n",
      "10_mean_25.bmp: 203.67622274839422, 99.21286533868263\n",
      "10_mean_26.bmp: 203.76880825974584, 99.18173733034224\n",
      "10_mean_27.bmp: 203.74038682831977, 99.02521852026729\n",
      "10_mean_28.bmp: 203.55686149104304, 99.25217823789045\n",
      "10_mean_29.bmp: 203.62248172512986, 99.18847626127099\n",
      "10_mean_3.bmp: 203.6803793144926, 99.11476495649116\n",
      "10_mean_30.bmp: 203.56896672561842, 99.00961298942579\n",
      "10_mean_31.bmp: 203.586161243705, 99.07611650792654\n",
      "10_mean_32.bmp: 203.50350856861846, 98.86527454156473\n",
      "10_mean_33.bmp: 203.5078224265563, 99.13406158157618\n",
      "10_mean_34.bmp: 203.38782815535433, 99.33137809936093\n",
      "10_mean_35.bmp: 203.6844469724493, 99.18677642226426\n",
      "10_mean_36.bmp: 203.45457553486878, 99.2125971479782\n",
      "10_mean_37.bmp: 203.7044244357769, 99.16789259380558\n",
      "10_mean_38.bmp: 203.7165249645285, 99.2509568946953\n",
      "10_mean_39.bmp: 203.5825747480618, 99.21387647855501\n",
      "10_mean_4.bmp: 203.66612395736894, 98.96692087412669\n",
      "10_mean_40.bmp: 203.51480540962652, 99.26595845655478\n",
      "10_mean_41.bmp: 203.65882876921174, 98.95054322892996\n",
      "10_mean_42.bmp: 203.49403817867247, 98.96923286106436\n",
      "10_mean_43.bmp: 203.54575940083865, 99.13871325961581\n",
      "10_mean_44.bmp: 203.63412654025433, 99.33515342789129\n",
      "10_mean_45.bmp: 203.6193295359379, 99.19938008594711\n",
      "10_mean_46.bmp: 203.7210501759478, 98.96636870289713\n",
      "10_mean_47.bmp: 203.57815147378892, 99.00740481643635\n",
      "10_mean_48.bmp: 203.73794633634301, 98.7973091382828\n",
      "10_mean_49.bmp: 203.67476420543974, 99.06325331823449\n",
      "10_mean_5.bmp: 203.5346193554783, 99.18353483780392\n",
      "10_mean_50.bmp: 203.5787212261207, 99.1595437070024\n",
      "10_mean_51.bmp: 203.48167201286853, 99.19824943581598\n",
      "10_mean_52.bmp: 203.4935228588778, 99.13620858552223\n",
      "10_mean_53.bmp: 203.3053199512606, 99.16541735422209\n",
      "10_mean_54.bmp: 203.62792376300297, 99.33233197254054\n",
      "10_mean_55.bmp: 203.6075137423945, 99.32995727974917\n",
      "10_mean_56.bmp: 203.57345668885216, 99.38044401441451\n",
      "10_mean_57.bmp: 203.7327171369013, 99.03408661248567\n",
      "10_mean_58.bmp: 203.70446919441986, 98.81705949768315\n",
      "10_mean_59.bmp: 203.63374999200656, 99.05124566011146\n",
      "10_mean_6.bmp: 203.5651252800416, 99.34215617420116\n",
      "10_mean_60.bmp: 203.3958272183803, 99.18146319744521\n",
      "10_mean_61.bmp: 203.58008120264165, 99.1793955085556\n",
      "10_mean_62.bmp: 203.59548874600821, 99.24507750659838\n",
      "10_mean_63.bmp: 203.86686174790046, 99.42509020215677\n",
      "10_mean_64.bmp: 203.62296329863548, 99.168329070888\n",
      "10_mean_65.bmp: 203.616581519529, 99.20769259356025\n",
      "10_mean_66.bmp: 203.4166683187317, 99.08465152198971\n",
      "10_mean_67.bmp: 203.62328517293028, 99.27876171421883\n",
      "10_mean_68.bmp: 203.63338220336985, 99.27340823930807\n",
      "10_mean_69.bmp: 203.65317922839972, 99.1488070196821\n",
      "10_mean_7.bmp: 203.74533903032767, 99.3104679468474\n",
      "10_mean_70.bmp: 203.5359740884057, 99.1900468286904\n",
      "10_mean_71.bmp: 203.60422133339117, 99.2105627545586\n",
      "10_mean_72.bmp: 203.6768425589159, 99.35759105254304\n",
      "10_mean_73.bmp: 203.55147688514694, 98.9605472985233\n",
      "10_mean_74.bmp: 203.57095388075427, 99.28524457895958\n",
      "10_mean_75.bmp: 203.66785089124917, 99.17747291170451\n",
      "10_mean_76.bmp: 203.4440637379722, 99.33192235369091\n",
      "10_mean_77.bmp: 203.59060094847757, 99.17034608314582\n",
      "10_mean_78.bmp: 203.66153972549074, 99.18015711019797\n",
      "10_mean_79.bmp: 203.69082258537097, 99.18899528653519\n",
      "10_mean_8.bmp: 203.57481001144768, 99.24247037746318\n",
      "10_mean_80.bmp: 203.39608778343222, 99.51262931804382\n",
      "10_mean_81.bmp: 203.62770792643158, 99.06640232762715\n",
      "10_mean_82.bmp: 203.48348818644604, 99.28444446100082\n",
      "10_mean_83.bmp: 203.75382767101706, 99.42368362044694\n",
      "10_mean_84.bmp: 203.49968272339353, 99.43349954088082\n",
      "10_mean_85.bmp: 203.6168994351651, 99.33717420173245\n",
      "10_mean_86.bmp: 203.6416801020924, 98.90021280079145\n",
      "10_mean_87.bmp: 203.89306329724886, 98.98602974417474\n",
      "10_mean_88.bmp: 203.7061604559325, 99.30273233953295\n",
      "10_mean_89.bmp: 203.88479416947922, 99.38796022328142\n",
      "10_mean_9.bmp: 203.67008938802434, 99.0293813731155\n",
      "10_mean_90.bmp: 203.54877588112555, 99.18793067016264\n",
      "10_mean_91.bmp: 203.79192902432436, 99.40769052055337\n",
      "10_mean_92.bmp: 203.7574726113547, 99.26155563114459\n",
      "10_mean_93.bmp: 203.6867484018579, 99.17979624209994\n",
      "10_mean_94.bmp: 203.70526463698863, 99.20431739646568\n",
      "10_mean_95.bmp: 203.66048757876652, 99.21131940468557\n",
      "10_mean_96.bmp: 203.65606914602745, 99.2679488955073\n",
      "10_mean_97.bmp: 203.88224289129516, 99.02815992253531\n",
      "10_mean_98.bmp: 203.59745387650506, 99.2437462367957\n",
      "10_mean_99.bmp: 203.58060172264464, 99.22697266891652\n"
>>>>>>> da8f5dc6281b5542f4b7345dab5f5a7e2bd8ab44
     ]
    }
   ],
   "source": [
    "os.chdir(\"/home/mj/Github/NTU/ARCS/img/X-Ray/Case_3/Cut_2\")\n",
    "try:\n",
    "    \n",
    "    images = os.listdir()\n",
    "    images.sort()\n",
    "    \n",
    "    predictions = []\n",
    "    for image in images:\n",
    "        img = cv2.imread(image,0)\n",
    "        img_edge, img_blur = image_processing(img)\n",
    "        edge = get_edge_points(img_edge)\n",
    "        edited_edge = edit_edge(edge, img_blur, funct=1)\n",
    "#         edited_edge = remove_extreme(edited_edge)\n",
    "#         edited_edge = add_neighbors(edge)\n",
    "#         edited_edge = np.unique(edited_edge, axis=0)\n",
    "        \n",
    "        cx,cy,r,_ = cf.least_squares_circle((edited_edge))\n",
    "        predictions.append([cx, cy])\n",
    "        print(\"{}: {}, {}\".format(image ,cx, cy))\n",
    "        \n",
    "except Exception as e:\n",
    "    print(e)"
   ]
  },
  {
   "cell_type": "code",
<<<<<<< HEAD
   "execution_count": 32,
=======
   "execution_count": 19,
>>>>>>> da8f5dc6281b5542f4b7345dab5f5a7e2bd8ab44
   "metadata": {},
   "outputs": [
    {
     "name": "stdout",
     "output_type": "stream",
     "text": [
      "-----------------------------------------------------\n",
      "Statistics: \n",
<<<<<<< HEAD
      "Mean Centroid: (181.66349, 96.92410)\n",
      "Variance     : (0.01371, 0.01728)\n",
      "Max Length   : 0.57504, 0.63329 (pixels)\n"
=======
      "Mean Centroid: (203.61311, 99.17669)\n",
      "Variance     : (0.01226, 0.01900)\n",
      "Max Length   : 0.47077, 0.61242 (pixels)\n"
>>>>>>> da8f5dc6281b5542f4b7345dab5f5a7e2bd8ab44
     ]
    }
   ],
   "source": [
    "show_resoult(predictions)"
   ]
  },
  {
   "cell_type": "code",
   "execution_count": null,
   "metadata": {},
   "outputs": [],
   "source": []
  },
  {
   "cell_type": "code",
   "execution_count": 16,
   "metadata": {},
   "outputs": [
    {
     "ename": "error",
     "evalue": "OpenCV(3.4.2) /tmp/build/80754af9/opencv-suite_1535558553474/work/modules/highgui/src/window.cpp:632: error: (-2:Unspecified error) The function is not implemented. Rebuild the library with Windows, GTK+ 2.x or Carbon support. If you are on Ubuntu or Debian, install libgtk2.0-dev and pkg-config, then re-run cmake or configure script in function 'cvShowImage'\n",
     "output_type": "error",
     "traceback": [
      "\u001b[0;31m---------------------------------------------------------------------------\u001b[0m",
      "\u001b[0;31merror\u001b[0m                                     Traceback (most recent call last)",
      "\u001b[0;32m<ipython-input-16-487b6293b7c6>\u001b[0m in \u001b[0;36m<module>\u001b[0;34m\u001b[0m\n\u001b[1;32m     24\u001b[0m \u001b[0;34m\u001b[0m\u001b[0m\n\u001b[1;32m     25\u001b[0m \u001b[0;31m# 顯示圖片\u001b[0m\u001b[0;34m\u001b[0m\u001b[0;34m\u001b[0m\u001b[0;34m\u001b[0m\u001b[0m\n\u001b[0;32m---> 26\u001b[0;31m \u001b[0mcv2\u001b[0m\u001b[0;34m.\u001b[0m\u001b[0mimshow\u001b[0m\u001b[0;34m(\u001b[0m\u001b[0;34m\"Compare\"\u001b[0m\u001b[0;34m,\u001b[0m \u001b[0mtmp\u001b[0m\u001b[0;34m)\u001b[0m\u001b[0;34m\u001b[0m\u001b[0;34m\u001b[0m\u001b[0m\n\u001b[0m\u001b[1;32m     27\u001b[0m \u001b[0mcv2\u001b[0m\u001b[0;34m.\u001b[0m\u001b[0mwaitKey\u001b[0m\u001b[0;34m(\u001b[0m\u001b[0;36m0\u001b[0m\u001b[0;34m)\u001b[0m\u001b[0;34m\u001b[0m\u001b[0;34m\u001b[0m\u001b[0m\n\u001b[1;32m     28\u001b[0m \u001b[0mcv2\u001b[0m\u001b[0;34m.\u001b[0m\u001b[0mdestroyAllWindows\u001b[0m\u001b[0;34m(\u001b[0m\u001b[0;34m)\u001b[0m\u001b[0;34m\u001b[0m\u001b[0;34m\u001b[0m\u001b[0m\n",
      "\u001b[0;31merror\u001b[0m: OpenCV(3.4.2) /tmp/build/80754af9/opencv-suite_1535558553474/work/modules/highgui/src/window.cpp:632: error: (-2:Unspecified error) The function is not implemented. Rebuild the library with Windows, GTK+ 2.x or Carbon support. If you are on Ubuntu or Debian, install libgtk2.0-dev and pkg-config, then re-run cmake or configure script in function 'cvShowImage'\n"
     ]
    }
   ],
   "source": [
    "os.chdir(\"/home/mj/Github/NTU/ARCS/img/X-Ray/Case_1/Cut\")\n",
    "file_1 = \"10_mean_63.bmp\"\n",
    "img_1 = cv2.imread(file_1,0)\n",
    "img_edge_1, img_blur_1 = image_processing(img_1)\n",
    "edge_1 = get_edge_points(img_edge_1)\n",
    "edited_edge_1 = edit_edge(edge_1, img_blur_1, funct=1)\n",
    "\n",
    "file_2 = \"10_mean_63.bmp\"\n",
    "img_2 = cv2.imread(file_2,0)\n",
    "img_edge_2, img_blur_2 = image_processing(img_2)\n",
    "edge_2 = get_edge_points(img_edge_2)\n",
    "edited_edge_2 = edit_edge(edge_2, img_blur_2, funct=1)\n",
    "\n",
    "\n",
    "h, w = img.shape[:2]\n",
    "tmp = np.zeros((h,w,3))\n",
    "\n",
    "for x, y in edited_edge_1:\n",
    "    tmp[y,x,1] = 255\n",
    "    \n",
    "for x, y in edited_edge_2:\n",
    "    tmp[y,x,2] = 255\n",
    "    \n",
    "    \n",
    "# 顯示圖片\n",
    "cv2.imshow(\"Compare\", tmp)\n",
    "cv2.waitKey(0)\n",
    "cv2.destroyAllWindows()"
   ]
  },
  {
   "cell_type": "code",
   "execution_count": 3,
   "metadata": {},
   "outputs": [
    {
     "name": "stdout",
     "output_type": "stream",
     "text": [
      "2\n",
      "4\n"
     ]
    }
   ],
   "source": [
    "a = [[1,2], [3,4]]\n",
    "\n",
    "for b,c in a:\n",
    "    print(c)\n",
    "    "
   ]
  },
  {
   "cell_type": "code",
   "execution_count": null,
   "metadata": {},
   "outputs": [],
   "source": []
  },
  {
   "cell_type": "code",
   "execution_count": null,
   "metadata": {},
   "outputs": [],
   "source": []
  },
  {
   "cell_type": "code",
   "execution_count": null,
   "metadata": {},
   "outputs": [],
   "source": []
  },
  {
   "cell_type": "code",
   "execution_count": null,
   "metadata": {},
   "outputs": [],
   "source": []
  },
  {
   "cell_type": "markdown",
   "metadata": {},
   "source": [
    "## 測試多次隨機取子點擬合的分佈\n",
    "假定平均 cx: 203.61381  cy: 99.17248\n",
    "### 結論：無法單靠尋找 Fram 各自的 Median 或 多次 Random subsampled 做連結"
   ]
  },
  {
   "cell_type": "code",
   "execution_count": 50,
   "metadata": {},
   "outputs": [
    {
     "name": "stdout",
     "output_type": "stream",
     "text": [
      "[205.0, 205.0, 205.0, 205.0, 205.0, 205.0, 205.0, 205.0, 205.0, 205.0]\n",
      "[100.5, 100.5, 100.5, 100.5, 100.5, 100.5, 100.5, 100.5, 100.5, 100.5]\n"
     ]
    }
   ],
   "source": [
    "os.chdir(\"/home/mj/HardDisk/Github/NTU/ARCS/img/X-Ray/Case_1/Cut\")\n",
    "\n",
    "file = \"10_mean_80.bmp\"\n",
    "img = cv2.imread(file,0)\n",
    "edge = image_processing(img)\n",
    "edge_points = get_edge_points(edge)\n",
    "\n",
    "\n",
    "xs = []\n",
    "ys = []\n",
    "for iter in range(10):\n",
    "    sampled_indices = np.random.choice(range(len(edge_points)), size=int(len(edge_points)), replace=False)\n",
    "    sample_points = edge_points[sampled_indices]\n",
    "#     cx,cy,r,_ = cf.least_squares_circle((sample_points))\n",
    "    cx = np.median(sample_points[:,0])\n",
    "    cy = np.median(sample_points[:,1])\n",
    "    xs.append(cx)\n",
    "    ys.append(cy)\n",
    "\n",
    "print(xs)\n",
    "print(ys)"
   ]
  },
  {
   "cell_type": "code",
   "execution_count": null,
   "metadata": {},
   "outputs": [],
   "source": []
  }
 ],
 "metadata": {
  "kernelspec": {
   "display_name": "Python 3",
   "language": "python",
   "name": "python3"
  },
  "language_info": {
   "codemirror_mode": {
    "name": "ipython",
    "version": 3
   },
   "file_extension": ".py",
   "mimetype": "text/x-python",
   "name": "python",
   "nbconvert_exporter": "python",
   "pygments_lexer": "ipython3",
   "version": "3.6.9"
  }
 },
 "nbformat": 4,
 "nbformat_minor": 2
}
