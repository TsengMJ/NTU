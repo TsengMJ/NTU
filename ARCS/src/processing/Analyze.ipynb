{
 "cells": [
  {
   "cell_type": "code",
   "execution_count": 1,
   "metadata": {},
   "outputs": [],
   "source": [
    "import matplotlib.pyplot as plt\n",
    "import circle_fit as cf\n",
    "import numpy as np\n",
    "import cv2\n",
    "import os\n",
    "%run ../functions.ipynb"
   ]
  },
  {
   "cell_type": "code",
   "execution_count": null,
   "metadata": {},
   "outputs": [],
   "source": []
  },
  {
   "cell_type": "code",
   "execution_count": 2,
   "metadata": {},
   "outputs": [],
   "source": [
    "def image_processing(gray_img):\n",
    "    blur = cv2.GaussianBlur(gray_img, (5,5), 0)\n",
    "    nlm  = cv2.fastNlMeansDenoising(blur, None, 10, 7, 21)\n",
    "    _, otsu = cv2.threshold(nlm, 0, 255, cv2.THRESH_BINARY_INV+cv2.THRESH_OTSU)\n",
    "    edge = cv2.Canny(otsu, 0, 20)\n",
    "    \n",
    "    return edge, blur"
   ]
  },
  {
   "cell_type": "code",
   "execution_count": 3,
   "metadata": {},
   "outputs": [],
   "source": [
    "def get_edge_points(edge_img):\n",
    "    edge_points = [[j,i] for i, r in enumerate(edge_img) for j, c in enumerate(r) if c == 255]\n",
    "\n",
    "    return edge_points"
   ]
  },
  {
   "cell_type": "code",
   "execution_count": null,
   "metadata": {},
   "outputs": [],
   "source": []
  },
  {
   "cell_type": "markdown",
   "metadata": {},
   "source": [
    "## 測試擴增Edge 試圖建立虛擬連結"
   ]
  },
  {
   "cell_type": "markdown",
   "metadata": {},
   "source": [
    "### Version 1 移動有問題的點"
   ]
  },
  {
   "cell_type": "code",
   "execution_count": 4,
   "metadata": {},
   "outputs": [],
   "source": [
    "def move_edge(edited_edge, edge, img):\n",
    "    \n",
    "    edited_index = []\n",
    "    for index, point in enumerate(edge):\n",
    "        x, y = point[:]\n",
    "        value = img[y,x]\n",
    "        \n",
    "        for i in range(-1, 2, 1):\n",
    "            for j in range(-1, 2, 1):\n",
    "                if int(value) - int(img[y+i,x+j]) > 2:\n",
    "                    edited_edge.append([x+j, y+i])\n",
    "                    edited_index.append(index)\n",
    "    \n",
    "    edited_edge = np.delete(edited_edge, edited_index, axis=0)\n",
    "    return edited_edge"
   ]
  },
  {
   "cell_type": "markdown",
   "metadata": {},
   "source": [
    "### Versoin 2 直接增加可能的點"
   ]
  },
  {
   "cell_type": "code",
   "execution_count": 5,
   "metadata": {},
   "outputs": [],
   "source": [
    "def add_edge(edited_edge, edge_points, img):\n",
    "    \n",
    "    for index, point in enumerate(edge):\n",
    "        x, y = point[:]\n",
    "        value = img[y,x]\n",
    "        \n",
    "        for i in range(-1, 2, 1):\n",
    "            for j in range(-1, 2, 1):\n",
    "                if int(value) - int(img[y+i,x+j]) > 2:\n",
    "                    edited_edge.append([x+j, y+i])\n",
    "    \n",
    "    return edited_edge"
   ]
  },
  {
   "cell_type": "markdown",
   "metadata": {},
   "source": [
    "### Version 3 直接去除問題點"
   ]
  },
  {
   "cell_type": "code",
   "execution_count": 6,
   "metadata": {},
   "outputs": [],
   "source": [
    "def del_edge(edited_edge, edge_points, img):\n",
    "    \n",
    "    edited_index = []\n",
    "    for index, point in enumerate(edge):\n",
    "        x, y = point[:]\n",
    "        value = img[y,x]\n",
    "        \n",
    "        for i in range(-1, 2, 1):\n",
    "            for j in range(-1, 2, 1):\n",
    "                if int(value) - int(img[y+i,x+j]) > 2:\n",
    "                    edited_index.append(index)\n",
    "    \n",
    "    edited_edge = np.delete(edited_edge, edited_index, axis=0)\n",
    "    return edited_edge"
   ]
  },
  {
   "cell_type": "markdown",
   "metadata": {},
   "source": [
    "## 去除極端"
   ]
  },
  {
   "cell_type": "code",
   "execution_count": 7,
   "metadata": {},
   "outputs": [],
   "source": [
    "def remove_extreme(points):\n",
    "    tmp = points[points[:,0].argsort()]\n",
    "    tmp = tmp[10:-10, :]\n",
    "    \n",
    "    tmp = tmp[tmp[:,1].argsort()]\n",
    "    tmp = tmp[10:-10, :]\n",
    "    return tmp"
   ]
  },
  {
   "cell_type": "markdown",
   "metadata": {},
   "source": [
    "## 無差別增加"
   ]
  },
  {
   "cell_type": "code",
   "execution_count": 14,
   "metadata": {},
   "outputs": [],
   "source": [
    "def add_neighbors(edge):\n",
    "    tmp = edge.copy()\n",
    "    \n",
    "    for index, point in enumerate(edge):\n",
    "        x, y = point[:]\n",
    "        \n",
    "        for i in range(-1, 2, 1):\n",
    "            for j in range(-1, 2, 1):\n",
    "                tmp.append([x+j, y+i])\n",
    "    \n",
    "    return tmp"
   ]
  },
  {
   "cell_type": "code",
   "execution_count": null,
   "metadata": {},
   "outputs": [],
   "source": []
  },
  {
   "cell_type": "markdown",
   "metadata": {},
   "source": [
    "## 編輯邊緣"
   ]
  },
  {
   "cell_type": "code",
   "execution_count": 15,
   "metadata": {},
   "outputs": [],
   "source": [
    "def edit_edge(edge, img, funct):\n",
    "    edited_edge = edge.copy()\n",
    "    \n",
    "    if funct == 0:\n",
    "        edited_edge = move_edge(edited_edge, edge, img)\n",
    "    elif funct == 1: \n",
    "        edited_edge = add_edge(edited_edge, edge, img)\n",
    "    else:\n",
    "        edited_edge = del_edge(edited_edge, edge, img)\n",
    "    \n",
    "    edited_edge = np.unique(edited_edge, axis=0)\n",
    "    return edited_edge"
   ]
  },
  {
   "cell_type": "code",
   "execution_count": null,
   "metadata": {},
   "outputs": [],
   "source": []
  },
  {
   "cell_type": "code",
   "execution_count": 21,
   "metadata": {},
   "outputs": [
    {
     "name": "stdout",
     "output_type": "stream",
     "text": [
      "442\n",
      "1514\n",
      "203.43340624689515  99.48214409869645\n",
      "203.44549777281  99.49552666649772\n"
     ]
    }
   ],
   "source": [
    "os.chdir(\"/home/mj/Github/NTU/ARCS/img/X-Ray/Case_1/Cut\")\n",
    "\n",
    "file = \"10_mean_80.bmp\"\n",
    "img = cv2.imread(file,0)\n",
    "img_edge, img_blur = image_processing(img)\n",
    "edge = get_edge_points(img_edge)\n",
    "\n",
    "edited_edge = edit_edge(edge, img_blur, funct=0)\n",
    "edited_edge = remove_extreme(edited_edge)\n",
    "edited_edge = add_neighbors(edge)\n",
    "edited_edge = np.unique(edited_edge, axis=0)\n",
    "\n",
    "print(len(edge))\n",
    "print(len(edited_edge))\n",
    "\n",
    "cx,cy,r,_ = cf.least_squares_circle((edge))\n",
    "print(\"{}  {}\".format(cx, cy))\n",
    "cx,cy,r,_ = cf.least_squares_circle((edited_edge))\n",
    "print(\"{}  {}\".format(cx, cy))"
   ]
  },
  {
   "cell_type": "code",
   "execution_count": null,
   "metadata": {},
   "outputs": [],
   "source": []
  },
  {
   "cell_type": "code",
   "execution_count": 31,
   "metadata": {
    "scrolled": true
   },
   "outputs": [
    {
     "name": "stdout",
     "output_type": "stream",
     "text": [
      "10_mean_0.bmp: 181.67687321470495, 96.87066921198652\n",
      "10_mean_1.bmp: 181.59941065369617, 96.87420776877117\n",
      "10_mean_10.bmp: 181.62256434043044, 96.83923308575152\n",
      "10_mean_11.bmp: 181.89170532831955, 96.65249354646441\n",
      "10_mean_12.bmp: 181.40600409480223, 96.99376840052763\n",
      "10_mean_13.bmp: 181.6105769964037, 96.7686030064725\n",
      "10_mean_14.bmp: 181.6109942399868, 97.05185234243683\n",
      "10_mean_15.bmp: 181.55196428893495, 96.83273308348835\n",
      "10_mean_16.bmp: 181.74714363356722, 96.88777347460353\n",
      "10_mean_17.bmp: 181.82304532527, 96.96275856458584\n",
      "10_mean_18.bmp: 181.66447032500918, 96.96298660560184\n",
      "10_mean_19.bmp: 181.58057824696238, 96.85101010126763\n",
      "10_mean_2.bmp: 181.7777721668212, 96.80591038185756\n",
      "10_mean_20.bmp: 181.56678815924766, 96.94193642996709\n",
      "10_mean_21.bmp: 181.5832477635625, 96.65998611345911\n",
      "10_mean_22.bmp: 181.60562961025894, 96.82707535070224\n",
      "10_mean_23.bmp: 181.62591385969097, 97.01331961957143\n",
      "10_mean_24.bmp: 181.61592094337476, 97.01870239024483\n",
      "10_mean_25.bmp: 181.6383028606056, 96.85187310600473\n",
      "10_mean_26.bmp: 181.59854558994488, 96.94976572565784\n",
      "10_mean_27.bmp: 181.5525644881667, 96.9878410066125\n",
      "10_mean_28.bmp: 181.58950391426674, 97.02455671532609\n",
      "10_mean_29.bmp: 181.54703516817443, 96.79352833278485\n",
      "10_mean_3.bmp: 181.65182595973835, 96.7905714728058\n",
      "10_mean_30.bmp: 181.365127084207, 96.67464328698108\n",
      "10_mean_31.bmp: 181.60031926910224, 96.8945989907833\n",
      "10_mean_32.bmp: 181.78481524713965, 96.96060483746103\n",
      "10_mean_33.bmp: 181.55954512796282, 97.1356054327263\n",
      "10_mean_34.bmp: 181.85974573546451, 96.9060336697839\n",
      "10_mean_35.bmp: 181.61705435699824, 96.91549909360688\n",
      "10_mean_36.bmp: 181.6277978784569, 96.99432072359083\n",
      "10_mean_37.bmp: 181.88697214476937, 97.03033199353217\n",
      "10_mean_38.bmp: 181.81139434845403, 97.01046989107392\n",
      "10_mean_39.bmp: 181.7551115016953, 96.72338395938115\n",
      "10_mean_4.bmp: 181.74271125601248, 96.78389662235965\n",
      "10_mean_40.bmp: 181.93161361421025, 96.64723464741937\n",
      "10_mean_41.bmp: 181.78264676120926, 96.85868814381439\n",
      "10_mean_42.bmp: 181.56856027793012, 96.77945662313101\n",
      "10_mean_43.bmp: 181.5528813051661, 96.9680173766676\n",
      "10_mean_44.bmp: 181.3565701670723, 97.02575991544444\n",
      "10_mean_45.bmp: 181.61630263641385, 97.09188837813818\n",
      "10_mean_46.bmp: 181.61648494197271, 97.0317148518539\n",
      "10_mean_47.bmp: 181.6266183712302, 96.85837863751054\n",
      "10_mean_48.bmp: 181.72692914417172, 96.95725166650399\n",
      "10_mean_49.bmp: 181.6103974285766, 97.04795298099589\n",
      "10_mean_5.bmp: 181.64721227551686, 96.97024717807093\n",
      "10_mean_50.bmp: 181.5464231541341, 96.96160212925992\n",
      "10_mean_51.bmp: 181.76353748811783, 96.97000701693432\n",
      "10_mean_52.bmp: 181.72080412947648, 96.9176234953206\n",
      "10_mean_53.bmp: 181.47650038981214, 96.64284085199333\n",
      "10_mean_54.bmp: 181.75336144538946, 96.88318030817337\n",
      "10_mean_55.bmp: 181.75488253299687, 96.95217099389336\n",
      "10_mean_56.bmp: 181.63120983563644, 97.02763390438045\n",
      "10_mean_57.bmp: 181.6599480521342, 96.8371170408787\n",
      "10_mean_58.bmp: 181.65713733714085, 96.93789976661863\n",
      "10_mean_59.bmp: 181.76342433117108, 96.75203179895077\n",
      "10_mean_6.bmp: 181.549826966789, 96.6707055436724\n",
      "10_mean_60.bmp: 181.69792705670787, 96.94944266881106\n",
      "10_mean_61.bmp: 181.8143407056699, 97.0351452415776\n",
      "10_mean_62.bmp: 181.7420823146566, 96.82016177589813\n",
      "10_mean_63.bmp: 181.59084763739293, 96.93526876546498\n",
      "10_mean_64.bmp: 181.7027817363968, 96.93600941436624\n",
      "10_mean_65.bmp: 181.73586935252737, 97.00615629282166\n",
      "10_mean_66.bmp: 181.76384839359534, 97.3203420025538\n",
      "10_mean_67.bmp: 181.40494414574425, 96.7865255401686\n",
      "10_mean_68.bmp: 181.60079382095466, 96.9035643083664\n",
      "10_mean_69.bmp: 181.60387877007972, 97.02910267719395\n",
      "10_mean_7.bmp: 181.67961891919427, 96.76931571034025\n",
      "10_mean_70.bmp: 181.52980796689224, 96.87518308707062\n",
      "10_mean_71.bmp: 181.5941711622908, 96.89383212069373\n",
      "10_mean_72.bmp: 181.48554693295247, 96.90617207714428\n",
      "10_mean_73.bmp: 181.58376457612297, 96.84706943100207\n",
      "10_mean_74.bmp: 181.76912652235453, 96.99437744771004\n",
      "10_mean_75.bmp: 181.80999996800597, 96.68705699331473\n",
      "10_mean_76.bmp: 181.57947227326682, 97.00491324644265\n",
      "10_mean_77.bmp: 181.87652315599743, 96.99075167658398\n",
      "10_mean_78.bmp: 181.7041066140937, 97.08697903223258\n",
      "10_mean_79.bmp: 181.6605331263748, 96.89828549313727\n",
      "10_mean_8.bmp: 181.57163423414264, 96.98896236033671\n",
      "10_mean_80.bmp: 181.5696110203636, 96.84068942744153\n",
      "10_mean_81.bmp: 181.65626338582948, 96.83025489689608\n",
      "10_mean_82.bmp: 181.7784490127865, 96.99869610088837\n",
      "10_mean_83.bmp: 181.73378331129058, 97.05592782285653\n",
      "10_mean_84.bmp: 181.73090274311522, 97.30300056392761\n",
      "10_mean_85.bmp: 181.55311221216547, 96.87894821095404\n",
      "10_mean_86.bmp: 181.66831071537962, 96.76131905915264\n",
      "10_mean_87.bmp: 181.7203828141018, 97.15325598207042\n",
      "10_mean_88.bmp: 181.63008995790386, 96.96047677095358\n",
      "10_mean_89.bmp: 181.58880235100128, 97.14925662048698\n",
      "10_mean_9.bmp: 181.7817850069644, 96.9319242775517\n",
      "10_mean_90.bmp: 181.9146180835134, 97.0403098967462\n",
      "10_mean_91.bmp: 181.85522476773642, 96.96371252773608\n",
      "10_mean_92.bmp: 181.54654873018202, 97.15554606809943\n",
      "10_mean_93.bmp: 181.84042031336153, 96.81165573905984\n",
      "10_mean_94.bmp: 181.59372277020336, 96.91737541305129\n",
      "10_mean_95.bmp: 181.74297757401027, 97.09087378980155\n",
      "10_mean_96.bmp: 181.63499887198446, 96.99917063874526\n",
      "10_mean_97.bmp: 181.8511280554533, 96.96713325441848\n",
      "10_mean_98.bmp: 181.62994386021097, 97.12125711916998\n",
      "10_mean_99.bmp: 181.7636077066392, 96.7826206407635\n"
     ]
    }
   ],
   "source": [
    "os.chdir(\"/home/mj/Github/NTU/ARCS/img/X-Ray/Case_3/Cut_2\")\n",
    "try:\n",
    "    \n",
    "    images = os.listdir()\n",
    "    images.sort()\n",
    "    \n",
    "    predictions = []\n",
    "    for image in images:\n",
    "        img = cv2.imread(image,0)\n",
    "        img_edge, img_blur = image_processing(img)\n",
    "        edge = get_edge_points(img_edge)\n",
    "        edited_edge = edit_edge(edge, img_blur, funct=1)\n",
    "#         edited_edge = remove_extreme(edited_edge)\n",
    "#         edited_edge = add_neighbors(edge)\n",
    "#         edited_edge = np.unique(edited_edge, axis=0)\n",
    "        \n",
    "        cx,cy,r,_ = cf.least_squares_circle((edited_edge))\n",
    "        predictions.append([cx, cy])\n",
    "        print(\"{}: {}, {}\".format(image ,cx, cy))\n",
    "        \n",
    "except Exception as e:\n",
    "    print(e)"
   ]
  },
  {
   "cell_type": "code",
   "execution_count": 32,
   "metadata": {},
   "outputs": [
    {
     "name": "stdout",
     "output_type": "stream",
     "text": [
      "-----------------------------------------------------\n",
      "Statistics: \n",
      "Mean Centroid: (181.66349, 96.92410)\n",
      "Variance     : (0.01371, 0.01728)\n",
      "Max Length   : 0.57504, 0.63329 (pixels)\n"
     ]
    }
   ],
   "source": [
    "show_resoult(predictions)"
   ]
  },
  {
   "cell_type": "code",
   "execution_count": null,
   "metadata": {},
   "outputs": [],
   "source": []
  },
  {
   "cell_type": "code",
   "execution_count": 16,
   "metadata": {},
   "outputs": [
    {
     "ename": "error",
     "evalue": "OpenCV(3.4.2) /tmp/build/80754af9/opencv-suite_1535558553474/work/modules/highgui/src/window.cpp:632: error: (-2:Unspecified error) The function is not implemented. Rebuild the library with Windows, GTK+ 2.x or Carbon support. If you are on Ubuntu or Debian, install libgtk2.0-dev and pkg-config, then re-run cmake or configure script in function 'cvShowImage'\n",
     "output_type": "error",
     "traceback": [
      "\u001b[0;31m---------------------------------------------------------------------------\u001b[0m",
      "\u001b[0;31merror\u001b[0m                                     Traceback (most recent call last)",
      "\u001b[0;32m<ipython-input-16-487b6293b7c6>\u001b[0m in \u001b[0;36m<module>\u001b[0;34m\u001b[0m\n\u001b[1;32m     24\u001b[0m \u001b[0;34m\u001b[0m\u001b[0m\n\u001b[1;32m     25\u001b[0m \u001b[0;31m# 顯示圖片\u001b[0m\u001b[0;34m\u001b[0m\u001b[0;34m\u001b[0m\u001b[0;34m\u001b[0m\u001b[0m\n\u001b[0;32m---> 26\u001b[0;31m \u001b[0mcv2\u001b[0m\u001b[0;34m.\u001b[0m\u001b[0mimshow\u001b[0m\u001b[0;34m(\u001b[0m\u001b[0;34m\"Compare\"\u001b[0m\u001b[0;34m,\u001b[0m \u001b[0mtmp\u001b[0m\u001b[0;34m)\u001b[0m\u001b[0;34m\u001b[0m\u001b[0;34m\u001b[0m\u001b[0m\n\u001b[0m\u001b[1;32m     27\u001b[0m \u001b[0mcv2\u001b[0m\u001b[0;34m.\u001b[0m\u001b[0mwaitKey\u001b[0m\u001b[0;34m(\u001b[0m\u001b[0;36m0\u001b[0m\u001b[0;34m)\u001b[0m\u001b[0;34m\u001b[0m\u001b[0;34m\u001b[0m\u001b[0m\n\u001b[1;32m     28\u001b[0m \u001b[0mcv2\u001b[0m\u001b[0;34m.\u001b[0m\u001b[0mdestroyAllWindows\u001b[0m\u001b[0;34m(\u001b[0m\u001b[0;34m)\u001b[0m\u001b[0;34m\u001b[0m\u001b[0;34m\u001b[0m\u001b[0m\n",
      "\u001b[0;31merror\u001b[0m: OpenCV(3.4.2) /tmp/build/80754af9/opencv-suite_1535558553474/work/modules/highgui/src/window.cpp:632: error: (-2:Unspecified error) The function is not implemented. Rebuild the library with Windows, GTK+ 2.x or Carbon support. If you are on Ubuntu or Debian, install libgtk2.0-dev and pkg-config, then re-run cmake or configure script in function 'cvShowImage'\n"
     ]
    }
   ],
   "source": [
    "os.chdir(\"/home/mj/Github/NTU/ARCS/img/X-Ray/Case_1/Cut\")\n",
    "file_1 = \"10_mean_63.bmp\"\n",
    "img_1 = cv2.imread(file_1,0)\n",
    "img_edge_1, img_blur_1 = image_processing(img_1)\n",
    "edge_1 = get_edge_points(img_edge_1)\n",
    "edited_edge_1 = edit_edge(edge_1, img_blur_1, funct=1)\n",
    "\n",
    "file_2 = \"10_mean_63.bmp\"\n",
    "img_2 = cv2.imread(file_2,0)\n",
    "img_edge_2, img_blur_2 = image_processing(img_2)\n",
    "edge_2 = get_edge_points(img_edge_2)\n",
    "edited_edge_2 = edit_edge(edge_2, img_blur_2, funct=1)\n",
    "\n",
    "\n",
    "h, w = img.shape[:2]\n",
    "tmp = np.zeros((h,w,3))\n",
    "\n",
    "for x, y in edited_edge_1:\n",
    "    tmp[y,x,1] = 255\n",
    "    \n",
    "for x, y in edited_edge_2:\n",
    "    tmp[y,x,2] = 255\n",
    "    \n",
    "    \n",
    "# 顯示圖片\n",
    "cv2.imshow(\"Compare\", tmp)\n",
    "cv2.waitKey(0)\n",
    "cv2.destroyAllWindows()"
   ]
  },
  {
   "cell_type": "code",
   "execution_count": 3,
   "metadata": {},
   "outputs": [
    {
     "name": "stdout",
     "output_type": "stream",
     "text": [
      "2\n",
      "4\n"
     ]
    }
   ],
   "source": [
    "a = [[1,2], [3,4]]\n",
    "\n",
    "for b,c in a:\n",
    "    print(c)\n",
    "    "
   ]
  },
  {
   "cell_type": "code",
   "execution_count": null,
   "metadata": {},
   "outputs": [],
   "source": []
  },
  {
   "cell_type": "code",
   "execution_count": null,
   "metadata": {},
   "outputs": [],
   "source": []
  },
  {
   "cell_type": "code",
   "execution_count": null,
   "metadata": {},
   "outputs": [],
   "source": []
  },
  {
   "cell_type": "code",
   "execution_count": null,
   "metadata": {},
   "outputs": [],
   "source": []
  },
  {
   "cell_type": "markdown",
   "metadata": {},
   "source": [
    "## 測試多次隨機取子點擬合的分佈\n",
    "假定平均 cx: 203.61381  cy: 99.17248\n",
    "### 結論：無法單靠尋找 Fram 各自的 Median 或 多次 Random subsampled 做連結"
   ]
  },
  {
   "cell_type": "code",
   "execution_count": 50,
   "metadata": {},
   "outputs": [
    {
     "name": "stdout",
     "output_type": "stream",
     "text": [
      "[205.0, 205.0, 205.0, 205.0, 205.0, 205.0, 205.0, 205.0, 205.0, 205.0]\n",
      "[100.5, 100.5, 100.5, 100.5, 100.5, 100.5, 100.5, 100.5, 100.5, 100.5]\n"
     ]
    }
   ],
   "source": [
    "os.chdir(\"/home/mj/HardDisk/Github/NTU/ARCS/img/X-Ray/Case_1/Cut\")\n",
    "\n",
    "file = \"10_mean_80.bmp\"\n",
    "img = cv2.imread(file,0)\n",
    "edge = image_processing(img)\n",
    "edge_points = get_edge_points(edge)\n",
    "\n",
    "\n",
    "xs = []\n",
    "ys = []\n",
    "for iter in range(10):\n",
    "    sampled_indices = np.random.choice(range(len(edge_points)), size=int(len(edge_points)), replace=False)\n",
    "    sample_points = edge_points[sampled_indices]\n",
    "#     cx,cy,r,_ = cf.least_squares_circle((sample_points))\n",
    "    cx = np.median(sample_points[:,0])\n",
    "    cy = np.median(sample_points[:,1])\n",
    "    xs.append(cx)\n",
    "    ys.append(cy)\n",
    "\n",
    "print(xs)\n",
    "print(ys)"
   ]
  },
  {
   "cell_type": "code",
   "execution_count": null,
   "metadata": {},
   "outputs": [],
   "source": []
  }
 ],
 "metadata": {
  "kernelspec": {
   "display_name": "Python 3",
   "language": "python",
   "name": "python3"
  },
  "language_info": {
   "codemirror_mode": {
    "name": "ipython",
    "version": 3
   },
   "file_extension": ".py",
   "mimetype": "text/x-python",
   "name": "python",
   "nbconvert_exporter": "python",
   "pygments_lexer": "ipython3",
   "version": "3.6.9"
  }
 },
 "nbformat": 4,
 "nbformat_minor": 2
}
