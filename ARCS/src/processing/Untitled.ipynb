{
 "cells": [
  {
   "cell_type": "code",
   "execution_count": 214,
   "metadata": {},
   "outputs": [
    {
     "name": "stdout",
     "output_type": "stream",
     "text": [
      "50.160953956751094\n",
      "內 (安全)\n"
     ]
    }
   ],
   "source": [
    "import numpy as np\n",
    "\n",
    "Cx = 85.44592442195275\n",
    "Cy = 63.78149293972794\n",
    "Cr = 50.656967715586575\n",
    "\n",
    "x ,y = 47, 96\n",
    "\n",
    "length = np.sqrt((Cx-x)**2 + (Cy-y)**2)\n",
    "\n",
    "print(length)\n",
    "\n",
    "Min = Cr - 0.5\n",
    "Max = Cr + 0.5\n",
    "if (length > Max):\n",
    "    print(\"太外\")\n",
    "elif (length > Cr):\n",
    "    print(\"外 (安全)\")\n",
    "elif (length > Min):\n",
    "    print(\"內 (安全)\")\n",
    "else:\n",
    "    print(\"太內\")"
   ]
  },
  {
   "cell_type": "code",
   "execution_count": 18,
   "metadata": {},
   "outputs": [
    {
     "data": {
      "text/plain": [
       "153722867280912.94"
      ]
     },
     "execution_count": 18,
     "metadata": {},
     "output_type": "execute_result"
    }
   ],
   "source": [
    "import sys\n",
    "sys.maxsize /60000"
   ]
  },
  {
   "cell_type": "code",
   "execution_count": 19,
   "metadata": {},
   "outputs": [
    {
     "data": {
      "text/plain": [
       "600000"
      ]
     },
     "execution_count": 19,
     "metadata": {},
     "output_type": "execute_result"
    }
   ],
   "source": [
    "60000 * 10"
   ]
  },
  {
   "cell_type": "code",
   "execution_count": null,
   "metadata": {},
   "outputs": [],
   "source": []
  }
 ],
 "metadata": {
  "kernelspec": {
   "display_name": "Python 3",
   "language": "python",
   "name": "python3"
  },
  "language_info": {
   "codemirror_mode": {
    "name": "ipython",
    "version": 3
   },
   "file_extension": ".py",
   "mimetype": "text/x-python",
   "name": "python",
   "nbconvert_exporter": "python",
   "pygments_lexer": "ipython3",
   "version": "3.6.9"
  }
 },
 "nbformat": 4,
 "nbformat_minor": 2
}
