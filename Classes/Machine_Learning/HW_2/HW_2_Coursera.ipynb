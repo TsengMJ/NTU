{
 "cells": [
  {
   "cell_type": "code",
   "execution_count": 2,
   "metadata": {},
   "outputs": [],
   "source": [
    "import numpy as np\n",
    "import random "
   ]
  },
  {
   "cell_type": "code",
   "execution_count": null,
   "metadata": {},
   "outputs": [],
   "source": []
  },
  {
   "cell_type": "markdown",
   "metadata": {},
   "source": [
    "## Generate data"
   ]
  },
  {
   "cell_type": "code",
   "execution_count": 31,
   "metadata": {},
   "outputs": [],
   "source": [
    "def sign(value):\n",
    "    if value >= 0:\n",
    "        return 1\n",
    "    else:\n",
    "        return -1\n",
    "\n",
    "def generate_uniform_data(start, end, size):\n",
    "    x = [random.uniform(start, end) for _ in range(size)]\n",
    "    y = [sign(x[i]) for i in range(size)]\n",
    "    \n",
    "    probs = [random.uniform(0, 1) for _ in range(len(y))]\n",
    "    y = [ probs[i]<percent and -value or value for i, value in enumerate(y)]\n",
    "    \n",
    "    return x, y\n",
    "\n",
    "# def adding_noise(y, percent):\n",
    "#     probs = [random.uniform(0, 1) for _ in range(len(y))]\n",
    "#     y_noised = [ probs[i]<percent and -value or value for i, value in enumerate(y)]\n",
    "\n",
    "#     return y_noised"
   ]
  },
  {
   "cell_type": "code",
   "execution_count": null,
   "metadata": {},
   "outputs": [],
   "source": []
  },
  {
   "cell_type": "markdown",
   "metadata": {},
   "source": [
    "## Question 16"
   ]
  },
  {
   "cell_type": "code",
   "execution_count": null,
   "metadata": {},
   "outputs": [],
   "source": [
    "def stump_algorithm(x, y):\n",
    "    pass\n",
    "\n",
    "\n",
    "def compute_Eout(Ein):\n",
    "    "
   ]
  },
  {
   "cell_type": "code",
   "execution_count": null,
   "metadata": {},
   "outputs": [],
   "source": []
  },
  {
   "cell_type": "code",
   "execution_count": null,
   "metadata": {},
   "outputs": [],
   "source": [
    "def measurement_stump_algo(iterations):\n",
    "    Ein_sum = 0\n",
    "    Eout_sum = 0\n",
    "    \n",
    "    for iter in iterations:\n",
    "        x, y = generate_uniform_data(-1, 1, 20)\n",
    "        Ein = stump_algorithm(x, y)\n",
    "        Eout = compute_Eout(Ein)"
   ]
  },
  {
   "cell_type": "code",
   "execution_count": null,
   "metadata": {},
   "outputs": [],
   "source": []
  }
 ],
 "metadata": {
  "kernelspec": {
   "display_name": "Python 3",
   "language": "python",
   "name": "python3"
  },
  "language_info": {
   "codemirror_mode": {
    "name": "ipython",
    "version": 3
   },
   "file_extension": ".py",
   "mimetype": "text/x-python",
   "name": "python",
   "nbconvert_exporter": "python",
   "pygments_lexer": "ipython3",
   "version": "3.6.8"
  }
 },
 "nbformat": 4,
 "nbformat_minor": 2
}
