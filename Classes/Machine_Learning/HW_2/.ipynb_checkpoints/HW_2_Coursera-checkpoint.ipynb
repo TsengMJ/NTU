{
 "cells": [
  {
   "cell_type": "code",
   "execution_count": 2,
   "metadata": {},
   "outputs": [],
   "source": [
    "import numpy as np\n",
    "import random "
   ]
  },
  {
   "cell_type": "code",
   "execution_count": null,
   "metadata": {},
   "outputs": [],
   "source": []
  },
  {
   "cell_type": "markdown",
   "metadata": {},
   "source": [
    "## Generate data"
   ]
  },
  {
   "cell_type": "code",
   "execution_count": 3,
   "metadata": {},
   "outputs": [],
   "source": [
    "def sign(value):\n",
    "    if value >= 0:\n",
    "        return 1\n",
    "    else:\n",
    "        return -1\n",
    "\n",
    "def generate_uniform_data(start, end, size, noice_rate):\n",
    "    x = [random.uniform(start, end) for _ in range(size)]\n",
    "    y = [sign(x[i]) for i in range(size)]\n",
    "    \n",
    "    probs = [random.uniform(0, 1) for _ in range(len(y))]\n",
    "    y = [ probs[i]<noice_rate and -value or value for i, value in enumerate(y)]\n",
    "    \n",
    "    return x, y\n",
    "\n",
    "def evaluate(y, theta, pn):\n",
    "    err_nums = 0\n",
    "    \n",
    "    for value in y:\n",
    "        \n",
    "    \n",
    "    return err_nums/len(y)\n",
    "\n",
    "def compute_Eout(theta, pn):\n",
    "    pass"
   ]
  },
  {
   "cell_type": "code",
   "execution_count": null,
   "metadata": {},
   "outputs": [],
   "source": []
  },
  {
   "cell_type": "markdown",
   "metadata": {},
   "source": [
    "## Question 16"
   ]
  },
  {
   "cell_type": "code",
   "execution_count": null,
   "metadata": {},
   "outputs": [],
   "source": [
    "def stump_algorithm(x, y, noice_rate=0.2):\n",
    "    thetas = np.sort(x)\n",
    "    pns = [-1, 1]\n",
    "    best_Ein  = 1\n",
    "    best_Eout = 1\n",
    "    for theta in thetas:\n",
    "        for pn in pns:\n",
    "            Ein = evaluate(y, theta, pn)\n",
    "            \n",
    "            if Ein < best_Ein:\n",
    "                best_Ein  = Ein\n",
    "                best_Eout = compute_Eout(theta, noice_rate) # 需要重新定義一下\n",
    "    \n",
    "    return best_Ein, best_Eout    "
   ]
  },
  {
   "cell_type": "code",
   "execution_count": null,
   "metadata": {},
   "outputs": [],
   "source": []
  },
  {
   "cell_type": "code",
   "execution_count": null,
   "metadata": {},
   "outputs": [],
   "source": [
    "def measurement(iterations, noice_rate):\n",
    "    Ein_sum = 0\n",
    "    Eout_sum = 0\n",
    "    \n",
    "    for iter in iterations:\n",
    "        x, y = generate_uniform_data(-1, 1, 20, 0.2)\n",
    "        Ein, Eout = stump_algorithm(x, y, noice_rate=0.2)\n",
    "        Ein_sum += Ein\n",
    "        Eout_sum += Eout\n",
    "        \n",
    "        if (iter%500):\n",
    "            print(\"Round {}: \\nEin: {}\\nEout: {}\".format(iter, Ein, Eout))\n",
    "    \n",
    "    return Ein_sum/iterations, Eout_sum/iterations"
   ]
  },
  {
   "cell_type": "code",
   "execution_count": null,
   "metadata": {},
   "outputs": [],
   "source": []
  }
 ],
 "metadata": {
  "kernelspec": {
   "display_name": "Python 3",
   "language": "python",
   "name": "python3"
  },
  "language_info": {
   "codemirror_mode": {
    "name": "ipython",
    "version": 3
   },
   "file_extension": ".py",
   "mimetype": "text/x-python",
   "name": "python",
   "nbconvert_exporter": "python",
   "pygments_lexer": "ipython3",
   "version": "3.6.9"
  }
 },
 "nbformat": 4,
 "nbformat_minor": 2
}
